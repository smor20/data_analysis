{
 "cells": [
  {
   "cell_type": "markdown",
   "metadata": {},
   "source": [
    "### Python concepts"
   ]
  },
  {
   "cell_type": "markdown",
   "metadata": {},
   "source": [
    "#### sorting a list in python"
   ]
  },
  {
   "cell_type": "code",
   "execution_count": null,
   "metadata": {},
   "outputs": [],
   "source": [
    "# The sort() method sorts the list in place, meaning it modifies the original list.\n",
    "# Example: Sorting a list of numbers in ascending order\n",
    "numbers = [4, 2, 9, 1]\n",
    "numbers.sort()\n",
    "print(numbers)  # Output: [1, 2, 4, 9]\n",
    "\n",
    "# Example: Sorting a list of strings in descending order\n",
    "fruits = ['apple', 'banana', 'cherry']\n",
    "fruits.sort(reverse=True)\n",
    "print(fruits)  # Output: ['cherry', 'banana', 'apple']\n",
    "\n",
    "# Example: Sorting a list of dictionaries by a specific key\n",
    "cars = [\n",
    "    {'car': 'Ford', 'year': 2005},\n",
    "    {'car': 'BMW', 'year': 2019},\n",
    "    {'car': 'Mitsubishi', 'year': 2000}\n",
    "]\n",
    "cars.sort(key=lambda x: x['year']) # x is each dictionary of the list.\n",
    "print(cars)  # Output: [{'car': 'Mitsubishi', 'year': 2000}, {'car': 'Ford', 'year': 2005}, {'car': 'BMW', 'year': 2019}]\n",
    "    #For the first dictionary {'car': 'Ford', 'year': 2005}, the lambda function returns 2005.\n",
    "    # For the second dictionary {'car': 'BMW', 'year': 2019}, the lambda function returns 2019.\n",
    "    # For the third dictionary {'car': 'Mitsubishi', 'year': 2000}, the lambda function returns 2000.\n",
    "    # The sort() method then arranges the dictionaries in ascending order of these values: 2000, 2005, 2019.\n",
    "\n",
    "\n",
    "# Define a function named lexicographic_sort that takes one argument, 's'.\n",
    "def lexicographic_sort(s):\n",
    "    return sorted(sorted(s), key=str.upper) # str.upper it converts str to upper case before 2nd sorting.\n",
    "\n",
    "# Call the lexicographic_sort function with different input strings and print the results.\n",
    "print(lexicographic_sort('w3resource'))  # Output: '3ceeorrsuw'\n",
    "print(lexicographic_sort('quickbrown'))  # Output: 'biknqorwuc' \n",
    "\n",
    "#-----------------------------------------------------\n",
    "#-----------------------------------------------------\n",
    "# The sorted() function returns a new sorted list without modifying the original list.\n",
    "# Example: Sorting a list of numbers in ascending order\n",
    "numbers = [4, 2, 9, 1]\n",
    "sorted_numbers = sorted(numbers)\n",
    "print(sorted_numbers)  # Output: [1, 2, 4, 9]\n",
    "print(numbers)  # Output: [4, 2, 9, 1] (original list remains unchanged)\n",
    "\n",
    "# Example: Sorting a list of strings by length\n",
    "fruits = ['apple', 'banana', 'cherry']\n",
    "sorted_fruits = sorted(fruits, key=len)\n",
    "print(sorted_fruits)  # Output: ['apple', 'cherry', 'banana']\n",
    "\n"
   ]
  },
  {
   "cell_type": "markdown",
   "metadata": {},
   "source": [
    "#### str.rsplit()"
   ]
  },
  {
   "cell_type": "code",
   "execution_count": null,
   "metadata": {},
   "outputs": [],
   "source": [
    "# Define a variable 'str1' and assign it the value of the provided string.\n",
    "str1 = 'https://www.w3resource.com/python-exercises/string'\n",
    "\n",
    "# Use the rsplit() method with '/' as the separator to split the string from the right,\n",
    "# and [0] to get the part before the last '/' character. Then, print the result.\n",
    "print(str1.rsplit('/', 1)[0])  # Output: 'https://www.w3resource.com/python-exercises'\n",
    "\n",
    "# Use the rsplit() method with '-' as the separator to split the string from the right,\n",
    "# and [0] to get the part before the last '-' character. Then, print the result.\n",
    "print(str1.rsplit('-', 1)[0])  # Output: 'https://www.w3resource.com/python' \n"
   ]
  },
  {
   "cell_type": "markdown",
   "metadata": {},
   "source": [
    "#### number formatting in python"
   ]
  },
  {
   "cell_type": "code",
   "execution_count": null,
   "metadata": {},
   "outputs": [],
   "source": [
    "### 1. Using f-strings ( 3.6+)\n",
    "# F-strings provide a concise and readable way to format numbers:\n",
    "\n",
    "num = 1234.56789\n",
    "formatted_num = f\"{num:.2f}\"  # Rounds to 2 decimal places\n",
    "print(formatted_num)  # Output: 1234.57\n",
    "\n",
    "\n",
    "### 2. Using the `format()` method\n",
    "# The `format()` method is versatile and works in both  2 and 3:\n",
    "\n",
    "num = 1234.56789\n",
    "formatted_num = \"{:.2f}\".format(num)  # Rounds to 2 decimal places\n",
    "print(formatted_num)  # Output: 1234.57\n",
    "\n",
    "\n",
    "### 3. Using the `%` operator\n",
    "# This is an older method but still widely used:\n",
    "\n",
    "num = 1234.56789\n",
    "formatted_num = \"%.2f\" % num  # Rounds to 2 decimal places\n",
    "print(formatted_num)  # Output: 1234.57\n",
    "\n",
    "\n",
    "### 4. Adding commas as thousand separators\n",
    "# You can format numbers with commas for better readability:\n",
    "\n",
    "num = 1234567.89\n",
    "formatted_num = f\"{num:,.2f}\"  # Adds commas and rounds to 2 decimal places\n",
    "print(formatted_num)  # Output: 1,234,567.89\n",
    "\n"
   ]
  },
  {
   "cell_type": "code",
   "execution_count": 76,
   "metadata": {},
   "outputs": [
    {
     "name": "stdout",
     "output_type": "stream",
     "text": [
      "₹ 12,34,567.89\n",
      "12,34,567\n",
      "12,34,567.899900\n",
      "<class 'str'>\n",
      "12,34,567.90\n"
     ]
    }
   ],
   "source": [
    "### 5. Formatting as currency\n",
    "# For currency formatting, you can use the `locale` module:\n",
    "\n",
    "import locale\n",
    "\n",
    "locale.setlocale(locale.LC_ALL, 'en_IN.UTF-8')  \n",
    "# This line sets the locale to Indian (en_IN.UTF-8). \n",
    "# The LC_ALL parameter ensures that all locale settings (number formatting, date/time formatting, etc.) are set to the specified locale\n",
    "amount = 1234567.89\n",
    "formatted_amount = locale.currency(amount, grouping=True)\n",
    "# The locale.currency() function formats the number as currency. \n",
    "# The grouping=True parameter ensures that the number is grouped according to the locale’s conventions (e.g., adding commas).\n",
    "print((formatted_amount))  # Output: ₹ 12,34,567.89\n",
    "\n",
    "#------------------------------\n",
    "# to format number in indian format\n",
    "\n",
    "number = 1234567.8999\n",
    "\n",
    "# Format the number with Indian-style comma separators\n",
    "formatted_number = locale.format_string(\"%d\", number, grouping=True)\n",
    "# In the context of string formatting in Python, the %d format specifier is used to format integers.\n",
    "# The d stands for decimal integer. It tells Python to format the number as a base-10 integer.\n",
    "print(formatted_number)  # Output: 12,34,567\n",
    "\n",
    "# For floating-point numbers\n",
    "formatted_number_float = locale.format_string(\"%f\", number, grouping=True)\n",
    "print(formatted_number_float)  # Output: 12,34,567.890000\n",
    "\n",
    "formatted_number_float = locale.format_string(\"%.2f\", number, grouping=True)\n",
    "print(type(formatted_number_float))\n",
    "print((formatted_number_float))  # Output: 12,34,567.90\n",
    "\n",
    "\n",
    "## info abt %\n",
    "# In this context, the % symbol is a formatting operator. It is used to embed variables within a string template, allowing for dynamic string creation.\n",
    "    \n",
    "    # %d: This specifier is used for formatting decimal integers. It tells Python to format the number as a base-10 integer.\n",
    "\n",
    "    # %f: This specifier is used for formatting floating-point numbers. It tells Python to format the number as a floating-point value.\n",
    "\n",
    "\n",
    "# %s is a placeholder for a string.\n",
    "# %d is a placeholder for a decimal integer\n",
    "\n",
    "name = \"Alice\"\n",
    "age = 30\n",
    "formatted_string = \"My name is %s and I am %d years old.\" % (name, age)\n",
    "print(formatted_string)  # Output: My name is Alice and I am 30 years old.\n"
   ]
  },
  {
   "cell_type": "code",
   "execution_count": 77,
   "metadata": {},
   "outputs": [
    {
     "data": {
      "text/plain": [
       "'dcba'"
      ]
     },
     "execution_count": 77,
     "metadata": {},
     "output_type": "execute_result"
    }
   ],
   "source": [
    "# reverse a string\n",
    "\n",
    "def reverse_string(str1):\n",
    "    return ''.join(reversed(str1))\n",
    "# or-----------\n",
    "'abcd'[::-1]"
   ]
  },
  {
   "cell_type": "code",
   "execution_count": 93,
   "metadata": {},
   "outputs": [
    {
     "name": "stdout",
     "output_type": "stream",
     "text": [
      " dog. lazy the over jumps fox brown quick The\n",
      "dog good a is he\n"
     ]
    }
   ],
   "source": [
    "# Reverse words in a string\n",
    "\n",
    "def rev_words(string):\n",
    "    reversed_lines = []\n",
    "    for line in string.split('\\n'):\n",
    "        new_string = ' '.join(line.split(' ')[::-1])\n",
    "        reversed_lines.append(new_string)\n",
    "    return '\\n'.join(reversed_lines)\n",
    "\n",
    "os = '''The quick brown fox jumps over the lazy dog. \n",
    "he is a good dog'''\n",
    "print(rev_words(os))\n",
    "\n",
    "## using join\n",
    "items = [1, 2, 3, 4.5, True]\n",
    "joined_string = ' '.join(map(str, items))\n",
    "print(joined_string)  # Output: 1 2 3 4.5 True\n"
   ]
  },
  {
   "cell_type": "markdown",
   "metadata": {},
   "source": [
    "### w3 python practice"
   ]
  },
  {
   "cell_type": "markdown",
   "metadata": {},
   "source": [
    "#### strings"
   ]
  },
  {
   "cell_type": "code",
   "execution_count": 4,
   "metadata": {},
   "outputs": [
    {
     "name": "stdout",
     "output_type": "stream",
     "text": [
      "{'g': 2, 'o': 3, 'l': 1, 'e': 1, '.': 1, 'c': 1, 'm': 1}\n"
     ]
    }
   ],
   "source": [
    "# Python: Count the number of characters (character frequency) in a string\n",
    "st='google.com'\n",
    "ct={}\n",
    "for s in st:\n",
    "    if s in ct.keys():\n",
    "        ct[s]+=1\n",
    "    else:\n",
    "        ct[s]=1\n",
    "print(ct)\n"
   ]
  },
  {
   "cell_type": "code",
   "execution_count": 9,
   "metadata": {},
   "outputs": [
    {
     "name": "stdout",
     "output_type": "stream",
     "text": [
      "w3ce\n"
     ]
    }
   ],
   "source": [
    "#  Write a Python program to get a string made of the first 2 and last 2 characters of a given string. If the string length is less than 2, return the empty string instead.\n",
    "ss='w3resource'\n",
    "res=''\n",
    "if len(ss)>=2:\n",
    "    res+=ss[0:2]+ss[-2:]\n",
    "print(res)\n",
    "\n"
   ]
  },
  {
   "cell_type": "code",
   "execution_count": 13,
   "metadata": {},
   "outputs": [
    {
     "name": "stdout",
     "output_type": "stream",
     "text": [
      "resta$t\n"
     ]
    },
    {
     "data": {
      "text/plain": [
       "'resta$t'"
      ]
     },
     "execution_count": 13,
     "metadata": {},
     "output_type": "execute_result"
    }
   ],
   "source": [
    "# Write a  Python program to get a string from a given string where all occurrences of its first char have been changed to '$', except the first char itself.\n",
    "ss='restart'    #>'resta$t'\n",
    "l=[]\n",
    "ch0=ss[0]\n",
    "res=''\n",
    "for s in ss:\n",
    "    if s==ch0 and s not in l:\n",
    "        res+=s\n",
    "        l.append(s)\n",
    "    elif s==ch0 and s in l:\n",
    "        res+='$'\n",
    "    else:\n",
    "        res+=s\n",
    "\n",
    "print(res)\n",
    "\n",
    "# ----------or-------------\n",
    "res=ss.replace(ch0,'$')\n",
    "res=ch0+res[1:]\n",
    "res"
   ]
  },
  {
   "cell_type": "code",
   "execution_count": 15,
   "metadata": {},
   "outputs": [
    {
     "name": "stdout",
     "output_type": "stream",
     "text": [
      "xyc abz\n"
     ]
    }
   ],
   "source": [
    "# Write a  Python program to get a single string from two given strings, separated by a space and swap the first two characters of each string.\n",
    "str1='abc'\n",
    "str2='xyz'\n",
    "temp=str1\n",
    "str1=str2[0:2]+str1[2:]\n",
    "str2=temp[0:2]+str2[2:]\n",
    "print(str1, str2)"
   ]
  },
  {
   "cell_type": "code",
   "execution_count": 20,
   "metadata": {},
   "outputs": [
    {
     "name": "stdout",
     "output_type": "stream",
     "text": [
      "ab\n"
     ]
    }
   ],
   "source": [
    "str1='ab'\n",
    "if len(str1)>=3 and str1[-3:]=='ing':\n",
    "    str1=str1+'ly'\n",
    "elif len(str1)>=3:\n",
    "    str1=str1+'ing'\n",
    "\n",
    "print(str1)\n"
   ]
  },
  {
   "cell_type": "code",
   "execution_count": 27,
   "metadata": {},
   "outputs": [
    {
     "name": "stdout",
     "output_type": "stream",
     "text": [
      "The lyrics is no.t that poor!\n"
     ]
    }
   ],
   "source": [
    "# Write a Python program to find the first appearance of the substrings 'not' and 'poor' in a given string. If 'not' follows 'poor', replace the whole 'not'...'poor' substring with 'good'. Return the resulting string.\n",
    "\n",
    "str1='The lyrics is no.t that poor!'\n",
    "not_pos=str1.find('not')\n",
    "poor_pos=str1.find('poor')\n",
    "\n",
    "if not_pos>0 and poor_pos>0 and not_pos<poor_pos:\n",
    "    str1=str1.replace(str1[not_pos:poor_pos+4], 'good')\n",
    "print(str1)\n"
   ]
  },
  {
   "cell_type": "code",
   "execution_count": 31,
   "metadata": {},
   "outputs": [
    {
     "data": {
      "text/plain": [
       "'pyton'"
      ]
     },
     "execution_count": 31,
     "metadata": {},
     "output_type": "execute_result"
    }
   ],
   "source": [
    "str1='python'\n",
    "ch_n=str1[3]\n",
    "str1.replace(ch_n, '')"
   ]
  },
  {
   "cell_type": "code",
   "execution_count": 39,
   "metadata": {},
   "outputs": [
    {
     "data": {
      "text/plain": [
       "{'this': 1,\n",
       " 'is': 2,\n",
       " 'the': 2,\n",
       " 'working': 1,\n",
       " 'of': 1,\n",
       " 'new': 1,\n",
       " 'artist.': 1,\n",
       " 'He': 1,\n",
       " 'good': 1,\n",
       " 'in': 1,\n",
       " 'his': 1,\n",
       " 'art.': 1}"
      ]
     },
     "execution_count": 39,
     "metadata": {},
     "output_type": "execute_result"
    }
   ],
   "source": [
    "#  Write a Python program to count the occurrences of each word in a given sentence.\n",
    "ss='this is the working of the new artist. He is good in his art.'\n",
    "ssl = ss.split()\n",
    "# print(type(ssl))    #>list\n",
    "ssd={}\n",
    "for w in ssl:\n",
    "    # print(w, end='--')\n",
    "    if w in ssd.keys():\n",
    "        ssd[w]+=1\n",
    "    else:\n",
    "        ssd[w]=1\n",
    "ssd"
   ]
  },
  {
   "cell_type": "code",
   "execution_count": 46,
   "metadata": {},
   "outputs": [
    {
     "data": {
      "text/plain": [
       "['amit', 'mohan', 'ram', 'shyam', 'sunil']"
      ]
     },
     "execution_count": 46,
     "metadata": {},
     "output_type": "execute_result"
    }
   ],
   "source": [
    "# Write a Python program that accepts a comma-separated sequence of words as input and prints the distinct words in sorted form (alphanumerically).\n",
    "\n",
    "# all_words=input()\n",
    "all_words='ram,mohan,shyam,sunil,amit'\n",
    "words_list=all_words.split(',')\n",
    "words_list.sort()\n",
    "words_list"
   ]
  },
  {
   "cell_type": "code",
   "execution_count": 47,
   "metadata": {},
   "outputs": [
    {
     "name": "stdout",
     "output_type": "stream",
     "text": [
      "\n",
      "   Python is a widely used high-level, general-\n",
      "purpose, interpreted,   dynamic programming\n",
      "language. Its design philosophy emphasizes   code\n",
      "readability, and its syntax allows programmers to\n",
      "express   concepts in fewer lines of code than\n",
      "possible in languages such   as C++ or Java.\n",
      "\n"
     ]
    }
   ],
   "source": [
    "# Import the 'textwrap' module, which provides text formatting capabilities.\n",
    "import textwrap\n",
    "# Define a multi-line string 'sample_text' with a text content.\n",
    "sample_text = '''\n",
    "  Python is a widely used high-level, general-purpose, interpreted,\n",
    "  dynamic programming language. Its design philosophy emphasizes\n",
    "  code readability, and its syntax allows programmers to express\n",
    "  concepts in fewer lines of code than possible in languages such\n",
    "  as C++ or Java.\n",
    "  '''\n",
    "\n",
    "# Print an empty line for spacing.\n",
    "print()\n",
    "\n",
    "# Use the 'textwrap.fill' function to format the 'sample_text' with a line width of 50 characters.\n",
    "# This function wraps the text to fit within the specified width and prints the result.\n",
    "print(textwrap.fill(sample_text, width=50))\n",
    "\n",
    "# Print an empty line for spacing.\n",
    "print()\n"
   ]
  },
  {
   "cell_type": "code",
   "execution_count": 65,
   "metadata": {},
   "outputs": [],
   "source": [
    "# Write a  Python program to create a Caesar encryption.\n",
    "# https://www.w3resource.com/python-exercises/string/python-data-type-string-exercise-25.php\n"
   ]
  },
  {
   "cell_type": "code",
   "execution_count": null,
   "metadata": {},
   "outputs": [],
   "source": []
  },
  {
   "cell_type": "code",
   "execution_count": null,
   "metadata": {},
   "outputs": [],
   "source": []
  },
  {
   "cell_type": "code",
   "execution_count": null,
   "metadata": {},
   "outputs": [],
   "source": []
  },
  {
   "cell_type": "markdown",
   "metadata": {},
   "source": [
    "### OOPS\n",
    "---"
   ]
  },
  {
   "cell_type": "markdown",
   "metadata": {},
   "source": [
    "#### cory"
   ]
  },
  {
   "cell_type": "code",
   "execution_count": 1,
   "metadata": {},
   "outputs": [],
   "source": [
    "import pandas as pd\n",
    "from IPython.core.interactiveshell import InteractiveShell\n",
    "InteractiveShell.ast_node_interactivity = 'all'"
   ]
  },
  {
   "cell_type": "code",
   "execution_count": null,
   "metadata": {},
   "outputs": [],
   "source": [
    "# data and functions associated with a class are called Attributes and methods.\n",
    "# instance of a class is automatically passed to the method of that class like below emp1.full_name()\n",
    "# here emp1 is automatically passed as argument to the full_name method\n",
    "# so emp1.full_name() is same as Employee.full_name(emp1)"
   ]
  },
  {
   "cell_type": "code",
   "execution_count": null,
   "metadata": {},
   "outputs": [],
   "source": [
    "# class variables:\n",
    "    # these are the variables that are shared among each instance of the class.\n",
    "    # let the company gives the raise to all the employees each year which is same for all the employees then raise can be described by class variable.\n",
    "# accessing the class variable:\n",
    "    # the class variables are accessed through the class (Employee.raise_amout) or through the instance(self.raise_amount)\n"
   ]
  },
  {
   "cell_type": "code",
   "execution_count": 5,
   "metadata": {},
   "outputs": [
    {
     "data": {
      "text/plain": [
       "2"
      ]
     },
     "execution_count": 5,
     "metadata": {},
     "output_type": "execute_result"
    },
    {
     "data": {
      "text/plain": [
       "1.07"
      ]
     },
     "execution_count": 5,
     "metadata": {},
     "output_type": "execute_result"
    },
    {
     "data": {
      "text/plain": [
       "'John.Doe@gmail.com'"
      ]
     },
     "execution_count": 5,
     "metadata": {},
     "output_type": "execute_result"
    }
   ],
   "source": [
    "class Employee():\n",
    "    \n",
    "    raise_amount=1.04\n",
    "    num_of_emps=0\n",
    "    def __init__(self, f_name, l_name, pay):\n",
    "        self.f_name=f_name\n",
    "        self.l_name=l_name\n",
    "        self.pay=pay\n",
    "        self.email=f'{f_name}.{l_name}@gmail.com'\n",
    "        Employee.num_of_emps+=1\n",
    "        \n",
    "    def full_name(self):\n",
    "        return f'{self.f_name} {self.l_name}'\n",
    "    \n",
    "    def apply_raise(self):\n",
    "        self.pay = int(self.pay*self.raise_amount)\n",
    "        \n",
    "    @classmethod\n",
    "    def set_raise_amount(cls, amount):\n",
    "        cls.raise_amount=amount\n",
    "        \n",
    "    @classmethod\n",
    "    def from_string(cls, emp_str):\n",
    "        first, last, pay = emp_str.split('-')\n",
    "        return cls(first, last, pay)    #Employee(first, last, pay) is replaced by cls(first, last, pay)\n",
    "    \n",
    "emp1=Employee('Ram','Singh', 50000)\n",
    "emp2=Employee('Mohan','Singh', 50000)\n",
    "Employee.num_of_emps\n",
    "\n",
    "# print(emp1)\n",
    "# emp1.f_name\n",
    "# emp1.l_name\n",
    "# emp1.email\n",
    "# emp1.full_name()\n",
    "# emp1.pay\n",
    "# emp1.apply_raise()\n",
    "# emp1.pay\n",
    "# Employee.raise_amount\n",
    "# emp1.raise_amount\n",
    "# emp2.raise_amount\n",
    "# emp1.__dict__   # prints out the namespace of emp1\n",
    "# Employee.__dict__\n",
    "\n",
    "# Employee.raise_amount=1.05\n",
    "# Employee.raise_amount\n",
    "# emp1.raise_amount\n",
    "# emp2.raise_amount\n",
    "\n",
    "# emp1.raise_amount=1.06  # this will add raise_amount to the namespace of the emp1\n",
    "# Employee.raise_amount\n",
    "# emp1.raise_amount\n",
    "# emp2.raise_amount\n",
    "\n",
    "# using class method\n",
    "# class method can called with the class or the instance but generally not used with instance.\n",
    "Employee.set_raise_amount(1.07)\n",
    "Employee.raise_amount\n",
    "# emp1.raise_amount\n",
    "# emp2.raise_amount\n",
    "\n",
    "# emp1.set_raise_amount=1.07 # not recommended\n",
    "#----------------\n",
    "new_emp1 = Employee.from_string('John-Doe-7000')\n",
    "new_emp1.email"
   ]
  },
  {
   "cell_type": "code",
   "execution_count": null,
   "metadata": {},
   "outputs": [],
   "source": []
  },
  {
   "cell_type": "code",
   "execution_count": null,
   "metadata": {},
   "outputs": [],
   "source": []
  },
  {
   "cell_type": "markdown",
   "metadata": {},
   "source": [
    "#### OOP - Clear Code - 2hr lect"
   ]
  },
  {
   "cell_type": "markdown",
   "metadata": {},
   "source": [
    "Objects - An object is a container for variables and functions.\n",
    "\n",
    "eg.-monster object can contain:\n",
    "    Variables for health, energy, stamina, damage. \n",
    "    Variables inside an object are called Attributes.\n",
    "    \n",
    "    Functions for attack, movement, animations.\n",
    "    Functions inside an object are called Methods.\n",
    "\n",
    "It is possible to have multiple objects.\n",
    "monster 1 \n",
    "health = 90\n",
    "energy = 20\n",
    "attack\n",
    "move\n",
    "\n",
    "monster2\n",
    "health = 40\n",
    "energy = 20\n",
    "attack\n",
    "move\n",
    " while creating objects we can have custom attributes but methods are not customisable.\n",
    "each object monster1 and monster2 has its own attribute and method.\n",
    "\n",
    "objects can also interact with each other.\n",
    "    eg: if monster1 attacks monster2 then we have to reduce the health of monster2 and enery of monster1.\n",
    "    \n",
    "OOP is organizing the code via objects.\n",
    "<!-- ![oop1](oop1.png) -->\n",
    "<img src=\"oop1.png\" width=\"400\" height=\"200\">\n",
    "\n",
    "Here the player and monsters have move method & this can interact with the obstacle.    \n"
   ]
  },
  {
   "cell_type": "code",
   "execution_count": 13,
   "metadata": {},
   "outputs": [
    {
     "name": "stdout",
     "output_type": "stream",
     "text": [
      "The monster has attacked.\n",
      "30 damage was dealt.\n",
      "34\n",
      "monster has moved.\n",
      "12 units is the speed of the monster.\n"
     ]
    }
   ],
   "source": [
    "class Monster:\n",
    "    # attributes\n",
    "    health = 90\n",
    "    energy = 45\n",
    "    \n",
    "    # methods\n",
    "    def attack(class_ref, amount):\n",
    "        print('The monster has attacked.')\n",
    "        print(f'{amount} damage was dealt.')\n",
    "        class_ref.energy-=11\n",
    "        print(class_ref.energy)\n",
    "        \n",
    "    def move(class_ref, speed):\n",
    "        print('monster has moved.')\n",
    "        print(f'{speed} units is the speed of the monster.')\n",
    "        \n",
    "monster = Monster()\n",
    "monster.health\n",
    "# print(health)   # will throw an error, as python can not find health in global scope. we only have health in the scope of this monster class.\n",
    "\n",
    "monster.attack(30)\n",
    "# whenever we call a method (function inside of a class) what is going to happen is that python automatically passes a reference to the class as the first argument into this function or this method to be more specific in this first argument we always have to capture, with some kind of parameter meaning a method always needs at very least one parameter and that parameter is a reference to the class itself.\n",
    "monster.move(12)\n",
    "\n",
    "# It is a convention in python to write class_ref as self.\n"
   ]
  },
  {
   "cell_type": "code",
   "execution_count": 18,
   "metadata": {},
   "outputs": [
    {
     "name": "stdout",
     "output_type": "stream",
     "text": [
      "The monster has attacked.\n",
      "30 damage was dealt.\n",
      "34\n",
      "-----------------\n",
      "monster has moved.\n",
      "12 units is the speed of the monster.\n",
      "-----------------\n"
     ]
    }
   ],
   "source": [
    "# code by replacing class_ref with self; which is the convention.\n",
    "class Monster:\n",
    "    # attributes\n",
    "    health = 90\n",
    "    energy = 45\n",
    "    \n",
    "    # methods\n",
    "    def attack(self, amount):\n",
    "        print('The monster has attacked.')\n",
    "        print(f'{amount} damage was dealt.')\n",
    "        self.energy-=11\n",
    "        print(self.energy)\n",
    "        print('-----------------')\n",
    "        \n",
    "    def move(self, speed):\n",
    "        print('monster has moved.')\n",
    "        print(f'{speed} units is the speed of the monster.')\n",
    "        print('-----------------')\n",
    "        \n",
    "\n",
    "    \n",
    "monster = Monster()\n",
    "monster.health\n",
    "\n",
    "monster.attack(30)\n",
    "\n",
    "monster.move(12)\n",
    "\n",
    "\n"
   ]
  },
  {
   "cell_type": "code",
   "execution_count": 51,
   "metadata": {},
   "outputs": [
    {
     "name": "stdout",
     "output_type": "stream",
     "text": [
      "The monster was called.\n",
      "Monster=> Health=10, energy=25\n",
      "Monster=> Health=10, energy=25\n"
     ]
    }
   ],
   "source": [
    "##---------dunder methods-----------\n",
    "class Monster():\n",
    "    \n",
    "    def __init__(self, health, energy):\n",
    "        # print(f'The {self} monster has been created.')\n",
    "        self.health = health\n",
    "        self.energy = energy\n",
    "        \n",
    "    def __len__(self):\n",
    "        return self.health\n",
    "    \n",
    "    def __abs__(self):\n",
    "        return self.energy\n",
    "    \n",
    "    def __call__(self):\n",
    "        print('The monster was called.') \n",
    "        # The __call__ method, also known as the \"dunder call\" method, allows an instance of a class to be called as if it were a function. By defining the __call__ method in your class, you can make instances of that class callable.\n",
    "        \n",
    "        # what this dunder call does is it essentially turns our object into a function.\n",
    "        # and in here we only need one parameter self and we can return something else again.\n",
    "        \n",
    "    def __add__(self, other_num):\n",
    "        return self.health+10\n",
    "    \n",
    "    def __str__(self):\n",
    "        return f'Monster=> Health={self.health}, energy={self.energy}'\n",
    "        # The __str__ method in Python is a special method used to define a string representation of an object. When you call str() on an instance of a class or use print() to display the instance, Python uses the __str__ method to get a human-readable string representation of the object.\n",
    "    \n",
    "# so here class by itself doesnot have any attribute we are creating them when the object is created by using dunder init method.\n",
    "\n",
    "\n",
    "# ----------------\\--------\\-\\-\\-\\-\\-\\--\\-\\\n",
    "monster1 = Monster(10,25)\n",
    "# display(monster1.health)\n",
    "len(monster1)\n",
    "abs(monster1)\n",
    "# monster1\n",
    "\n",
    "(dir(monster1))\n",
    "(monster1.__dict__) # __dict__ is not a method, it is a attribute.(it is an exception)\n",
    "vars(monster1)\n",
    "monster1()\n",
    "monster1+10\n",
    "print(monster1)\n",
    "print(str(monster1)) # same as print(monster1)"
   ]
  },
  {
   "cell_type": "code",
   "execution_count": 54,
   "metadata": {},
   "outputs": [
    {
     "name": "stdout",
     "output_type": "stream",
     "text": [
      "['__add__', '__class__', '__contains__', '__delattr__', '__dir__', '__doc__', '__eq__', '__format__', '__ge__', '__getattribute__', '__getitem__', '__getnewargs__', '__getstate__', '__gt__', '__hash__', '__init__', '__init_subclass__', '__iter__', '__le__', '__len__', '__lt__', '__mod__', '__mul__', '__ne__', '__new__', '__reduce__', '__reduce_ex__', '__repr__', '__rmod__', '__rmul__', '__setattr__', '__sizeof__', '__str__', '__subclasshook__', 'capitalize', 'casefold', 'center', 'count', 'encode', 'endswith', 'expandtabs', 'find', 'format', 'format_map', 'index', 'isalnum', 'isalpha', 'isascii', 'isdecimal', 'isdigit', 'isidentifier', 'islower', 'isnumeric', 'isprintable', 'isspace', 'istitle', 'isupper', 'join', 'ljust', 'lower', 'lstrip', 'maketrans', 'partition', 'removeprefix', 'removesuffix', 'replace', 'rfind', 'rindex', 'rjust', 'rpartition', 'rsplit', 'rstrip', 'split', 'splitlines', 'startswith', 'strip', 'swapcase', 'title', 'translate', 'upper', 'zfill']\n"
     ]
    }
   ],
   "source": [
    "test = 'a'\n",
    "print(dir(test))"
   ]
  },
  {
   "cell_type": "code",
   "execution_count": 59,
   "metadata": {},
   "outputs": [
    {
     "name": "stdout",
     "output_type": "stream",
     "text": [
      "['__annotations__', '__builtins__', '__call__', '__class__', '__closure__', '__code__', '__defaults__', '__delattr__', '__dict__', '__dir__', '__doc__', '__eq__', '__format__', '__ge__', '__get__', '__getattribute__', '__getstate__', '__globals__', '__gt__', '__hash__', '__init__', '__init_subclass__', '__kwdefaults__', '__le__', '__lt__', '__module__', '__name__', '__ne__', '__new__', '__qualname__', '__reduce__', '__reduce_ex__', '__repr__', '__setattr__', '__sizeof__', '__str__', '__subclasshook__']\n",
      "['__annotations__', '__builtins__', '__call__', '__class__', '__closure__', '__code__', '__defaults__', '__delattr__', '__dict__', '__dir__', '__doc__', '__eq__', '__format__', '__ge__', '__get__', '__getattribute__', '__getstate__', '__globals__', '__gt__', '__hash__', '__init__', '__init_subclass__', '__kwdefaults__', '__le__', '__lt__', '__module__', '__name__', '__ne__', '__new__', '__qualname__', '__reduce__', '__reduce_ex__', '__repr__', '__setattr__', '__sizeof__', '__str__', '__subclasshook__']\n",
      "['__annotations__', '__builtins__', '__call__', '__class__', '__closure__', '__code__', '__defaults__', '__delattr__', '__dict__', '__dir__', '__doc__', '__eq__', '__format__', '__ge__', '__get__', '__getattribute__', '__getstate__', '__globals__', '__gt__', '__hash__', '__init__', '__init_subclass__', '__kwdefaults__', '__le__', '__lt__', '__module__', '__name__', '__ne__', '__new__', '__qualname__', '__reduce__', '__reduce_ex__', '__repr__', '__setattr__', '__sizeof__', '__str__', '__subclasshook__', 'another_attribute']\n"
     ]
    }
   ],
   "source": [
    "def test():\n",
    "    pass\n",
    "print(dir(test))\n",
    "type(dir(test)) # list\n",
    "# so basically a function is just an object with dunder call method.\n",
    "\n",
    "# also this function can be stored inside a variable. and this works as the function is an object.\n",
    "a=test \n",
    "print(dir(a)) #same o/p as print(dir(test))\n",
    "\n",
    "a.another_attribute = 10\n",
    "print(dir(a))   # another_attribute is now in this list."
   ]
  },
  {
   "cell_type": "code",
   "execution_count": 60,
   "metadata": {},
   "outputs": [
    {
     "name": "stdout",
     "output_type": "stream",
     "text": [
      "5\n"
     ]
    }
   ],
   "source": [
    "def add(a,b):\n",
    "    return a+b\n",
    "\n",
    "class Test:\n",
    "    \n",
    "    def __init__(self,add_function):\n",
    "        self.add_function = add_function\n",
    "        \n",
    "test = Test(add_function = add)\n",
    "print(test.add_function(2,3))"
   ]
  },
  {
   "cell_type": "code",
   "execution_count": 67,
   "metadata": {},
   "outputs": [
    {
     "name": "stdout",
     "output_type": "stream",
     "text": [
      "bitten\n"
     ]
    }
   ],
   "source": [
    "# task: \n",
    "    # make Monster which takes func as attribute.\n",
    "    # create another class Attacks which have bite, strike, slash, kick methods in it and use these methods with Monster class.\n",
    "\n",
    "class Monster:\n",
    "    \n",
    "    def __init__(self, func):\n",
    "        self.func = func\n",
    "        \n",
    "class Attacks:\n",
    "    \n",
    "    # def __init__(self,)\n",
    "    \n",
    "    def bite(self):\n",
    "        print('bitten')\n",
    "    \n",
    "    def strike(self):\n",
    "        print('struck')\n",
    "    \n",
    "    def slash(self):\n",
    "        print('slashed')\n",
    "        \n",
    "    def kick(self):\n",
    "        print('kicked')\n",
    "        \n",
    "monster1 = Monster(func= Attacks().bite)\n",
    "monster1.func()"
   ]
  },
  {
   "cell_type": "code",
   "execution_count": null,
   "metadata": {},
   "outputs": [],
   "source": [
    "# classes and scope\n",
    "def update_health(amount):\n",
    "    health+=amount\n",
    "    \n",
    "health = 10\n",
    "print(health)\n",
    "\n",
    "update_health(20)   # will throw error as health=10 is in global scope and it is different from health in health+=amount.\n",
    "print(health)\n"
   ]
  },
  {
   "cell_type": "code",
   "execution_count": 72,
   "metadata": {},
   "outputs": [
    {
     "data": {
      "text/plain": [
       "145"
      ]
     },
     "execution_count": 72,
     "metadata": {},
     "output_type": "execute_result"
    }
   ],
   "source": [
    "def update_health(amount):\n",
    "    monster1.health+=amount\n",
    "\n",
    "class Monster:\n",
    "    \n",
    "    def __init__(self, health, energy):\n",
    "        self.health=health\n",
    "        self.energy=energy\n",
    "        \n",
    "    def update_energy(self, amount):\n",
    "        self.energy+=amount\n",
    "      \n",
    "#--------------------------------  \n",
    "monster1=Monster(100,50)\n",
    "monster1.health+=20\n",
    "monster1.health\n",
    "\n",
    "update_health(25)\n",
    "monster1.health\n"
   ]
  },
  {
   "cell_type": "code",
   "execution_count": 74,
   "metadata": {},
   "outputs": [
    {
     "name": "stdout",
     "output_type": "stream",
     "text": [
      "70\n"
     ]
    }
   ],
   "source": [
    "class Monster:\n",
    "    \n",
    "    def __init__(self, health, energy):\n",
    "        self.health=health\n",
    "        self.energy=energy\n",
    "        \n",
    "    def update_energy(self, amount):\n",
    "        self.energy+=amount\n",
    "        \n",
    "monster1=Monster(100,50)\n",
    "monster1.update_energy(20)\n",
    "print(monster1.energy)"
   ]
  },
  {
   "cell_type": "code",
   "execution_count": 1,
   "metadata": {},
   "outputs": [
    {
     "data": {
      "text/plain": [
       "120"
      ]
     },
     "execution_count": 1,
     "metadata": {},
     "output_type": "execute_result"
    }
   ],
   "source": [
    "class Monster:\n",
    "\n",
    "    def __init__(self, health, energy):\n",
    "        self.health = health\n",
    "        self.energy = self.set_energy(energy)\n",
    "\n",
    "    def update_energy(self, amount):\n",
    "        self.energy+=amount\n",
    "\n",
    "    def set_energy(self, energy):\n",
    "        new_energy = energy*2\n",
    "        return new_energy\n",
    "\n",
    "monster1 = Monster(health=100, energy=60)\n",
    "monster1.energy"
   ]
  },
  {
   "cell_type": "code",
   "execution_count": null,
   "metadata": {},
   "outputs": [
    {
     "data": {
      "text/plain": [
       "120"
      ]
     },
     "metadata": {},
     "output_type": "display_data"
    }
   ],
   "source": [
    "# will work same as above\n",
    "class Monster:\n",
    "\n",
    "    def __init__(self, health, energy):\n",
    "        self.health = health\n",
    "        self.set_energy(energy)\n",
    "\n",
    "    def update_energy(self, amount):\n",
    "        self.energy+=amount\n",
    "\n",
    "    def set_energy(self, energy):\n",
    "        new_energy = energy*2\n",
    "        self.energy = new_energy\n",
    "\n",
    "monster1 = Monster(health=100, energy=60)\n",
    "monster1.energy"
   ]
  },
  {
   "cell_type": "code",
   "execution_count": 2,
   "metadata": {},
   "outputs": [
    {
     "name": "stdout",
     "output_type": "stream",
     "text": [
      "100\n",
      "89\n"
     ]
    }
   ],
   "source": [
    "# exercise\n",
    "# create a hero class with 2 parameters: damage, monster.\n",
    "# the monster class should have a attack method that lowers the health of monster -> get_damage(amount)\n",
    "# the hero class should have a method that calls the get_damage method of the monster. The amount of damage is hero.damage(damage is the attribute supplied).\n",
    "\n",
    "class Hero:\n",
    "\n",
    "    def __init__(self, damage, monster):\n",
    "        self.damage=damage\n",
    "        self.monster=monster\n",
    "\n",
    "    def attack(self):\n",
    "        self.monster.get_damage(self.damage)\n",
    "\n",
    "        pass\n",
    "\n",
    "class Monster:\n",
    "\n",
    "    def __init__(self, health, energy):\n",
    "        self.health = health\n",
    "        self.energy=energy\n",
    "\n",
    "    def get_damage(self, amount):\n",
    "        self.health-=amount\n",
    "\n",
    "\n",
    "monster1 = Monster(100,80)\n",
    "print(monster1.health)\n",
    "\n",
    "hero = Hero(damage=11, monster=monster1)\n",
    "hero.attack()\n",
    "print(monster1.health)"
   ]
  },
  {
   "cell_type": "markdown",
   "metadata": {},
   "source": [
    "##### inheritance"
   ]
  },
  {
   "cell_type": "code",
   "execution_count": null,
   "metadata": {},
   "outputs": [],
   "source": [
    "# inheritance means 1 class get methods and attributes from another class/classes."
   ]
  },
  {
   "cell_type": "code",
   "execution_count": 9,
   "metadata": {},
   "outputs": [
    {
     "name": "stdout",
     "output_type": "stream",
     "text": [
      "The monster has attacked.\n",
      "20 damage was dealt.\n",
      "The shark has swam.\n",
      "The swimming speed is 12 units.\n"
     ]
    }
   ],
   "source": [
    "class Monster:\n",
    "\n",
    "    health=50\n",
    "    energy=100\n",
    "\n",
    "    # def __init__(self, health, energy):\n",
    "    #     self.health=health\n",
    "    #     self.energy=energy\n",
    "\n",
    "    def attack(self,amount):\n",
    "        print('The monster has attacked.')\n",
    "        print(f'{amount} damage was dealt.')\n",
    "        self.energy-=20\n",
    "\n",
    "    def move(self, speed):\n",
    "        print('The monster has moved.')\n",
    "        print(f'It has a speed of {speed}.')\n",
    "\n",
    "\n",
    "class Shark(Monster):\n",
    "\n",
    "    def __init__(self, speed):\n",
    "        self.speed = speed\n",
    "\n",
    "    def bite(self):\n",
    "        print('The shark has bitten.')\n",
    "\n",
    "    def move(self): # Here the same name method as that in the parent class(Monster) will override the parent class method.\n",
    "        print('The shark has swam.')\n",
    "        print(f'The swimming speed is {self.speed} units.')\n",
    "\n",
    "shark1=Shark(12)\n",
    "shark1.speed\n",
    "shark1.health\n",
    "shark1.attack(20)\n",
    "shark1.move()"
   ]
  },
  {
   "cell_type": "code",
   "execution_count": 11,
   "metadata": {},
   "outputs": [
    {
     "name": "stdout",
     "output_type": "stream",
     "text": [
      "The monster has moved.\n",
      "It has a speed of 8.\n"
     ]
    },
    {
     "data": {
      "text/plain": [
       "80"
      ]
     },
     "execution_count": 11,
     "metadata": {},
     "output_type": "execute_result"
    }
   ],
   "source": [
    "class Monster:\n",
    "\n",
    "    # health=50\n",
    "    # energy=100\n",
    "\n",
    "    def __init__(self, health, energy):\n",
    "        self.health=health\n",
    "        self.energy=energy\n",
    "\n",
    "    def attack(self,amount):\n",
    "        print('The monster has attacked.')\n",
    "        print(f'{amount} damage was dealt.')\n",
    "        self.energy-=20\n",
    "\n",
    "    def move(self, speed):\n",
    "        print('The monster has moved.')\n",
    "        print(f'It has a speed of {speed}.')\n",
    "\n",
    "\n",
    "class Shark(Monster):\n",
    "\n",
    "    def __init__(self, speed, health, energy):\n",
    "        # Monster.__init__(self, health, energy)    # old method\n",
    "        super().__init__(health, energy)    # new way to get parent attributes.\n",
    "        super().move(8) # calling a method from the parent class if needed.\n",
    "        self.speed = speed\n",
    "\n",
    "    def bite(self):\n",
    "        print('The shark has bitten.')\n",
    "\n",
    "    def move(self): # Here the same name method as that in the parent class(Monster) will override the parent class method.\n",
    "        print('The shark has swam.')\n",
    "        print(f'The swimming speed is {self.speed} units.')\n",
    "\n",
    "shark1=Shark(speed=12, health=100, energy=80)\n",
    "shark1.energy\n"
   ]
  },
  {
   "cell_type": "code",
   "execution_count": 13,
   "metadata": {},
   "outputs": [
    {
     "name": "stdout",
     "output_type": "stream",
     "text": [
      "100\n",
      "70\n",
      "The scorpian has bitten.\n",
      "8 poision damage was dealt.\n"
     ]
    }
   ],
   "source": [
    "# exercise\n",
    "# create a Scorpian class along with poision_damage attribute and it inherits health and energy from Monster class. Also, overwrite the attack method of monster class to show poision damage.\n",
    "\n",
    "class Monster:\n",
    "\n",
    "    # health=50\n",
    "    # energy=100\n",
    "\n",
    "    def __init__(self, health, energy):\n",
    "        self.health=health\n",
    "        self.energy=energy\n",
    "\n",
    "    def attack(self,amount):\n",
    "        print('The monster has attacked.')\n",
    "        print(f'{amount} damage was dealt.')\n",
    "        self.energy-=20\n",
    "\n",
    "    def move(self, speed):\n",
    "        print('The monster has moved.')\n",
    "        print(f'It has a speed of {speed}.')\n",
    "\n",
    "class Scorpian(Monster):\n",
    "\n",
    "    def __init__(self, scopian_health, scopian_energy,poision_damage):\n",
    "        self.poision_damage=poision_damage\n",
    "        super().__init__(health=scopian_health, energy=scopian_energy)\n",
    "\n",
    "    def attack(self):\n",
    "        print('The scorpian has bitten.')\n",
    "        print(f'{self.poision_damage} poision damage was dealt.')\n",
    "\n",
    "scr1=Scorpian(health=100, energy=70, poision_damage=8)\n",
    "print(scr1.health)\n",
    "print(scr1.energy)\n",
    "scr1.attack()"
   ]
  },
  {
   "cell_type": "code",
   "execution_count": 18,
   "metadata": {},
   "outputs": [
    {
     "data": {
      "text/plain": [
       "14"
      ]
     },
     "execution_count": 18,
     "metadata": {},
     "output_type": "execute_result"
    }
   ],
   "source": [
    "## ----complex inheritance----\n",
    "class Monster:\n",
    "\n",
    "    def __init__(self, health, energy,**kwargs):\n",
    "        self.health=health\n",
    "        self.energy=energy\n",
    "        super().__init__(**kwargs)\n",
    "\n",
    "    def attack(self,amount):\n",
    "        print('The monster has attacked.')\n",
    "        print(f'{amount} damage was dealt.')\n",
    "        self.energy-=20\n",
    "\n",
    "    def move(self, speed):\n",
    "        print('The monster has moved.')\n",
    "        print(f'It has a speed of {speed}.')\n",
    "\n",
    "class Fish:\n",
    "    def __init__(self, speed, has_scales,**kwargs):\n",
    "        self.speed=speed\n",
    "        self.has_scales=has_scales\n",
    "        super().__init__(**kwargs)\n",
    "\n",
    "    def swim(self):\n",
    "        print('The fish is swimming at a speed of {self.speed}')\n",
    "\n",
    "class Shark(Monster, Fish):\n",
    "\n",
    "    def __init__(self, bite_strenght, health, energy, speed, has_scales):\n",
    "        self.bite_strength = bite_strenght\n",
    "        # MRO - method resolution order - in what order, the parent init methods are being called. found by using Shark.mro().\n",
    "        super().__init__(health=health, energy=energy, speed=speed, has_scales=has_scales)\n",
    "\n",
    "shark1=Shark(bite_strenght=10, health=100, energy=98, speed=14, has_scales=True)\n",
    "shark1.speed\n",
    "# print(Shark.mro())\n"
   ]
  },
  {
   "cell_type": "code",
   "execution_count": 30,
   "metadata": {},
   "outputs": [
    {
     "name": "stdout",
     "output_type": "stream",
     "text": [
      "The monster has 20 health.\n",
      "A monster class that have some attributes and methods.\n",
      "Help on Monster in module __main__ object:\n",
      "\n",
      "class Monster(builtins.object)\n",
      " |  Monster(health, energy)\n",
      " |  \n",
      " |  A monster class that have some attributes and methods.\n",
      " |  \n",
      " |  Methods defined here:\n",
      " |  \n",
      " |  __init__(self, health, energy)\n",
      " |      Initialize self.  See help(type(self)) for accurate signature.\n",
      " |  \n",
      " |  attack(self, amount)\n",
      " |  \n",
      " |  move(self, speed)\n",
      " |  \n",
      " |  ----------------------------------------------------------------------\n",
      " |  Data descriptors defined here:\n",
      " |  \n",
      " |  __dict__\n",
      " |      dictionary for instance variables (if defined)\n",
      " |  \n",
      " |  __weakref__\n",
      " |      list of weak references to the object (if defined)\n",
      "\n"
     ]
    }
   ],
   "source": [
    "## classes extra parts---- private attributes, hasattr and getattr, doc sting.\n",
    "class Monster:\n",
    "    '''A monster class that have some attributes and methods.'''\n",
    "    def __init__(self, health, energy):\n",
    "        self.health=health\n",
    "        self.energy=energy\n",
    "        # private attribute\n",
    "        self._id=5\n",
    "\n",
    "    def attack(self,amount):\n",
    "        print('The monster has attacked.')\n",
    "        print(f'{amount} damage was dealt.')\n",
    "        self.energy-=20\n",
    "\n",
    "    def move(self, speed):\n",
    "        print('The monster has moved.')\n",
    "        print(f'It has a speed of {speed}.')\n",
    "\n",
    "monster1=Monster(20,10)\n",
    "monster1._id\n",
    "\n",
    "#------------------------------\n",
    "if hasattr(monster1, 'health'):\n",
    "    print(f'The monster has {monster1.health} health.')\n",
    "hasattr(monster1, 'weapon')\n",
    "#------------------------------\n",
    "setattr(monster1, 'weapon', 'sword') #monster1.weapon=sword will also do the same.\n",
    "monster1.weapon\n",
    "\n",
    "new_attributes=(['weapon','axe'],['armor','shield'],['potion','mana'])\n",
    "for attr, val in new_attributes:\n",
    "    setattr(monster1, attr, val)\n",
    "monster1.weapon\n",
    "#------------------------------\n",
    "print(monster1.__doc__)\n",
    "help(monster1)"
   ]
  },
  {
   "cell_type": "markdown",
   "metadata": {},
   "source": [
    "##### Decorators"
   ]
  },
  {
   "cell_type": "code",
   "execution_count": null,
   "metadata": {},
   "outputs": [],
   "source": [
    "# Decorators are functions that decorate other functions. We essentially wrap a function around another function."
   ]
  },
  {
   "cell_type": "code",
   "execution_count": 35,
   "metadata": {},
   "outputs": [
    {
     "name": "stdout",
     "output_type": "stream",
     "text": [
      "Function\n"
     ]
    }
   ],
   "source": [
    "def func():\n",
    "    print('Function')\n",
    "def wrapper(func):\n",
    "    func()\n",
    "\n",
    "wrapper(func)"
   ]
  },
  {
   "cell_type": "code",
   "execution_count": 37,
   "metadata": {},
   "outputs": [
    {
     "name": "stdout",
     "output_type": "stream",
     "text": [
      "new function\n"
     ]
    }
   ],
   "source": [
    "def function_generator():\n",
    "    def new_function():\n",
    "        print('new function')\n",
    "    return new_function\n",
    "\n",
    "new_func=function_generator()\n",
    "new_func()"
   ]
  },
  {
   "cell_type": "code",
   "execution_count": 41,
   "metadata": {},
   "outputs": [
    {
     "name": "stdout",
     "output_type": "stream",
     "text": [
      "decoration begins\n",
      "Function\n",
      "decoration ends\n"
     ]
    }
   ],
   "source": [
    "def decorator(func):\n",
    "    def wrapper():\n",
    "        print('decoration begins')\n",
    "        func()\n",
    "        print('decoration ends')\n",
    "    return wrapper\n",
    "\n",
    "\n",
    "def func():\n",
    "    print('Function')\n",
    "\n",
    "func=decorator(func) # alt way to this is @decorator\n",
    "# here by using same name func we are essentially overwriting the output when we write func(), w/o doing much changes in the orginal \"func\" function.\n",
    "func()"
   ]
  },
  {
   "cell_type": "code",
   "execution_count": 42,
   "metadata": {},
   "outputs": [
    {
     "name": "stdout",
     "output_type": "stream",
     "text": [
      "decoration begins\n",
      "Function\n",
      "decoration ends\n"
     ]
    }
   ],
   "source": [
    "# alt way of the above code.\n",
    "def decorator(func):\n",
    "    def wrapper():\n",
    "        print('decoration begins')\n",
    "        func()\n",
    "        print('decoration ends')\n",
    "    return wrapper\n",
    "\n",
    "@decorator\n",
    "def func():\n",
    "    print('Function')\n",
    "\n",
    "func()"
   ]
  },
  {
   "cell_type": "code",
   "execution_count": 48,
   "metadata": {},
   "outputs": [
    {
     "name": "stdout",
     "output_type": "stream",
     "text": [
      "decoration begins\n",
      "Function\n",
      "duration is 1.008301019668579\n",
      "decoration ends\n",
      "decoration begins\n",
      "Function\n",
      "duration is 1.0073676109313965\n",
      "decoration ends\n"
     ]
    }
   ],
   "source": [
    "import time\n",
    "def decorator(func):\n",
    "    def wrapper():\n",
    "        print('decoration begins')\n",
    "        func()\n",
    "        print('decoration ends')\n",
    "    return wrapper\n",
    "\n",
    "def duration_decorator(func):\n",
    "    def wrapper():\n",
    "        start_time=time.time()\n",
    "        func()\n",
    "        duration=time.time()-start_time\n",
    "        print(f'duration is {duration}')\n",
    "    return wrapper\n",
    "\n",
    "def double_decorator(func): # to call the function twice\n",
    "    def wrapper():\n",
    "        func()\n",
    "        func()\n",
    "    return wrapper\n",
    "\n",
    "@double_decorator\n",
    "@decorator\n",
    "@duration_decorator\n",
    "def func():\n",
    "    print('Function')\n",
    "    time.sleep(1)\n",
    "\n",
    "func()"
   ]
  },
  {
   "cell_type": "code",
   "execution_count": 49,
   "metadata": {},
   "outputs": [
    {
     "name": "stdout",
     "output_type": "stream",
     "text": [
      "decorator begins\n",
      "hello\n",
      "decorator ends\n"
     ]
    }
   ],
   "source": [
    "def decorator(func):\n",
    "    def wrapper(*args, **kwargs):\n",
    "        print('decorator begins')\n",
    "        func(*args, **kwargs)\n",
    "        print('decorator ends')\n",
    "    return wrapper\n",
    "\n",
    "@decorator\n",
    "def func(func_parameter):\n",
    "    print(func_parameter)\n",
    "\n",
    "\n",
    "# func=decorator(func)\n",
    "func('hello')\n",
    "\n"
   ]
  },
  {
   "cell_type": "code",
   "execution_count": 51,
   "metadata": {},
   "outputs": [
    {
     "name": "stdout",
     "output_type": "stream",
     "text": [
      "Function\n",
      "Function\n",
      "Function\n",
      "Function\n",
      "Function\n"
     ]
    }
   ],
   "source": [
    "def repetition_decorator(repetitions):\n",
    "    def decorator(func):\n",
    "        def wrapper():\n",
    "            for r in range(repetitions):\n",
    "                func()\n",
    "        return wrapper\n",
    "    return decorator\n",
    "    \n",
    "\n",
    "\n",
    "@repetition_decorator(5) # 5 is the no of times func will be called.\n",
    "def func():\n",
    "    print('Function')\n",
    "\n",
    "# func = repetition_decorator(5)(func) # if @repetition_decorator(5) is not used.\n",
    "func()"
   ]
  },
  {
   "cell_type": "code",
   "execution_count": 52,
   "metadata": {},
   "outputs": [
    {
     "name": "stdout",
     "output_type": "stream",
     "text": [
      "get x\n"
     ]
    },
    {
     "data": {
      "text/plain": [
       "10"
      ]
     },
     "execution_count": 52,
     "metadata": {},
     "output_type": "execute_result"
    }
   ],
   "source": [
    "## decorators inside classes\n",
    "# @property - it allows us to turn methods into attributes.\n",
    "\n",
    "class Generic:\n",
    "\n",
    "    def __init__(self):\n",
    "        self.x=10\n",
    "\n",
    "    # when i reterive or change x then i want to run some another code.\n",
    "    def getx(self):\n",
    "        print('get x')\n",
    "        return self.x\n",
    "    \n",
    "generic = Generic()\n",
    "generic.getx()"
   ]
  },
  {
   "cell_type": "markdown",
   "metadata": {},
   "source": [
    "### GFG"
   ]
  },
  {
   "cell_type": "markdown",
   "metadata": {},
   "source": [
    "#### GFG SEARCHING\n",
    "---"
   ]
  },
  {
   "cell_type": "code",
   "execution_count": null,
   "metadata": {},
   "outputs": [],
   "source": [
    "'''\n",
    "Big O notation (O) and Theta notation (Θ) are both used to describe the asymptotic behavior of functions, particularly in the context of algorithm analysis. However, they are used in slightly different ways:\n",
    "\n",
    "### Big O (O)\n",
    "- **Definition**: Big O notation describes an upper bound on the growth rate of a function. It gives an upper limit on the time or space complexity of an algorithm, meaning the algorithm will not grow faster than this rate.\n",
    "- **Example**: If an algorithm's time complexity is \\(O(\\log n)\\), it means that, in the worst case, the running time will grow at most as fast as \\(\\log n\\).\n",
    "\n",
    "### Theta (Θ)\n",
    "- **Definition**: Theta notation describes both an upper and a lower bound on the growth rate of a function. It provides a tight bound, meaning the function grows at the same rate both asymptotically from above and below.\n",
    "- **Example**: If an algorithm's time complexity is \\(\\Theta(\\log n)\\), it means that the running time grows exactly as \\(\\log n\\), not faster and not slower.\n",
    "\n",
    "### Comparison\n",
    "- **O(log n)**: This means the algorithm's running time will not exceed a logarithmic growth rate. There could be other factors involved, but \\(\\log n\\) is the upper bound.\n",
    "- **Θ(log n)**: This means the algorithm's running time grows exactly at a logarithmic rate. Both the upper and lower bounds of the running time are \\(\\log n\\).\n",
    "\n",
    "In summary:\n",
    "- **O(log n)**: Provides an upper bound.\n",
    "- **Θ(log n)**: Provides both an upper and a lower bound, indicating a precise growth rate.\n",
    "\n",
    "If you see \\(\\Theta(\\log n)\\), you know that the algorithm's running time is tightly bounded to \\(\\log n\\). If you see \\(O(\\log n)\\), the running time could be \\(\\log n\\) or possibly smaller, but it will not be larger than \\(\\log n\\).\n",
    "'''"
   ]
  },
  {
   "cell_type": "code",
   "execution_count": 3,
   "metadata": {},
   "outputs": [
    {
     "name": "stdout",
     "output_type": "stream",
     "text": [
      "-1\n"
     ]
    }
   ],
   "source": [
    "# binary search in python\n",
    "arr=[10,20,30,40,50,60,70]\n",
    "x=200\n",
    "l=0\n",
    "h=len(arr)-1\n",
    "m=(l+h)//2\n",
    "is_found=0\n",
    "while l<=h:\n",
    "    if x<arr[m]:\n",
    "        h=m-1\n",
    "        m=(l+h)//2\n",
    "\n",
    "    elif x>arr[m]:\n",
    "        l=m+1\n",
    "        m=(l+h)//2\n",
    "        \n",
    "    elif x==arr[m]:\n",
    "        print(m)\n",
    "        is_found=1\n",
    "        break\n",
    "\n",
    "if is_found==0:\n",
    "    print(-1)\n",
    "\n"
   ]
  },
  {
   "cell_type": "markdown",
   "metadata": {},
   "source": [
    "#### index of first occurance"
   ]
  },
  {
   "cell_type": "code",
   "execution_count": null,
   "metadata": {},
   "outputs": [
    {
     "name": "stdout",
     "output_type": "stream",
     "text": [
      "1\n"
     ]
    }
   ],
   "source": [
    "# given an array arr find the first index of x\n",
    "arr = [1,10,10,10,20,20,4]\n",
    "x = 10\n",
    "\n",
    "l=0\n",
    "h=len(arr)-1\n",
    "mid=(l+h)//2\n",
    "current_min_idx=None\n",
    "while l<=h:\n",
    "    if x==arr[mid]:\n",
    "        if current_min_idx==None or current_min_idx>mid:\n",
    "            current_min_idx=mid\n",
    "            h=mid-1\n",
    "        # print(mid)\n",
    "    elif x<arr[mid]:\n",
    "        h=mid-1\n",
    "    elif x>arr[mid]:\n",
    "        l=mid+1\n",
    "\n",
    "    mid=(l+h)//2\n",
    "\n",
    "if current_min_idx==None:\n",
    "    print(-1)\n",
    "else:\n",
    "    print(current_min_idx)\n"
   ]
  },
  {
   "cell_type": "markdown",
   "metadata": {},
   "source": [
    "### REGULAR EXPRESSIONS RegEx"
   ]
  },
  {
   "cell_type": "code",
   "execution_count": 1,
   "metadata": {},
   "outputs": [],
   "source": [
    "import re"
   ]
  },
  {
   "cell_type": "code",
   "execution_count": 3,
   "metadata": {},
   "outputs": [
    {
     "data": {
      "text/plain": [
       "['9991116666', '(999)-333-7777']"
      ]
     },
     "execution_count": 3,
     "metadata": {},
     "output_type": "execute_result"
    }
   ],
   "source": [
    "text ='''\n",
    "Elon Musk's phone number is 9991116666, call him if you have any question about dogecoin. Tesla'a revenue is 40 billion.\n",
    "another number is (999)-333-7777\n",
    "'''\n",
    "pattern='\\(\\d{3}\\)-\\d{3}-\\d{4}|\\d{10}'\n",
    "matches = re.findall(pattern=pattern, string=text)\n",
    "matches"
   ]
  },
  {
   "cell_type": "code",
   "execution_count": 9,
   "metadata": {},
   "outputs": [
    {
     "data": {
      "text/plain": [
       "['aszsd', ',sd', 'f', 'ask']"
      ]
     },
     "execution_count": 9,
     "metadata": {},
     "output_type": "execute_result"
    }
   ],
   "source": [
    "# anthing after carrot symbol(^) is left from the pattern.\n",
    "\n",
    "# the + (plus) symbol is a quantifier that matches one or more occurrences of the preceding element. where as * means 0 or more occurances.\n",
    "# Regex: a+ #>Matches: a, aa, aaa, etc.\n",
    "# Regex: [0-9]+   #>Matches: 1, 123, 4567, etc.\n",
    "\n",
    "text='''aszsd;,sd;f-ask'''\n",
    "pattern = \"[^;'-]+\" #> + means one or more of those characters which is not semi-colon(;) comma(,)or hyphen(-)\n",
    "re.findall(pattern, text)"
   ]
  },
  {
   "cell_type": "code",
   "execution_count": 10,
   "metadata": {},
   "outputs": [
    {
     "data": {
      "text/plain": [
       "['Overview ', 'Summary of Significant Accounting Policies']"
      ]
     },
     "execution_count": 10,
     "metadata": {},
     "output_type": "execute_result"
    }
   ],
   "source": [
    "text=''' Note 1 - Overview \n",
    "asd dsa fdsa fdsaf\n",
    "\n",
    "Note 23 - Summary of Significant Accounting Policies\n",
    "aszsd;'sd;f-ask'''\n",
    "\n",
    "pattern=\"Note \\d+ - ([^\\n]*)\"   #> () means give me only part of the match b/w these small brackets.\n",
    "re.findall(pattern, text)"
   ]
  },
  {
   "cell_type": "code",
   "execution_count": 29,
   "metadata": {},
   "outputs": [
    {
     "data": {
      "text/plain": [
       "['FY2021 Q1', 'Fy2020 Q4']"
      ]
     },
     "metadata": {},
     "output_type": "display_data"
    },
    {
     "data": {
      "text/plain": [
       "['$4.85', '$3']"
      ]
     },
     "metadata": {},
     "output_type": "display_data"
    },
    {
     "data": {
      "text/plain": [
       "[('FY2021 Q1', '$4.85'), ('Fy2020 Q4', '$3')]"
      ]
     },
     "metadata": {},
     "output_type": "display_data"
    },
    {
     "data": {
      "text/plain": [
       "('FY2021 Q1', '$4.85')"
      ]
     },
     "execution_count": 29,
     "metadata": {},
     "output_type": "execute_result"
    }
   ],
   "source": [
    "text = '''The gross cost of operating lease vehicles in FY2021 Q1 was $4.85 billion. In previous quarter i.e. Fy2020 Q4 it was $3 billion.'''\n",
    "\n",
    "pattern = \"FY\\d{4} Q[1234]\"\n",
    "pattern = \"FY\\d{4} Q[1-4]\"\n",
    "\n",
    "display(re.findall(pattern , text, flags=re.IGNORECASE))\n",
    "\n",
    "pattern = \"\\$[\\d\\.]+\"  # $ and . are special characters so \\ is used before them.\n",
    "pattern = \"\\$[0-9\\.]+\" #\\d is same as 0-9\n",
    "display(re.findall(pattern, text))\n",
    "\n",
    "#  extract fy and amount both\n",
    "\n",
    "pattern = \"(FY\\d{4} Q[1-4])[^\\$]+(\\$[\\d\\.]+)\"\n",
    "display(re.findall(pattern, text, flags=re.IGNORECASE))\n",
    "\n",
    "matches = re.search(pattern, text, flags=re.IGNORECASE)\n",
    "matches.groups()"
   ]
  },
  {
   "cell_type": "code",
   "execution_count": 35,
   "metadata": {},
   "outputs": [
    {
     "data": {
      "text/plain": [
       "\"output is  [('123', '456', '7890')]\""
      ]
     },
     "metadata": {},
     "output_type": "display_data"
    },
    {
     "name": "stdout",
     "output_type": "stream",
     "text": [
      "('123', '456', '7890')\n",
      "Area Code: 123\n",
      "First Part: 456\n",
      "Second Part: 7890\n",
      "123\n",
      "456\n",
      "7890\n"
     ]
    }
   ],
   "source": [
    "import re\n",
    "\n",
    "# Example string\n",
    "text = \"John Doe's phone number is 123-456-7890.\"\n",
    "\n",
    "# Regular expression with capturing groups\n",
    "pattern = r\"(\\d{3})-(\\d{3})-(\\d{4})\"\n",
    "display(f'output is  {re.findall(pattern, text)}')\n",
    "# Search for the pattern in the text\n",
    "match = re.search(pattern, text)\n",
    "\n",
    "# Check if a match was found\n",
    "if match:\n",
    "    # Access the captured groups\n",
    "    groups = match.groups()\n",
    "    print(groups)  # Output: ('123', '456', '7890')\n",
    "\n",
    "    # Access individual groups\n",
    "    area_code = match.group(1)\n",
    "    first_part = match.group(2)\n",
    "    second_part = match.group(3)\n",
    "    \n",
    "    print(f\"Area Code: {area_code}\")   # Output: Area Code: 123\n",
    "    print(f\"First Part: {first_part}\") # Output: First Part: 456\n",
    "    print(f\"Second Part: {second_part}\")# Output: Second Part: 7890\n",
    "else:\n",
    "    print(\"No match found.\")\n",
    "\n",
    "for i in re.findall(pattern, text):\n",
    "    if not isinstance(i, str):\n",
    "        for j in i:\n",
    "            print(j)"
   ]
  }
 ],
 "metadata": {
  "kernelspec": {
   "display_name": "base",
   "language": "python",
   "name": "python3"
  },
  "language_info": {
   "codemirror_mode": {
    "name": "ipython",
    "version": 3
   },
   "file_extension": ".py",
   "mimetype": "text/x-python",
   "name": "python",
   "nbconvert_exporter": "python",
   "pygments_lexer": "ipython3",
   "version": "3.11.3"
  }
 },
 "nbformat": 4,
 "nbformat_minor": 2
}
