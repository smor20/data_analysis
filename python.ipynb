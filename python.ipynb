{
 "cells": [
  {
   "cell_type": "markdown",
   "metadata": {},
   "source": [
    "### Python concepts"
   ]
  },
  {
   "cell_type": "markdown",
   "metadata": {},
   "source": [
    "### sorting a list in python"
   ]
  },
  {
   "cell_type": "code",
   "execution_count": null,
   "metadata": {},
   "outputs": [],
   "source": [
    "# The sort() method sorts the list in place, meaning it modifies the original list.\n",
    "# Example: Sorting a list of numbers in ascending order\n",
    "numbers = [4, 2, 9, 1]\n",
    "numbers.sort()\n",
    "print(numbers)  # Output: [1, 2, 4, 9]\n",
    "\n",
    "# Example: Sorting a list of strings in descending order\n",
    "fruits = ['apple', 'banana', 'cherry']\n",
    "fruits.sort(reverse=True)\n",
    "print(fruits)  # Output: ['cherry', 'banana', 'apple']\n",
    "\n",
    "# Example: Sorting a list of dictionaries by a specific key\n",
    "cars = [\n",
    "    {'car': 'Ford', 'year': 2005},\n",
    "    {'car': 'BMW', 'year': 2019},\n",
    "    {'car': 'Mitsubishi', 'year': 2000}\n",
    "]\n",
    "cars.sort(key=lambda x: x['year']) # x is each dictionary of the list.\n",
    "print(cars)  # Output: [{'car': 'Mitsubishi', 'year': 2000}, {'car': 'Ford', 'year': 2005}, {'car': 'BMW', 'year': 2019}]\n",
    "    #For the first dictionary {'car': 'Ford', 'year': 2005}, the lambda function returns 2005.\n",
    "    # For the second dictionary {'car': 'BMW', 'year': 2019}, the lambda function returns 2019.\n",
    "    # For the third dictionary {'car': 'Mitsubishi', 'year': 2000}, the lambda function returns 2000.\n",
    "    # The sort() method then arranges the dictionaries in ascending order of these values: 2000, 2005, 2019.\n",
    "\n",
    "\n",
    "# Define a function named lexicographic_sort that takes one argument, 's'.\n",
    "def lexicographic_sort(s):\n",
    "    return sorted(sorted(s), key=str.upper) # str.upper it converts str to upper case before 2nd sorting.\n",
    "\n",
    "# Call the lexicographic_sort function with different input strings and print the results.\n",
    "print(lexicographic_sort('w3resource'))  # Output: '3ceeorrsuw'\n",
    "print(lexicographic_sort('quickbrown'))  # Output: 'biknqorwuc' \n",
    "\n",
    "#-----------------------------------------------------\n",
    "#-----------------------------------------------------\n",
    "# The sorted() function returns a new sorted list without modifying the original list.\n",
    "# Example: Sorting a list of numbers in ascending order\n",
    "numbers = [4, 2, 9, 1]\n",
    "sorted_numbers = sorted(numbers)\n",
    "print(sorted_numbers)  # Output: [1, 2, 4, 9]\n",
    "print(numbers)  # Output: [4, 2, 9, 1] (original list remains unchanged)\n",
    "\n",
    "# Example: Sorting a list of strings by length\n",
    "fruits = ['apple', 'banana', 'cherry']\n",
    "sorted_fruits = sorted(fruits, key=len)\n",
    "print(sorted_fruits)  # Output: ['apple', 'cherry', 'banana']\n",
    "\n"
   ]
  },
  {
   "cell_type": "markdown",
   "metadata": {},
   "source": [
    "#### str.rsplit()"
   ]
  },
  {
   "cell_type": "code",
   "execution_count": null,
   "metadata": {},
   "outputs": [],
   "source": [
    "# Define a variable 'str1' and assign it the value of the provided string.\n",
    "str1 = 'https://www.w3resource.com/python-exercises/string'\n",
    "\n",
    "# Use the rsplit() method with '/' as the separator to split the string from the right,\n",
    "# and [0] to get the part before the last '/' character. Then, print the result.\n",
    "print(str1.rsplit('/', 1)[0])  # Output: 'https://www.w3resource.com/python-exercises'\n",
    "\n",
    "# Use the rsplit() method with '-' as the separator to split the string from the right,\n",
    "# and [0] to get the part before the last '-' character. Then, print the result.\n",
    "print(str1.rsplit('-', 1)[0])  # Output: 'https://www.w3resource.com/python' \n"
   ]
  },
  {
   "cell_type": "markdown",
   "metadata": {},
   "source": [
    "#### number formatting in python"
   ]
  },
  {
   "cell_type": "code",
   "execution_count": null,
   "metadata": {},
   "outputs": [],
   "source": [
    "### 1. Using f-strings ( 3.6+)\n",
    "# F-strings provide a concise and readable way to format numbers:\n",
    "\n",
    "num = 1234.56789\n",
    "formatted_num = f\"{num:.2f}\"  # Rounds to 2 decimal places\n",
    "print(formatted_num)  # Output: 1234.57\n",
    "\n",
    "\n",
    "### 2. Using the `format()` method\n",
    "# The `format()` method is versatile and works in both  2 and 3:\n",
    "\n",
    "num = 1234.56789\n",
    "formatted_num = \"{:.2f}\".format(num)  # Rounds to 2 decimal places\n",
    "print(formatted_num)  # Output: 1234.57\n",
    "\n",
    "\n",
    "### 3. Using the `%` operator\n",
    "# This is an older method but still widely used:\n",
    "\n",
    "num = 1234.56789\n",
    "formatted_num = \"%.2f\" % num  # Rounds to 2 decimal places\n",
    "print(formatted_num)  # Output: 1234.57\n",
    "\n",
    "\n",
    "### 4. Adding commas as thousand separators\n",
    "# You can format numbers with commas for better readability:\n",
    "\n",
    "num = 1234567.89\n",
    "formatted_num = f\"{num:,.2f}\"  # Adds commas and rounds to 2 decimal places\n",
    "print(formatted_num)  # Output: 1,234,567.89\n",
    "\n"
   ]
  },
  {
   "cell_type": "code",
   "execution_count": 76,
   "metadata": {},
   "outputs": [
    {
     "name": "stdout",
     "output_type": "stream",
     "text": [
      "₹ 12,34,567.89\n",
      "12,34,567\n",
      "12,34,567.899900\n",
      "<class 'str'>\n",
      "12,34,567.90\n"
     ]
    }
   ],
   "source": [
    "### 5. Formatting as currency\n",
    "# For currency formatting, you can use the `locale` module:\n",
    "\n",
    "import locale\n",
    "\n",
    "locale.setlocale(locale.LC_ALL, 'en_IN.UTF-8')  \n",
    "# This line sets the locale to Indian (en_IN.UTF-8). \n",
    "# The LC_ALL parameter ensures that all locale settings (number formatting, date/time formatting, etc.) are set to the specified locale\n",
    "amount = 1234567.89\n",
    "formatted_amount = locale.currency(amount, grouping=True)\n",
    "# The locale.currency() function formats the number as currency. \n",
    "# The grouping=True parameter ensures that the number is grouped according to the locale’s conventions (e.g., adding commas).\n",
    "print((formatted_amount))  # Output: ₹ 12,34,567.89\n",
    "\n",
    "#------------------------------\n",
    "# to format number in indian format\n",
    "\n",
    "number = 1234567.8999\n",
    "\n",
    "# Format the number with Indian-style comma separators\n",
    "formatted_number = locale.format_string(\"%d\", number, grouping=True)\n",
    "# In the context of string formatting in Python, the %d format specifier is used to format integers.\n",
    "# The d stands for decimal integer. It tells Python to format the number as a base-10 integer.\n",
    "print(formatted_number)  # Output: 12,34,567\n",
    "\n",
    "# For floating-point numbers\n",
    "formatted_number_float = locale.format_string(\"%f\", number, grouping=True)\n",
    "print(formatted_number_float)  # Output: 12,34,567.890000\n",
    "\n",
    "formatted_number_float = locale.format_string(\"%.2f\", number, grouping=True)\n",
    "print(type(formatted_number_float))\n",
    "print((formatted_number_float))  # Output: 12,34,567.90\n",
    "\n",
    "\n",
    "## info abt %\n",
    "# In this context, the % symbol is a formatting operator. It is used to embed variables within a string template, allowing for dynamic string creation.\n",
    "    \n",
    "    # %d: This specifier is used for formatting decimal integers. It tells Python to format the number as a base-10 integer.\n",
    "\n",
    "    # %f: This specifier is used for formatting floating-point numbers. It tells Python to format the number as a floating-point value.\n",
    "\n",
    "\n",
    "# %s is a placeholder for a string.\n",
    "# %d is a placeholder for a decimal integer\n",
    "\n",
    "name = \"Alice\"\n",
    "age = 30\n",
    "formatted_string = \"My name is %s and I am %d years old.\" % (name, age)\n",
    "print(formatted_string)  # Output: My name is Alice and I am 30 years old.\n"
   ]
  },
  {
   "cell_type": "code",
   "execution_count": 77,
   "metadata": {},
   "outputs": [
    {
     "data": {
      "text/plain": [
       "'dcba'"
      ]
     },
     "execution_count": 77,
     "metadata": {},
     "output_type": "execute_result"
    }
   ],
   "source": [
    "# reverse a string\n",
    "\n",
    "def reverse_string(str1):\n",
    "    return ''.join(reversed(str1))\n",
    "# or-----------\n",
    "'abcd'[::-1]"
   ]
  },
  {
   "cell_type": "code",
   "execution_count": 93,
   "metadata": {},
   "outputs": [
    {
     "name": "stdout",
     "output_type": "stream",
     "text": [
      " dog. lazy the over jumps fox brown quick The\n",
      "dog good a is he\n"
     ]
    }
   ],
   "source": [
    "# Reverse words in a string\n",
    "\n",
    "def rev_words(string):\n",
    "    reversed_lines = []\n",
    "    for line in string.split('\\n'):\n",
    "        new_string = ' '.join(line.split(' ')[::-1])\n",
    "        reversed_lines.append(new_string)\n",
    "    return '\\n'.join(reversed_lines)\n",
    "\n",
    "os = '''The quick brown fox jumps over the lazy dog. \n",
    "he is a good dog'''\n",
    "print(rev_words(os))\n",
    "\n",
    "## using join\n",
    "items = [1, 2, 3, 4.5, True]\n",
    "joined_string = ' '.join(map(str, items))\n",
    "print(joined_string)  # Output: 1 2 3 4.5 True\n"
   ]
  },
  {
   "cell_type": "markdown",
   "metadata": {},
   "source": [
    "### w3 python practice"
   ]
  },
  {
   "cell_type": "markdown",
   "metadata": {},
   "source": [
    "#### strings"
   ]
  },
  {
   "cell_type": "code",
   "execution_count": 4,
   "metadata": {},
   "outputs": [
    {
     "name": "stdout",
     "output_type": "stream",
     "text": [
      "{'g': 2, 'o': 3, 'l': 1, 'e': 1, '.': 1, 'c': 1, 'm': 1}\n"
     ]
    }
   ],
   "source": [
    "# Python: Count the number of characters (character frequency) in a string\n",
    "st='google.com'\n",
    "ct={}\n",
    "for s in st:\n",
    "    if s in ct.keys():\n",
    "        ct[s]+=1\n",
    "    else:\n",
    "        ct[s]=1\n",
    "print(ct)\n"
   ]
  },
  {
   "cell_type": "code",
   "execution_count": 9,
   "metadata": {},
   "outputs": [
    {
     "name": "stdout",
     "output_type": "stream",
     "text": [
      "w3ce\n"
     ]
    }
   ],
   "source": [
    "#  Write a Python program to get a string made of the first 2 and last 2 characters of a given string. If the string length is less than 2, return the empty string instead.\n",
    "ss='w3resource'\n",
    "res=''\n",
    "if len(ss)>=2:\n",
    "    res+=ss[0:2]+ss[-2:]\n",
    "print(res)\n",
    "\n"
   ]
  },
  {
   "cell_type": "code",
   "execution_count": 13,
   "metadata": {},
   "outputs": [
    {
     "name": "stdout",
     "output_type": "stream",
     "text": [
      "resta$t\n"
     ]
    },
    {
     "data": {
      "text/plain": [
       "'resta$t'"
      ]
     },
     "execution_count": 13,
     "metadata": {},
     "output_type": "execute_result"
    }
   ],
   "source": [
    "# Write a  Python program to get a string from a given string where all occurrences of its first char have been changed to '$', except the first char itself.\n",
    "ss='restart'    #>'resta$t'\n",
    "l=[]\n",
    "ch0=ss[0]\n",
    "res=''\n",
    "for s in ss:\n",
    "    if s==ch0 and s not in l:\n",
    "        res+=s\n",
    "        l.append(s)\n",
    "    elif s==ch0 and s in l:\n",
    "        res+='$'\n",
    "    else:\n",
    "        res+=s\n",
    "\n",
    "print(res)\n",
    "\n",
    "# ----------or-------------\n",
    "res=ss.replace(ch0,'$')\n",
    "res=ch0+res[1:]\n",
    "res"
   ]
  },
  {
   "cell_type": "code",
   "execution_count": 15,
   "metadata": {},
   "outputs": [
    {
     "name": "stdout",
     "output_type": "stream",
     "text": [
      "xyc abz\n"
     ]
    }
   ],
   "source": [
    "# Write a  Python program to get a single string from two given strings, separated by a space and swap the first two characters of each string.\n",
    "str1='abc'\n",
    "str2='xyz'\n",
    "temp=str1\n",
    "str1=str2[0:2]+str1[2:]\n",
    "str2=temp[0:2]+str2[2:]\n",
    "print(str1, str2)"
   ]
  },
  {
   "cell_type": "code",
   "execution_count": 20,
   "metadata": {},
   "outputs": [
    {
     "name": "stdout",
     "output_type": "stream",
     "text": [
      "ab\n"
     ]
    }
   ],
   "source": [
    "str1='ab'\n",
    "if len(str1)>=3 and str1[-3:]=='ing':\n",
    "    str1=str1+'ly'\n",
    "elif len(str1)>=3:\n",
    "    str1=str1+'ing'\n",
    "\n",
    "print(str1)\n"
   ]
  },
  {
   "cell_type": "code",
   "execution_count": 27,
   "metadata": {},
   "outputs": [
    {
     "name": "stdout",
     "output_type": "stream",
     "text": [
      "The lyrics is no.t that poor!\n"
     ]
    }
   ],
   "source": [
    "# Write a Python program to find the first appearance of the substrings 'not' and 'poor' in a given string. If 'not' follows 'poor', replace the whole 'not'...'poor' substring with 'good'. Return the resulting string.\n",
    "\n",
    "str1='The lyrics is no.t that poor!'\n",
    "not_pos=str1.find('not')\n",
    "poor_pos=str1.find('poor')\n",
    "\n",
    "if not_pos>0 and poor_pos>0 and not_pos<poor_pos:\n",
    "    str1=str1.replace(str1[not_pos:poor_pos+4], 'good')\n",
    "print(str1)\n"
   ]
  },
  {
   "cell_type": "code",
   "execution_count": 31,
   "metadata": {},
   "outputs": [
    {
     "data": {
      "text/plain": [
       "'pyton'"
      ]
     },
     "execution_count": 31,
     "metadata": {},
     "output_type": "execute_result"
    }
   ],
   "source": [
    "str1='python'\n",
    "ch_n=str1[3]\n",
    "str1.replace(ch_n, '')"
   ]
  },
  {
   "cell_type": "code",
   "execution_count": 39,
   "metadata": {},
   "outputs": [
    {
     "data": {
      "text/plain": [
       "{'this': 1,\n",
       " 'is': 2,\n",
       " 'the': 2,\n",
       " 'working': 1,\n",
       " 'of': 1,\n",
       " 'new': 1,\n",
       " 'artist.': 1,\n",
       " 'He': 1,\n",
       " 'good': 1,\n",
       " 'in': 1,\n",
       " 'his': 1,\n",
       " 'art.': 1}"
      ]
     },
     "execution_count": 39,
     "metadata": {},
     "output_type": "execute_result"
    }
   ],
   "source": [
    "#  Write a Python program to count the occurrences of each word in a given sentence.\n",
    "ss='this is the working of the new artist. He is good in his art.'\n",
    "ssl = ss.split()\n",
    "# print(type(ssl))    #>list\n",
    "ssd={}\n",
    "for w in ssl:\n",
    "    # print(w, end='--')\n",
    "    if w in ssd.keys():\n",
    "        ssd[w]+=1\n",
    "    else:\n",
    "        ssd[w]=1\n",
    "ssd"
   ]
  },
  {
   "cell_type": "code",
   "execution_count": 46,
   "metadata": {},
   "outputs": [
    {
     "data": {
      "text/plain": [
       "['amit', 'mohan', 'ram', 'shyam', 'sunil']"
      ]
     },
     "execution_count": 46,
     "metadata": {},
     "output_type": "execute_result"
    }
   ],
   "source": [
    "# Write a Python program that accepts a comma-separated sequence of words as input and prints the distinct words in sorted form (alphanumerically).\n",
    "\n",
    "# all_words=input()\n",
    "all_words='ram,mohan,shyam,sunil,amit'\n",
    "words_list=all_words.split(',')\n",
    "words_list.sort()\n",
    "words_list"
   ]
  },
  {
   "cell_type": "code",
   "execution_count": 47,
   "metadata": {},
   "outputs": [
    {
     "name": "stdout",
     "output_type": "stream",
     "text": [
      "\n",
      "   Python is a widely used high-level, general-\n",
      "purpose, interpreted,   dynamic programming\n",
      "language. Its design philosophy emphasizes   code\n",
      "readability, and its syntax allows programmers to\n",
      "express   concepts in fewer lines of code than\n",
      "possible in languages such   as C++ or Java.\n",
      "\n"
     ]
    }
   ],
   "source": [
    "# Import the 'textwrap' module, which provides text formatting capabilities.\n",
    "import textwrap\n",
    "# Define a multi-line string 'sample_text' with a text content.\n",
    "sample_text = '''\n",
    "  Python is a widely used high-level, general-purpose, interpreted,\n",
    "  dynamic programming language. Its design philosophy emphasizes\n",
    "  code readability, and its syntax allows programmers to express\n",
    "  concepts in fewer lines of code than possible in languages such\n",
    "  as C++ or Java.\n",
    "  '''\n",
    "\n",
    "# Print an empty line for spacing.\n",
    "print()\n",
    "\n",
    "# Use the 'textwrap.fill' function to format the 'sample_text' with a line width of 50 characters.\n",
    "# This function wraps the text to fit within the specified width and prints the result.\n",
    "print(textwrap.fill(sample_text, width=50))\n",
    "\n",
    "# Print an empty line for spacing.\n",
    "print()\n"
   ]
  },
  {
   "cell_type": "code",
   "execution_count": 65,
   "metadata": {},
   "outputs": [],
   "source": [
    "# Write a  Python program to create a Caesar encryption.\n",
    "# https://www.w3resource.com/python-exercises/string/python-data-type-string-exercise-25.php\n"
   ]
  },
  {
   "cell_type": "code",
   "execution_count": null,
   "metadata": {},
   "outputs": [],
   "source": []
  },
  {
   "cell_type": "code",
   "execution_count": null,
   "metadata": {},
   "outputs": [],
   "source": []
  },
  {
   "cell_type": "code",
   "execution_count": null,
   "metadata": {},
   "outputs": [],
   "source": []
  },
  {
   "cell_type": "markdown",
   "metadata": {},
   "source": [
    "### OOPS\n",
    "---"
   ]
  },
  {
   "cell_type": "code",
   "execution_count": 1,
   "metadata": {},
   "outputs": [],
   "source": [
    "import pandas as pd\n",
    "from IPython.core.interactiveshell import InteractiveShell\n",
    "InteractiveShell.ast_node_interactivity = 'all'"
   ]
  },
  {
   "cell_type": "code",
   "execution_count": null,
   "metadata": {},
   "outputs": [],
   "source": [
    "# data and functions associated with a class are called Attributes and methods.\n",
    "# instance of a class is automatically passed to the method of that class like below emp1.full_name()\n",
    "# here emp1 is automatically passed as argument to the full_name method\n",
    "# so emp1.full_name() is same as Employee.full_name(emp1)"
   ]
  },
  {
   "cell_type": "code",
   "execution_count": null,
   "metadata": {},
   "outputs": [],
   "source": [
    "# class variables:\n",
    "    # these are the variables that are shared among each instance of the class.\n",
    "    # let the company gives the raise to all the employees each year which is same for all the employees then raise can be described by class variable.\n",
    "# accessing the class variable:\n",
    "    # the class variables are accessed through the class (Employee.raise_amout) or through the instance(self.raise_amount)\n"
   ]
  },
  {
   "cell_type": "code",
   "execution_count": 5,
   "metadata": {},
   "outputs": [
    {
     "data": {
      "text/plain": [
       "2"
      ]
     },
     "execution_count": 5,
     "metadata": {},
     "output_type": "execute_result"
    },
    {
     "data": {
      "text/plain": [
       "1.07"
      ]
     },
     "execution_count": 5,
     "metadata": {},
     "output_type": "execute_result"
    },
    {
     "data": {
      "text/plain": [
       "'John.Doe@gmail.com'"
      ]
     },
     "execution_count": 5,
     "metadata": {},
     "output_type": "execute_result"
    }
   ],
   "source": [
    "class Employee():\n",
    "    \n",
    "    raise_amount=1.04\n",
    "    num_of_emps=0\n",
    "    def __init__(self, f_name, l_name, pay):\n",
    "        self.f_name=f_name\n",
    "        self.l_name=l_name\n",
    "        self.pay=pay\n",
    "        self.email=f'{f_name}.{l_name}@gmail.com'\n",
    "        Employee.num_of_emps+=1\n",
    "        \n",
    "    def full_name(self):\n",
    "        return f'{self.f_name} {self.l_name}'\n",
    "    \n",
    "    def apply_raise(self):\n",
    "        self.pay = int(self.pay*self.raise_amount)\n",
    "        \n",
    "    @classmethod\n",
    "    def set_raise_amount(cls, amount):\n",
    "        cls.raise_amount=amount\n",
    "        \n",
    "    @classmethod\n",
    "    def from_string(cls, emp_str):\n",
    "        first, last, pay = emp_str.split('-')\n",
    "        return cls(first, last, pay)    #Employee(first, last, pay) is replaced by cls(first, last, pay)\n",
    "    \n",
    "emp1=Employee('Ram','Singh', 50000)\n",
    "emp2=Employee('Mohan','Singh', 50000)\n",
    "Employee.num_of_emps\n",
    "\n",
    "# print(emp1)\n",
    "# emp1.f_name\n",
    "# emp1.l_name\n",
    "# emp1.email\n",
    "# emp1.full_name()\n",
    "# emp1.pay\n",
    "# emp1.apply_raise()\n",
    "# emp1.pay\n",
    "# Employee.raise_amount\n",
    "# emp1.raise_amount\n",
    "# emp2.raise_amount\n",
    "# emp1.__dict__   # prints out the namespace of emp1\n",
    "# Employee.__dict__\n",
    "\n",
    "# Employee.raise_amount=1.05\n",
    "# Employee.raise_amount\n",
    "# emp1.raise_amount\n",
    "# emp2.raise_amount\n",
    "\n",
    "# emp1.raise_amount=1.06  # this will add raise_amount to the namespace of the emp1\n",
    "# Employee.raise_amount\n",
    "# emp1.raise_amount\n",
    "# emp2.raise_amount\n",
    "\n",
    "# using class method\n",
    "# class method can called with the class or the instance but generally not used with instance.\n",
    "Employee.set_raise_amount(1.07)\n",
    "Employee.raise_amount\n",
    "# emp1.raise_amount\n",
    "# emp2.raise_amount\n",
    "\n",
    "# emp1.set_raise_amount=1.07 # not recommended\n",
    "#----------------\n",
    "new_emp1 = Employee.from_string('John-Doe-7000')\n",
    "new_emp1.email"
   ]
  },
  {
   "cell_type": "code",
   "execution_count": null,
   "metadata": {},
   "outputs": [],
   "source": []
  },
  {
   "cell_type": "code",
   "execution_count": null,
   "metadata": {},
   "outputs": [],
   "source": [
    "import pandas as pd\n",
    "from IPython.core.interactiveshell import InteractiveShell\n",
    "InteractiveShell.ast_node_interactivity = 'all'"
   ]
  },
  {
   "cell_type": "markdown",
   "metadata": {},
   "source": [
    "### GFG SEARCHING\n",
    "---"
   ]
  },
  {
   "cell_type": "code",
   "execution_count": null,
   "metadata": {},
   "outputs": [],
   "source": [
    "'''\n",
    "Big O notation (O) and Theta notation (Θ) are both used to describe the asymptotic behavior of functions, particularly in the context of algorithm analysis. However, they are used in slightly different ways:\n",
    "\n",
    "### Big O (O)\n",
    "- **Definition**: Big O notation describes an upper bound on the growth rate of a function. It gives an upper limit on the time or space complexity of an algorithm, meaning the algorithm will not grow faster than this rate.\n",
    "- **Example**: If an algorithm's time complexity is \\(O(\\log n)\\), it means that, in the worst case, the running time will grow at most as fast as \\(\\log n\\).\n",
    "\n",
    "### Theta (Θ)\n",
    "- **Definition**: Theta notation describes both an upper and a lower bound on the growth rate of a function. It provides a tight bound, meaning the function grows at the same rate both asymptotically from above and below.\n",
    "- **Example**: If an algorithm's time complexity is \\(\\Theta(\\log n)\\), it means that the running time grows exactly as \\(\\log n\\), not faster and not slower.\n",
    "\n",
    "### Comparison\n",
    "- **O(log n)**: This means the algorithm's running time will not exceed a logarithmic growth rate. There could be other factors involved, but \\(\\log n\\) is the upper bound.\n",
    "- **Θ(log n)**: This means the algorithm's running time grows exactly at a logarithmic rate. Both the upper and lower bounds of the running time are \\(\\log n\\).\n",
    "\n",
    "In summary:\n",
    "- **O(log n)**: Provides an upper bound.\n",
    "- **Θ(log n)**: Provides both an upper and a lower bound, indicating a precise growth rate.\n",
    "\n",
    "If you see \\(\\Theta(\\log n)\\), you know that the algorithm's running time is tightly bounded to \\(\\log n\\). If you see \\(O(\\log n)\\), the running time could be \\(\\log n\\) or possibly smaller, but it will not be larger than \\(\\log n\\).\n",
    "'''"
   ]
  },
  {
   "cell_type": "markdown",
   "metadata": {},
   "source": [
    "#### index of first occurance"
   ]
  },
  {
   "cell_type": "code",
   "execution_count": null,
   "metadata": {},
   "outputs": [
    {
     "name": "stdout",
     "output_type": "stream",
     "text": [
      "1\n"
     ]
    }
   ],
   "source": [
    "# given an array arr find the first index of x\n",
    "arr = [1,10,10,10,20,20,4]\n",
    "x = 10\n",
    "\n",
    "l=0\n",
    "h=len(arr)-1\n",
    "mid=(l+h)//2\n",
    "current_min_idx=None\n",
    "while l<=h:\n",
    "    if x==arr[mid]:\n",
    "        if current_min_idx==None or current_min_idx>mid:\n",
    "            current_min_idx=mid\n",
    "            h=mid-1\n",
    "        # print(mid)\n",
    "    elif x<arr[mid]:\n",
    "        h=mid-1\n",
    "    elif x>arr[mid]:\n",
    "        l=mid+1\n",
    "\n",
    "    mid=(l+h)//2\n",
    "\n",
    "if current_min_idx==None:\n",
    "    print(-1)\n",
    "else:\n",
    "    print(current_min_idx)\n"
   ]
  }
 ],
 "metadata": {
  "kernelspec": {
   "display_name": "base",
   "language": "python",
   "name": "python3"
  },
  "language_info": {
   "codemirror_mode": {
    "name": "ipython",
    "version": 3
   },
   "file_extension": ".py",
   "mimetype": "text/x-python",
   "name": "python",
   "nbconvert_exporter": "python",
   "pygments_lexer": "ipython3",
   "version": "3.9.7"
  }
 },
 "nbformat": 4,
 "nbformat_minor": 2
}
