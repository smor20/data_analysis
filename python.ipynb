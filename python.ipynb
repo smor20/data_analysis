{
 "cells": [
  {
   "cell_type": "markdown",
   "metadata": {},
   "source": [
    "### OOPS\n",
    "---"
   ]
  },
  {
   "cell_type": "code",
   "execution_count": 1,
   "metadata": {},
   "outputs": [],
   "source": [
    "import pandas as pd\n",
    "from IPython.core.interactiveshell import InteractiveShell\n",
    "InteractiveShell.ast_node_interactivity = 'all'"
   ]
  },
  {
   "cell_type": "code",
   "execution_count": null,
   "metadata": {},
   "outputs": [],
   "source": [
    "# data and functions associated with a class are called Attributes and methods.\n",
    "# instance of a class is automatically passed to the method of that class like below emp1.full_name()\n",
    "# here emp1 is automatically passed as argument to the full_name method\n",
    "# so emp1.full_name() is same as Employee.full_name(emp1)"
   ]
  },
  {
   "cell_type": "code",
   "execution_count": null,
   "metadata": {},
   "outputs": [],
   "source": [
    "# class variables:\n",
    "    # these are the variables that are shared among each instance of the class.\n",
    "    # let the company gives the raise to all the employees each year which is same for all the employees then raise can be described by class variable.\n",
    "# accessing the class variable:\n",
    "    # the class variables are accessed through the class (Employee.raise_amout) or through the instance(self.raise_amount)\n"
   ]
  },
  {
   "cell_type": "code",
   "execution_count": 5,
   "metadata": {},
   "outputs": [
    {
     "data": {
      "text/plain": [
       "2"
      ]
     },
     "execution_count": 5,
     "metadata": {},
     "output_type": "execute_result"
    },
    {
     "data": {
      "text/plain": [
       "1.07"
      ]
     },
     "execution_count": 5,
     "metadata": {},
     "output_type": "execute_result"
    },
    {
     "data": {
      "text/plain": [
       "'John.Doe@gmail.com'"
      ]
     },
     "execution_count": 5,
     "metadata": {},
     "output_type": "execute_result"
    }
   ],
   "source": [
    "class Employee():\n",
    "    \n",
    "    raise_amount=1.04\n",
    "    num_of_emps=0\n",
    "    def __init__(self, f_name, l_name, pay):\n",
    "        self.f_name=f_name\n",
    "        self.l_name=l_name\n",
    "        self.pay=pay\n",
    "        self.email=f'{f_name}.{l_name}@gmail.com'\n",
    "        Employee.num_of_emps+=1\n",
    "        \n",
    "    def full_name(self):\n",
    "        return f'{self.f_name} {self.l_name}'\n",
    "    \n",
    "    def apply_raise(self):\n",
    "        self.pay = int(self.pay*self.raise_amount)\n",
    "        \n",
    "    @classmethod\n",
    "    def set_raise_amount(cls, amount):\n",
    "        cls.raise_amount=amount\n",
    "        \n",
    "    @classmethod\n",
    "    def from_string(cls, emp_str):\n",
    "        first, last, pay = emp_str.split('-')\n",
    "        return cls(first, last, pay)    #Employee(first, last, pay) is replaced by cls(first, last, pay)\n",
    "    \n",
    "emp1=Employee('Ram','Singh', 50000)\n",
    "emp2=Employee('Mohan','Singh', 50000)\n",
    "Employee.num_of_emps\n",
    "\n",
    "# print(emp1)\n",
    "# emp1.f_name\n",
    "# emp1.l_name\n",
    "# emp1.email\n",
    "# emp1.full_name()\n",
    "# emp1.pay\n",
    "# emp1.apply_raise()\n",
    "# emp1.pay\n",
    "# Employee.raise_amount\n",
    "# emp1.raise_amount\n",
    "# emp2.raise_amount\n",
    "# emp1.__dict__   # prints out the namespace of emp1\n",
    "# Employee.__dict__\n",
    "\n",
    "# Employee.raise_amount=1.05\n",
    "# Employee.raise_amount\n",
    "# emp1.raise_amount\n",
    "# emp2.raise_amount\n",
    "\n",
    "# emp1.raise_amount=1.06  # this will add raise_amount to the namespace of the emp1\n",
    "# Employee.raise_amount\n",
    "# emp1.raise_amount\n",
    "# emp2.raise_amount\n",
    "\n",
    "# using class method\n",
    "# class method can called with the class or the instance but generally not used with instance.\n",
    "Employee.set_raise_amount(1.07)\n",
    "Employee.raise_amount\n",
    "# emp1.raise_amount\n",
    "# emp2.raise_amount\n",
    "\n",
    "# emp1.set_raise_amount=1.07 # not recommended\n",
    "#----------------\n",
    "new_emp1 = Employee.from_string('John-Doe-7000')\n",
    "new_emp1.email"
   ]
  },
  {
   "cell_type": "code",
   "execution_count": null,
   "metadata": {},
   "outputs": [],
   "source": []
  },
  {
   "cell_type": "code",
   "execution_count": null,
   "metadata": {},
   "outputs": [],
   "source": [
    "import pandas as pd\n",
    "from IPython.core.interactiveshell import InteractiveShell\n",
    "InteractiveShell.ast_node_interactivity = 'all'"
   ]
  },
  {
   "cell_type": "markdown",
   "metadata": {},
   "source": [
    "### GFG SEARCHING\n",
    "---"
   ]
  },
  {
   "cell_type": "code",
   "execution_count": null,
   "metadata": {},
   "outputs": [],
   "source": [
    "'''\n",
    "Big O notation (O) and Theta notation (Θ) are both used to describe the asymptotic behavior of functions, particularly in the context of algorithm analysis. However, they are used in slightly different ways:\n",
    "\n",
    "### Big O (O)\n",
    "- **Definition**: Big O notation describes an upper bound on the growth rate of a function. It gives an upper limit on the time or space complexity of an algorithm, meaning the algorithm will not grow faster than this rate.\n",
    "- **Example**: If an algorithm's time complexity is \\(O(\\log n)\\), it means that, in the worst case, the running time will grow at most as fast as \\(\\log n\\).\n",
    "\n",
    "### Theta (Θ)\n",
    "- **Definition**: Theta notation describes both an upper and a lower bound on the growth rate of a function. It provides a tight bound, meaning the function grows at the same rate both asymptotically from above and below.\n",
    "- **Example**: If an algorithm's time complexity is \\(\\Theta(\\log n)\\), it means that the running time grows exactly as \\(\\log n\\), not faster and not slower.\n",
    "\n",
    "### Comparison\n",
    "- **O(log n)**: This means the algorithm's running time will not exceed a logarithmic growth rate. There could be other factors involved, but \\(\\log n\\) is the upper bound.\n",
    "- **Θ(log n)**: This means the algorithm's running time grows exactly at a logarithmic rate. Both the upper and lower bounds of the running time are \\(\\log n\\).\n",
    "\n",
    "In summary:\n",
    "- **O(log n)**: Provides an upper bound.\n",
    "- **Θ(log n)**: Provides both an upper and a lower bound, indicating a precise growth rate.\n",
    "\n",
    "If you see \\(\\Theta(\\log n)\\), you know that the algorithm's running time is tightly bounded to \\(\\log n\\). If you see \\(O(\\log n)\\), the running time could be \\(\\log n\\) or possibly smaller, but it will not be larger than \\(\\log n\\).\n",
    "'''"
   ]
  },
  {
   "cell_type": "markdown",
   "metadata": {},
   "source": [
    "#### index of first occurance"
   ]
  },
  {
   "cell_type": "code",
   "execution_count": null,
   "metadata": {},
   "outputs": [
    {
     "name": "stdout",
     "output_type": "stream",
     "text": [
      "1\n"
     ]
    }
   ],
   "source": [
    "# given an array arr find the first index of x\n",
    "arr = [1,10,10,10,20,20,4]\n",
    "x = 10\n",
    "\n",
    "l=0\n",
    "h=len(arr)-1\n",
    "mid=(l+h)//2\n",
    "current_min_idx=None\n",
    "while l<=h:\n",
    "    if x==arr[mid]:\n",
    "        if current_min_idx==None or current_min_idx>mid:\n",
    "            current_min_idx=mid\n",
    "            h=mid-1\n",
    "        # print(mid)\n",
    "    elif x<arr[mid]:\n",
    "        h=mid-1\n",
    "    elif x>arr[mid]:\n",
    "        l=mid+1\n",
    "\n",
    "    mid=(l+h)//2\n",
    "\n",
    "if current_min_idx==None:\n",
    "    print(-1)\n",
    "else:\n",
    "    print(current_min_idx)\n"
   ]
  }
 ],
 "metadata": {
  "kernelspec": {
   "display_name": "base",
   "language": "python",
   "name": "python3"
  },
  "language_info": {
   "codemirror_mode": {
    "name": "ipython",
    "version": 3
   },
   "file_extension": ".py",
   "mimetype": "text/x-python",
   "name": "python",
   "nbconvert_exporter": "python",
   "pygments_lexer": "ipython3",
   "version": "3.9.7"
  }
 },
 "nbformat": 4,
 "nbformat_minor": 2
}
