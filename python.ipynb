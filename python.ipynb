{
 "cells": [
  {
   "cell_type": "markdown",
   "metadata": {},
   "source": [
    "### Arrays"
   ]
  },
  {
   "cell_type": "markdown",
   "metadata": {},
   "source": [
    "#### [span of an array](https://www.youtube.com/watch?v=1SsXm5TI8W4&list=PL-Jc9J83PIiFj7YSPl2ulcpwy-mwj1SSk&index=94)"
   ]
  },
  {
   "cell_type": "code",
   "execution_count": 2,
   "metadata": {},
   "outputs": [
    {
     "name": "stdout",
     "output_type": "stream",
     "text": [
      "7\n"
     ]
    }
   ],
   "source": [
    "def arr_span(arr):\n",
    "    max_val = None\n",
    "    min_val = None\n",
    "    \n",
    "    for i in arr:\n",
    "        if max_val is None or i > max_val:\n",
    "            max_val = i\n",
    "        if min_val is None or i < min_val:\n",
    "            min_val = i\n",
    "    \n",
    "    if max_val is not None and min_val is not None:\n",
    "        print(max_val - min_val)\n",
    "    else:\n",
    "        print(\"Array is empty\")\n",
    "\n",
    "arr_span([2, 3, 5, 9])\n"
   ]
  },
  {
   "cell_type": "markdown",
   "metadata": {},
   "source": [
    "#### [find index of occurance](https://www.youtube.com/watch?v=3AcyounXhfg&list=PL-Jc9J83PIiFj7YSPl2ulcpwy-mwj1SSk&index=96)"
   ]
  },
  {
   "cell_type": "code",
   "execution_count": 4,
   "metadata": {},
   "outputs": [
    {
     "data": {
      "text/plain": [
       "-1"
      ]
     },
     "execution_count": 4,
     "metadata": {},
     "output_type": "execute_result"
    }
   ],
   "source": [
    "def find_index(arr, element):\n",
    "    for i in range(len(arr)):\n",
    "        if arr[i]==element:\n",
    "            return i\n",
    "    \n",
    "    return -1\n",
    "\n",
    "find_index([2,33,56,78],303) \n",
    "    "
   ]
  },
  {
   "cell_type": "markdown",
   "metadata": {},
   "source": [
    "#### [Bar Chart](https://www.youtube.com/watch?v=L-0IxqvYQKs&list=PL-Jc9J83PIiFj7YSPl2ulcpwy-mwj1SSk&index=98)"
   ]
  },
  {
   "cell_type": "code",
   "execution_count": 10,
   "metadata": {},
   "outputs": [
    {
     "name": "stdout",
     "output_type": "stream",
     "text": [
      "      *   \n",
      "      *   \n",
      "      * * \n",
      "      * * \n",
      "*     * * \n",
      "*     * * \n",
      "* *   * * \n"
     ]
    }
   ],
   "source": [
    "# print a vertical bar chart of stars representing the values of an array.\n",
    "\n",
    "def print_bar(arr):\n",
    "    ht=max(arr)\n",
    "    for i in range(ht,0,-1):\n",
    "        # print(i)\n",
    "        for j in arr:\n",
    "            # print()\n",
    "            if i-j<=0:\n",
    "                print('*', end=' ')\n",
    "            else:\n",
    "                print(' ', end=' ')\n",
    "        print()\n",
    "print_bar([3,1,0,7,5])\n",
    "    "
   ]
  },
  {
   "cell_type": "markdown",
   "metadata": {},
   "source": [
    "#### [sum of 2 arrays](https://www.youtube.com/watch?v=BzJK1zNXwcU&list=PL-Jc9J83PIiFj7YSPl2ulcpwy-mwj1SSk&index=100)"
   ]
  },
  {
   "cell_type": "code",
   "execution_count": 60,
   "metadata": {},
   "outputs": [
    {
     "name": "stdout",
     "output_type": "stream",
     "text": [
      "rem 0\n",
      "7\n",
      "9 8 1 7 1\n",
      "rem 1\n",
      "27\n",
      "9 2 10 2 1\n",
      "rem 1\n",
      "27\n",
      "9 0 100 0 1\n"
     ]
    },
    {
     "data": {
      "text/plain": [
       "1027"
      ]
     },
     "execution_count": 60,
     "metadata": {},
     "output_type": "execute_result"
    }
   ],
   "source": [
    "def arr_sum(arr1, arr2):\n",
    "\n",
    "    if len(arr1)>len(arr2):\n",
    "        for i in range(len(arr1)-len(arr2)):\n",
    "            arr2.insert(0,0)\n",
    "            \n",
    "    if len(arr2)>len(arr1):\n",
    "        for i in range(len(arr2)-len(arr1)):\n",
    "            arr1.insert(0,0)\n",
    "            \n",
    "\n",
    "    res=0\n",
    "    rem=0\n",
    "    for i in range(len(arr1)-1,-1,-1):\n",
    "        print('rem',rem)\n",
    "        total=arr1[i]+arr2[i]+rem\n",
    "        rem=0\n",
    "        unit=total%10\n",
    "        multiplier= (10**(len(arr1)-i-1))\n",
    "        # if i==len(arr1)-1:\n",
    "        res+=multiplier*unit\n",
    "        rem=total//10\n",
    "        print(res)\n",
    "        print(arr1[i],arr2[i],multiplier,unit,rem)\n",
    "        # else:\n",
    "        #     res+=(multiplier*unit+rem)\n",
    "    if rem>0:\n",
    "        res+=multiplier*10*rem\n",
    "    return(res)\n",
    "\n",
    "\n",
    "arr1=[9,9,9]\n",
    "arr2=[2,8]\n",
    "arr_sum(arr1, arr2)\n",
    "\n",
    "        "
   ]
  },
  {
   "cell_type": "code",
   "execution_count": 31,
   "metadata": {},
   "outputs": [
    {
     "data": {
      "text/plain": [
       "0"
      ]
     },
     "execution_count": 31,
     "metadata": {},
     "output_type": "execute_result"
    }
   ],
   "source": [
    "6//10"
   ]
  },
  {
   "cell_type": "markdown",
   "metadata": {},
   "source": [
    "### OOPS"
   ]
  },
  {
   "cell_type": "code",
   "execution_count": 1,
   "metadata": {},
   "outputs": [],
   "source": [
    "import pandas as pd\n",
    "from IPython.core.interactiveshell import InteractiveShell\n",
    "InteractiveShell.ast_node_interactivity = 'all'"
   ]
  },
  {
   "cell_type": "code",
   "execution_count": null,
   "metadata": {},
   "outputs": [],
   "source": [
    "# data and functions associated with a class are called Attributes and methods.\n",
    "# instance of a class is automatically passed to the method of that class like below emp1.full_name()\n",
    "# here emp1 is automatically passed as argument to the full_name method\n",
    "# so emp1.full_name() is same as Employee.full_name(emp1)"
   ]
  },
  {
   "cell_type": "code",
   "execution_count": null,
   "metadata": {},
   "outputs": [],
   "source": [
    "# class variables:\n",
    "    # these are the variables that are shared among each instance of the class.\n",
    "    # let the company gives the raise to all the employees each year which is same for all the employees then raise can be described by class variable.\n",
    "# accessing the class variable:\n",
    "    # the class variables are accessed through the class (Employee.raise_amout) or through the instance(self.raise_amount)\n"
   ]
  },
  {
   "cell_type": "code",
   "execution_count": 5,
   "metadata": {},
   "outputs": [
    {
     "data": {
      "text/plain": [
       "2"
      ]
     },
     "execution_count": 5,
     "metadata": {},
     "output_type": "execute_result"
    },
    {
     "data": {
      "text/plain": [
       "1.07"
      ]
     },
     "execution_count": 5,
     "metadata": {},
     "output_type": "execute_result"
    },
    {
     "data": {
      "text/plain": [
       "'John.Doe@gmail.com'"
      ]
     },
     "execution_count": 5,
     "metadata": {},
     "output_type": "execute_result"
    }
   ],
   "source": [
    "class Employee():\n",
    "    \n",
    "    raise_amount=1.04\n",
    "    num_of_emps=0\n",
    "    def __init__(self, f_name, l_name, pay):\n",
    "        self.f_name=f_name\n",
    "        self.l_name=l_name\n",
    "        self.pay=pay\n",
    "        self.email=f'{f_name}.{l_name}@gmail.com'\n",
    "        Employee.num_of_emps+=1\n",
    "        \n",
    "    def full_name(self):\n",
    "        return f'{self.f_name} {self.l_name}'\n",
    "    \n",
    "    def apply_raise(self):\n",
    "        self.pay = int(self.pay*self.raise_amount)\n",
    "        \n",
    "    @classmethod\n",
    "    def set_raise_amount(cls, amount):\n",
    "        cls.raise_amount=amount\n",
    "        \n",
    "    @classmethod\n",
    "    def from_string(cls, emp_str):\n",
    "        first, last, pay = emp_str.split('-')\n",
    "        return cls(first, last, pay)    #Employee(first, last, pay) is replaced by cls(first, last, pay)\n",
    "    \n",
    "emp1=Employee('Ram','Singh', 50000)\n",
    "emp2=Employee('Mohan','Singh', 50000)\n",
    "Employee.num_of_emps\n",
    "\n",
    "# print(emp1)\n",
    "# emp1.f_name\n",
    "# emp1.l_name\n",
    "# emp1.email\n",
    "# emp1.full_name()\n",
    "# emp1.pay\n",
    "# emp1.apply_raise()\n",
    "# emp1.pay\n",
    "# Employee.raise_amount\n",
    "# emp1.raise_amount\n",
    "# emp2.raise_amount\n",
    "# emp1.__dict__   # prints out the namespace of emp1\n",
    "# Employee.__dict__\n",
    "\n",
    "# Employee.raise_amount=1.05\n",
    "# Employee.raise_amount\n",
    "# emp1.raise_amount\n",
    "# emp2.raise_amount\n",
    "\n",
    "# emp1.raise_amount=1.06  # this will add raise_amount to the namespace of the emp1\n",
    "# Employee.raise_amount\n",
    "# emp1.raise_amount\n",
    "# emp2.raise_amount\n",
    "\n",
    "# using class method\n",
    "# class method can called with the class or the instance but generally not used with instance.\n",
    "Employee.set_raise_amount(1.07)\n",
    "Employee.raise_amount\n",
    "# emp1.raise_amount\n",
    "# emp2.raise_amount\n",
    "\n",
    "# emp1.set_raise_amount=1.07 # not recommended\n",
    "#----------------\n",
    "new_emp1 = Employee.from_string('John-Doe-7000')\n",
    "new_emp1.email"
   ]
  },
  {
   "cell_type": "code",
   "execution_count": null,
   "metadata": {},
   "outputs": [],
   "source": []
  }
 ],
 "metadata": {
  "kernelspec": {
   "display_name": "base",
   "language": "python",
   "name": "python3"
  },
  "language_info": {
   "codemirror_mode": {
    "name": "ipython",
    "version": 3
   },
   "file_extension": ".py",
   "mimetype": "text/x-python",
   "name": "python",
   "nbconvert_exporter": "python",
   "pygments_lexer": "ipython3",
   "version": "3.11.3"
  }
 },
 "nbformat": 4,
 "nbformat_minor": 2
}
