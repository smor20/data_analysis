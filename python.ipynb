{
 "cells": [
  {
   "cell_type": "markdown",
   "metadata": {},
   "source": [
    "### OOPS"
   ]
  },
  {
   "cell_type": "code",
   "execution_count": 1,
   "metadata": {},
   "outputs": [],
   "source": [
    "import pandas as pd\n",
    "from IPython.core.interactiveshell import InteractiveShell\n",
    "InteractiveShell.ast_node_interactivity = 'all'"
   ]
  },
  {
   "cell_type": "code",
   "execution_count": null,
   "metadata": {},
   "outputs": [],
   "source": [
    "# data and functions associated with a class are called Attributes and methods.\n",
    "# instance of a class is automatically passed to the method of that class like below emp1.full_name()\n",
    "# here emp1 is automatically passed as argument to the full_name method\n",
    "# so emp1.full_name() is same as Employee.full_name(emp1)"
   ]
  },
  {
   "cell_type": "code",
   "execution_count": null,
   "metadata": {},
   "outputs": [],
   "source": [
    "# class variables:\n",
    "    # these are the variables that are shared among each instance of the class.\n",
    "    # let the company gives the raise to all the employees each year which is same for all the employees then raise can be described by class variable.\n",
    "# accessing the class variable:\n",
    "    # the class variables are accessed through the class (Employee.raise_amout) or through the instance(self.raise_amount)\n"
   ]
  },
  {
   "cell_type": "code",
   "execution_count": 5,
   "metadata": {},
   "outputs": [
    {
     "data": {
      "text/plain": [
       "2"
      ]
     },
     "execution_count": 5,
     "metadata": {},
     "output_type": "execute_result"
    },
    {
     "data": {
      "text/plain": [
       "1.07"
      ]
     },
     "execution_count": 5,
     "metadata": {},
     "output_type": "execute_result"
    },
    {
     "data": {
      "text/plain": [
       "'John.Doe@gmail.com'"
      ]
     },
     "execution_count": 5,
     "metadata": {},
     "output_type": "execute_result"
    }
   ],
   "source": [
    "class Employee():\n",
    "    \n",
    "    raise_amount=1.04\n",
    "    num_of_emps=0\n",
    "    def __init__(self, f_name, l_name, pay):\n",
    "        self.f_name=f_name\n",
    "        self.l_name=l_name\n",
    "        self.pay=pay\n",
    "        self.email=f'{f_name}.{l_name}@gmail.com'\n",
    "        Employee.num_of_emps+=1\n",
    "        \n",
    "    def full_name(self):\n",
    "        return f'{self.f_name} {self.l_name}'\n",
    "    \n",
    "    def apply_raise(self):\n",
    "        self.pay = int(self.pay*self.raise_amount)\n",
    "        \n",
    "    @classmethod\n",
    "    def set_raise_amount(cls, amount):\n",
    "        cls.raise_amount=amount\n",
    "        \n",
    "    @classmethod\n",
    "    def from_string(cls, emp_str):\n",
    "        first, last, pay = emp_str.split('-')\n",
    "        return cls(first, last, pay)    #Employee(first, last, pay) is replaced by cls(first, last, pay)\n",
    "    \n",
    "emp1=Employee('Ram','Singh', 50000)\n",
    "emp2=Employee('Mohan','Singh', 50000)\n",
    "Employee.num_of_emps\n",
    "\n",
    "# print(emp1)\n",
    "# emp1.f_name\n",
    "# emp1.l_name\n",
    "# emp1.email\n",
    "# emp1.full_name()\n",
    "# emp1.pay\n",
    "# emp1.apply_raise()\n",
    "# emp1.pay\n",
    "# Employee.raise_amount\n",
    "# emp1.raise_amount\n",
    "# emp2.raise_amount\n",
    "# emp1.__dict__   # prints out the namespace of emp1\n",
    "# Employee.__dict__\n",
    "\n",
    "# Employee.raise_amount=1.05\n",
    "# Employee.raise_amount\n",
    "# emp1.raise_amount\n",
    "# emp2.raise_amount\n",
    "\n",
    "# emp1.raise_amount=1.06  # this will add raise_amount to the namespace of the emp1\n",
    "# Employee.raise_amount\n",
    "# emp1.raise_amount\n",
    "# emp2.raise_amount\n",
    "\n",
    "# using class method\n",
    "# class method can called with the class or the instance but generally not used with instance.\n",
    "Employee.set_raise_amount(1.07)\n",
    "Employee.raise_amount\n",
    "# emp1.raise_amount\n",
    "# emp2.raise_amount\n",
    "\n",
    "# emp1.set_raise_amount=1.07 # not recommended\n",
    "#----------------\n",
    "new_emp1 = Employee.from_string('John-Doe-7000')\n",
    "new_emp1.email"
   ]
  },
  {
   "cell_type": "code",
   "execution_count": null,
   "metadata": {},
   "outputs": [],
   "source": []
  }
 ],
 "metadata": {
  "kernelspec": {
   "display_name": "base",
   "language": "python",
   "name": "python3"
  },
  "language_info": {
   "codemirror_mode": {
    "name": "ipython",
    "version": 3
   },
   "file_extension": ".py",
   "mimetype": "text/x-python",
   "name": "python",
   "nbconvert_exporter": "python",
   "pygments_lexer": "ipython3",
   "version": "3.11.3"
  }
 },
 "nbformat": 4,
 "nbformat_minor": 2
}
