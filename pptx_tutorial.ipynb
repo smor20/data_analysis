{
 "cells": [
  {
   "cell_type": "code",
   "execution_count": 1,
   "metadata": {},
   "outputs": [],
   "source": [
    "import pandas as pd\n",
    "import numpy as np\n",
    "import xlwings as xw\n",
    "import copy\n",
    "import six\n",
    "\n",
    "import locale\n",
    "from lxml import etree\n",
    "\n",
    "# !pip install python-pptx\n",
    "from pptx import Presentation\n",
    "from pptx.util import Inches\n",
    "\n",
    "from pptx.util import Pt\n",
    "from pptx.enum.text import PP_PARAGRAPH_ALIGNMENT\n",
    "from pptx.enum.text import PP_ALIGN\n",
    "\n",
    "from pptx.chart.data import CategoryChartData\n",
    "from pptx.enum.chart import XL_CHART_TYPE\n",
    "from pptx.dml.color import RGBColor\n",
    "from pptx.enum.chart import XL_LABEL_POSITION\n",
    "from pptx.enum.chart import XL_LEGEND_POSITION\n",
    "from pptx.enum.chart import XL_TICK_LABEL_POSITION\n",
    "from pptx.enum.dml import MSO_THEME_COLOR\n",
    "from pptx.dml.color import RGBColor\n",
    "from pptx.enum.shapes import MSO_SHAPE\n",
    "from pptx.enum.text import MSO_AUTO_SIZE\n",
    "\n",
    "pd.set_option('display.max_columns', None)\n",
    "pd.set_option('display.max_rows', None)\n",
    "from IPython.display import display\n",
    "pd.set_option('mode.use_inf_as_na', True)\n"
   ]
  },
  {
   "cell_type": "code",
   "execution_count": 78,
   "metadata": {},
   "outputs": [
    {
     "name": "stdout",
     "output_type": "stream",
     "text": [
      "Name: python-pptx\n",
      "Version: 0.6.23\n",
      "Summary: Generate and manipulate Open XML PowerPoint (.pptx) files\n",
      "Home-page: https://github.com/scanny/python-pptx\n",
      "Author: Steve Canny\n",
      "Author-email: python-pptx@googlegroups.com\n",
      "License: MIT\n",
      "Location: c:\\programdata\\anaconda3\\lib\\site-packages\n",
      "Requires: lxml, Pillow, XlsxWriter\n",
      "Required-by: \n"
     ]
    }
   ],
   "source": [
    "# !pip show python-pptx\n",
    "# ! pip show pandas"
   ]
  },
  {
   "cell_type": "markdown",
   "metadata": {},
   "source": [
    "### ppt defination and creation"
   ]
  },
  {
   "cell_type": "markdown",
   "metadata": {},
   "source": [
    "'''\n",
    "A presentation is opened using the Presentation() function, provided directly by the pptx package:\n",
    "```python\n",
    "from pptx import Presentation\n",
    "```\n",
    "'''"
   ]
  },
  {
   "cell_type": "code",
   "execution_count": null,
   "metadata": {},
   "outputs": [],
   "source": [
    "# prsb=Presentation()\n",
    "# prsb.save('ppt_basic.pptx')"
   ]
  },
  {
   "cell_type": "code",
   "execution_count": 58,
   "metadata": {},
   "outputs": [],
   "source": [
    "prs=Presentation('ppt_template.pptx')\n",
    "new_file_name= 'ppt_code_genrated.pptx'\n",
    "prs.save(new_file_name)\n",
    "\n",
    "slide_names=['ppt_cover_slide', 'index_slide', 'exec_summary_slide_base', 'pf_summary_slide', 'demography_cover_slide', 'demography_relation_slide', 'demography_age_slide', 'demography_family_slide']\n",
    "\n",
    "for i, item in enumerate(slide_names):\n",
    "    globals()[item] = prs.slides[i]"
   ]
  },
  {
   "cell_type": "code",
   "execution_count": null,
   "metadata": {},
   "outputs": [],
   "source": [
    "'''\n",
    "In the python-pptx library, the Presentation class is the main class used to create and manipulate PowerPoint presentation files (.pptx). When you write prs = Presentation(), you are creating a new instance of the Presentation class.\n",
    "\n",
    "Creating a new presentation: By calling Presentation(), you create a new, empty presentation. This presentation object (referred to as prs in the code) can be used to add slides, modify content, and eventually save the presentation to a file.\n",
    "prs = Presentation()\n",
    "prs variable: The variable prs is now an instance of the Presentation class. It represents the entire PowerPoint presentation and provides various methods and properties to manipulate the slides and their content.\n",
    "'''"
   ]
  },
  {
   "cell_type": "markdown",
   "metadata": {},
   "source": [
    "'''\n",
    "The `Presentation` class from `python-pptx` is the root of an object graph representing all the components of a PowerPoint presentation, such as slides and shapes. You interact with this graph to modify the presentation.\n",
    "\n",
    "###Key Concepts:\n",
    "\n",
    "1. **Root of the Graph**:\n",
    "   - The `Presentation` object is the root node. From here, you can traverse and manipulate all components of the presentation.\n",
    "\n",
    "2. **Traversing the Graph**:\n",
    "   - You access child objects (e.g., slides) through properties of the `Presentation` object.\n",
    "   - You access further child objects (e.g., shapes) through properties of the slide objects.\n",
    "\n",
    "3. **Adding Objects to the Graph**:\n",
    "   - New objects (e.g., slides, shapes) are added by calling methods on their container objects. For example, you add a slide by calling a method on the `Presentation` object, and you add a shape by calling a method on a `Slide` object.\n",
    "\n",
    "###Example:\n",
    "\n",
    "Let's illustrate these concepts with an example where we create a new presentation, add a slide, and then add shapes to that slide.\n",
    "\n",
    "```python\n",
    "from pptx import Presentation\n",
    "from pptx.util import Inches\n",
    "\n",
    "# Create a new presentation (root of the graph)\n",
    "prs = Presentation()\n",
    "\n",
    "# Add a slide (child of the presentation)\n",
    "slide_layout = prs.slide_layouts[5]  # Choosing a blank layout for simplicity\n",
    "slide = prs.slides.add_slide(slide_layout)\n",
    "\n",
    "# Add a title shape (child of the slide)\n",
    "title_shape = slide.shapes.title\n",
    "title_shape.text = \"Hello, Python-pptx!\"\n",
    "\n",
    "# Add a textbox shape (child of the slide)\n",
    "left = Inches(1)\n",
    "top = Inches(2)\n",
    "width = Inches(4)\n",
    "height = Inches(1)\n",
    "textbox = slide.shapes.add_textbox(left, top, width, height)\n",
    "textbox.text = \"This is a sample textbox.\"\n",
    "\n",
    "# Add a picture shape (child of the slide)\n",
    "img_path = 'example_image.png'  # Ensure this image exists in your directory\n",
    "left = Inches(1)\n",
    "top = Inches(3)\n",
    "pic = slide.shapes.add_picture(img_path, left, top)\n",
    "\n",
    "# Save the presentation\n",
    "prs.save('example_presentation.pptx')\n",
    "```\n",
    "\n",
    "###Explanation:\n",
    "\n",
    "1. **Creating the Presentation**:\n",
    "   - `prs = Presentation()`: This creates a new `Presentation` object, which is the root of the object graph.\n",
    "\n",
    "2. **Adding a Slide**:\n",
    "   - `slide_layout = prs.slide_layouts[5]`: Select a slide layout.\n",
    "   - `slide = prs.slides.add_slide(slide_layout)`: Adds a new slide to the presentation. The slide is a child of the `Presentation` object.\n",
    "\n",
    "3. **Adding a Title Shape**:\n",
    "   - `title_shape = slide.shapes.title`: Accesses the title placeholder shape of the slide.\n",
    "   - `title_shape.text = \"Hello, Python-pptx!\"`: Sets the text of the title shape.\n",
    "\n",
    "4. **Adding a Textbox Shape**:\n",
    "   - `textbox = slide.shapes.add_textbox(left, top, width, height)`: Adds a textbox to the slide at the specified position and size. The textbox is a child of the slide.\n",
    "   - `textbox.text = \"This is a sample textbox.\"`: Sets the text of the textbox.\n",
    "\n",
    "5. **Adding a Picture Shape**:\n",
    "   - `pic = slide.shapes.add_picture(img_path, left, top)`: Adds a picture to the slide at the specified position. The picture is a child of the slide.\n",
    "\n",
    "6. **Saving the Presentation**:\n",
    "   - `prs.save('example_presentation.pptx')`: Saves the presentation to a file.\n",
    "\n",
    "###Traversing the Graph:\n",
    "\n",
    "In this example, we traverse the graph as follows:\n",
    "\n",
    "- Start with the `Presentation` object (`prs`).\n",
    "- Access the `slides` property of the `Presentation` object to get a collection of slides.\n",
    "- Access the `shapes` property of a `Slide` object to get a collection of shapes on that slide.\n",
    "- Add new shapes (textbox, picture) by calling methods on the `shapes` collection of the slide.\n",
    "\n",
    "By working in this way, you interact with the presentation structure in an organized and hierarchical manner, without directly constructing objects for slides or shapes. Instead, you use the appropriate properties and methods provided by the `Presentation` object and its children.\n",
    "\n",
    "'''"
   ]
  },
  {
   "cell_type": "markdown",
   "metadata": {},
   "source": [
    "'''\n",
    "The documentation snippet for the `Presentation` class from the `python-pptx` library provides important details about how to work with this class. Here’s a breakdown and explanation of the key points:\n",
    "\n",
    "###Key Points from the Documentation:\n",
    "\n",
    "1. **Class Name and Location**:\n",
    "   - `class pptx.presentation.Presentation`: Indicates that the `Presentation` class is located in the `pptx.presentation` module.\n",
    "\n",
    "2. **Description**:\n",
    "   - `PresentationML (PML) presentation`: Specifies that the `Presentation` class represents a PresentationML (PML) presentation. PresentationML is the XML-based format used by PowerPoint to represent a presentation.\n",
    "\n",
    "3. **Instantiation**:\n",
    "   - `Not intended to be constructed directly. Use pptx.Presentation() to open or create a presentation.`: This means you should not create instances of the `Presentation` class using the class constructor directly. Instead, you should use the `pptx.Presentation()` function provided by the `python-pptx` library to create or open a presentation.\n",
    "\n",
    "###Explanation with Example:\n",
    "\n",
    "####Correct Way to Create or Open a Presentation:\n",
    "\n",
    "You should use the `pptx.Presentation()` function to create a new presentation or open an existing one. This function returns an instance of the `Presentation` class, which is the main object you will interact with to manipulate the PowerPoint presentation.\n",
    "\n",
    "Here’s how you do it:\n",
    "\n",
    "1. **Creating a New Presentation**:\n",
    "   - When you call `pptx.Presentation()` without any arguments, it creates a new, empty presentation.\n",
    "\n",
    "```python\n",
    "from pptx import Presentation\n",
    "# Create a new, empty presentation\n",
    "prs = Presentation()\n",
    "prs.save('new_presentation.pptx')\n",
    "```\n",
    "\n",
    "2. **Opening an Existing Presentation**:\n",
    "   - When you call `pptx.Presentation('file_path')` with the path to an existing PowerPoint file, it opens that file.\n",
    "\n",
    "```python\n",
    "from pptx import Presentation\n",
    "# Open an existing presentation\n",
    "prs = Presentation('existing_presentation.pptx')\n",
    "# Access the first slide\n",
    "slide = prs.slides[0]\n",
    "# Print the title of the first slide\n",
    "title = slide.shapes.title\n",
    "print(title.text)\n",
    "# Save any changes to the presentation\n",
    "prs.save('modified_presentation.pptx')\n",
    "```\n",
    "\n",
    "###Why Not Construct Directly?\n",
    "\n",
    "The reason you should not construct the `Presentation` object directly (e.g., `prs = Presentation()`) is because the `pptx.Presentation()` function handles the necessary setup and configuration to correctly initialize a new or existing presentation. This includes setting up the underlying XML structure for a new presentation or correctly parsing an existing presentation file. Direct construction would bypass these important steps, potentially leading to incorrect or incomplete initialization of the presentation object.\n",
    "\n",
    "By using the `pptx.Presentation()` function, you ensure that the `Presentation` object is properly set up, making it ready for you to work with slides, shapes, text, and other elements of the presentation.\n",
    "\n",
    "###Summary:\n",
    "\n",
    "- **Class**: `pptx.presentation.Presentation`\n",
    "- **Description**: Represents a PresentationML (PML) presentation.\n",
    "- **Instantiation**: Use `pptx.Presentation()` to create or open a presentation, rather than directly instantiating the `Presentation` class.\n",
    "- **Purpose**: Ensures proper initialization and setup of the presentation object, whether creating a new one or opening an existing file.\n",
    "\n",
    "Using the `pptx.Presentation()` function is the correct and intended way to work with PowerPoint presentations in the `python-pptx` library.\n",
    "'''"
   ]
  },
  {
   "cell_type": "markdown",
   "metadata": {},
   "source": [
    "### ppt concepts"
   ]
  },
  {
   "cell_type": "code",
   "execution_count": 7,
   "metadata": {},
   "outputs": [
    {
     "data": {
      "text/plain": [
       "'PowerPoint Presentation'"
      ]
     },
     "execution_count": 7,
     "metadata": {},
     "output_type": "execute_result"
    }
   ],
   "source": [
    "prs.core_properties.title"
   ]
  },
  {
   "cell_type": "code",
   "execution_count": 17,
   "metadata": {},
   "outputs": [],
   "source": [
    "core_props=prs.core_properties\n",
    "core_props.author\n",
    "core_props.title='Sample Presentation'"
   ]
  },
  {
   "cell_type": "markdown",
   "metadata": {},
   "source": [
    "'''\n",
    "The `core_properties` is an attribute of the `Presentation` class in the `python-pptx` library. It is not a method, but rather a property that returns an instance of the `CoreProperties` class. This instance allows you to access and modify the core properties (metadata) of a PowerPoint presentation.\n",
    "\n",
    "Here’s how you can think about it:\n",
    "\n",
    "- **Attribute**: `core_properties` is an attribute of the `Presentation` class.\n",
    "- **Instance**: It provides an instance of the `CoreProperties` class, which contains various properties like `title`, `author`, `subject`, `keywords`, and more.\n",
    "\n",
    "When you access `prs.core_properties`, you get an object that you can use to get or set these metadata properties.\n",
    "\n",
    "Here's a bit more detail:\n",
    "\n",
    "```python\n",
    "from pptx import Presentation\n",
    "\n",
    "# Create a new presentation\n",
    "prs = Presentation()\n",
    "\n",
    "# Access the core properties\n",
    "core_properties = prs.core_properties\n",
    "\n",
    "# Check the type of core_properties\n",
    "print(type(core_properties))  # <class 'pptx.package.CoreProperties'>\n",
    "\n",
    "# Set some core properties\n",
    "core_properties.title = \"Sample Presentation\"\n",
    "core_properties.author = \"John Doe\"\n",
    "core_properties.subject = \"Example of core properties usage\"\n",
    "core_properties.keywords = \"python-pptx, presentation, metadata\"\n",
    "\n",
    "# Print the current core properties\n",
    "print(f\"Title: {core_properties.title}\")\n",
    "print(f\"Author: {core_properties.author}\")\n",
    "print(f\"Subject: {core_properties.subject}\")\n",
    "print(f\"Keywords: {core_properties.keywords}\")\n",
    "\n",
    "# Save the presentation to a file\n",
    "prs.save('example_with_properties.pptx')\n",
    "```\n",
    "\n",
    "In this example:\n",
    "- `prs.core_properties` accesses the `core_properties` attribute of the `Presentation` instance `prs`.\n",
    "- The `core_properties` attribute is an instance of `CoreProperties`, allowing you to set and get metadata properties like `title`, `author`, `subject`, and `keywords`.\n",
    "\n",
    "This provides a convenient way to manage the metadata of a PowerPoint presentation using the `python-pptx` library.\n",
    "\n",
    "'''\n",
    "\n",
    "'''\n",
    "Certainly! To find the definition of the `core_properties` attribute in the `python-pptx` library, you would typically look into the source code of the library. Here is a simplified version of how the `core_properties` attribute is defined and used within the `Presentation` class. This example assumes the structure of the library and shows how this attribute might be implemented.\n",
    "\n",
    "Here is a simplified and illustrative example:\n",
    "\n",
    "1. **In `pptx.presentation.Presentation` class**:\n",
    "\n",
    "```python\n",
    "# Import necessary classes\n",
    "from pptx.oxml.coreprops import CT_CoreProperties\n",
    "from pptx.package import CoreProperties\n",
    "\n",
    "class Presentation:\n",
    "    def __init__(self, pkg):\n",
    "        self._pkg = pkg\n",
    "        # Other initialization code...\n",
    "\n",
    "    @property\n",
    "    def core_properties(self):\n",
    "        \"\"\"\n",
    "        Instance of pptx.package.CoreProperties holding the core properties\n",
    "        (metadata) for this presentation.\n",
    "        \"\"\"\n",
    "        return self._pkg.core_properties\n",
    "```\n",
    "\n",
    "2. **In `pptx.package.Package` class**:\n",
    "\n",
    "```python\n",
    "class Package:\n",
    "    @property\n",
    "    def core_properties(self):\n",
    "        \"\"\"\n",
    "        The core properties part for this package.\n",
    "        \"\"\"\n",
    "        part = self.part_related_by(RT.CORE_PROPERTIES)\n",
    "        return CoreProperties(part)\n",
    "```\n",
    "\n",
    "3. **In `pptx.package.CoreProperties` class**:\n",
    "\n",
    "```python\n",
    "from pptx.oxml.ns import qn\n",
    "\n",
    "class CoreProperties:\n",
    "    def __init__(self, core_properties_part):\n",
    "        self._element = core_properties_part.element\n",
    "\n",
    "    @property\n",
    "    def title(self):\n",
    "        return self._get_element_text('dc:title')\n",
    "\n",
    "    @title.setter\n",
    "    def title(self, value):\n",
    "        self._set_element_text('dc:title', value)\n",
    "\n",
    "    # Similar properties for author, subject, keywords, etc.\n",
    "\n",
    "    def _get_element_text(self, tagname):\n",
    "        element = self._element.find(qn(tagname))\n",
    "        if element is None:\n",
    "            return None\n",
    "        return element.text\n",
    "\n",
    "    def _set_element_text(self, tagname, text):\n",
    "        element = self._element.find(qn(tagname))\n",
    "        if element is None:\n",
    "            element = SubElement(self._element, qn(tagname))\n",
    "        element.text = text\n",
    "```\n",
    "\n",
    "#Explanation\n",
    "\n",
    "1. **`Presentation` class**:\n",
    "    - The `core_properties` property is defined as a method decorated with `@property`.\n",
    "    - It returns the core properties associated with the presentation by accessing the core properties of the underlying package.\n",
    "\n",
    "2. **`Package` class**:\n",
    "    - The `core_properties` property is also defined as a method decorated with `@property`.\n",
    "    - It returns an instance of the `CoreProperties` class, which is created using the core properties part of the package.\n",
    "\n",
    "3. **`CoreProperties` class**:\n",
    "    - This class provides access to individual core properties (like title, author, etc.) via getter and setter methods.\n",
    "    - `_get_element_text` and `_set_element_text` methods are helper methods to read and write the text of specific XML elements.\n",
    "\n",
    "In a real scenario, you would find these classes and methods defined across various modules within the `python-pptx` library. The `core_properties` attribute enables users to interact with the metadata of a PowerPoint presentation in a straightforward manner.\n",
    "'''"
   ]
  },
  {
   "cell_type": "code",
   "execution_count": 31,
   "metadata": {},
   "outputs": [
    {
     "data": {
      "text/plain": [
       "<pptx.slide.SlideMasters at 0x1e5131b8e50>"
      ]
     },
     "metadata": {},
     "output_type": "display_data"
    },
    {
     "name": "stdout",
     "output_type": "stream",
     "text": [
      "<pptx.slide.SlideMaster object at 0x000001E5131875E0>\n",
      "2083379508704\n"
     ]
    },
    {
     "data": {
      "text/plain": [
       "<pptx.slide.SlideMaster at 0x1e5131875e0>"
      ]
     },
     "metadata": {},
     "output_type": "display_data"
    },
    {
     "data": {
      "text/plain": [
       "2083379508704"
      ]
     },
     "execution_count": 31,
     "metadata": {},
     "output_type": "execute_result"
    }
   ],
   "source": [
    "display(prs.slide_masters)   # it provides the memory address\n",
    "for i in prs.slide_masters:\n",
    "    print(i)\n",
    "    print(id(i))\n",
    "# When you use print(i) inside the loop, it prints the string representation of each SlideMaster object, which by default includes the memory address where that object is stored.\n",
    "\n",
    "display(prs.slide_masters[0])   #> gives memory address in hexadecimal format <pptx.slide.SlideMaster at 0x1e5131875e0>\n",
    "id(prs.slide_masters[0])    #> memory address in decimal format 2083379508704.\n",
    "# prs.slide_masters[1]    #>IndexError: list index out of range (as there is only one slide master which is at index position 0)"
   ]
  },
  {
   "cell_type": "markdown",
   "metadata": {},
   "source": [
    "'''\n",
    "The `id()` function returns the identity of an object, which is a unique integer for the object and is often its memory address. When you print an object directly, such as a `SlideMaster` object, Python's default string representation of the object includes the memory address in hexadecimal format.\n",
    "\n",
    "Here's a detailed breakdown:\n",
    "\n",
    "1. **Direct Object Representation**: When you print an object directly, e.g., `<pptx.slide.SlideMaster object at 0x1e5131b8e50>`, Python uses the `__repr__` method of the object to give a string that includes the type and memory address of the object. The address is shown in hexadecimal format (`0x1e5131b8e50`).\n",
    "\n",
    "2. **Using `id()`**: When you use `id(obj)`, it returns the memory address (or unique identifier) of the object in decimal format. For example, if `id(obj)` returns `2083379508704`, it means the memory address in decimal format is `2083379508704`.\n",
    "\n",
    "To convert between these formats:\n",
    "\n",
    "- **Hexadecimal to Decimal**:\n",
    "  - `0x1e5131b8e50` is the hexadecimal representation.\n",
    "  - To convert it to decimal: `int('1e5131b8e50', 16)`.\n",
    "\n",
    "- **Decimal to Hexadecimal**:\n",
    "  - `2083379508704` is the decimal representation.\n",
    "  - To convert it to hexadecimal: `hex(2083379508704)`.\n",
    "\n",
    "You can verify this with a simple example:\n",
    "\n",
    "```python\n",
    "obj = prs.slide_masters[0]\n",
    "\n",
    "# Direct representation\n",
    "print(obj)  # e.g., <pptx.slide.SlideMaster object at 0x1e5131b8e50>\n",
    "\n",
    "# Using id()\n",
    "obj_id = id(obj)\n",
    "print(obj_id)  # e.g., 2083379508704\n",
    "\n",
    "# Convert decimal id to hexadecimal\n",
    "print(hex(obj_id))  # e.g., 0x1e5131b8e50\n",
    "```\n",
    "\n",
    "This should show that the hexadecimal value from `hex(id(obj))` matches the memory address shown in the direct representation of the object.\n",
    "'''"
   ]
  },
  {
   "cell_type": "markdown",
   "metadata": {},
   "source": [
    "### SLIDES\n",
    "---\n",
    "---"
   ]
  },
  {
   "cell_type": "markdown",
   "metadata": {},
   "source": [
    "#### adding new slide"
   ]
  },
  {
   "cell_type": "code",
   "execution_count": null,
   "metadata": {},
   "outputs": [
    {
     "data": {
      "text/plain": [
       "<pptx.slide.SlideLayouts at 0x1e513187400>"
      ]
     },
     "metadata": {},
     "output_type": "display_data"
    },
    {
     "data": {
      "text/plain": [
       "2083379508176"
      ]
     },
     "metadata": {},
     "output_type": "display_data"
    }
   ],
   "source": [
    "for i in prs.slide_masters[0].slide_layouts:\n",
    "    # print(id(i))\n",
    "    pass\n",
    "\n",
    "display(prs.slide_masters[0].slide_layouts)\n",
    "display(id(prs.slide_masters[0].slide_layouts[0]))"
   ]
  },
  {
   "cell_type": "code",
   "execution_count": 59,
   "metadata": {},
   "outputs": [],
   "source": [
    "my_slidemaster=prs.slide_masters[0]\n",
    "idx0_layout=my_slidemaster.slide_layouts[1]\n",
    "new_slide1=prs.slides.add_slide(idx0_layout)\n",
    "\n",
    "prs.save(new_file_name)\n",
    "\n",
    "'''\n",
    "An individual Slide object is accessed by index from Slides or as the return value of add_slide().\n",
    "'''"
   ]
  },
  {
   "cell_type": "code",
   "execution_count": 88,
   "metadata": {},
   "outputs": [],
   "source": [
    "# adding a new slide using name of the slide in the slide layout using get_by_name method.\n",
    "incidence_layout=prs.slide_master.slide_layouts.get_by_name('incidence_slide')\n",
    "prs.slides.add_slide(incidence_layout)\n",
    "\n",
    "prs.save(new_file_name)"
   ]
  },
  {
   "cell_type": "markdown",
   "metadata": {},
   "source": [
    "''' ??\n",
    "  def add_slide(self, slide_layout):\n",
    "        \"\"\"\n",
    "        Return a newly added slide that inherits layout from *slide_layout*.\n",
    "        \"\"\"\n",
    "        rId, slide = self.part.add_slide(slide_layout)\n",
    "        slide.shapes.clone_layout_placeholders(slide_layout)\n",
    "        self._sldIdLst.add_sldId(rId)\n",
    "        return slide\n",
    "The above is python-pptx source code for add_slide function. Please explain it to me \n",
    "///////////////////////////////////////////////////\n",
    "Certainly! Let's break down the `add_slide` method in the `python-pptx` library and explain what each part of the function does.\n",
    "\n",
    "###`add_slide` Method\n",
    "\n",
    "```python\n",
    "def add_slide(self, slide_layout):\n",
    "    \"\"\"\n",
    "    Return a newly added slide that inherits layout from *slide_layout*.\n",
    "    \"\"\"\n",
    "    rId, slide = self.part.add_slide(slide_layout)\n",
    "    slide.shapes.clone_layout_placeholders(slide_layout)\n",
    "    self._sldIdLst.add_sldId(rId)\n",
    "    return slide\n",
    "```\n",
    "\n",
    "###Explanation\n",
    "\n",
    "1. **Method Signature and Docstring**:\n",
    "   ```python\n",
    "   def add_slide(self, slide_layout):\n",
    "       \"\"\"\n",
    "       Return a newly added slide that inherits layout from *slide_layout*.\n",
    "       \"\"\"\n",
    "   ```\n",
    "   - **Method Signature**: The method is defined to take two parameters, `self` (which refers to the instance of the `Slides` class) and `slide_layout` (which specifies the layout to be used for the new slide).\n",
    "   - **Docstring**: A brief description of what the method does: it returns a newly added slide that inherits its layout from `slide_layout`.\n",
    "\n",
    "2. **Adding the Slide**:\n",
    "   ```python\n",
    "   rId, slide = self.part.add_slide(slide_layout)\n",
    "   ```\n",
    "   - **Call to `self.part.add_slide(slide_layout)`**: This method call is likely made to the `PresentationPart` object associated with the `Slides` collection. It adds a new slide with the specified layout.\n",
    "   - **Return Values**: This method returns two values: `rId` (the relationship ID of the new slide) and `slide` (the newly created slide object).\n",
    "\n",
    "3. **Cloning Layout Placeholders**:\n",
    "   ```python\n",
    "   slide.shapes.clone_layout_placeholders(slide_layout)\n",
    "   ```\n",
    "   - **`slide.shapes`**: Accesses the `shapes` collection of the newly created slide.\n",
    "   - **`clone_layout_placeholders(slide_layout)`**: This method clones the placeholders (e.g., title, content boxes) from the specified `slide_layout` to the new slide. This ensures that the new slide has the same placeholders as the layout it is based on.\n",
    "\n",
    "4. **Adding Slide ID**:\n",
    "   ```python\n",
    "   self._sldIdLst.add_sldId(rId)\n",
    "   ```\n",
    "   - **`self._sldIdLst`**: This is the internal list that keeps track of the slide IDs in the presentation.\n",
    "   - **`add_sldId(rId)`**: Adds the relationship ID (`rId`) of the new slide to this list. This step is essential for maintaining the internal structure and references within the presentation.\n",
    "\n",
    "5. **Returning the New Slide**:\n",
    "   ```python\n",
    "   return slide\n",
    "   ```\n",
    "   - The method returns the newly created slide object.\n",
    "\n",
    "###Putting It All Together\n",
    "\n",
    "The `add_slide` method does the following:\n",
    "\n",
    "1. Calls a method on the `PresentationPart` object to add a new slide with the specified layout.\n",
    "2. Clones the layout placeholders from the specified layout to the new slide, ensuring that the new slide has the same layout structure.\n",
    "3. Adds the relationship ID of the new slide to the internal list of slide IDs.\n",
    "4. Returns the newly created slide object.\n",
    "\n",
    "###Example Usage\n",
    "\n",
    "Here's how you might use this method in practice:\n",
    "\n",
    "```python\n",
    "from pptx import Presentation\n",
    "\n",
    "# Create a new presentation\n",
    "prs = Presentation()\n",
    "\n",
    "# Choose a slide layout (e.g., Title Slide)\n",
    "slide_layout = prs.slide_layouts[0]\n",
    "\n",
    "# Add a new slide with the chosen layout\n",
    "new_slide = prs.slides.add_slide(slide_layout)\n",
    "\n",
    "# Set the title text for the new slide\n",
    "title_shape = new_slide.shapes.title\n",
    "title_shape.text = \"New Slide Title\"\n",
    "\n",
    "# Save the presentation\n",
    "prs.save('example_presentation.pptx')\n",
    "```\n",
    "\n",
    "In this example, we create a new presentation, choose a slide layout, add a new slide with that layout, set the title text for the new slide, and save the presentation. The `add_slide` method is responsible for creating the new slide and ensuring it inherits the specified layout.\n",
    "'''\n",
    "'''\n",
    "///////////////////////////////////////////////////\n",
    "can you please explain what is part here. what do you mean by collection here. what is PresentationPart object. to explain you can refer the open source code present at github https://github.com/scanny/python-pptx\n",
    "\n",
    "Certainly! Let's delve deeper into the concepts of `part`, `collection`, and `PresentationPart` in the context of `python-pptx`.\n",
    "\n",
    "###Understanding `part`, `collection`, and `PresentationPart`\n",
    "\n",
    "1. **`part`**:\n",
    "   - In `python-pptx`, the `part` attribute typically refers to an instance of a `Part` object that represents a part of the presentation package (an Open XML package). In the case of slides, `part` refers to the `PresentationPart` object, which is responsible for managing the slides and their relationships within the presentation.\n",
    "\n",
    "2. **Collection**:\n",
    "   - A collection in `python-pptx` is an object that groups together multiple related objects and provides methods to interact with them. For example, the `Slides` object is a collection that groups together all the slides in a presentation. It provides methods to add, remove, and access individual slides.\n",
    "\n",
    "3. **`PresentationPart`**:\n",
    "   - `PresentationPart` is a class in `python-pptx` that represents the main part of the PowerPoint presentation. It contains references to all slides, slide layouts, slide masters, and other components that make up the presentation. The `add_slide` method in `PresentationPart` is responsible for adding a new slide to the presentation and setting up its relationships and content.\n",
    "\n",
    "###Source Code Exploration\n",
    "\n",
    "To understand these concepts better, let's look at some relevant parts of the `python-pptx` source code from its GitHub repository.\n",
    "\n",
    "1. **`Slides` Class**:\n",
    "   - The `Slides` class is found in `pptx/slide.py`. It manages the collection of slides in a presentation.\n",
    "\n",
    "   ```python\n",
    "   class Slides(ParentedElementProxy):\n",
    "       ...\n",
    "       def add_slide(self, slide_layout):\n",
    "           \"\"\"\n",
    "           Return a newly added slide that inherits layout from *slide_layout*.\n",
    "           \"\"\"\n",
    "           rId, slide = self.part.add_slide(slide_layout)\n",
    "           slide.shapes.clone_layout_placeholders(slide_layout)\n",
    "           self._sldIdLst.add_sldId(rId)\n",
    "           return slide\n",
    "   ```\n",
    "\n",
    "2. **`PresentationPart` Class**:\n",
    "   - The `PresentationPart` class is found in `pptx/parts/presentation.py`. It represents the main part of the presentation.\n",
    "\n",
    "   ```python\n",
    "   class PresentationPart(BasePart):\n",
    "       ...\n",
    "       def add_slide(self, slide_layout):\n",
    "           \"\"\"\n",
    "           Return (rId, slide) pair for newly added slide that inherits layout\n",
    "           from *slide_layout*.\n",
    "           \"\"\"\n",
    "           slide = Slide.new(self, slide_layout)\n",
    "           self._sldIdLst.append(slide)\n",
    "           rId = self.relate_to(slide, RT.SLIDE)\n",
    "           return rId, slide\n",
    "   ```\n",
    "\n",
    "###Detailed Explanation\n",
    "\n",
    "1. **`Slides` Class**:\n",
    "   - **Inheritance**: The `Slides` class inherits from `ParentedElementProxy`, which means it acts as a proxy to its parent element (in this case, the `Presentation` object).\n",
    "   - **add_slide Method**: This method calls `self.part.add_slide(slide_layout)`. Here, `self.part` refers to the `PresentationPart` object associated with the `Slides` collection.\n",
    "\n",
    "2. **`PresentationPart` Class**:\n",
    "   - **add_slide Method**: This method creates a new slide (`Slide.new(self, slide_layout)`) and sets up its relationships. It returns a tuple `(rId, slide)`, where `rId` is the relationship ID and `slide` is the newly created slide object.\n",
    "\n",
    "###Example in Context\n",
    "\n",
    "Here's a complete example that ties everything together:\n",
    "\n",
    "```python\n",
    "from pptx import Presentation\n",
    "\n",
    "# Create a new presentation\n",
    "prs = Presentation()\n",
    "\n",
    "# Choose a slide layout (e.g., Title Slide)\n",
    "slide_layout = prs.slide_layouts[0]\n",
    "\n",
    "# Add a new slide with the chosen layout\n",
    "new_slide = prs.slides.add_slide(slide_layout)\n",
    "\n",
    "# Set the title text for the new slide\n",
    "title_shape = new_slide.shapes.title\n",
    "title_shape.text = \"New Slide Title\"\n",
    "\n",
    "# Save the presentation\n",
    "prs.save('example_presentation.pptx')\n",
    "```\n",
    "\n",
    "###Summary\n",
    "\n",
    "- **`part`**: Refers to the `PresentationPart` object associated with the `Slides` collection, managing the main part of the presentation.\n",
    "- **Collection**: The `Slides` class acts as a collection, grouping together all slides and providing methods to interact with them.\n",
    "- **`PresentationPart`**: Manages the slides and their relationships within the presentation, handling tasks like adding new slides.\n",
    "\n",
    "The `add_slide` method in the `Slides` class leverages the `PresentationPart` class to create and manage slides, ensuring that each new slide is correctly integrated into the presentation structure.\n",
    "'''"
   ]
  },
  {
   "cell_type": "markdown",
   "metadata": {},
   "source": [
    "#### get ==> \n"
   ]
  },
  {
   "cell_type": "markdown",
   "metadata": {},
   "source": [
    "``` python\n",
    "prs.slides.get(slide_id=slide ki id, default=text to be printed if slide id not found(default is None))\n",
    "  # way to get slide id \n",
    "  new_slide1.slide_id\n",
    "```\n",
    "The `get` method of the `Slides` object in `python-pptx` allows you to retrieve a slide by its unique slide ID. If the slide with the specified ID does not exist, it returns a default value (which is `None` by default).\n",
    "\n",
    "###Key Points from the Documentation:\n",
    "\n",
    "- **Method Signature**: `get(slide_id, default=None)`\n",
    "  - **slide_id**: The integer ID of the slide you want to retrieve.\n",
    "  - **default**: The value to return if the slide with the specified ID is not found. The default value is `None`."
   ]
  },
  {
   "cell_type": "code",
   "execution_count": 68,
   "metadata": {},
   "outputs": [
    {
     "data": {
      "text/plain": [
       "<pptx.slide.Slide at 0x1e517acb1f0>"
      ]
     },
     "metadata": {},
     "output_type": "display_data"
    },
    {
     "data": {
      "text/plain": [
       "'slide not found'"
      ]
     },
     "metadata": {},
     "output_type": "display_data"
    },
    {
     "data": {
      "text/plain": [
       "<pptx.slide.Slide at 0x1e513195760>"
      ]
     },
     "execution_count": 68,
     "metadata": {},
     "output_type": "execute_result"
    }
   ],
   "source": [
    "display(prs.slides.get(new_slide1.slide_id, default='slide not found'))\n",
    "display(prs.slides.get(1, default='slide not found'))\n",
    "\n",
    "index_slide_id=index_slide.slide_id\n",
    "retrived_index_slide=prs.slides.get(index_slide_id, default='index slide not found')\n",
    "retrived_index_slide\n"
   ]
  },
  {
   "cell_type": "markdown",
   "metadata": {},
   "source": [
    "#### index\n"
   ]
  },
  {
   "cell_type": "markdown",
   "metadata": {},
   "source": [
    "``` python\n",
    "prs.slides.index(slide=slide_name)\n",
    "```\n",
    "Map slide to an integer representing its zero-based position in this slide collection.\n",
    "\n",
    "i.e. gives the index position of the slide in the ppt(zero based indexing is used). \n",
    "\n",
    "Raises ValueError on slide not present."
   ]
  },
  {
   "cell_type": "code",
   "execution_count": 69,
   "metadata": {},
   "outputs": [
    {
     "data": {
      "text/plain": [
       "8"
      ]
     },
     "metadata": {},
     "output_type": "display_data"
    },
    {
     "data": {
      "text/plain": [
       "1"
      ]
     },
     "execution_count": 69,
     "metadata": {},
     "output_type": "execute_result"
    }
   ],
   "source": [
    "display(prs.slides.index(new_slide1))\n",
    "prs.slides.index(index_slide)"
   ]
  },
  {
   "cell_type": "code",
   "execution_count": null,
   "metadata": {},
   "outputs": [
    {
     "data": {
      "text/plain": [
       "pptx.shapes.shapetree.SlidePlaceholders"
      ]
     },
     "metadata": {},
     "output_type": "display_data"
    }
   ],
   "source": [
    "# for i in demography_relation_slide.placeholders:\n",
    "#     print(i)\n",
    "# type(demography_relation_slide.placeholders)"
   ]
  },
  {
   "cell_type": "markdown",
   "metadata": {},
   "source": [
    "#### background"
   ]
  },
  {
   "cell_type": "code",
   "execution_count": 76,
   "metadata": {},
   "outputs": [
    {
     "data": {
      "text/plain": [
       "pptx.slide._Background"
      ]
     },
     "metadata": {},
     "output_type": "display_data"
    }
   ],
   "source": [
    "display(type(index_slide.background))   #pptx.slide._Background\n",
    "slide_bg=index_slide.background # provides _Background object providing slide background properties.\n",
    "slide_bg.fill.solid()\n",
    "slide_bg.fill.fore_color.rgb = RGBColor(255,228,225)\n",
    "prs.save(new_file_name)"
   ]
  },
  {
   "cell_type": "code",
   "execution_count": 83,
   "metadata": {},
   "outputs": [],
   "source": [
    "index_slide.follow_master_background\n",
    "index_slide.has_notes_slide\n",
    "ndex_slide.name\n",
    "# index_slide.name='Index Slide'\n",
    "index_slide.slide_layout"
   ]
  },
  {
   "cell_type": "code",
   "execution_count": 86,
   "metadata": {},
   "outputs": [
    {
     "data": {
      "text/plain": [
       "<pptx.slide.SlideLayout at 0x1e5131d2fa0>"
      ]
     },
     "execution_count": 86,
     "metadata": {},
     "output_type": "execute_result"
    }
   ],
   "source": []
  }
 ],
 "metadata": {
  "kernelspec": {
   "display_name": "base",
   "language": "python",
   "name": "python3"
  },
  "language_info": {
   "codemirror_mode": {
    "name": "ipython",
    "version": 3
   },
   "file_extension": ".py",
   "mimetype": "text/x-python",
   "name": "python",
   "nbconvert_exporter": "python",
   "pygments_lexer": "ipython3",
   "version": "3.9.7"
  }
 },
 "nbformat": 4,
 "nbformat_minor": 2
}
