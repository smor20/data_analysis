{
 "cells": [
  {
   "cell_type": "code",
   "execution_count": 2,
   "metadata": {},
   "outputs": [],
   "source": [
    "import pandas as pd\n",
    "import numpy as np\n",
    "import xlwings as xw\n",
    "import copy\n",
    "import six\n",
    "\n",
    "import locale\n",
    "from lxml import etree\n",
    "\n",
    "# !pip install python-pptx\n",
    "from pptx import Presentation\n",
    "from pptx.util import Inches\n",
    "\n",
    "from pptx.util import Pt\n",
    "from pptx.enum.text import PP_PARAGRAPH_ALIGNMENT\n",
    "from pptx.enum.text import PP_ALIGN\n",
    "\n",
    "from pptx.chart.data import CategoryChartData\n",
    "from pptx.enum.chart import XL_CHART_TYPE\n",
    "from pptx.dml.color import RGBColor\n",
    "from pptx.enum.chart import XL_LABEL_POSITION\n",
    "from pptx.enum.chart import XL_LEGEND_POSITION\n",
    "from pptx.enum.chart import XL_TICK_LABEL_POSITION\n",
    "from pptx.enum.dml import MSO_THEME_COLOR\n",
    "from pptx.dml.color import RGBColor\n",
    "from pptx.enum.shapes import MSO_SHAPE\n",
    "from pptx.enum.text import MSO_AUTO_SIZE\n",
    "\n",
    "pd.set_option('display.max_columns', None)\n",
    "pd.set_option('display.max_rows', None)\n",
    "from IPython.display import display\n",
    "pd.set_option('mode.use_inf_as_na', True)\n"
   ]
  },
  {
   "cell_type": "code",
   "execution_count": 4,
   "metadata": {},
   "outputs": [],
   "source": [
    "# !pip show python-pptx\n",
    "# ! pip show pandas"
   ]
  },
  {
   "cell_type": "markdown",
   "metadata": {},
   "source": [
    "### ppt defination and creation"
   ]
  },
  {
   "cell_type": "markdown",
   "metadata": {},
   "source": [
    "'''\n",
    "A presentation is opened using the Presentation() function, provided directly by the pptx package:\n",
    "```python\n",
    "from pptx import Presentation\n",
    "```\n",
    "'''"
   ]
  },
  {
   "cell_type": "code",
   "execution_count": null,
   "metadata": {},
   "outputs": [],
   "source": [
    "# prsb=Presentation()\n",
    "# prsb.save('ppt_basic.pptx')"
   ]
  },
  {
   "cell_type": "code",
   "execution_count": 9,
   "metadata": {},
   "outputs": [],
   "source": [
    "prs=Presentation('ppt_template.pptx')\n",
    "new_file_name= 'ppt_code_genrated.pptx'\n",
    "prs.save(new_file_name)\n",
    "\n",
    "slide_names=['ppt_cover_slide', 'index_slide', 'exec_summary_slide_base', 'pf_summary_slide', 'demography_cover_slide', 'demography_relation_slide', 'demography_age_slide', 'demography_family_slide']\n",
    "\n",
    "for i, item in enumerate(slide_names):\n",
    "    globals()[item] = prs.slides[i]\n",
    "    \n",
    "my_slidemaster=prs.slide_masters[0]\n",
    "idx0_layout=my_slidemaster.slide_layouts[3]\n",
    "new_slide=prs.slides.add_slide(idx0_layout)\n",
    "\n",
    "prs.save(new_file_name)\n"
   ]
  },
  {
   "cell_type": "code",
   "execution_count": null,
   "metadata": {},
   "outputs": [],
   "source": [
    "'''\n",
    "In the python-pptx library, the Presentation class is the main class used to create and manipulate PowerPoint presentation files (.pptx). When you write prs = Presentation(), you are creating a new instance of the Presentation class.\n",
    "\n",
    "Creating a new presentation: By calling Presentation(), you create a new, empty presentation. This presentation object (referred to as prs in the code) can be used to add slides, modify content, and eventually save the presentation to a file.\n",
    "prs = Presentation()\n",
    "prs variable: The variable prs is now an instance of the Presentation class. It represents the entire PowerPoint presentation and provides various methods and properties to manipulate the slides and their content.\n",
    "'''"
   ]
  },
  {
   "cell_type": "markdown",
   "metadata": {},
   "source": [
    "'''\n",
    "The `Presentation` class from `python-pptx` is the root of an object graph representing all the components of a PowerPoint presentation, such as slides and shapes. You interact with this graph to modify the presentation.\n",
    "\n",
    "###Key Concepts:\n",
    "\n",
    "1. **Root of the Graph**:\n",
    "   - The `Presentation` object is the root node. From here, you can traverse and manipulate all components of the presentation.\n",
    "\n",
    "2. **Traversing the Graph**:\n",
    "   - You access child objects (e.g., slides) through properties of the `Presentation` object.\n",
    "   - You access further child objects (e.g., shapes) through properties of the slide objects.\n",
    "\n",
    "3. **Adding Objects to the Graph**:\n",
    "   - New objects (e.g., slides, shapes) are added by calling methods on their container objects. For example, you add a slide by calling a method on the `Presentation` object, and you add a shape by calling a method on a `Slide` object.\n",
    "\n",
    "###Example:\n",
    "\n",
    "Let's illustrate these concepts with an example where we create a new presentation, add a slide, and then add shapes to that slide.\n",
    "\n",
    "```python\n",
    "from pptx import Presentation\n",
    "from pptx.util import Inches\n",
    "\n",
    "# Create a new presentation (root of the graph)\n",
    "prs = Presentation()\n",
    "\n",
    "# Add a slide (child of the presentation)\n",
    "slide_layout = prs.slide_layouts[5]  # Choosing a blank layout for simplicity\n",
    "slide = prs.slides.add_slide(slide_layout)\n",
    "\n",
    "# Add a title shape (child of the slide)\n",
    "title_shape = slide.shapes.title\n",
    "title_shape.text = \"Hello, Python-pptx!\"\n",
    "\n",
    "# Add a textbox shape (child of the slide)\n",
    "left = Inches(1)\n",
    "top = Inches(2)\n",
    "width = Inches(4)\n",
    "height = Inches(1)\n",
    "textbox = slide.shapes.add_textbox(left, top, width, height)\n",
    "textbox.text = \"This is a sample textbox.\"\n",
    "\n",
    "# Add a picture shape (child of the slide)\n",
    "img_path = 'example_image.png'  # Ensure this image exists in your directory\n",
    "left = Inches(1)\n",
    "top = Inches(3)\n",
    "pic = slide.shapes.add_picture(img_path, left, top)\n",
    "\n",
    "# Save the presentation\n",
    "prs.save('example_presentation.pptx')\n",
    "```\n",
    "\n",
    "###Explanation:\n",
    "\n",
    "1. **Creating the Presentation**:\n",
    "   - `prs = Presentation()`: This creates a new `Presentation` object, which is the root of the object graph.\n",
    "\n",
    "2. **Adding a Slide**:\n",
    "   - `slide_layout = prs.slide_layouts[5]`: Select a slide layout.\n",
    "   - `slide = prs.slides.add_slide(slide_layout)`: Adds a new slide to the presentation. The slide is a child of the `Presentation` object.\n",
    "\n",
    "3. **Adding a Title Shape**:\n",
    "   - `title_shape = slide.shapes.title`: Accesses the title placeholder shape of the slide.\n",
    "   - `title_shape.text = \"Hello, Python-pptx!\"`: Sets the text of the title shape.\n",
    "\n",
    "4. **Adding a Textbox Shape**:\n",
    "   - `textbox = slide.shapes.add_textbox(left, top, width, height)`: Adds a textbox to the slide at the specified position and size. The textbox is a child of the slide.\n",
    "   - `textbox.text = \"This is a sample textbox.\"`: Sets the text of the textbox.\n",
    "\n",
    "5. **Adding a Picture Shape**:\n",
    "   - `pic = slide.shapes.add_picture(img_path, left, top)`: Adds a picture to the slide at the specified position. The picture is a child of the slide.\n",
    "\n",
    "6. **Saving the Presentation**:\n",
    "   - `prs.save('example_presentation.pptx')`: Saves the presentation to a file.\n",
    "\n",
    "###Traversing the Graph:\n",
    "\n",
    "In this example, we traverse the graph as follows:\n",
    "\n",
    "- Start with the `Presentation` object (`prs`).\n",
    "- Access the `slides` property of the `Presentation` object to get a collection of slides.\n",
    "- Access the `shapes` property of a `Slide` object to get a collection of shapes on that slide.\n",
    "- Add new shapes (textbox, picture) by calling methods on the `shapes` collection of the slide.\n",
    "\n",
    "By working in this way, you interact with the presentation structure in an organized and hierarchical manner, without directly constructing objects for slides or shapes. Instead, you use the appropriate properties and methods provided by the `Presentation` object and its children.\n",
    "\n",
    "'''"
   ]
  },
  {
   "cell_type": "code",
   "execution_count": null,
   "metadata": {},
   "outputs": [],
   "source": []
  },
  {
   "cell_type": "markdown",
   "metadata": {},
   "source": [
    "'''\n",
    "The documentation snippet for the `Presentation` class from the `python-pptx` library provides important details about how to work with this class. Here’s a breakdown and explanation of the key points:\n",
    "\n",
    "###Key Points from the Documentation:\n",
    "\n",
    "1. **Class Name and Location**:\n",
    "   - `class pptx.presentation.Presentation`: Indicates that the `Presentation` class is located in the `pptx.presentation` module.\n",
    "\n",
    "2. **Description**:\n",
    "   - `PresentationML (PML) presentation`: Specifies that the `Presentation` class represents a PresentationML (PML) presentation. PresentationML is the XML-based format used by PowerPoint to represent a presentation.\n",
    "\n",
    "3. **Instantiation**:\n",
    "   - `Not intended to be constructed directly. Use pptx.Presentation() to open or create a presentation.`: This means you should not create instances of the `Presentation` class using the class constructor directly. Instead, you should use the `pptx.Presentation()` function provided by the `python-pptx` library to create or open a presentation.\n",
    "\n",
    "###Explanation with Example:\n",
    "\n",
    "####Correct Way to Create or Open a Presentation:\n",
    "\n",
    "You should use the `pptx.Presentation()` function to create a new presentation or open an existing one. This function returns an instance of the `Presentation` class, which is the main object you will interact with to manipulate the PowerPoint presentation.\n",
    "\n",
    "Here’s how you do it:\n",
    "\n",
    "1. **Creating a New Presentation**:\n",
    "   - When you call `pptx.Presentation()` without any arguments, it creates a new, empty presentation.\n",
    "\n",
    "```python\n",
    "from pptx import Presentation\n",
    "# Create a new, empty presentation\n",
    "prs = Presentation()\n",
    "prs.save('new_presentation.pptx')\n",
    "```\n",
    "\n",
    "2. **Opening an Existing Presentation**:\n",
    "   - When you call `pptx.Presentation('file_path')` with the path to an existing PowerPoint file, it opens that file.\n",
    "\n",
    "```python\n",
    "from pptx import Presentation\n",
    "# Open an existing presentation\n",
    "prs = Presentation('existing_presentation.pptx')\n",
    "# Access the first slide\n",
    "slide = prs.slides[0]\n",
    "# Print the title of the first slide\n",
    "title = slide.shapes.title\n",
    "print(title.text)\n",
    "# Save any changes to the presentation\n",
    "prs.save('modified_presentation.pptx')\n",
    "```\n",
    "\n",
    "###Why Not Construct Directly?\n",
    "\n",
    "The reason you should not construct the `Presentation` object directly (e.g., `prs = Presentation()`) is because the `pptx.Presentation()` function handles the necessary setup and configuration to correctly initialize a new or existing presentation. This includes setting up the underlying XML structure for a new presentation or correctly parsing an existing presentation file. Direct construction would bypass these important steps, potentially leading to incorrect or incomplete initialization of the presentation object.\n",
    "\n",
    "By using the `pptx.Presentation()` function, you ensure that the `Presentation` object is properly set up, making it ready for you to work with slides, shapes, text, and other elements of the presentation.\n",
    "\n",
    "###Summary:\n",
    "\n",
    "- **Class**: `pptx.presentation.Presentation`\n",
    "- **Description**: Represents a PresentationML (PML) presentation.\n",
    "- **Instantiation**: Use `pptx.Presentation()` to create or open a presentation, rather than directly instantiating the `Presentation` class.\n",
    "- **Purpose**: Ensures proper initialization and setup of the presentation object, whether creating a new one or opening an existing file.\n",
    "\n",
    "Using the `pptx.Presentation()` function is the correct and intended way to work with PowerPoint presentations in the `python-pptx` library.\n",
    "'''"
   ]
  },
  {
   "cell_type": "markdown",
   "metadata": {},
   "source": [
    "### ppt concepts"
   ]
  },
  {
   "cell_type": "code",
   "execution_count": 7,
   "metadata": {},
   "outputs": [
    {
     "data": {
      "text/plain": [
       "'PowerPoint Presentation'"
      ]
     },
     "execution_count": 7,
     "metadata": {},
     "output_type": "execute_result"
    }
   ],
   "source": [
    "prs.core_properties.title"
   ]
  },
  {
   "cell_type": "code",
   "execution_count": 17,
   "metadata": {},
   "outputs": [],
   "source": [
    "core_props=prs.core_properties\n",
    "core_props.author\n",
    "core_props.title='Sample Presentation'"
   ]
  },
  {
   "cell_type": "markdown",
   "metadata": {},
   "source": [
    "'''\n",
    "The `core_properties` is an attribute of the `Presentation` class in the `python-pptx` library. It is not a method, but rather a property that returns an instance of the `CoreProperties` class. This instance allows you to access and modify the core properties (metadata) of a PowerPoint presentation.\n",
    "\n",
    "Here’s how you can think about it:\n",
    "\n",
    "- **Attribute**: `core_properties` is an attribute of the `Presentation` class.\n",
    "- **Instance**: It provides an instance of the `CoreProperties` class, which contains various properties like `title`, `author`, `subject`, `keywords`, and more.\n",
    "\n",
    "When you access `prs.core_properties`, you get an object that you can use to get or set these metadata properties.\n",
    "\n",
    "Here's a bit more detail:\n",
    "\n",
    "```python\n",
    "from pptx import Presentation\n",
    "\n",
    "# Create a new presentation\n",
    "prs = Presentation()\n",
    "\n",
    "# Access the core properties\n",
    "core_properties = prs.core_properties\n",
    "\n",
    "# Check the type of core_properties\n",
    "print(type(core_properties))  # <class 'pptx.package.CoreProperties'>\n",
    "\n",
    "# Set some core properties\n",
    "core_properties.title = \"Sample Presentation\"\n",
    "core_properties.author = \"John Doe\"\n",
    "core_properties.subject = \"Example of core properties usage\"\n",
    "core_properties.keywords = \"python-pptx, presentation, metadata\"\n",
    "\n",
    "# Print the current core properties\n",
    "print(f\"Title: {core_properties.title}\")\n",
    "print(f\"Author: {core_properties.author}\")\n",
    "print(f\"Subject: {core_properties.subject}\")\n",
    "print(f\"Keywords: {core_properties.keywords}\")\n",
    "\n",
    "# Save the presentation to a file\n",
    "prs.save('example_with_properties.pptx')\n",
    "```\n",
    "\n",
    "In this example:\n",
    "- `prs.core_properties` accesses the `core_properties` attribute of the `Presentation` instance `prs`.\n",
    "- The `core_properties` attribute is an instance of `CoreProperties`, allowing you to set and get metadata properties like `title`, `author`, `subject`, and `keywords`.\n",
    "\n",
    "This provides a convenient way to manage the metadata of a PowerPoint presentation using the `python-pptx` library.\n",
    "\n",
    "'''\n",
    "\n",
    "'''\n",
    "Certainly! To find the definition of the `core_properties` attribute in the `python-pptx` library, you would typically look into the source code of the library. Here is a simplified version of how the `core_properties` attribute is defined and used within the `Presentation` class. This example assumes the structure of the library and shows how this attribute might be implemented.\n",
    "\n",
    "Here is a simplified and illustrative example:\n",
    "\n",
    "1. **In `pptx.presentation.Presentation` class**:\n",
    "\n",
    "```python\n",
    "# Import necessary classes\n",
    "from pptx.oxml.coreprops import CT_CoreProperties\n",
    "from pptx.package import CoreProperties\n",
    "\n",
    "class Presentation:\n",
    "    def __init__(self, pkg):\n",
    "        self._pkg = pkg\n",
    "        # Other initialization code...\n",
    "\n",
    "    @property\n",
    "    def core_properties(self):\n",
    "        \"\"\"\n",
    "        Instance of pptx.package.CoreProperties holding the core properties\n",
    "        (metadata) for this presentation.\n",
    "        \"\"\"\n",
    "        return self._pkg.core_properties\n",
    "```\n",
    "\n",
    "2. **In `pptx.package.Package` class**:\n",
    "\n",
    "```python\n",
    "class Package:\n",
    "    @property\n",
    "    def core_properties(self):\n",
    "        \"\"\"\n",
    "        The core properties part for this package.\n",
    "        \"\"\"\n",
    "        part = self.part_related_by(RT.CORE_PROPERTIES)\n",
    "        return CoreProperties(part)\n",
    "```\n",
    "\n",
    "3. **In `pptx.package.CoreProperties` class**:\n",
    "\n",
    "```python\n",
    "from pptx.oxml.ns import qn\n",
    "\n",
    "class CoreProperties:\n",
    "    def __init__(self, core_properties_part):\n",
    "        self._element = core_properties_part.element\n",
    "\n",
    "    @property\n",
    "    def title(self):\n",
    "        return self._get_element_text('dc:title')\n",
    "\n",
    "    @title.setter\n",
    "    def title(self, value):\n",
    "        self._set_element_text('dc:title', value)\n",
    "\n",
    "    # Similar properties for author, subject, keywords, etc.\n",
    "\n",
    "    def _get_element_text(self, tagname):\n",
    "        element = self._element.find(qn(tagname))\n",
    "        if element is None:\n",
    "            return None\n",
    "        return element.text\n",
    "\n",
    "    def _set_element_text(self, tagname, text):\n",
    "        element = self._element.find(qn(tagname))\n",
    "        if element is None:\n",
    "            element = SubElement(self._element, qn(tagname))\n",
    "        element.text = text\n",
    "```\n",
    "\n",
    "#Explanation\n",
    "\n",
    "1. **`Presentation` class**:\n",
    "    - The `core_properties` property is defined as a method decorated with `@property`.\n",
    "    - It returns the core properties associated with the presentation by accessing the core properties of the underlying package.\n",
    "\n",
    "2. **`Package` class**:\n",
    "    - The `core_properties` property is also defined as a method decorated with `@property`.\n",
    "    - It returns an instance of the `CoreProperties` class, which is created using the core properties part of the package.\n",
    "\n",
    "3. **`CoreProperties` class**:\n",
    "    - This class provides access to individual core properties (like title, author, etc.) via getter and setter methods.\n",
    "    - `_get_element_text` and `_set_element_text` methods are helper methods to read and write the text of specific XML elements.\n",
    "\n",
    "In a real scenario, you would find these classes and methods defined across various modules within the `python-pptx` library. The `core_properties` attribute enables users to interact with the metadata of a PowerPoint presentation in a straightforward manner.\n",
    "'''"
   ]
  },
  {
   "cell_type": "code",
   "execution_count": 31,
   "metadata": {},
   "outputs": [
    {
     "data": {
      "text/plain": [
       "<pptx.slide.SlideMasters at 0x1e5131b8e50>"
      ]
     },
     "metadata": {},
     "output_type": "display_data"
    },
    {
     "name": "stdout",
     "output_type": "stream",
     "text": [
      "<pptx.slide.SlideMaster object at 0x000001E5131875E0>\n",
      "2083379508704\n"
     ]
    },
    {
     "data": {
      "text/plain": [
       "<pptx.slide.SlideMaster at 0x1e5131875e0>"
      ]
     },
     "metadata": {},
     "output_type": "display_data"
    },
    {
     "data": {
      "text/plain": [
       "2083379508704"
      ]
     },
     "execution_count": 31,
     "metadata": {},
     "output_type": "execute_result"
    }
   ],
   "source": [
    "display(prs.slide_masters)   # it provides the memory address\n",
    "for i in prs.slide_masters:\n",
    "    print(i)\n",
    "    print(id(i))\n",
    "# When you use print(i) inside the loop, it prints the string representation of each SlideMaster object, which by default includes the memory address where that object is stored.\n",
    "\n",
    "display(prs.slide_masters[0])   #> gives memory address in hexadecimal format <pptx.slide.SlideMaster at 0x1e5131875e0>\n",
    "id(prs.slide_masters[0])    #> memory address in decimal format 2083379508704.\n",
    "# prs.slide_masters[1]    #>IndexError: list index out of range (as there is only one slide master which is at index position 0)"
   ]
  },
  {
   "cell_type": "markdown",
   "metadata": {},
   "source": [
    "'''\n",
    "The `id()` function returns the identity of an object, which is a unique integer for the object and is often its memory address. When you print an object directly, such as a `SlideMaster` object, Python's default string representation of the object includes the memory address in hexadecimal format.\n",
    "\n",
    "Here's a detailed breakdown:\n",
    "\n",
    "1. **Direct Object Representation**: When you print an object directly, e.g., `<pptx.slide.SlideMaster object at 0x1e5131b8e50>`, Python uses the `__repr__` method of the object to give a string that includes the type and memory address of the object. The address is shown in hexadecimal format (`0x1e5131b8e50`).\n",
    "\n",
    "2. **Using `id()`**: When you use `id(obj)`, it returns the memory address (or unique identifier) of the object in decimal format. For example, if `id(obj)` returns `2083379508704`, it means the memory address in decimal format is `2083379508704`.\n",
    "\n",
    "To convert between these formats:\n",
    "\n",
    "- **Hexadecimal to Decimal**:\n",
    "  - `0x1e5131b8e50` is the hexadecimal representation.\n",
    "  - To convert it to decimal: `int('1e5131b8e50', 16)`.\n",
    "\n",
    "- **Decimal to Hexadecimal**:\n",
    "  - `2083379508704` is the decimal representation.\n",
    "  - To convert it to hexadecimal: `hex(2083379508704)`.\n",
    "\n",
    "You can verify this with a simple example:\n",
    "\n",
    "```python\n",
    "obj = prs.slide_masters[0]\n",
    "\n",
    "# Direct representation\n",
    "print(obj)  # e.g., <pptx.slide.SlideMaster object at 0x1e5131b8e50>\n",
    "\n",
    "# Using id()\n",
    "obj_id = id(obj)\n",
    "print(obj_id)  # e.g., 2083379508704\n",
    "\n",
    "# Convert decimal id to hexadecimal\n",
    "print(hex(obj_id))  # e.g., 0x1e5131b8e50\n",
    "```\n",
    "\n",
    "This should show that the hexadecimal value from `hex(id(obj))` matches the memory address shown in the direct representation of the object.\n",
    "'''"
   ]
  },
  {
   "cell_type": "markdown",
   "metadata": {},
   "source": [
    "### SLIDES\n",
    "---\n",
    "---"
   ]
  },
  {
   "cell_type": "markdown",
   "metadata": {},
   "source": [
    "#### adding new slide"
   ]
  },
  {
   "cell_type": "code",
   "execution_count": null,
   "metadata": {},
   "outputs": [],
   "source": [
    "my_slidemaster=prs.slide_masters[0]\n",
    "idx0_layout=my_slidemaster.slide_layouts[1]\n",
    "new_slide1=prs.slides.add_slide(idx0_layout)\n",
    "\n",
    "prs.save(new_file_name)\n",
    "\n",
    "\n",
    "# An individual Slide object is accessed by index from Slides or as the return value of add_slide().\n"
   ]
  },
  {
   "cell_type": "code",
   "execution_count": 35,
   "metadata": {},
   "outputs": [
    {
     "data": {
      "text/plain": [
       "<pptx.slide.SlideLayouts at 0x22ef3f45650>"
      ]
     },
     "metadata": {},
     "output_type": "display_data"
    },
    {
     "data": {
      "text/plain": [
       "<pptx.slide.SlideLayouts at 0x22ef3f45650>"
      ]
     },
     "metadata": {},
     "output_type": "display_data"
    },
    {
     "name": "stdout",
     "output_type": "stream",
     "text": [
      " index-0, layout-<pptx.slide.SlideLayout object at 0x0000022EF40F3D90>, part-<pptx.parts.slide.SlideLayoutPart object at 0x0000022EE8CDD910>\n",
      " index-1, layout-<pptx.slide.SlideLayout object at 0x0000022EF4EF1A50>, part-<pptx.parts.slide.SlideLayoutPart object at 0x0000022EE8CDDC10>\n",
      " index-2, layout-<pptx.slide.SlideLayout object at 0x0000022EF3D89990>, part-<pptx.parts.slide.SlideLayoutPart object at 0x0000022EE8CDD410>\n",
      " index-3, layout-<pptx.slide.SlideLayout object at 0x0000022EF4D0D0D0>, part-<pptx.parts.slide.SlideLayoutPart object at 0x0000022EE8CDC690>\n",
      " index-4, layout-<pptx.slide.SlideLayout object at 0x0000022EF46F3AD0>, part-<pptx.parts.slide.SlideLayoutPart object at 0x0000022EE8CDCB90>\n",
      " index-5, layout-<pptx.slide.SlideLayout object at 0x0000022EF46D0D90>, part-<pptx.parts.slide.SlideLayoutPart object at 0x0000022EE8CDD210>\n",
      " index-6, layout-<pptx.slide.SlideLayout object at 0x0000022EF46F3B10>, part-<pptx.parts.slide.SlideLayoutPart object at 0x0000022EF43A19D0>\n",
      " index-7, layout-<pptx.slide.SlideLayout object at 0x0000022EF46F0790>, part-<pptx.parts.slide.SlideLayoutPart object at 0x0000022EE8CDD190>\n",
      " index-8, layout-<pptx.slide.SlideLayout object at 0x0000022EF46F3950>, part-<pptx.parts.slide.SlideLayoutPart object at 0x0000022EE8CDDCD0>\n",
      " index-9, layout-<pptx.slide.SlideLayout object at 0x0000022EF46F1F90>, part-<pptx.parts.slide.SlideLayoutPart object at 0x0000022EE8CDD5D0>\n"
     ]
    }
   ],
   "source": [
    "## working with slide layouts\n",
    "\n",
    "display(prs.slide_masters[0].slide_layouts)\n",
    "display(prs.slide_master.slide_layouts)\n",
    "\n",
    "sl=prs.slide_master.slide_layouts   #> will give a SlideLayout object i.e pptx.slide.SlideLayouts\n",
    "sl  #> it is SlideLayout object\n",
    "sl[0]   #> it is the first slide of the slide-layout\n",
    "sl.get_by_name('incidence_slide')\n",
    "# index method\n",
    "sl.index(sl[1]) \n",
    "for i,layout in enumerate(sl):\n",
    "    part=layout.part\n",
    "    print(f' index-{i}, layout-{layout}, part-{layout.part}')"
   ]
  },
  {
   "cell_type": "code",
   "execution_count": 32,
   "metadata": {},
   "outputs": [
    {
     "data": {
      "text/plain": [
       "<pptx.slide.SlideLayouts at 0x22ef3f45650>"
      ]
     },
     "execution_count": 32,
     "metadata": {},
     "output_type": "execute_result"
    }
   ],
   "source": [
    "prs.slide_layouts"
   ]
  },
  {
   "cell_type": "code",
   "execution_count": 27,
   "metadata": {},
   "outputs": [
    {
     "data": {
      "text/plain": [
       "1"
      ]
     },
     "execution_count": 27,
     "metadata": {},
     "output_type": "execute_result"
    }
   ],
   "source": [
    "# prs.slide_layouts[0].index\n"
   ]
  },
  {
   "cell_type": "code",
   "execution_count": null,
   "metadata": {},
   "outputs": [
    {
     "data": {
      "text/plain": [
       "<pptx.slide.SlideLayouts at 0x1e513187400>"
      ]
     },
     "metadata": {},
     "output_type": "display_data"
    },
    {
     "data": {
      "text/plain": [
       "2083379508176"
      ]
     },
     "metadata": {},
     "output_type": "display_data"
    }
   ],
   "source": [
    "for i in prs.slide_masters[0].slide_layouts:\n",
    "    # print(id(i))\n",
    "    pass\n",
    "\n",
    "display(prs.slide_masters[0].slide_layouts)\n",
    "display(id(prs.slide_masters[0].slide_layouts[0]))"
   ]
  },
  {
   "cell_type": "code",
   "execution_count": 88,
   "metadata": {},
   "outputs": [],
   "source": [
    "# adding a new slide using name of the slide in the slide layout using get_by_name method.\n",
    "incidence_layout=prs.slide_master.slide_layouts.get_by_name('incidence_slide')\n",
    "prs.slides.add_slide(incidence_layout)\n",
    "\n",
    "prs.save(new_file_name)"
   ]
  },
  {
   "cell_type": "markdown",
   "metadata": {},
   "source": [
    "''' ??\n",
    "  def add_slide(self, slide_layout):\n",
    "        \"\"\"\n",
    "        Return a newly added slide that inherits layout from *slide_layout*.\n",
    "        \"\"\"\n",
    "        rId, slide = self.part.add_slide(slide_layout)\n",
    "        slide.shapes.clone_layout_placeholders(slide_layout)\n",
    "        self._sldIdLst.add_sldId(rId)\n",
    "        return slide\n",
    "The above is python-pptx source code for add_slide function. Please explain it to me \n",
    "\n",
    "///////////////////////////////////////////////////\n",
    "\n",
    "Certainly! Let's break down the `add_slide` method in the `python-pptx` library and explain what each part of the function does.\n",
    "\n",
    "###`add_slide` Method\n",
    "\n",
    "```python\n",
    "def add_slide(self, slide_layout):\n",
    "    \"\"\"\n",
    "    Return a newly added slide that inherits layout from *slide_layout*.\n",
    "    \"\"\"\n",
    "    rId, slide = self.part.add_slide(slide_layout)\n",
    "    slide.shapes.clone_layout_placeholders(slide_layout)\n",
    "    self._sldIdLst.add_sldId(rId)\n",
    "    return slide\n",
    "```\n",
    "\n",
    "###Explanation\n",
    "\n",
    "1. **Method Signature and Docstring**:\n",
    "   ```python\n",
    "   def add_slide(self, slide_layout):\n",
    "       \"\"\"\n",
    "       Return a newly added slide that inherits layout from *slide_layout*.\n",
    "       \"\"\"\n",
    "   ```\n",
    "   - **Method Signature**: The method is defined to take two parameters, `self` (which refers to the instance of the `Slides` class) and `slide_layout` (which specifies the layout to be used for the new slide).\n",
    "   - **Docstring**: A brief description of what the method does: it returns a newly added slide that inherits its layout from `slide_layout`.\n",
    "\n",
    "2. **Adding the Slide**:\n",
    "   ```python\n",
    "   rId, slide = self.part.add_slide(slide_layout)\n",
    "   ```\n",
    "   - **Call to `self.part.add_slide(slide_layout)`**: This method call is likely made to the `PresentationPart` object associated with the `Slides` collection. It adds a new slide with the specified layout.\n",
    "   - **Return Values**: This method returns two values: `rId` (the relationship ID of the new slide) and `slide` (the newly created slide object).\n",
    "\n",
    "3. **Cloning Layout Placeholders**:\n",
    "   ```python\n",
    "   slide.shapes.clone_layout_placeholders(slide_layout)\n",
    "   ```\n",
    "   - **`slide.shapes`**: Accesses the `shapes` collection of the newly created slide.\n",
    "   - **`clone_layout_placeholders(slide_layout)`**: This method clones the placeholders (e.g., title, content boxes) from the specified `slide_layout` to the new slide. This ensures that the new slide has the same placeholders as the layout it is based on.\n",
    "\n",
    "4. **Adding Slide ID**:\n",
    "   ```python\n",
    "   self._sldIdLst.add_sldId(rId)\n",
    "   ```\n",
    "   - **`self._sldIdLst`**: This is the internal list that keeps track of the slide IDs in the presentation.\n",
    "   - **`add_sldId(rId)`**: Adds the relationship ID (`rId`) of the new slide to this list. This step is essential for maintaining the internal structure and references within the presentation.\n",
    "\n",
    "5. **Returning the New Slide**:\n",
    "   ```python\n",
    "   return slide\n",
    "   ```\n",
    "   - The method returns the newly created slide object.\n",
    "\n",
    "###Putting It All Together\n",
    "\n",
    "The `add_slide` method does the following:\n",
    "\n",
    "1. Calls a method on the `PresentationPart` object to add a new slide with the specified layout.\n",
    "2. Clones the layout placeholders from the specified layout to the new slide, ensuring that the new slide has the same layout structure.\n",
    "3. Adds the relationship ID of the new slide to the internal list of slide IDs.\n",
    "4. Returns the newly created slide object.\n",
    "\n",
    "###Example Usage\n",
    "\n",
    "Here's how you might use this method in practice:\n",
    "\n",
    "```python\n",
    "from pptx import Presentation\n",
    "\n",
    "# Create a new presentation\n",
    "prs = Presentation()\n",
    "\n",
    "# Choose a slide layout (e.g., Title Slide)\n",
    "slide_layout = prs.slide_layouts[0]\n",
    "\n",
    "# Add a new slide with the chosen layout\n",
    "new_slide = prs.slides.add_slide(slide_layout)\n",
    "\n",
    "# Set the title text for the new slide\n",
    "title_shape = new_slide.shapes.title\n",
    "title_shape.text = \"New Slide Title\"\n",
    "\n",
    "# Save the presentation\n",
    "prs.save('example_presentation.pptx')\n",
    "```\n",
    "\n",
    "In this example, we create a new presentation, choose a slide layout, add a new slide with that layout, set the title text for the new slide, and save the presentation. The `add_slide` method is responsible for creating the new slide and ensuring it inherits the specified layout.\n",
    "'''\n",
    "'''\n",
    "///////////////////////////////////////////////////\n",
    "\n",
    "can you please explain what is part here. what do you mean by collection here. what is PresentationPart object. to explain you can refer the open source code present at github https://github.com/scanny/python-pptx\n",
    "\n",
    "Certainly! Let's delve deeper into the concepts of `part`, `collection`, and `PresentationPart` in the context of `python-pptx`.\n",
    "\n",
    "###Understanding `part`, `collection`, and `PresentationPart`\n",
    "\n",
    "1. **`part`**:\n",
    "   - In `python-pptx`, the `part` attribute typically refers to an instance of a `Part` object that represents a part of the presentation package (an Open XML package). In the case of slides, `part` refers to the `PresentationPart` object, which is responsible for managing the slides and their relationships within the presentation.\n",
    "\n",
    "2. **Collection**:\n",
    "   - A collection in `python-pptx` is an object that groups together multiple related objects and provides methods to interact with them. For example, the `Slides` object is a collection that groups together all the slides in a presentation. It provides methods to add, remove, and access individual slides.\n",
    "\n",
    "3. **`PresentationPart`**:\n",
    "   - `PresentationPart` is a class in `python-pptx` that represents the main part of the PowerPoint presentation. It contains references to all slides, slide layouts, slide masters, and other components that make up the presentation. The `add_slide` method in `PresentationPart` is responsible for adding a new slide to the presentation and setting up its relationships and content.\n",
    "\n",
    "###Source Code Exploration\n",
    "\n",
    "To understand these concepts better, let's look at some relevant parts of the `python-pptx` source code from its GitHub repository.\n",
    "\n",
    "1. **`Slides` Class**:\n",
    "   - The `Slides` class is found in `pptx/slide.py`. It manages the collection of slides in a presentation.\n",
    "\n",
    "   ```python\n",
    "   class Slides(ParentedElementProxy):\n",
    "       ...\n",
    "       def add_slide(self, slide_layout):\n",
    "           \"\"\"\n",
    "           Return a newly added slide that inherits layout from *slide_layout*.\n",
    "           \"\"\"\n",
    "           rId, slide = self.part.add_slide(slide_layout)\n",
    "           slide.shapes.clone_layout_placeholders(slide_layout)\n",
    "           self._sldIdLst.add_sldId(rId)\n",
    "           return slide\n",
    "   ```\n",
    "\n",
    "2. **`PresentationPart` Class**:\n",
    "   - The `PresentationPart` class is found in `pptx/parts/presentation.py`. It represents the main part of the presentation.\n",
    "\n",
    "   ```python\n",
    "   class PresentationPart(BasePart):\n",
    "       ...\n",
    "       def add_slide(self, slide_layout):\n",
    "           \"\"\"\n",
    "           Return (rId, slide) pair for newly added slide that inherits layout\n",
    "           from *slide_layout*.\n",
    "           \"\"\"\n",
    "           slide = Slide.new(self, slide_layout)\n",
    "           self._sldIdLst.append(slide)\n",
    "           rId = self.relate_to(slide, RT.SLIDE)\n",
    "           return rId, slide\n",
    "   ```\n",
    "\n",
    "###Detailed Explanation\n",
    "\n",
    "1. **`Slides` Class**:\n",
    "   - **Inheritance**: The `Slides` class inherits from `ParentedElementProxy`, which means it acts as a proxy to its parent element (in this case, the `Presentation` object).\n",
    "   - **add_slide Method**: This method calls `self.part.add_slide(slide_layout)`. Here, `self.part` refers to the `PresentationPart` object associated with the `Slides` collection.\n",
    "\n",
    "2. **`PresentationPart` Class**:\n",
    "   - **add_slide Method**: This method creates a new slide (`Slide.new(self, slide_layout)`) and sets up its relationships. It returns a tuple `(rId, slide)`, where `rId` is the relationship ID and `slide` is the newly created slide object.\n",
    "\n",
    "###Example in Context\n",
    "\n",
    "Here's a complete example that ties everything together:\n",
    "\n",
    "```python\n",
    "from pptx import Presentation\n",
    "\n",
    "# Create a new presentation\n",
    "prs = Presentation()\n",
    "\n",
    "# Choose a slide layout (e.g., Title Slide)\n",
    "slide_layout = prs.slide_layouts[0]\n",
    "\n",
    "# Add a new slide with the chosen layout\n",
    "new_slide = prs.slides.add_slide(slide_layout)\n",
    "\n",
    "# Set the title text for the new slide\n",
    "title_shape = new_slide.shapes.title\n",
    "title_shape.text = \"New Slide Title\"\n",
    "\n",
    "# Save the presentation\n",
    "prs.save('example_presentation.pptx')\n",
    "```\n",
    "\n",
    "###Summary\n",
    "\n",
    "- **`part`**: Refers to the `PresentationPart` object associated with the `Slides` collection, managing the main part of the presentation.\n",
    "- **Collection**: The `Slides` class acts as a collection, grouping together all slides and providing methods to interact with them.\n",
    "- **`PresentationPart`**: Manages the slides and their relationships within the presentation, handling tasks like adding new slides.\n",
    "\n",
    "The `add_slide` method in the `Slides` class leverages the `PresentationPart` class to create and manage slides, ensuring that each new slide is correctly integrated into the presentation structure.\n",
    "'''"
   ]
  },
  {
   "cell_type": "markdown",
   "metadata": {},
   "source": [
    "#### get ==> \n"
   ]
  },
  {
   "cell_type": "markdown",
   "metadata": {},
   "source": [
    "``` python\n",
    "prs.slides.get(slide_id=slide ki id, default=text to be printed if slide id not found(default is None))\n",
    "  # way to get slide id \n",
    "  new_slide1.slide_id\n",
    "```\n",
    "The `get` method of the `Slides` object in `python-pptx` allows you to retrieve a slide by its unique slide ID. If the slide with the specified ID does not exist, it returns a default value (which is `None` by default).\n",
    "\n",
    "###Key Points from the Documentation:\n",
    "\n",
    "- **Method Signature**: `get(slide_id, default=None)`\n",
    "  - **slide_id**: The integer ID of the slide you want to retrieve.\n",
    "  - **default**: The value to return if the slide with the specified ID is not found. The default value is `None`."
   ]
  },
  {
   "cell_type": "code",
   "execution_count": 68,
   "metadata": {},
   "outputs": [
    {
     "data": {
      "text/plain": [
       "<pptx.slide.Slide at 0x1e517acb1f0>"
      ]
     },
     "metadata": {},
     "output_type": "display_data"
    },
    {
     "data": {
      "text/plain": [
       "'slide not found'"
      ]
     },
     "metadata": {},
     "output_type": "display_data"
    },
    {
     "data": {
      "text/plain": [
       "<pptx.slide.Slide at 0x1e513195760>"
      ]
     },
     "execution_count": 68,
     "metadata": {},
     "output_type": "execute_result"
    }
   ],
   "source": [
    "display(prs.slides.get(new_slide1.slide_id, default='slide not found'))\n",
    "display(prs.slides.get(1, default='slide not found'))\n",
    "\n",
    "index_slide_id=index_slide.slide_id\n",
    "retrived_index_slide=prs.slides.get(index_slide_id, default='index slide not found')\n",
    "retrived_index_slide\n"
   ]
  },
  {
   "cell_type": "markdown",
   "metadata": {},
   "source": [
    "#### index\n"
   ]
  },
  {
   "cell_type": "markdown",
   "metadata": {},
   "source": [
    "``` python\n",
    "prs.slides.index(slide=slide_name)\n",
    "```\n",
    "Map slide to an integer representing its zero-based position in this slide collection.\n",
    "\n",
    "i.e. gives the index position of the slide in the ppt(zero based indexing is used). \n",
    "\n",
    "Raises ValueError on slide not present."
   ]
  },
  {
   "cell_type": "code",
   "execution_count": 69,
   "metadata": {},
   "outputs": [
    {
     "data": {
      "text/plain": [
       "8"
      ]
     },
     "metadata": {},
     "output_type": "display_data"
    },
    {
     "data": {
      "text/plain": [
       "1"
      ]
     },
     "execution_count": 69,
     "metadata": {},
     "output_type": "execute_result"
    }
   ],
   "source": [
    "display(prs.slides.index(new_slide1))\n",
    "prs.slides.index(index_slide)"
   ]
  },
  {
   "cell_type": "code",
   "execution_count": null,
   "metadata": {},
   "outputs": [
    {
     "data": {
      "text/plain": [
       "pptx.shapes.shapetree.SlidePlaceholders"
      ]
     },
     "metadata": {},
     "output_type": "display_data"
    }
   ],
   "source": [
    "# for i in demography_relation_slide.placeholders:\n",
    "#     print(i)\n",
    "# type(demography_relation_slide.placeholders)"
   ]
  },
  {
   "cell_type": "markdown",
   "metadata": {},
   "source": [
    "#### background"
   ]
  },
  {
   "cell_type": "code",
   "execution_count": 76,
   "metadata": {},
   "outputs": [
    {
     "data": {
      "text/plain": [
       "pptx.slide._Background"
      ]
     },
     "metadata": {},
     "output_type": "display_data"
    }
   ],
   "source": [
    "display(type(index_slide.background))   #pptx.slide._Background\n",
    "slide_bg=index_slide.background # provides _Background object providing slide background properties.\n",
    "slide_bg.fill.solid()\n",
    "slide_bg.fill.fore_color.rgb = RGBColor(255,228,225)\n",
    "prs.save(new_file_name)"
   ]
  },
  {
   "cell_type": "code",
   "execution_count": 83,
   "metadata": {},
   "outputs": [],
   "source": [
    "index_slide.follow_master_background\n",
    "index_slide.has_notes_slide\n",
    "ndex_slide.name\n",
    "# index_slide.name='Index Slide'\n",
    "index_slide.slide_layout"
   ]
  },
  {
   "cell_type": "code",
   "execution_count": 86,
   "metadata": {},
   "outputs": [
    {
     "data": {
      "text/plain": [
       "<pptx.slide.SlideLayout at 0x1e5131d2fa0>"
      ]
     },
     "execution_count": 86,
     "metadata": {},
     "output_type": "execute_result"
    }
   ],
   "source": []
  },
  {
   "cell_type": "markdown",
   "metadata": {},
   "source": [
    "###  [SHAPES](https://python-pptx.readthedocs.io/en/latest/api/shapes.html)\n",
    "---\n",
    "---"
   ]
  },
  {
   "cell_type": "markdown",
   "metadata": {},
   "source": [
    "#### basic"
   ]
  },
  {
   "cell_type": "code",
   "execution_count": null,
   "metadata": {},
   "outputs": [],
   "source": [
    "'''\n",
    "Understanding Shapes\n",
    "Pretty much anything on a slide is a shape; the only thing I can think of that can appear on a slide that’s not a shape is a slide background. There are between six and ten different types of shape, depending how you count. I’ll explain some of the general shape concepts you’ll need to make sense of how to work with them and then we’ll jump right into working with the specific types.\n",
    "\n",
    "Technically there are six and only six different types of shapes that can be placed on a slide:\n",
    "\n",
    "auto shape\n",
    "This is a regular shape, like a rectangle, an ellipse, or a block arrow. They come in a large variety of preset shapes, in the neighborhood of 180 different ones. An auto shape can have a fill and an outline, and can contain text. Some auto shapes have adjustments, the little yellow diamonds you can drag to adjust how round the corners of a rounded rectangle are for example. A text box is also an autoshape, a rectangular one, just by default without a fill and without an outline.\n",
    "picture\n",
    "A raster image, like a photograph or clip art is referred to as a picture in PowerPoint. It’s its own kind of shape with different behaviors than an autoshape. Note that an auto shape can have a picture fill, in which an image “shows through” as the background of the shape instead of a fill color or gradient. That’s a different thing. But cool.\n",
    "graphic frame\n",
    "This is the technical name for the container that holds a table, a chart, a smart art diagram, or media clip. You can’t add one of these by itself, it just shows up in the file when you add a graphical object. You probably won’t need to know anything more about these.\n",
    "group shape\n",
    "In PowerPoint, a set of shapes can be grouped, allowing them to be selected, moved, resized, and even filled as a unit. When you group a set of shapes a group shape gets created to contain those member shapes. You can’t actually see these except by their bounding box when the group is selected.\n",
    "line/connector\n",
    "Lines are different from auto shapes because, well, they’re linear. Some lines can be connected to other shapes and stay connected when the other shape is moved. These aren’t supported yet either so I don’t know much more about them. I’d better get to these soon though, they seem like they’d be very handy.\n",
    "content part\n",
    "I actually have only the vaguest notion of what these are. It has something to do with embedding “foreign” XML like SVG in with the presentation. I’m pretty sure PowerPoint itself doesn’t do anything with these. My strategy is to ignore them. Working good so far.\n",
    "As for real-life shapes, there are these nine types:\n",
    "\n",
    "shape shapes – auto shapes with fill and an outline\n",
    "text boxes – auto shapes with no fill and no outline\n",
    "placeholders – auto shapes that can appear on a slide layout or master and be inherited on slides that use that layout, allowing content to be added that takes on the formatting of the placeholder\n",
    "line/connector – as described above\n",
    "picture – as described above\n",
    "table – that row and column thing\n",
    "chart – pie chart, line chart, etc.\n",
    "smart art – not supported yet, although preserved if present\n",
    "media clip – video or audio\n",
    "Accessing the shapes on a slide\n",
    "Each slide has a shape tree that holds its shapes. It’s called a tree because it’s hierarchical in the general case; a node in the shape tree can be a group shape which itself can contain shapes and has the same semantics as the shape tree. For most purposes the shape tree has list semantics. You gain access to it like so:\n",
    "\n",
    "shapes = slide.shapes\n",
    "We’ll see a lot more of the shape tree in the next few sections.\n",
    "'''"
   ]
  },
  {
   "cell_type": "code",
   "execution_count": null,
   "metadata": {},
   "outputs": [],
   "source": [
    "shapes = new_slide1.shapes\n",
    "\n",
    "title_shape= shapes.title\n",
    "display(title_shape)\n",
    "title_shape.text= 'This the title of title shape.' # will give error \"AttributeError: 'NoneType' object has no attribute 'text'\" as this slide is based on 3rd layout which don't have the default title placeholder provided by ppt\n"
   ]
  },
  {
   "cell_type": "code",
   "execution_count": 5,
   "metadata": {},
   "outputs": [],
   "source": [
    "\n",
    "new_slide2= prs.slides.add_slide(prs.slide_master.slide_layouts[4])\n",
    "prs.save(new_file_name)\n",
    "new_slide2.shapes.title.text='This is title of slide'\n",
    "prs.save(new_file_name)"
   ]
  },
  {
   "cell_type": "markdown",
   "metadata": {},
   "source": [
    "'''\n",
    "SlideShapes objects\n",
    "The SlideShapes object is encountered as the shapes property of Slide.\n",
    "\n",
    "class pptx.shapes.shapetree.SlideShapes\n",
    "Sequence of shapes appearing on a slide.\n",
    "\n",
    "The first shape in the sequence is the backmost in z-order and the last shape is topmost. \n",
    "\n",
    "###Understanding `pptx.shapes.shapetree.SlideShapes`\n",
    "\n",
    "The `SlideShapes` class in `python-pptx` represents a sequence of shapes that appear on a slide. This class is accessed through the `shapes` property of a `Slide` object. The `SlideShapes` class provides methods to interact with the shapes on a slide, such as adding, removing, and iterating through shapes.\n",
    "\n",
    "###Key Points\n",
    "\n",
    "1. **Sequence of Shapes:**\n",
    "   - `SlideShapes` is a sequence, meaning it behaves like a list. You can access shapes by their index, iterate over them, and determine the number of shapes using the `len()` function.\n",
    "   \n",
    "2. **Z-Order:**\n",
    "   - The sequence of shapes follows a z-order, where the first shape in the sequence is the backmost (farthest in the background) and the last shape is the topmost (closest to the foreground). Z-order determines the stacking order of shapes on the slide.\n",
    "\n",
    "###Z-Order Explained\n",
    "\n",
    "Z-order is a concept that defines the stacking order of elements along the z-axis (depth). In the context of PowerPoint slides:\n",
    "- **Backmost Shape:** The shape that appears behind all other shapes.\n",
    "- **Topmost Shape:** The shape that appears in front of all other shapes.\n",
    "\n",
    "\n",
    "###XML Representation of Shapes\n",
    "\n",
    "In the XML structure of a PowerPoint slide, the shapes are represented as elements within the `spTree` (shape tree) element. Here is a simplified example:\n",
    "\n",
    "```xml\n",
    "<p:sld xmlns:a=\"http://schemas.openxmlformats.org/drawingml/2006/main\"\n",
    "       xmlns:r=\"http://schemas.openxmlformats.org/officeDocument/2006/relationships\"\n",
    "       xmlns:p=\"http://schemas.openxmlformats.org/presentationml/2006/main\">\n",
    "  <p:cSld>\n",
    "    <p:spTree>\n",
    "      <!-- Shape 1: Rectangle -->\n",
    "      <p:sp>\n",
    "        <p:nvSpPr>\n",
    "          <p:cNvPr id=\"2\" name=\"Rectangle 1\"/>\n",
    "          <p:cNvSpPr>\n",
    "            <a:spLocks noGrp=\"1\"/>\n",
    "          </p:cNvSpPr>\n",
    "          <p:nvPr/>\n",
    "        </p:nvSpPr>\n",
    "        <p:spPr>\n",
    "          <a:xfrm>\n",
    "            <a:off x=\"1828800\" y=\"1828800\"/>\n",
    "            <a:ext cx=\"1828800\" cy=\"1828800\"/>\n",
    "          </a:xfrm>\n",
    "          <a:prstGeom prst=\"rect\">\n",
    "            <a:avLst/>\n",
    "          </a:prstGeom>\n",
    "        </p:spPr>\n",
    "      </p:sp>\n",
    "\n",
    "      <!-- Shape 2: Oval (Circle) -->\n",
    "      <p:sp>\n",
    "        <p:nvSpPr>\n",
    "          <p:cNvPr id=\"3\" name=\"Oval 1\"/>\n",
    "          <p:cNvSpPr>\n",
    "            <a:spLocks noGrp=\"1\"/>\n",
    "          </p:cNvSpPr>\n",
    "          <p:nvPr/>\n",
    "        </p:nvSpPr>\n",
    "        <p:spPr>\n",
    "          <a:xfrm>\n",
    "            <a:off x=\"2743200\" y=\"2743200\"/>\n",
    "            <a:ext cx=\"1828800\" cy=\"1828800\"/>\n",
    "          </a:xfrm>\n",
    "          <a:prstGeom prst\n",
    "\n",
    "'''"
   ]
  },
  {
   "cell_type": "code",
   "execution_count": 11,
   "metadata": {},
   "outputs": [
    {
     "name": "stdout",
     "output_type": "stream",
     "text": [
      "Shape 0: AUTO_SHAPE (1), z-order: 0\n",
      "Shape 1: AUTO_SHAPE (1), z-order: 1\n",
      "Shape 2: TEXT_BOX (17), z-order: 2\n"
     ]
    }
   ],
   "source": [
    "###Example Code\n",
    "\n",
    "# Access the shape tree of the slide\n",
    "shape_tree = new_slide.shapes # This retrieves the shape tree (sequence/list of shapes) of the slide.\n",
    "\n",
    "# Add shape to the slide\n",
    "rect = shape_tree.add_shape(\n",
    "    MSO_SHAPE.RECTANGLE, Inches(2), Inches(2), Inches(2), Inches(2)\n",
    ")\n",
    "circle = shape_tree.add_shape(\n",
    "    MSO_SHAPE.OVAL, Inches(3), Inches(3), Inches(2), Inches(2)\n",
    ")\n",
    "textbox = shape_tree.add_textbox(\n",
    "    Inches(4), Inches(4), Inches(2), Inches(1)\n",
    ")\n",
    "textbox.text = \"This is a text box\"\n",
    "\n",
    "# Print details about the shape\n",
    "for i, shape in enumerate(shape_tree):\n",
    "    print(f\"Shape {i}: {shape.shape_type}, z-order: {i}\")\n",
    "\n",
    "# Save the presentation\n",
    "prs.save(new_file_name)\n"
   ]
  },
  {
   "cell_type": "markdown",
   "metadata": {},
   "source": [
    "#### add_chart\n"
   ]
  },
  {
   "cell_type": "code",
   "execution_count": null,
   "metadata": {},
   "outputs": [],
   "source": []
  },
  {
   "cell_type": "markdown",
   "metadata": {},
   "source": [
    "'''\n",
    "**add_chart(chart_type, x, y, cx, cy, chart_data)**\n",
    "\n",
    "Add a new chart of chart_type to the slide.\n",
    "```python\n",
    "from pptx.enum.chart import XL_CHART_TYPE\n",
    "```\n",
    "\n",
    "The chart is positioned at (x, y), has size (cx, cy), and depicts chart_data. chart_type is one of the [XL_CHART_TYPE](https://python-pptx.readthedocs.io/en/latest/api/enum/XlChartType.html#xlcharttype) enumeration values. chart_data is a ChartData object populated with the categories and series values for the chart.\n",
    "\n",
    "*Note that a GraphicFrame shape object is returned, not the Chart object contained in that graphic frame shape. The chart object may be accessed using the chart property of the returned GraphicFrame object.*\n",
    "'''"
   ]
  },
  {
   "cell_type": "markdown",
   "metadata": {},
   "source": [
    "``` python\n",
    "assert 1 + 1 == 2  # This will pass because the condition is True\n",
    "assert 1 + 1 == 3  # This will raise an AssertionError because the condition is False\n",
    "```\n",
    "The assert statement is used as a debugging aid that tests a condition. Here’s a breakdown of how it works:\n",
    "\n",
    "Condition Testing:\n",
    "\n",
    "The expression following the assert keyword is evaluated.\n",
    "If the expression is True, nothing happens, and the program continues to execute.\n",
    "If the expression is False, an AssertionError is raised, optionally with a specified error message."
   ]
  },
  {
   "cell_type": "code",
   "execution_count": 14,
   "metadata": {},
   "outputs": [],
   "source": [
    "new_slide3= prs.slides.add_slide(prs.slide_master.slide_layouts[3])\n",
    "\n",
    "chart_data=CategoryChartData()\n",
    "chart_data.categories = ['a','b','c']\n",
    "chart_data.add_series('s1',(1,2,3))\n",
    "chart_data.add_series('s2',(1.5,2.5,3.5))\n",
    "chart_data.add_series('s3',(3,4,5))\n",
    "\n",
    "x,y,cx,cy=Inches(2), Inches(2), Inches(6), Inches(4.5),\n",
    "graphic_frame = new_slide3.shapes.add_chart(XL_CHART_TYPE.COLUMN_CLUSTERED, x,y,cx,cy,chart_data)\n",
    "\n",
    "chart=graphic_frame.chart\n",
    "\n",
    "prs.save(new_file_name)"
   ]
  },
  {
   "cell_type": "markdown",
   "metadata": {},
   "source": [
    "## EXTRA\n",
    "---\n",
    "---"
   ]
  },
  {
   "cell_type": "markdown",
   "metadata": {},
   "source": [
    "'''\n",
    " Here are the integer shape IDs for various shapes in `python-pptx` along with their names.\n",
    "\n",
    "### Integer Shape IDs for Standard Shapes\n",
    "\n",
    "- **Rectangle:** `MSO_SHAPE.RECTANGLE` (integer ID: 1)\n",
    "- **Rounded Rectangle:** `MSO_SHAPE.ROUNDED_RECTANGLE` (integer ID: 2)\n",
    "- **Ellipse:** `MSO_SHAPE.OVAL` (integer ID: 9)\n",
    "- **Diamond:** `MSO_SHAPE.DIAMOND` (integer ID: 4)\n",
    "- **Isosceles Triangle:** `MSO_SHAPE.ISOSCELES_TRIANGLE` (integer ID: 5)\n",
    "- **Right Triangle:** `MSO_SHAPE.RIGHT_TRIANGLE` (integer ID: 6)\n",
    "- **Parallelogram:** `MSO_SHAPE.PARALLELOGRAM` (integer ID: 7)\n",
    "- **Trapezoid:** `MSO_SHAPE.TRAPEZOID` (integer ID: 8)\n",
    "- **Hexagon:** `MSO_SHAPE.HEXAGON` (integer ID: 10)\n",
    "- **Octagon:** `MSO_SHAPE.OCTAGON` (integer ID: 11)\n",
    "- **Cross:** `MSO_SHAPE.CROSS` (integer ID: 12)\n",
    "- **Star 4 Point:** `MSO_SHAPE.STAR_4_POINT` (integer ID: 76)\n",
    "- **Star 5 Point:** `MSO_SHAPE.STAR_5_POINT` (integer ID: 77)\n",
    "- **Star 6 Point:** `MSO_SHAPE.STAR_6_POINT` (integer ID: 78)\n",
    "- **Star 7 Point:** `MSO_SHAPE.STAR_7_POINT` (integer ID: 79)\n",
    "- **Star 8 Point:** `MSO_SHAPE.STAR_8_POINT` (integer ID: 80)\n",
    "- **Star 10 Point:** `MSO_SHAPE.STAR_10_POINT` (integer ID: 81)\n",
    "- **Star 12 Point:** `MSO_SHAPE.STAR_12_POINT` (integer ID: 82)\n",
    "- **Star 16 Point:** `MSO_SHAPE.STAR_16_POINT` (integer ID: 83)\n",
    "- **Star 24 Point:** `MSO_SHAPE.STAR_24_POINT` (integer ID: 84)\n",
    "- **Star 32 Point:** `MSO_SHAPE.STAR_32_POINT` (integer ID: 85)\n",
    "- **Line:** `MSO_SHAPE.LINE` (integer ID: 20)\n",
    "- **Bent Arrow:** `MSO_SHAPE.BENT_ARROW` (integer ID: 13)\n",
    "- **Chevron:** `MSO_SHAPE.CHEVRON` (integer ID: 16)\n",
    "- **Pentagon:** `MSO_SHAPE.PENTAGON` (integer ID: 14)\n",
    "- **Block Arc:** `MSO_SHAPE.BLOCK_ARC` (integer ID: 18)\n",
    "- **Heart:** `MSO_SHAPE.HEART` (integer ID: 19)\n",
    "- **Lightning Bolt:** `MSO_SHAPE.LIGHTNING_BOLT` (integer ID: 23)\n",
    "- **Arrow:** `MSO_SHAPE.ARROW` (integer ID: 21)\n",
    "- **Notched Right Arrow:** `MSO_SHAPE.NOTCHED_RIGHT_ARROW` (integer ID: 24)\n",
    "- **Home Plate:** `MSO_SHAPE.HOME_PLATE` (integer ID: 25)\n",
    "- **Pie:** `MSO_SHAPE.PIE` (integer ID: 42)\n",
    "- **Can:** `MSO_SHAPE.CAN` (integer ID: 28)\n",
    "- **Cube:** `MSO_SHAPE.CUBE` (integer ID: 29)\n",
    "- **Bevel:** `MSO_SHAPE.BEVEL` (integer ID: 30)\n",
    "- **Folded Corner:** `MSO_SHAPE.FOLDED_CORNER` (integer ID: 31)\n",
    "- **Smiley Face:** `MSO_SHAPE.SMILEY_FACE` (integer ID: 32)\n",
    "- **Donut:** `MSO_SHAPE.DONUT` (integer ID: 33)\n",
    "- **No Smoking:** `MSO_SHAPE.NO_SMOKING` (integer ID: 34)\n",
    "- **Right Arrow:** `MSO_SHAPE.RIGHT_ARROW` (integer ID: 35)\n",
    "- **Curved Right Arrow:** `MSO_SHAPE.CURVED_RIGHT_ARROW` (integer ID: 36)\n",
    "- **Striped Right Arrow:** `MSO_SHAPE.STRIPED_RIGHT_ARROW` (integer ID: 37)\n",
    "- **Quad Arrow:** `MSO_SHAPE.QUAD_ARROW` (integer ID: 38)\n",
    "- **Left Arrow:** `MSO_SHAPE.LEFT_ARROW` (integer ID: 39)\n",
    "- **Curved Left Arrow:** `MSO_SHAPE.CURVED_LEFT_ARROW` (integer ID: 40)\n",
    "- **Striped Left Arrow:** `MSO_SHAPE.STRIPED_LEFT_ARROW` (integer ID: 41)\n",
    "- **Left Right Arrow:** `MSO_SHAPE.LEFT_RIGHT_ARROW` (integer ID: 43)\n",
    "- **Curved Left Right Arrow:** `MSO_SHAPE.CURVED_LEFT_RIGHT_ARROW` (integer ID: 44)\n",
    "- **Left Up Arrow:** `MSO_SHAPE.LEFT_UP_ARROW` (integer ID: 45)\n",
    "- **Curved Left Up Arrow:** `MSO_SHAPE.CURVED_LEFT_UP_ARROW` (integer ID: 46)\n",
    "- **Right Up Arrow:** `MSO_SHAPE.RIGHT_UP_ARROW` (integer ID: 47)\n",
    "- **Curved Right Up Arrow:** `MSO_SHAPE.CURVED_RIGHT_UP_ARROW` (integer ID: 48)\n",
    "- **Right Left Arrow:** `MSO_SHAPE.RIGHT_LEFT_ARROW` (integer ID: 49)\n",
    "- **Curved Right Left Arrow:** `MSO_SHAPE.CURVED_RIGHT_LEFT_ARROW` (integer ID: 50)\n",
    "- **Up Arrow:** `MSO_SHAPE.UP_ARROW` (integer ID: 51)\n",
    "- **Curved Up Arrow:** `MSO_SHAPE.CURVED_UP_ARROW` (integer ID: 52)\n",
    "- **Up Down Arrow:** `MSO_SHAPE.UP_DOWN_ARROW` (integer ID: 53)\n",
    "- **Curved Up Down Arrow:** `MSO_SHAPE.CURVED_UP_DOWN_ARROW` (integer ID: 54)\n",
    "- **Down Arrow:** `MSO_SHAPE.DOWN_ARROW` (integer ID: 55)\n",
    "- **Curved Down Arrow:** `MSO_SHAPE.CURVED_DOWN_ARROW` (integer ID: 56)\n",
    "- **Bent Up Arrow:** `MSO_SHAPE.BENT_UP_ARROW` (integer ID: 57)\n",
    "- **Up Right Arrow:** `MSO_SHAPE.UP_RIGHT_ARROW` (integer ID: 58)\n",
    "- **Left Right Up Arrow:** `MSO_SHAPE.LEFT_RIGHT_UP_ARROW` (integer ID: 59)\n",
    "- **Curved Left Right Up Arrow:** `MSO_SHAPE.CURVED_LEFT_RIGHT_UP_ARROW` (integer ID: 60)\n",
    "- **Left Right Down Arrow:** `MSO_SHAPE.LEFT_RIGHT_DOWN_ARROW` (integer ID: 61)\n",
    "- **Curved Left Right Down Arrow:** `MSO_SHAPE.CURVED_LEFT_RIGHT_DOWN_ARROW` (integer ID: 62)\n",
    "- **Down Right Arrow:** `MSO_SHAPE.DOWN_RIGHT_ARROW` (integer ID: 63)\n",
    "- **Curved Down Right Arrow:** `MSO_SHAPE.CURVED_DOWN_RIGHT_ARROW` (integer ID: 64)\n",
    "- **Curved Left Down Arrow:** `MSO_SHAPE.CURVED_LEFT_DOWN_ARROW` (integer ID: 65)\n",
    "- **Curved Up Left Arrow:** `MSO_SHAPE.CURVED_UP_LEFT_ARROW` (integer ID: 66)\n",
    "- **Curved Down Left Arrow:** `MSO_SHAPE.CURVED_DOWN_LEFT_ARROW` (integer ID: 67)\n",
    "- **Curved Up Right Arrow:** `MSO_SHAPE.CURVED_UP_RIGHT_ARROW` (integer ID: 68)\n",
    "- **Curved Down Right Arrow:** `MSO_SHAPE.CURVED_DOWN_RIGHT_ARROW` (integer ID: 69)\n",
    "- **Up Left Arrow:** `MSO_SHAPE.UP_LEFT_ARROW` (integer ID: 70)\n",
    "- **Up Right Left Arrow:** `MSO_SHAPE.UP_RIGHT_LEFT_ARROW` (integer ID: 71)\n",
    "- **Up Down Left Arrow:** `MSO_SHAPE.UP_DOWN_LEFT_ARROW` (integer ID: 72)\n",
    "- **Up Down Right Arrow:** `MSO_SHAPE.UP_DOWN_RIGHT_ARROW` (integer ID: 73)\n",
    "- **Up Down Left Right Arrow:** `MSO_SHAPE.UP_DOWN_LEFT_RIGHT_ARROW` (integer ID: 74)\n",
    "- **Up Down Right Left Arrow:** `MSO_SHAPE.UP_DOWN_RIGHT_LEFT_ARROW` (integer ID: 75)\n",
    "\n",
    "These IDs can be used in `python-pptx` to add the corresponding shapes to a slide. Here's an example demonstrating how to use these shape IDs:\n",
    "\n",
    "### Example Usage\n",
    "\n",
    "```python\n",
    "from pptx import Presentation\n",
    "from pptx.enum.shapes import MSO_SHAPE\n",
    "from pptx.util import Inches\n",
    "\n",
    "# Create a new presentation object\n",
    "prs = Presentation()\n",
    "\n",
    "# Add a slide with a blank layout\n",
    "slide_layout = prs.slide_layouts[5]  # 5 is usually a blank layout\n",
    "slide = prs.slides.add_slide(slide_layout)\n",
    "\n",
    "# Access the shapes on the slide\n",
    "shapes = slide.shapes\n",
    "\n",
    "# Add a rectangle (MSO_SHAPE.RECTANGLE has ID 1)\n",
    "rect = shapes.add_shape(MSO_SHAPE.RECTANGLE, Inches(\n",
    "\n",
    "1), Inches(1), Inches(2), Inches(2))\n",
    "\n",
    "# Add an ellipse (MSO_SHAPE.OVAL has ID 9)\n",
    "ellipse = shapes.add_shape(MSO_SHAPE.OVAL, Inches(4), Inches(1), Inches(2), Inches(2))\n",
    "\n",
    "# Add a 5-point star (MSO_SHAPE.STAR_5_POINT has ID 77)\n",
    "star = shapes.add_shape(MSO_SHAPE.STAR_5_POINT, Inches(1), Inches(4), Inches(2), Inches(2))\n",
    "\n",
    "# Add a right arrow (MSO_SHAPE.RIGHT_ARROW has ID 35)\n",
    "arrow = shapes.add_shape(MSO_SHAPE.RIGHT_ARROW, Inches(4), Inches(4), Inches(2), Inches(2))\n",
    "\n",
    "# Save the presentation\n",
    "prs.save('shapes_example.pptx')\n",
    "```\n",
    "\n",
    "This example demonstrates how to use the shape IDs to add different types of shapes to a slide in a PowerPoint presentation using `python-pptx`.\n",
    "'''"
   ]
  }
 ],
 "metadata": {
  "kernelspec": {
   "display_name": "base",
   "language": "python",
   "name": "python3"
  },
  "language_info": {
   "codemirror_mode": {
    "name": "ipython",
    "version": 3
   },
   "file_extension": ".py",
   "mimetype": "text/x-python",
   "name": "python",
   "nbconvert_exporter": "python",
   "pygments_lexer": "ipython3",
   "version": "3.11.3"
  }
 },
 "nbformat": 4,
 "nbformat_minor": 2
}
