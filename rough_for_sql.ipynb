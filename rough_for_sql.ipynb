{
 "cells": [
  {
   "cell_type": "markdown",
   "metadata": {},
   "source": [
    "## using sql "
   ]
  },
  {
   "cell_type": "markdown",
   "metadata": {},
   "source": [
    "#### [1 - Return Orders Customer Feedback](https://100daysofsql.com/new-courses/1/coding-test/2)"
   ]
  },
  {
   "cell_type": "code",
   "execution_count": null,
   "metadata": {
    "vscode": {
     "languageId": "sql"
    }
   },
   "outputs": [],
   "source": [
    "-- Namastekart, an e-commerce company, has observed a notable surge in return orders recently. They suspect that a specific group of customers may be responsible for a significant portion of these returns. To address this issue, their initial goal is to identify customers who have returned more than 50% of their orders. This way, they can proactively reach out to these customers to gather feedback.\n",
    "\n",
    " \n",
    "\n",
    "-- For instance, if a customer named ABC has placed 4 orders and returned 3 of them, they should be included in the output. On the other hand, if a customer named XYZ has placed 5 orders but only returned 2, they should not be included in the output. Write an SQL to find list of customers along with their return percent(Round to 2 decimal places).\n",
    "\n",
    "-- Table: orders (primary key : order_id)\n",
    "\n",
    "-- column name\tdatatype\n",
    "-- order_id\tint\n",
    "-- order_date\tdate\n",
    "-- customer_name\tvarchar(20)\n",
    "-- sales\tint\n",
    " \n",
    "\n",
    "-- Table: returns (primary key : order_id)\n",
    "\n",
    "-- column name\tdatatype\n",
    "-- order_id\tint\n",
    "-- return_date\tdate\n",
    "\n",
    "\n",
    "-- Example Input\n",
    "\n",
    "-- orders\n",
    "\n",
    "-- order_id\torder_date\tcustomer_name\tsales\n",
    "-- 1\t2023-01-01\tAlexa\t1239\n",
    "-- 2\t2023-01-02\tAlexa\t1239\n",
    "-- 3\t2023-01-03\tAlexa\t1239\n",
    "-- 4\t2023-01-03\tAlexa\t1239\n",
    "-- 5\t2023-01-01\tRamesh\t1239\n",
    "-- 6\t2023-01-02\tRamesh\t1239\n",
    "-- 7\t2023-01-03\tRamesh\t1239\n",
    "-- returns\n",
    "\n",
    "-- order_id\treturn_date\n",
    "-- 1\t2023-01-02\n",
    "-- 2\t2023-01-04\n",
    "-- 3\t2023-01-05\n",
    "-- 7\t2023-01-10\n",
    " \n",
    "\n",
    "-- Expected Output:\n",
    "\n",
    "-- customer_name\tReturn_Percent\n",
    "-- Alexa\t75.0\n",
    "-- Explanation: Alexa has placed 4 orders and returned 3 of them which is 75 percent (3/4) so Alexa is in output while Ramesh has placed 3 orders but reurned only 1 order which is 33.33% (1/3) so Ramesh is not in output."
   ]
  },
  {
   "cell_type": "code",
   "execution_count": null,
   "metadata": {
    "vscode": {
     "languageId": "sql"
    }
   },
   "outputs": [],
   "source": [
    "-- Create the orders table\n",
    "CREATE TABLE orders (\n",
    "    order_id INT PRIMARY KEY,\n",
    "    order_date DATE,\n",
    "    customer_name VARCHAR(20),\n",
    "    sales INT\n",
    ");\n",
    "\n",
    "-- Create the returns table\n",
    "CREATE TABLE returns (\n",
    "    order_id INT PRIMARY KEY,\n",
    "    return_date DATE,\n",
    "    FOREIGN KEY (order_id) REFERENCES orders(order_id)\n",
    ");\n",
    "\n",
    "-- Insert data into the orders table\n",
    "INSERT INTO orders (order_id, order_date, customer_name, sales) VALUES\n",
    "(1, '2023-01-01', 'Alexa', 1239),\n",
    "(2, '2023-01-02', 'Alexa', 1239),\n",
    "(3, '2023-01-03', 'Alexa', 1239),\n",
    "(4, '2023-01-03', 'Alexa', 1239),\n",
    "(5, '2023-01-01', 'Ramesh', 1239),\n",
    "(6, '2023-01-02', 'Ramesh', 1239),\n",
    "(7, '2023-01-03', 'Ramesh', 1239);\n",
    "\n",
    "-- Insert data into the returns table\n",
    "INSERT INTO returns (order_id, return_date) VALUES\n",
    "(1, '2023-01-02'),\n",
    "(2, '2023-01-04'),\n",
    "(3, '2023-01-05'),\n",
    "(7, '2023-01-10');\n"
   ]
  },
  {
   "cell_type": "code",
   "execution_count": null,
   "metadata": {
    "vscode": {
     "languageId": "sql"
    }
   },
   "outputs": [],
   "source": [
    "# my sol\n",
    "select \n",
    "customer_name, \n",
    "round(sum(case when return_date is not null then 1 else 0 end)*100.0/count(*),2) as return_percentage\n",
    "from orders o left join returns r on o.order_id=r.order_id\n",
    "group by customer_name\n",
    "having round(sum(case when return_date is not null then 1 else 0 end)*100.0/count(*))>50"
   ]
  },
  {
   "cell_type": "code",
   "execution_count": null,
   "metadata": {
    "vscode": {
     "languageId": "sql"
    }
   },
   "outputs": [],
   "source": []
  },
  {
   "cell_type": "code",
   "execution_count": null,
   "metadata": {
    "vscode": {
     "languageId": "sql"
    }
   },
   "outputs": [],
   "source": []
  },
  {
   "cell_type": "code",
   "execution_count": null,
   "metadata": {
    "vscode": {
     "languageId": "sql"
    }
   },
   "outputs": [],
   "source": [
    "-- Suppose a gym wants to identify members who have attended more than 50% of the available classes. This way, they can offer special promotions to the most active members.\n",
    "\n",
    "-- Example:\n",
    "-- If a member named John has registered for 4 classes and attended 3 of them, he should be included in the output. On the other hand, if a member named Jane has registered for 5 classes but only attended 2, she should not be included in the output.\n",
    "\n",
    "-- Table: classes (primary key: class_id)\n",
    "\n",
    "-- Column Name\tDataType\n",
    "-- class_id\tint\n",
    "-- class_date\tdate\n",
    "-- member_name\tvarchar(20)\n",
    "-- fee\tint\n",
    "-- Table: attendance (primary key: class_id)\n",
    "\n",
    "-- Column Name\tDataType\n",
    "-- class_id\tint\n",
    "-- attendance_date\tdate\n",
    "-- Example Input\n",
    "\n",
    "-- classes\n",
    "\n",
    "-- class_id\tclass_date\tmember_name\tfee\n",
    "-- 1\t2023-01-01\tJohn\t50\n",
    "-- 2\t2023-01-02\tJohn\t50\n",
    "-- 3\t2023-01-03\tJohn\t50\n",
    "-- 4\t2023-01-04\tJohn\t50\n",
    "-- 5\t2023-01-01\tJane\t50\n",
    "-- 6\t2023-01-02\tJane\t50\n",
    "-- 7\t2023-01-03\tJane\t50\n",
    "-- attendance\n",
    "\n",
    "-- class_id\tattendance_date\n",
    "-- 1\t2023-01-02\n",
    "-- 2\t2023-01-04\n",
    "-- 3\t2023-01-05\n",
    "-- 7\t2023-01-10\n",
    "-- Expected Output\n",
    "\n",
    "-- member_name\tAttendance_Percent\n",
    "-- John\t75.0\n",
    "-- Explanation: John has registered for 4 classes and attended 3 of them, which is 75 percent (3/4). Therefore, John is included in the output, while Jane has registered for 3 classes but attended only 1 class, which is 33.33% (1/3). Hence, Jane is not included in the output."
   ]
  },
  {
   "cell_type": "code",
   "execution_count": null,
   "metadata": {
    "vscode": {
     "languageId": "sql"
    }
   },
   "outputs": [],
   "source": [
    "-- Create the classes table\n",
    "CREATE TABLE classes (\n",
    "    class_id INT PRIMARY KEY,\n",
    "    class_date DATE,\n",
    "    member_name VARCHAR(20),\n",
    "    fee INT\n",
    ");\n",
    "\n",
    "-- Create the attendance table\n",
    "CREATE TABLE attendance (\n",
    "    class_id INT PRIMARY KEY,\n",
    "    attendance_date DATE,\n",
    "    FOREIGN KEY (class_id) REFERENCES classes(class_id)\n",
    ");\n",
    "\n",
    "-- Insert data into the classes table\n",
    "INSERT INTO classes (class_id, class_date, member_name, fee) VALUES\n",
    "(1, '2023-01-01', 'John', 50),\n",
    "(2, '2023-01-02', 'John', 50),\n",
    "(3, '2023-01-03', 'John', 50),\n",
    "(4, '2023-01-04', 'John', 50),\n",
    "(5, '2023-01-01', 'Jane', 50),\n",
    "(6, '2023-01-02', 'Jane', 50),\n",
    "(7, '2023-01-03', 'Jane', 50);\n",
    "\n",
    "-- Insert data into the attendance table\n",
    "INSERT INTO attendance (class_id, attendance_date) VALUES\n",
    "(1, '2023-01-02'),\n",
    "(2, '2023-01-04'),\n",
    "(3, '2023-01-05'),\n",
    "(7, '2023-01-10');\n"
   ]
  },
  {
   "cell_type": "code",
   "execution_count": null,
   "metadata": {
    "vscode": {
     "languageId": "sql"
    }
   },
   "outputs": [],
   "source": [
    "-- sol\n",
    "SELECT \n",
    "    c.member_name,\n",
    "    ROUND(COUNT(a.class_id) * 100.0 / COUNT(c.class_id), 2) AS Attendance_Percent\n",
    "FROM \n",
    "    classes c\n",
    "LEFT JOIN \n",
    "    attendance a ON c.class_id = a.class_id\n",
    "GROUP BY \n",
    "    c.member_name\n",
    "HAVING \n",
    "    ROUND(COUNT(a.class_id) * 100.0 / COUNT(c.class_id), 2) > 50;\n"
   ]
  },
  {
   "cell_type": "code",
   "execution_count": null,
   "metadata": {
    "vscode": {
     "languageId": "sql"
    }
   },
   "outputs": [],
   "source": []
  },
  {
   "cell_type": "markdown",
   "metadata": {},
   "source": [
    "#### [49 - Lowest Price](https://100daysofsql.com/new-courses/1/coding-test/50)"
   ]
  },
  {
   "cell_type": "code",
   "execution_count": null,
   "metadata": {
    "vscode": {
     "languageId": "sql"
    }
   },
   "outputs": [],
   "source": [
    "-- You own a small online store, and want to analyze customer ratings for the products that you're selling. After doing a data pull, you have a list of products and a log of purchases. Within the purchase log, each record includes the number of stars (from 1 to 5) as a customer rating for the product.\n",
    "\n",
    "-- Specifically, you now have a database containing 2 tables - purchases and products.\n",
    "\n",
    "-- Table: products (primary key : id)\n",
    "\n",
    "-- column name\tdatatype\n",
    "-- id\tint\n",
    "-- name\tvarchar(25)\n",
    "-- category \tvarchar(10)\n",
    "-- price \tint\n",
    " \n",
    "\n",
    "-- Table: purchases(primary key : id)\n",
    "\n",
    "-- column name\tdatatype\n",
    "-- id\tint\n",
    "-- product_id \tint\n",
    "-- stars \tint\n",
    " \n",
    "\n",
    "-- For each category, find the lowest price among all products that received at least one 4-star or above rating from customers.\n",
    "-- If a product category did not have any products that received at least one 4-star or above rating, the lowest price is considered to be 0. The final output should be sorted by product category in alphabetical order.\n",
    "\n",
    " \n",
    "\n",
    "-- Expected Output:\n",
    "\n",
    "-- category\tprice\n",
    "-- apple\t0\n",
    "-- cherry\t36\n",
    "-- grape\t0\n",
    "-- orange\t14"
   ]
  },
  {
   "cell_type": "code",
   "execution_count": null,
   "metadata": {
    "vscode": {
     "languageId": "sql"
    }
   },
   "outputs": [],
   "source": [
    "-- insert table and data\n",
    "-- Create the products table\n",
    "CREATE TABLE products (\n",
    "    id INT PRIMARY KEY,\n",
    "    name VARCHAR(25),\n",
    "    category VARCHAR(10),\n",
    "    price INT\n",
    ");\n",
    "\n",
    "-- Create the purchases table\n",
    "CREATE TABLE purchases (\n",
    "    id INT PRIMARY KEY,\n",
    "    product_id INT,\n",
    "    stars INT,\n",
    "    FOREIGN KEY (product_id) REFERENCES products(id)\n",
    ");\n",
    "\n",
    "-- Insert data into the products table\n",
    "INSERT INTO products (id, name, category, price) VALUES\n",
    "(1, 'Cripps Pink', 'apple', 10),\n",
    "(2, 'Navel Orange', 'orange', 12),\n",
    "(3, 'Golden Delicious', 'apple', 6),\n",
    "(4, 'Clementine', 'orange', 14),\n",
    "(5, 'Pinot Noir', 'grape', 20),\n",
    "(6, 'Bing Cherries', 'cherry', 36);\n",
    "\n",
    "-- Insert data into the purchases table\n",
    "INSERT INTO purchases (id, product_id, stars) VALUES\n",
    "(1, 1, 2),\n",
    "(2, 3, 3),\n",
    "(3, 2, 2),\n",
    "(4, 4, 4),\n",
    "(5, 6, 5),\n",
    "(6, 6, 4);\n"
   ]
  },
  {
   "cell_type": "code",
   "execution_count": null,
   "metadata": {
    "vscode": {
     "languageId": "sql"
    }
   },
   "outputs": [],
   "source": [
    "-- my sol\n",
    "-- select * from products;\n",
    "-- select * from purchases;\n",
    "\n",
    "with cte as \n",
    "(\n",
    "    select *,\n",
    "    row_number() over(partition by category order by stars desc) as rn\n",
    "    from products pr left join purchases p on pr.id=p.product_id\n",
    ")\n",
    "select \n",
    "category, max(case when rn=1 and stars is not null and stars >=4 then price else 0 end) as price\n",
    "from cte\n",
    "group by category"
   ]
  },
  {
   "cell_type": "code",
   "execution_count": null,
   "metadata": {
    "vscode": {
     "languageId": "sql"
    }
   },
   "outputs": [],
   "source": [
    "-- !my sol\n",
    "select category,coalesce(min(case when pur.product_id is not null then price end),0) as price\n",
    "from products p\n",
    "left join purchases pur on p.id=pur.product_id and pur.stars in (4,5)\n",
    "group by category\n",
    "order by category;"
   ]
  },
  {
   "cell_type": "code",
   "execution_count": null,
   "metadata": {
    "vscode": {
     "languageId": "sql"
    }
   },
   "outputs": [],
   "source": []
  },
  {
   "cell_type": "code",
   "execution_count": null,
   "metadata": {
    "vscode": {
     "languageId": "sql"
    }
   },
   "outputs": [],
   "source": [
    "-- You manage a sports league and want to analyze the performance ratings for the teams participating in the league. After compiling data, you have a list of teams and a log of matches. Within the match log, each record includes the number of points (from 1 to 5) as a performance rating for the team.\n",
    "\n",
    "-- Specifically, you now have a database containing 2 tables - matches and teams.\n",
    "\n",
    "-- Table: teams (primary key : id)\n",
    "\n",
    "-- column name\tdatatype\n",
    "-- id\tint\n",
    "-- name\tvarchar(25)\n",
    "-- division\tvarchar(10)\n",
    "-- budget\tint\n",
    "-- Table: matches (primary key : id)\n",
    "\n",
    "-- column name\tdatatype\n",
    "-- id\tint\n",
    "-- team_id\tint\n",
    "-- points\tint\n",
    "\n",
    "-- For each division, find the lowest budget among all teams that received at least one 4-point or above rating from matches. If a division did not have any teams that received at least one 4-point or above rating, the lowest budget is considered to be 0. The final output should be sorted by division in alphabetical order."
   ]
  },
  {
   "cell_type": "code",
   "execution_count": null,
   "metadata": {
    "vscode": {
     "languageId": "sql"
    }
   },
   "outputs": [],
   "source": [
    "-- Create the tables\n",
    "CREATE TABLE teams (\n",
    "    id INT PRIMARY KEY,\n",
    "    name VARCHAR(25),\n",
    "    division VARCHAR(10),\n",
    "    budget INT\n",
    ");\n",
    "\n",
    "CREATE TABLE matches (\n",
    "    id INT PRIMARY KEY,\n",
    "    team_id INT,\n",
    "    points INT,\n",
    "    FOREIGN KEY (team_id) REFERENCES teams(id)\n",
    ");\n",
    "\n",
    "-- Insert data into the teams table\n",
    "INSERT INTO teams (id, name, division, budget) VALUES\n",
    "(1, 'Blue Panthers', 'north', 10),\n",
    "(2, 'Red Hawks', 'south', 12),\n",
    "(3, 'Green Eagles', 'north', 6),\n",
    "(4, 'Yellow Tigers', 'south', 14),\n",
    "(5, 'Black Bears', 'east', 20),\n",
    "(6, 'White Wolves', 'west', 36);\n",
    "\n",
    "-- Insert data into the matches table\n",
    "INSERT INTO matches (id, team_id, points) VALUES\n",
    "(1, 1, 2),\n",
    "(2, 3, 3),\n",
    "(3, 2, 2),\n",
    "(4, 4, 4),\n",
    "(5, 6, 5),\n",
    "(6, 6, 4);\n"
   ]
  },
  {
   "cell_type": "code",
   "execution_count": null,
   "metadata": {
    "vscode": {
     "languageId": "sql"
    }
   },
   "outputs": [],
   "source": [
    "-- Query to find the lowest budget for each division\n",
    "SELECT \n",
    "    t.division,\n",
    "    COALESCE(MIN(t.budget), 0) AS lowest_budget\n",
    "FROM \n",
    "    teams t\n",
    "JOIN \n",
    "    matches m ON t.id = m.team_id\n",
    "WHERE \n",
    "    m.points >= 4\n",
    "GROUP BY \n",
    "    t.division\n",
    "ORDER BY \n",
    "    t.division;\n"
   ]
  },
  {
   "cell_type": "markdown",
   "metadata": {},
   "source": [
    "## ** using sql on pandas df"
   ]
  },
  {
   "cell_type": "markdown",
   "metadata": {},
   "source": [
    "#### [1 - Return Orders Customer Feedback psql](https://100daysofsql.com/new-courses/1/coding-test/2)"
   ]
  },
  {
   "cell_type": "code",
   "execution_count": null,
   "metadata": {},
   "outputs": [],
   "source": [
    "# Namastekart, an e-commerce company, has observed a notable surge in return orders recently. They suspect that a specific group of customers may be responsible for a significant portion of these returns. To address this issue, their initial goal is to identify customers who have returned more than 50% of their orders. This way, they can proactively reach out to these customers to gather feedback.\n",
    "\n",
    " \n",
    "\n",
    "# For instance, if a customer named ABC has placed 4 orders and returned 3 of them, they should be included in the output. On the other hand, if a customer named XYZ has placed 5 orders but only returned 2, they should not be included in the output. Write an SQL to find list of customers along with their return percent(Round to 2 decimal places).\n",
    "\n",
    "# Table: orders (primary key : order_id)\n",
    "\n",
    "# column name\tdatatype\n",
    "# order_id\tint\n",
    "# order_date\tdate\n",
    "# customer_name\tvarchar(20)\n",
    "# sales\tint\n",
    " \n",
    "\n",
    "# Table: returns (primary key : order_id)\n",
    "\n",
    "# column name\tdatatype\n",
    "# order_id\tint\n",
    "# return_date\tdate\n",
    "\n",
    "\n",
    "# Example Input\n",
    "\n",
    "# orders\n",
    "\n",
    "# order_id\torder_date\tcustomer_name\tsales\n",
    "# 1\t2023-01-01\tAlexa\t1239\n",
    "# 2\t2023-01-02\tAlexa\t1239\n",
    "# 3\t2023-01-03\tAlexa\t1239\n",
    "# 4\t2023-01-03\tAlexa\t1239\n",
    "# 5\t2023-01-01\tRamesh\t1239\n",
    "# 6\t2023-01-02\tRamesh\t1239\n",
    "# 7\t2023-01-03\tRamesh\t1239\n",
    "# returns\n",
    "\n",
    "# order_id\treturn_date\n",
    "# 1\t2023-01-02\n",
    "# 2\t2023-01-04\n",
    "# 3\t2023-01-05\n",
    "# 7\t2023-01-10\n",
    " \n",
    "\n",
    "# Expected Output:\n",
    "\n",
    "# customer_name\tReturn_Percent\n",
    "# Alexa\t75.0\n",
    "# Explanation: Alexa has placed 4 orders and returned 3 of them which is 75 percent (3/4) so Alexa is in output while Ramesh has placed 3 orders but reurned only 1 order which is 33.33% (1/3) so Ramesh is not in output."
   ]
  },
  {
   "cell_type": "code",
   "execution_count": null,
   "metadata": {},
   "outputs": [],
   "source": [
    "import pandas as pd\n",
    "\n",
    "# Data for the orders table\n",
    "orders_data = {\n",
    "    'order_id': [1, 2, 3, 4, 5, 6, 7],\n",
    "    'order_date': ['2023-01-01', '2023-01-02', '2023-01-03', '2023-01-03', '2023-01-01', '2023-01-02', '2023-01-03'],\n",
    "    'customer_name': ['Alexa', 'Alexa', 'Alexa', 'Alexa', 'Ramesh', 'Ramesh', 'Ramesh'],\n",
    "    'sales': [1239, 1239, 1239, 1239, 1239, 1239, 1239]\n",
    "}\n",
    "\n",
    "# Convert order_date to datetime\n",
    "orders_data['order_date'] = pd.to_datetime(orders_data['order_date'])\n",
    "\n",
    "# Create DataFrame for orders\n",
    "orders_df = pd.DataFrame(orders_data)\n",
    "\n",
    "# Data for the returns table\n",
    "returns_data = {\n",
    "    'order_id': [1, 2, 3, 7],\n",
    "    'return_date': ['2023-01-02', '2023-01-04', '2023-01-05', '2023-01-10']\n",
    "}\n",
    "\n",
    "# Convert return_date to datetime\n",
    "returns_data['return_date'] = pd.to_datetime(returns_data['return_date'])\n",
    "\n",
    "# Create DataFrame for returns\n",
    "returns_df = pd.DataFrame(returns_data)\n",
    "\n",
    "# Display the DataFrames\n",
    "print(\"Orders DataFrame:\")\n",
    "print(orders_df)\n",
    "print(\"\\nReturns DataFrame:\")\n",
    "print(returns_df)\n"
   ]
  },
  {
   "cell_type": "code",
   "execution_count": null,
   "metadata": {},
   "outputs": [],
   "source": [
    "# my sol\n",
    "select \n",
    "customer_name, \n",
    "round(sum(case when return_date is not null then 1 else 0 end)*100.0/count(*),2) as return_percentage\n",
    "from orders o left join returns r on o.order_id=r.order_id\n",
    "group by customer_name\n",
    "having round(sum(case when return_date is not null then 1 else 0 end)*100.0/count(*))>50"
   ]
  },
  {
   "cell_type": "code",
   "execution_count": null,
   "metadata": {},
   "outputs": [],
   "source": []
  },
  {
   "cell_type": "code",
   "execution_count": null,
   "metadata": {},
   "outputs": [],
   "source": []
  },
  {
   "cell_type": "code",
   "execution_count": null,
   "metadata": {
    "vscode": {
     "languageId": "sql"
    }
   },
   "outputs": [],
   "source": [
    "-- Suppose a gym wants to identify members who have attended more than 50% of the available classes. This way, they can offer special promotions to the most active members.\n",
    "\n",
    "-- Example:\n",
    "-- If a member named John has registered for 4 classes and attended 3 of them, he should be included in the output. On the other hand, if a member named Jane has registered for 5 classes but only attended 2, she should not be included in the output.\n",
    "\n",
    "-- Table: classes (primary key: class_id)\n",
    "\n",
    "-- Column Name\tDataType\n",
    "-- class_id\tint\n",
    "-- class_date\tdate\n",
    "-- member_name\tvarchar(20)\n",
    "-- fee\tint\n",
    "-- Table: attendance (primary key: class_id)\n",
    "\n",
    "-- Column Name\tDataType\n",
    "-- class_id\tint\n",
    "-- attendance_date\tdate\n",
    "-- Example Input\n",
    "\n",
    "-- classes\n",
    "\n",
    "-- class_id\tclass_date\tmember_name\tfee\n",
    "-- 1\t2023-01-01\tJohn\t50\n",
    "-- 2\t2023-01-02\tJohn\t50\n",
    "-- 3\t2023-01-03\tJohn\t50\n",
    "-- 4\t2023-01-04\tJohn\t50\n",
    "-- 5\t2023-01-01\tJane\t50\n",
    "-- 6\t2023-01-02\tJane\t50\n",
    "-- 7\t2023-01-03\tJane\t50\n",
    "-- attendance\n",
    "\n",
    "-- class_id\tattendance_date\n",
    "-- 1\t2023-01-02\n",
    "-- 2\t2023-01-04\n",
    "-- 3\t2023-01-05\n",
    "-- 7\t2023-01-10\n",
    "-- Expected Output\n",
    "\n",
    "-- member_name\tAttendance_Percent\n",
    "-- John\t75.0\n",
    "-- Explanation: John has registered for 4 classes and attended 3 of them, which is 75 percent (3/4). Therefore, John is included in the output, while Jane has registered for 3 classes but attended only 1 class, which is 33.33% (1/3). Hence, Jane is not included in the output."
   ]
  },
  {
   "cell_type": "code",
   "execution_count": null,
   "metadata": {},
   "outputs": [],
   "source": [
    "import pandas as pd\n",
    "\n",
    "# Data for the classes table\n",
    "classes_data = {\n",
    "    'class_id': [1, 2, 3, 4, 5, 6, 7],\n",
    "    'class_date': ['2023-01-01', '2023-01-02', '2023-01-03', '2023-01-04', '2023-01-01', '2023-01-02', '2023-01-03'],\n",
    "    'member_name': ['John', 'John', 'John', 'John', 'Jane', 'Jane', 'Jane'],\n",
    "    'fee': [50, 50, 50, 50, 50, 50, 50]\n",
    "}\n",
    "\n",
    "# Convert class_date to datetime\n",
    "classes_data['class_date'] = pd.to_datetime(classes_data['class_date'])\n",
    "\n",
    "# Create DataFrame for classes\n",
    "classes_df = pd.DataFrame(classes_data)\n",
    "\n",
    "# Data for the attendance table\n",
    "attendance_data = {\n",
    "    'class_id': [1, 2, 3, 7],\n",
    "    'attendance_date': ['2023-01-02', '2023-01-04', '2023-01-05', '2023-01-10']\n",
    "}\n",
    "\n",
    "# Convert attendance_date to datetime\n",
    "attendance_data['attendance_date'] = pd.to_datetime(attendance_data['attendance_date'])\n",
    "\n",
    "# Create DataFrame for attendance\n",
    "attendance_df = pd.DataFrame(attendance_data)\n",
    "\n",
    "# Display the DataFrames\n",
    "print(\"Classes DataFrame:\")\n",
    "print(classes_df)\n",
    "print(\"\\nAttendance DataFrame:\")\n",
    "print(attendance_df)\n"
   ]
  },
  {
   "cell_type": "code",
   "execution_count": null,
   "metadata": {},
   "outputs": [],
   "source": [
    "# sol\n",
    "SELECT \n",
    "    c.member_name,\n",
    "    ROUND(COUNT(a.class_id) * 100.0 / COUNT(c.class_id), 2) AS Attendance_Percent\n",
    "FROM \n",
    "    classes c\n",
    "LEFT JOIN \n",
    "    attendance a ON c.class_id = a.class_id\n",
    "GROUP BY \n",
    "    c.member_name\n",
    "HAVING \n",
    "    ROUND(COUNT(a.class_id) * 100.0 / COUNT(c.class_id), 2) > 50;\n"
   ]
  },
  {
   "cell_type": "markdown",
   "metadata": {},
   "source": [
    "#### [49 - Lowest Price psql](https://100daysofsql.com/new-courses/1/coding-test/50)"
   ]
  },
  {
   "cell_type": "code",
   "execution_count": null,
   "metadata": {},
   "outputs": [],
   "source": [
    "# You own a small online store, and want to analyze customer ratings for the products that you're selling. After doing a data pull, you have a list of products and a log of purchases. Within the purchase log, each record includes the number of stars (from 1 to 5) as a customer rating for the product.\n",
    "\n",
    "# Specifically, you now have a database containing 2 tables - purchases and products.\n",
    "\n",
    "# Table: products (primary key : id)\n",
    "\n",
    "# column name\tdatatype\n",
    "# id\tint\n",
    "# name\tvarchar(25)\n",
    "# category \tvarchar(10)\n",
    "# price \tint\n",
    " \n",
    "\n",
    "# Table: purchases(primary key : id)\n",
    "\n",
    "# column name\tdatatype\n",
    "# id\tint\n",
    "# product_id \tint\n",
    "# stars \tint\n",
    " \n",
    "\n",
    "# For each category, find the lowest price among all products that received at least one 4-star or above rating from customers.\n",
    "# If a product category did not have any products that received at least one 4-star or above rating, the lowest price is considered to be 0. The final output should be sorted by product category in alphabetical order.\n",
    "\n",
    " \n",
    "\n",
    "# Expected Output:\n",
    "\n",
    "# category\tprice\n",
    "# apple\t0\n",
    "# cherry\t36\n",
    "# grape\t0\n",
    "# orange\t14"
   ]
  },
  {
   "cell_type": "code",
   "execution_count": null,
   "metadata": {},
   "outputs": [],
   "source": [
    "import pandas as pd\n",
    "\n",
    "# Data for the products table\n",
    "products_data = {\n",
    "    'id': [1, 2, 3, 4, 5, 6],\n",
    "    'name': ['Cripps Pink', 'Navel Orange', 'Golden Delicious', 'Clementine', 'Pinot Noir', 'Bing Cherries'],\n",
    "    'category': ['apple', 'orange', 'apple', 'orange', 'grape', 'cherry'],\n",
    "    'price': [10, 12, 6, 14, 20, 36]\n",
    "}\n",
    "\n",
    "# Create DataFrame for products\n",
    "products = pd.DataFrame(products_data)\n",
    "\n",
    "# Data for the purchases table\n",
    "purchases_data = {\n",
    "    'id': [1, 2, 3, 4, 5, 6],\n",
    "    'product_id': [1, 3, 2, 4, 6, 6],\n",
    "    'stars': [2, 3, 2, 4, 5, 4]\n",
    "}\n",
    "\n",
    "# Create DataFrame for purchases\n",
    "purchases = pd.DataFrame(purchases_data)\n",
    "\n",
    "# Display the DataFrames\n",
    "print(\"Products DataFrame:\")\n",
    "print(products)\n",
    "print(\"\\nPurchases DataFrame:\")\n",
    "print(purchases)\n"
   ]
  },
  {
   "cell_type": "code",
   "execution_count": null,
   "metadata": {},
   "outputs": [],
   "source": [
    "# my sol\n",
    "with cte as (select *,\n",
    "row_number() over(partition by category order by stars desc) as rn\n",
    "from products pr left join purchases p on pr.id=p.product_id)\n",
    "\n",
    "select \n",
    "category, max(case when rn=1 and stars is not null and stars >=4 then price else 0 end) as price\n",
    "from cte\n",
    "group by category"
   ]
  },
  {
   "cell_type": "code",
   "execution_count": null,
   "metadata": {},
   "outputs": [],
   "source": [
    "# !my sol\n",
    "select category,coalesce(min(case when pur.product_id is not null then price end),0) as price\n",
    "from products p\n",
    "left join purchases pur on p.id=pur.product_id and pur.stars in (4,5)\n",
    "group by category\n",
    "order by category;"
   ]
  },
  {
   "cell_type": "code",
   "execution_count": null,
   "metadata": {},
   "outputs": [],
   "source": []
  },
  {
   "cell_type": "code",
   "execution_count": null,
   "metadata": {},
   "outputs": [],
   "source": [
    "# You manage a sports league and want to analyze the performance ratings for the teams participating in the league. After compiling data, you have a list of teams and a log of matches. Within the match log, each record includes the number of points (from 1 to 5) as a performance rating for the team.\n",
    "\n",
    "# Specifically, you now have a database containing 2 tables - matches and teams.\n",
    "\n",
    "# Table: teams (primary key : id)\n",
    "\n",
    "# column name\tdatatype\n",
    "# id\tint\n",
    "# name\tvarchar(25)\n",
    "# division\tvarchar(10)\n",
    "# budget\tint\n",
    "# Table: matches (primary key : id)\n",
    "\n",
    "# column name\tdatatype\n",
    "# id\tint\n",
    "# team_id\tint\n",
    "# points\tint\n",
    "# For each division, find the lowest budget among all teams that received at least one 4-point or above rating from matches. If a division did not have any teams that received at least one 4-point or above rating, the lowest budget is considered to be 0. The final output should be sorted by division in alphabetical order."
   ]
  },
  {
   "cell_type": "code",
   "execution_count": null,
   "metadata": {},
   "outputs": [],
   "source": [
    "import pandas as pd\n",
    "\n",
    "# Data for the teams table\n",
    "teams_data = {\n",
    "    'id': [1, 2, 3, 4, 5, 6],\n",
    "    'name': ['Blue Panthers', 'Red Hawks', 'Green Eagles', 'Yellow Tigers', 'Black Bears', 'White Wolves'],\n",
    "    'division': ['north', 'south', 'north', 'south', 'east', 'west'],\n",
    "    'budget': [10, 12, 6, 14, 20, 36]\n",
    "}\n",
    "\n",
    "# Create DataFrame for teams\n",
    "teams_df = pd.DataFrame(teams_data)\n",
    "\n",
    "# Data for the matches table\n",
    "matches_data = {\n",
    "    'id': [1, 2, 3, 4, 5, 6],\n",
    "    'team_id': [1, 3, 2, 4, 6, 6],\n",
    "    'points': [2, 3, 2, 4, 5, 4]\n",
    "}\n",
    "\n",
    "# Create DataFrame for matches\n",
    "matches_df = pd.DataFrame(matches_data)\n",
    "\n",
    "# Display the DataFrames\n",
    "# print(\"Teams DataFrame:\")\n",
    "# print(teams_df)\n",
    "# print(\"\\nMatches DataFrame:\")\n",
    "# print(matches_df)\n"
   ]
  },
  {
   "cell_type": "code",
   "execution_count": null,
   "metadata": {},
   "outputs": [],
   "source": []
  }
 ],
 "metadata": {
  "language_info": {
   "name": "python"
  }
 },
 "nbformat": 4,
 "nbformat_minor": 2
}
