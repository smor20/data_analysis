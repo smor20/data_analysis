{
 "cells": [
  {
   "cell_type": "markdown",
   "metadata": {},
   "source": [
    "#### [Q3-Premium Customers](https://100daysofsql.com/new-courses/1/coding-test/4)"
   ]
  },
  {
   "cell_type": "markdown",
   "metadata": {},
   "source": [
    "Namastekart, an e-commerce company want to start special reward program for their premium customers.  The customers who have placed more number of orders than the average number of orders placed by each customers are considered as premium customers.\n",
    "\n",
    "Write an SQL to find the list of premium customers along with the number of orders placed by each of them. \n",
    "\n",
    "Table: orders (primary key : order_id)\n",
    "\n",
    "column name\tdatatype\n",
    "order_id\tint\n",
    "order_date\tdate\n",
    "customer_name\tvarchar(20)\n",
    "sales\tint\n",
    " \n",
    "\n",
    "Example Input\n",
    "\n",
    "orders\n",
    "\n",
    "order_id\torder_date\tcustomer_name\tsales\n",
    "1\t2023-01-01\tAlexa\t1239\n",
    "2\t2023-01-02\tAlexa\t1239\n",
    "3\t2023-01-03\tAlexa\t1239\n",
    "4\t2023-01-03\tAlexa\t1239\n",
    "5\t2023-01-01\tRamesh\t1239\n",
    "6\t2023-01-02\tRamesh\t1239\n",
    "7\t2023-01-03\tRamesh\t1239\n",
    "8\t2023-01-03\tNeha\t1200\n",
    "9\t2023-01-03\tSubhash\t100\n",
    "10\t2023-01-03\tSubhash\t230\n",
    " \n",
    "\n",
    "Expected Output:\n",
    "\n",
    "customer_name\tno_of_orders\n",
    "Alexa\t4\n",
    "Ramesh\t3\n",
    "Explanation: There are total 10 orders placed by 4 customers so the average number order placed by each customers is 10/4 = 2.5 . Alexa and ramesh have done more than 2.5 orders so they are in the output. "
   ]
  },
  {
   "cell_type": "code",
   "execution_count": null,
   "metadata": {
    "vscode": {
     "languageId": "plaintext"
    }
   },
   "outputs": [],
   "source": []
  },
  {
   "cell_type": "markdown",
   "metadata": {},
   "source": [
    "#my_sol\n",
    "\n",
    "with cte as \n",
    "(select count(*)/count(distinct(customer_name)) as avg_orders from orders)\n",
    "\n",
    "-- select * from cte\n",
    "select customer_name, count(*) as no_of_orders\n",
    "from orders, cte\n",
    "group by customer_name\n",
    "having count(*)>cte.avg_orders\n",
    "\n",
    "#provided_sol\n",
    "\n",
    "select customer_name,count(*) as no_of_orders \n",
    "from orders\n",
    "group by customer_name having count(*)>(select count(*)*1.0/count(distinct customer_name) as avg_no_of_orders  from orders)"
   ]
  },
  {
   "cell_type": "code",
   "execution_count": null,
   "metadata": {
    "vscode": {
     "languageId": "plaintext"
    }
   },
   "outputs": [],
   "source": []
  },
  {
   "cell_type": "markdown",
   "metadata": {},
   "source": [
    "**chat gpt**\n",
    "\n",
    "In SQL, when you use a comma between two tables in the `FROM` clause, it is creating a Cartesian product (cross join) between those tables. This means that every row from the first table is paired with every row from the second table. In your query:\n",
    "\n",
    "```sql\n",
    "select customer_name, count(*) as no_of_orders\n",
    "from orders, cte\n",
    "group by customer_name\n",
    "having count(*) > cte.avg_orders\n",
    "```\n",
    "\n",
    "The `orders` table and the common table expression (CTE) `cte` are combined using a cross join. Since `cte` is expected to return only one row (it contains an aggregate calculation), the result is effectively adding the `avg_orders` value to every row from the `orders` table. \n",
    "\n",
    "Here's a step-by-step breakdown of the query:\n",
    "\n",
    "1. The CTE `cte` is defined, which calculates the average number of orders per customer:\n",
    "   ```sql\n",
    "   with cte as \n",
    "   (select count(*)/count(distinct(customer_name)) as avg_orders from orders)\n",
    "   ```\n",
    "   \n",
    "2. The main query:\n",
    "   ```sql\n",
    "   select customer_name, count(*) as no_of_orders\n",
    "   from orders, cte\n",
    "   group by customer_name\n",
    "   having count(*) > cte.avg_orders\n",
    "   ```\n",
    "   - `from orders, cte`: This creates a Cartesian product of `orders` and the single row from `cte`. Because `cte` returns a single row, each row of `orders` is effectively augmented with the `avg_orders` value.\n",
    "   - `group by customer_name`: This groups the result by `customer_name`.\n",
    "   - `having count(*) > cte.avg_orders`: This filters the groups to only include customers whose number of orders is greater than the average number of orders per customer.\n",
    "\n",
    "So, while a join is not explicitly specified, the cross join ensures that each row of `orders` has access to the `avg_orders` value from the CTE. This allows the `having` clause to compare the count of orders for each customer against this average.\n",
    "\n",
    "If the CTE were to return more than one row, this query would not work correctly because the Cartesian product would multiply the rows from `orders` by the number of rows in the CTE, leading to incorrect results. In this case, since the CTE is designed to return exactly one row, the query functions as intended."
   ]
  },
  {
   "cell_type": "markdown",
   "metadata": {},
   "source": [
    "#### [4 - LinkedIn Top Voice](https://100daysofsql.com/new-courses/1/coding-test/5)"
   ]
  },
  {
   "cell_type": "markdown",
   "metadata": {},
   "source": [
    "LinkedIn is a professional social networking app. They want to give top voice badge to their best creators to encourage them to create more quality content. A creator qualifies for the badge if he/she satisfies following criteria. \n",
    "\n",
    "1- Creator should have more then 50k followers.\n",
    "\n",
    "2- Creator should have more than 100k impressions on the posts that they published in the month of Dec-2023.\n",
    "\n",
    "3- Creator should have published atleast 3 posts in Dec-2023.\n",
    "\n",
    "Write a SQL to get the list of top voice creators name along with no of posts and impressions by them in the month of Dec-2023.\n",
    "\n",
    "Table: creators(primary key : creator_id)\n",
    "\n",
    "column name\tdata type \n",
    "creator_id \tint\n",
    "creator_name \tvarchar(20)\n",
    "followers \tint\n",
    "\n",
    "Table: posts(primary key : post_id)\n",
    "\n",
    "column name\tdata type \n",
    "creator_id \tint\n",
    "post_id \tvarchar(3)\n",
    "publish_date \tdate\n",
    "impressions \tint\n",
    " \n",
    "\n",
    "Example output:\n",
    "\n",
    "creator_name\tno_of_posts\t total_impressions\n",
    "Ankit Bansal\t3\t132000\n",
    " "
   ]
  },
  {
   "cell_type": "code",
   "execution_count": null,
   "metadata": {
    "vscode": {
     "languageId": "plaintext"
    }
   },
   "outputs": [],
   "source": [
    "my_sol\n",
    "\n",
    "select c.creator_name, count(*) as no_of_posts, sum(p.impressions) as total_impressions\n",
    "from creators c join posts p on c.creator_id=p.creator_id\n",
    "where c.followers>50000 and \n",
    "strftime('%Y%m', p.publish_date) = '202312'\n",
    "group by c.creator_name\n",
    "having sum(impressions)>100000 and \n",
    "count(*)>=3\n",
    "\n",
    "site_sol\n",
    "select c.creator_name,count(p.post_id) as no_of_posts, sum(p.impressions) as total_impressions\n",
    "from creators c\n",
    "inner join posts p on c.creator_id=p.creator_id\n",
    "where c.followers>50000 and strftime('%Y%m', p.publish_date)='202312'\n",
    "group by c.creator_name,c.followers\n",
    "having sum(p.impressions)>100000 and count(p.post_id)>=3 "
   ]
  },
  {
   "cell_type": "markdown",
   "metadata": {},
   "source": [
    "[5 - CIBIL Score](https://100daysofsql.com/new-courses/1/coding-test/6)"
   ]
  },
  {
   "cell_type": "markdown",
   "metadata": {},
   "source": [
    "CIBIL score, often referred to as a credit score, is a numerical representation of an individual's creditworthiness.While the exact formula used by credit bureaus like CIBIL may not be publicly disclosed and can vary slightly between bureaus, the following are some common factors that typically influence the calculation of a credit score:\n",
    "\n",
    "Payment History: This accounts for the largest portion of your credit score. It includes factors such as whether you pay your bills on time, any late payments, defaults, bankruptcies, etc. Assume this accounts for 70 percent of your credit score.\n",
    "\n",
    "Credit Utilization Ratio: This is the ratio of your credit card balances to your credit limits. Keeping this ratio low (ideally below 30%) indicates responsible credit usage. Assume it accounts for 30% of your score and below logic to calculate it: \n",
    "\n",
    "           Utilization below 30% = 1\n",
    "\n",
    "           Utilization between 30% and 50% = 0.7\n",
    "\n",
    "           Utilization above 50% = 0.5\n",
    "\n",
    "Assume that we have credit card bills data for March 2023 based on that we need to calculate credit utilization ratio.\n",
    "\n",
    " \n",
    "\n",
    "Final Credit score formula = (on_time_loan_or_bill_payment)/total_bills_and_loans * 70 + Credit Utilization Ratio * 30 \n",
    "\n",
    " \n",
    "\n",
    "Table: customers(primary key : customer_id )\n",
    "\n",
    "column name\tdata type \n",
    "customer_id \tint\n",
    "credit_limit \tint\n",
    " \n",
    "\n",
    "Table: loans(primary key : loan_id )\n",
    "\n",
    "column name\tdata type \n",
    "customer_id \tint\n",
    "loan_id \tint\n",
    "loan_due_date \tdate\n",
    " \n",
    "\n",
    "Table: credit_card_bills(primary key : bill_id )\n",
    "\n",
    "column name\tdata type \n",
    "customer_id \tint\n",
    "bill_id \tint\n",
    "bill_due_date \tdate\n",
    "balance_amount \tint\n",
    " \n",
    "\n",
    "Table: customer_transactions(primary key : loan_bill_id )\n",
    "\n",
    "column name\tdata type \n",
    "loan_bill_id \tint\n",
    "transaction_type \tvarchar(10)\n",
    "transaction_date\tdate\n",
    " \n",
    "\n",
    "Expected Output: \n",
    "\n",
    "customer_id\tcibil_score\n",
    "1\t82.5\n",
    "2\t91.0"
   ]
  },
  {
   "cell_type": "code",
   "execution_count": null,
   "metadata": {
    "vscode": {
     "languageId": "plaintext"
    }
   },
   "outputs": [],
   "source": []
  }
 ],
 "metadata": {
  "language_info": {
   "name": "python"
  }
 },
 "nbformat": 4,
 "nbformat_minor": 2
}
