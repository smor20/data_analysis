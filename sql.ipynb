{
 "cells": [
  {
   "cell_type": "markdown",
   "metadata": {},
   "source": [
    "#### SQL info"
   ]
  },
  {
   "cell_type": "code",
   "execution_count": null,
   "metadata": {
    "vscode": {
     "languageId": "plaintext"
    }
   },
   "outputs": [],
   "source": [
    "window function and group by are not used in the same query, can be used with cte. like define a cte and perfrom group by operation and the use that cte table to perfom window function operation."
   ]
  },
  {
   "cell_type": "markdown",
   "metadata": {},
   "source": [
    "#### [Q3-Premium Customers](https://100daysofsql.com/new-courses/1/coding-test/4)"
   ]
  },
  {
   "cell_type": "markdown",
   "metadata": {},
   "source": [
    "Namastekart, an e-commerce company want to start special reward program for their premium customers.  The customers who have placed more number of orders than the average number of orders placed by each customers are considered as premium customers.\n",
    "\n",
    "Write an SQL to find the list of premium customers along with the number of orders placed by each of them. \n",
    "\n",
    "Table: orders (primary key : order_id)\n",
    "\n",
    "column name\tdatatype\n",
    "order_id\tint\n",
    "order_date\tdate\n",
    "customer_name\tvarchar(20)\n",
    "sales\tint\n",
    " \n",
    "\n",
    "Example Input\n",
    "\n",
    "orders\n",
    "\n",
    "order_id\torder_date\tcustomer_name\tsales\n",
    "1\t2023-01-01\tAlexa\t1239\n",
    "2\t2023-01-02\tAlexa\t1239\n",
    "3\t2023-01-03\tAlexa\t1239\n",
    "4\t2023-01-03\tAlexa\t1239\n",
    "5\t2023-01-01\tRamesh\t1239\n",
    "6\t2023-01-02\tRamesh\t1239\n",
    "7\t2023-01-03\tRamesh\t1239\n",
    "8\t2023-01-03\tNeha\t1200\n",
    "9\t2023-01-03\tSubhash\t100\n",
    "10\t2023-01-03\tSubhash\t230\n",
    " \n",
    "\n",
    "Expected Output:\n",
    "\n",
    "customer_name\tno_of_orders\n",
    "Alexa\t4\n",
    "Ramesh\t3\n",
    "Explanation: There are total 10 orders placed by 4 customers so the average number order placed by each customers is 10/4 = 2.5 . Alexa and ramesh have done more than 2.5 orders so they are in the output. "
   ]
  },
  {
   "cell_type": "code",
   "execution_count": null,
   "metadata": {
    "vscode": {
     "languageId": "plaintext"
    }
   },
   "outputs": [],
   "source": []
  },
  {
   "cell_type": "markdown",
   "metadata": {},
   "source": [
    "#my_sol\n",
    "\n",
    "with cte as \n",
    "(select count(*)/count(distinct(customer_name)) as avg_orders from orders)\n",
    "\n",
    "-- select * from cte\n",
    "select customer_name, count(*) as no_of_orders\n",
    "from orders, cte\n",
    "group by customer_name\n",
    "having count(*)>cte.avg_orders\n",
    "\n",
    "#provided_sol\n",
    "\n",
    "select customer_name,count(*) as no_of_orders \n",
    "from orders\n",
    "group by customer_name having count(*)>(select count(*)*1.0/count(distinct customer_name) as avg_no_of_orders  from orders)"
   ]
  },
  {
   "cell_type": "code",
   "execution_count": null,
   "metadata": {
    "vscode": {
     "languageId": "plaintext"
    }
   },
   "outputs": [],
   "source": []
  },
  {
   "cell_type": "markdown",
   "metadata": {},
   "source": [
    "**chat gpt**\n",
    "\n",
    "In SQL, when you use a comma between two tables in the `FROM` clause, it is creating a Cartesian product (cross join) between those tables. This means that every row from the first table is paired with every row from the second table. In your query:\n",
    "\n",
    "```sql\n",
    "select customer_name, count(*) as no_of_orders\n",
    "from orders, cte\n",
    "group by customer_name\n",
    "having count(*) > cte.avg_orders\n",
    "```\n",
    "\n",
    "The `orders` table and the common table expression (CTE) `cte` are combined using a cross join. Since `cte` is expected to return only one row (it contains an aggregate calculation), the result is effectively adding the `avg_orders` value to every row from the `orders` table. \n",
    "\n",
    "Here's a step-by-step breakdown of the query:\n",
    "\n",
    "1. The CTE `cte` is defined, which calculates the average number of orders per customer:\n",
    "   ```sql\n",
    "   with cte as \n",
    "   (select count(*)/count(distinct(customer_name)) as avg_orders from orders)\n",
    "   ```\n",
    "   \n",
    "2. The main query:\n",
    "   ```sql\n",
    "   select customer_name, count(*) as no_of_orders\n",
    "   from orders, cte\n",
    "   group by customer_name\n",
    "   having count(*) > cte.avg_orders\n",
    "   ```\n",
    "   - `from orders, cte`: This creates a Cartesian product of `orders` and the single row from `cte`. Because `cte` returns a single row, each row of `orders` is effectively augmented with the `avg_orders` value.\n",
    "   - `group by customer_name`: This groups the result by `customer_name`.\n",
    "   - `having count(*) > cte.avg_orders`: This filters the groups to only include customers whose number of orders is greater than the average number of orders per customer.\n",
    "\n",
    "So, while a join is not explicitly specified, the cross join ensures that each row of `orders` has access to the `avg_orders` value from the CTE. This allows the `having` clause to compare the count of orders for each customer against this average.\n",
    "\n",
    "If the CTE were to return more than one row, this query would not work correctly because the Cartesian product would multiply the rows from `orders` by the number of rows in the CTE, leading to incorrect results. In this case, since the CTE is designed to return exactly one row, the query functions as intended."
   ]
  },
  {
   "cell_type": "markdown",
   "metadata": {},
   "source": [
    "#### [4 - LinkedIn Top Voice](https://100daysofsql.com/new-courses/1/coding-test/5)"
   ]
  },
  {
   "cell_type": "markdown",
   "metadata": {},
   "source": [
    "LinkedIn is a professional social networking app. They want to give top voice badge to their best creators to encourage them to create more quality content. A creator qualifies for the badge if he/she satisfies following criteria. \n",
    "\n",
    "1- Creator should have more then 50k followers.\n",
    "\n",
    "2- Creator should have more than 100k impressions on the posts that they published in the month of Dec-2023.\n",
    "\n",
    "3- Creator should have published atleast 3 posts in Dec-2023.\n",
    "\n",
    "Write a SQL to get the list of top voice creators name along with no of posts and impressions by them in the month of Dec-2023.\n",
    "\n",
    "Table: creators(primary key : creator_id)\n",
    "\n",
    "column name\tdata type \n",
    "creator_id \tint\n",
    "creator_name \tvarchar(20)\n",
    "followers \tint\n",
    "\n",
    "Table: posts(primary key : post_id)\n",
    "\n",
    "column name\tdata type \n",
    "creator_id \tint\n",
    "post_id \tvarchar(3)\n",
    "publish_date \tdate\n",
    "impressions \tint\n",
    " \n",
    "\n",
    "Example output:\n",
    "\n",
    "creator_name\tno_of_posts\t total_impressions\n",
    "Ankit Bansal\t3\t132000\n",
    " "
   ]
  },
  {
   "cell_type": "code",
   "execution_count": null,
   "metadata": {
    "vscode": {
     "languageId": "plaintext"
    }
   },
   "outputs": [],
   "source": [
    "my_sol\n",
    "\n",
    "select c.creator_name, count(*) as no_of_posts, sum(p.impressions) as total_impressions\n",
    "from creators c join posts p on c.creator_id=p.creator_id\n",
    "where c.followers>50000 and \n",
    "strftime('%Y%m', p.publish_date) = '202312'\n",
    "group by c.creator_name\n",
    "having sum(impressions)>100000 and \n",
    "count(*)>=3\n",
    "\n",
    "site_sol\n",
    "select c.creator_name,count(p.post_id) as no_of_posts, sum(p.impressions) as total_impressions\n",
    "from creators c\n",
    "inner join posts p on c.creator_id=p.creator_id\n",
    "where c.followers>50000 and strftime('%Y%m', p.publish_date)='202312'\n",
    "group by c.creator_name,c.followers\n",
    "having sum(p.impressions)>100000 and count(p.post_id)>=3 "
   ]
  },
  {
   "cell_type": "markdown",
   "metadata": {},
   "source": [
    "#### [5 - CIBIL Score](https://100daysofsql.com/new-courses/1/coding-test/6)"
   ]
  },
  {
   "cell_type": "code",
   "execution_count": null,
   "metadata": {
    "vscode": {
     "languageId": "plaintext"
    }
   },
   "outputs": [],
   "source": []
  },
  {
   "cell_type": "markdown",
   "metadata": {},
   "source": [
    "CIBIL score, often referred to as a credit score, is a numerical representation of an individual's creditworthiness.While the exact formula used by credit bureaus like CIBIL may not be publicly disclosed and can vary slightly between bureaus, the following are some common factors that typically influence the calculation of a credit score:\n",
    "\n",
    "Payment History: This accounts for the largest portion of your credit score. It includes factors such as whether you pay your bills on time, any late payments, defaults, bankruptcies, etc. Assume this accounts for 70 percent of your credit score.\n",
    "\n",
    "Credit Utilization Ratio: This is the ratio of your credit card balances to your credit limits. Keeping this ratio low (ideally below 30%) indicates responsible credit usage. Assume it accounts for 30% of your score and below logic to calculate it: \n",
    "\n",
    "           Utilization below 30% = 1\n",
    "\n",
    "           Utilization between 30% and 50% = 0.7\n",
    "\n",
    "           Utilization above 50% = 0.5\n",
    "\n",
    "Assume that we have credit card bills data for March 2023 based on that we need to calculate credit utilization ratio.\n",
    "\n",
    " \n",
    "\n",
    "Final Credit score formula = (on_time_loan_or_bill_payment)/total_bills_and_loans * 70 + Credit Utilization Ratio * 30 \n",
    "\n",
    " \n",
    "\n",
    "Table: customers(primary key : customer_id )\n",
    "\n",
    "column name\tdata type \n",
    "customer_id \tint\n",
    "credit_limit \tint\n",
    " \n",
    "\n",
    "Table: loans(primary key : loan_id )\n",
    "\n",
    "column name\tdata type \n",
    "customer_id \tint\n",
    "loan_id \tint\n",
    "loan_due_date \tdate\n",
    " \n",
    "\n",
    "Table: credit_card_bills(primary key : bill_id )\n",
    "\n",
    "column name\tdata type \n",
    "customer_id \tint\n",
    "bill_id \tint\n",
    "bill_due_date \tdate\n",
    "balance_amount \tint\n",
    " \n",
    "\n",
    "Table: customer_transactions(primary key : loan_bill_id )\n",
    "\n",
    "column name\tdata type \n",
    "loan_bill_id \tint\n",
    "transaction_type \tvarchar(10)\n",
    "transaction_date\tdate\n",
    " \n",
    "\n",
    "Expected Output: \n",
    "\n",
    "customer_id\tcibil_score\n",
    "1\t82.5\n",
    "2\t91.0"
   ]
  },
  {
   "cell_type": "code",
   "execution_count": null,
   "metadata": {
    "vscode": {
     "languageId": "plaintext"
    }
   },
   "outputs": [],
   "source": []
  },
  {
   "cell_type": "markdown",
   "metadata": {},
   "source": [
    "#### [11 - New and Repeat Customers](https://100daysofsql.com/new-courses/1/coding-test/12)"
   ]
  },
  {
   "cell_type": "code",
   "execution_count": null,
   "metadata": {
    "vscode": {
     "languageId": "plaintext"
    }
   },
   "outputs": [],
   "source": [
    "NamasteKart an ecommerce company wants to build a very imporant business metrics where they want to track on daily basis how many new and repeat customers are purchasing products from their website. A new customer is defined when he purchased anything for the first time from the website and repeat customer is someone who has done atleast one purchase in the past.\n",
    "\n",
    "Table: customer_orders (primary key : order_id)\n",
    "\n",
    "column name\tdatatype\n",
    "order_id\tint\n",
    "order_date\tdate\n",
    "customer_id \tint\n",
    "order_amount \tint\n",
    "\n",
    "Expected Output:\n",
    "\n",
    "order_date\tnew_customers\trepeat_customers\n",
    "2022-01-01\t3\t0\n",
    "2022-01-02\t2\t1\n",
    "2022-01-03\t1\t2\n",
    " "
   ]
  },
  {
   "cell_type": "code",
   "execution_count": null,
   "metadata": {
    "vscode": {
     "languageId": "sql"
    }
   },
   "outputs": [],
   "source": [
    "-- Create the customer_orders table\n",
    "CREATE TABLE customer_orders (\n",
    "    order_id INT PRIMARY KEY,\n",
    "    order_date DATE,\n",
    "    customer_id INT,\n",
    "    order_amount INT\n",
    ");\n",
    "\n",
    "-- Insert data into the customer_orders table\n",
    "INSERT INTO customer_orders (order_id, customer_id, order_date, order_amount) VALUES\n",
    "(1, 100, '2022-01-01', 2000),\n",
    "(2, 200, '2022-01-01', 2500),\n",
    "(3, 300, '2022-01-01', 2100),\n",
    "(4, 100, '2022-01-02', 2000),\n",
    "(5, 400, '2022-01-02', 2200),\n",
    "(6, 500, '2022-01-02', 2700),\n",
    "(7, 100, '2022-01-03', 3000),\n",
    "(8, 400, '2022-01-03', 1000),\n",
    "(9, 600, '2022-01-03', 3000);\n"
   ]
  },
  {
   "cell_type": "code",
   "execution_count": null,
   "metadata": {
    "vscode": {
     "languageId": "sql"
    }
   },
   "outputs": [],
   "source": [
    "with cte as\n",
    "(select * ,\n",
    "min(order_date) over(partition by customer_id ) as first_order\n",
    "from customer_orders\n",
    ")\n",
    "\n",
    "select \n",
    "order_date,\n",
    "sum(case when order_date=first_order then 1 else 0 end) as new_customers,\n",
    "sum(case when order_date!=first_order then 1 else 0 end) as repeat_customers\n",
    "from cte\n",
    "group by order_date"
   ]
  },
  {
   "cell_type": "code",
   "execution_count": null,
   "metadata": {
    "vscode": {
     "languageId": "sql"
    }
   },
   "outputs": [],
   "source": [
    "# provided solution\n",
    "\n",
    "with first_order_date as \n",
    "(select customer_id,min(order_date) as first_order \n",
    "from customer_orders \n",
    "group by customer_id\n",
    ")\n",
    "select co.order_date \n",
    ",sum(case when co.order_date=fod.first_order then 1 else 0 end) as new_customers\n",
    ",sum(case when co.order_date>fod.first_order then 1 else 0 end) as repeat_customers\n",
    "from customer_orders co \n",
    "inner join first_order_date fod on co.customer_id=fod.customer_id\n",
    "group by co.order_date "
   ]
  },
  {
   "cell_type": "code",
   "execution_count": null,
   "metadata": {
    "vscode": {
     "languageId": "sql"
    }
   },
   "outputs": [],
   "source": []
  },
  {
   "cell_type": "markdown",
   "metadata": {},
   "source": [
    "#### [13 - Trending Products](https://100daysofsql.com/new-courses/1/coding-test/14)"
   ]
  },
  {
   "cell_type": "code",
   "execution_count": null,
   "metadata": {
    "vscode": {
     "languageId": "sql"
    }
   },
   "outputs": [],
   "source": [
    "-- code to insert the orders table\n",
    "\n",
    "-- Step 1: Create the table\n",
    "CREATE TABLE orders (\n",
    "    order_month DATE,\n",
    "    product_id VARCHAR(5),\n",
    "    sales INT,\n",
    "    PRIMARY KEY (order_month, product_id)\n",
    ");\n",
    "\n",
    "\n",
    "-- Step 2: Insert the data\n",
    "INSERT INTO orders (order_month, product_id, sales) VALUES\n",
    "('2023-01-01', 'p1', 100),\n",
    "('2023-01-01', 'p2', 500),\n",
    "('2023-02-01', 'p1', 700),\n",
    "('2023-02-01', 'p2', 300),\n",
    "('2023-03-01', 'p1', 900),\n",
    "('2023-03-01', 'p2', 700),\n",
    "('2023-04-01', 'p1', 2000),\n",
    "('2023-04-01', 'p2', 1100);\n"
   ]
  },
  {
   "cell_type": "code",
   "execution_count": null,
   "metadata": {
    "vscode": {
     "languageId": "sql"
    }
   },
   "outputs": [],
   "source": [
    "with cte as \n",
    "(select *,\n",
    "lag(sales,1) over(partition by product_id order by order_month)  as prev1,\n",
    "lag(sales,2) over(partition by product_id order by order_month) as prev2,\n",
    "lag(sales,1) over(partition by product_id order by order_month)+lag(sales,2) over(partition by product_id order by order_month) as prev_total\n",
    "from orders)\n",
    "\n",
    "select order_month,product_id\n",
    "from cte\n",
    "where prev_total is not null and prev_total<sales;"
   ]
  },
  {
   "cell_type": "code",
   "execution_count": null,
   "metadata": {
    "vscode": {
     "languageId": "sql"
    }
   },
   "outputs": [],
   "source": [
    "with cte2 as\n",
    "(select *,\n",
    "sum(sales) over(partition by product_id order by order_month rows between 2 preceding and 1 preceding) as prev_total\n",
    "\n",
    "from orders)\n",
    "\n",
    "select \n",
    "order_month, product_id\n",
    "\n",
    "from cte2\n",
    "where sales>prev_total and order_month not in (select distinct order_month from orders order by order_month asc limit 2)\n"
   ]
  },
  {
   "cell_type": "code",
   "execution_count": null,
   "metadata": {
    "vscode": {
     "languageId": "sql"
    }
   },
   "outputs": [],
   "source": [
    "-- provided solution\n",
    "with cte as (\n",
    "select * \n",
    ",sum(sales) over(partition by product_id order by order_month rows between 2 preceding and 1 preceding) as last2\n",
    ",row_number() over(partition by product_id order by order_month) as rn\n",
    "from orders \n",
    ")\n",
    "select order_month,product_id from cte \n",
    "where rn>=3 and sales > last2"
   ]
  },
  {
   "cell_type": "code",
   "execution_count": null,
   "metadata": {
    "vscode": {
     "languageId": "sql"
    }
   },
   "outputs": [],
   "source": []
  },
  {
   "cell_type": "markdown",
   "metadata": {},
   "source": [
    "#### [14 - Uber Rides](https://100daysofsql.com/new-courses/1/coding-test/15)"
   ]
  },
  {
   "cell_type": "code",
   "execution_count": null,
   "metadata": {
    "vscode": {
     "languageId": "sql"
    }
   },
   "outputs": [],
   "source": [
    "code to create the table \n",
    "\n",
    "-- Create the drivers table\n",
    "CREATE TABLE drivers (\n",
    "    id VARCHAR(10),\n",
    "    start_time TIME,\n",
    "    end_time TIME,\n",
    "    start_loc VARCHAR(1),\n",
    "    end_loc VARCHAR(1),\n",
    "    PRIMARY KEY (id, start_time)\n",
    ");\n",
    "\n",
    "-- Insert data into the drivers table\n",
    "INSERT INTO drivers (id, start_time, end_time, start_loc, end_loc) VALUES\n",
    "('dri_1', '09:00:00', '09:30:00', 'a', 'b'),\n",
    "('dri_1', '09:30:00', '10:30:00', 'b', 'c'),\n",
    "('dri_1', '11:00:00', '11:30:00', 'd', 'e'),\n",
    "('dri_1', '12:00:00', '12:30:00', 'f', 'g'),\n",
    "('dri_1', '13:30:00', '14:30:00', 'c', 'h'),\n",
    "('dri_2', '12:15:00', '12:30:00', 'f', 'g'),\n",
    "('dri_2', '13:30:00', '14:30:00', 'c', 'h');\n"
   ]
  },
  {
   "cell_type": "code",
   "execution_count": null,
   "metadata": {
    "vscode": {
     "languageId": "sql"
    }
   },
   "outputs": [],
   "source": [
    "with cte as\n",
    "(select *,\n",
    "lead(start_time,1) over(partition by id order by start_time) as nxt_ride,\n",
    "lead(start_loc,1) over(partition by id order by start_time) as nxt_start\n",
    "\n",
    "from drivers)\n",
    "\n",
    "select id, count(*) as total_rides,\n",
    "sum(case when end_time=nxt_ride and end_loc=nxt_start then 1 else 0 end) as profit_rides\n",
    "from cte\n",
    "group by id\n"
   ]
  },
  {
   "cell_type": "code",
   "execution_count": null,
   "metadata": {
    "vscode": {
     "languageId": "sql"
    }
   },
   "outputs": [],
   "source": [
    "-- provided solution\n",
    "\n",
    "with cte as (\n",
    "select * \n",
    ", lag(end_time,1) over(partition by id order by start_time) as prev_end_time\n",
    ", lag(end_loc,1) over(partition by id order by start_time) as prev_end_loc\n",
    "from drivers\n",
    ")\n",
    "select id, count(*) as total_rides , \n",
    "sum(case when start_time = prev_end_time and start_loc=prev_end_loc then 1 else 0 end) as profit_rides\n",
    "from cte \n",
    "group by id"
   ]
  },
  {
   "cell_type": "code",
   "execution_count": null,
   "metadata": {
    "vscode": {
     "languageId": "sql"
    }
   },
   "outputs": [],
   "source": []
  },
  {
   "cell_type": "markdown",
   "metadata": {},
   "source": [
    "#### [15 - The United States of America](https://100daysofsql.com/new-courses/1/coding-test/16)"
   ]
  },
  {
   "cell_type": "code",
   "execution_count": null,
   "metadata": {},
   "outputs": [],
   "source": [
    "''' In some poorly designed UI applications, there's often a lack of data input restrictions. For instance, in a free text field for the country, users might input variations such as 'USA,' 'United States of America,' or 'US.'\n",
    "\n",
    "Suppose we have survey data from individuals in the USA about their job satisfaction, rated on a scale of 1 to 5. Write a SQL query to count the number of respondents for each rating on the scale. Additionally, include the country name in the format that occurs most frequently in that scale.\n",
    "\n",
    "Table: survey (primary key : name)\n",
    "\n",
    "column name\tdatatype\n",
    "name \tvarchar(10)\n",
    "job_satisfaction \tint\n",
    "country \tvarchar(20)\n",
    "\n",
    "Expected output:\n",
    "\n",
    "job_satisfaction | country | number_of_respondents\n",
    "4\tUSA\t3\n",
    "5\tUnited States\t4\n",
    "\n",
    "'''"
   ]
  },
  {
   "cell_type": "code",
   "execution_count": null,
   "metadata": {
    "vscode": {
     "languageId": "sql"
    }
   },
   "outputs": [],
   "source": [
    "-- Create the survey table\n",
    "CREATE TABLE survey (\n",
    "    name VARCHAR(10) PRIMARY KEY,\n",
    "    job_satisfaction INT,\n",
    "    country VARCHAR(20)\n",
    ");\n",
    "\n",
    "-- Insert data into the survey table\n",
    "INSERT INTO survey (name, job_satisfaction, country) VALUES\n",
    "('Alex', 4, 'USA'),\n",
    "('Saurabh', 5, 'US'),\n",
    "('Mark', 4, 'United States'),\n",
    "('Shane', 4, 'USA'),\n",
    "('Kim', 5, 'United States'),\n",
    "('Joe', 5, 'USA'),\n",
    "('Mira', 5, 'United States');\n"
   ]
  },
  {
   "cell_type": "code",
   "execution_count": null,
   "metadata": {
    "vscode": {
     "languageId": "sql"
    }
   },
   "outputs": [],
   "source": [
    "with cte as (\n",
    "select country,job_satisfaction,count(*) as cnt \n",
    "from survey\n",
    "group by country,job_satisfaction\n",
    ")\n",
    ", cte2 as (\n",
    "select *, sum(cnt) over(partition by job_satisfaction) as number_of_respondents\n",
    ",max(cnt) over(partition by job_satisfaction) as max_cnt\n",
    "from cte\n",
    ")\n",
    "select job_satisfaction,country,number_of_respondents from cte2 \n",
    "where cnt=max_cnt\n"
   ]
  },
  {
   "cell_type": "markdown",
   "metadata": {},
   "source": []
  },
  {
   "cell_type": "markdown",
   "metadata": {},
   "source": [
    "#### [16 - Product Recommendation](https://100daysofsql.com/new-courses/1/coding-test/17)"
   ]
  },
  {
   "cell_type": "code",
   "execution_count": null,
   "metadata": {},
   "outputs": [],
   "source": [
    "'''\n",
    "Product recommendation. Just the basic type (“customers who bought this also bought…”). That, in its simplest form, is an outcome of basket analysis. Write a SQL to find the product pairs along with the count of times they have been purchased together. Based on the history ecommerce website can recommend products to new user.\n",
    "\n",
    "Table: orders (primary key : order_id)\n",
    "\n",
    "column name\tdatatype\n",
    "order_id\tint\n",
    "customer_id \tint\n",
    "product_id \tvarchar(2)\n",
    "\n",
    "Expected Output:\n",
    "\n",
    "product_1\tproduct_2\tpurchase_frequency\n",
    "p2\tp1\t2\n",
    "p3\tp1\t1\n",
    "p3\tp2\t1\n",
    "p4\tp1\t1\n",
    "p4\tp2\t1\n",
    "Note : In the output product_1 values should be greater than product_2 values. eg: pair p1,p2 or p2,p1 represent same thing but we need to show p2,p1 in the output.\n",
    "\n",
    "'''"
   ]
  },
  {
   "cell_type": "code",
   "execution_count": null,
   "metadata": {
    "vscode": {
     "languageId": "sql"
    }
   },
   "outputs": [],
   "source": [
    "CREATE TABLE orders (\n",
    "    order_id INT NOT NULL,\n",
    "    customer_id INT NOT NULL,\n",
    "    product_id VARCHAR(2) NOT NULL,\n",
    "    PRIMARY KEY (order_id, product_id)\n",
    ");\n",
    "\n",
    "INSERT INTO orders (order_id, customer_id, product_id) VALUES\n",
    "(1, 1, 'p1'),\n",
    "(1, 1, 'p2'),\n",
    "(1, 1, 'p3'),\n",
    "(2, 2, 'p1'),\n",
    "(2, 2, 'p2'),\n",
    "(2, 2, 'p4'),\n",
    "(3, 1, 'p5');"
   ]
  },
  {
   "cell_type": "code",
   "execution_count": null,
   "metadata": {
    "vscode": {
     "languageId": "sql"
    }
   },
   "outputs": [],
   "source": [
    "select \n",
    "    o1.product_id as product_1, o2.product_id as product_2,\n",
    "    count(*) as purchase_frequency\n",
    "from \n",
    "    orders o1 \n",
    "    join orders o2 on o1.order_id=o2.order_id\n",
    "where \n",
    "    o1.product_id>o2.product_id\n",
    "group by \n",
    "    o1.product_id, o2.product_id"
   ]
  },
  {
   "cell_type": "markdown",
   "metadata": {},
   "source": [
    "#### [17 - Account Balance](https://100daysofsql.com/new-courses/1/coding-test/18)"
   ]
  },
  {
   "cell_type": "code",
   "execution_count": null,
   "metadata": {
    "vscode": {
     "languageId": "sql"
    }
   },
   "outputs": [],
   "source": [
    "-- You are given a list of users and their opening account balance along with the trasaction done by them. Write a SQL to calculate their account balance at the end of all the transactions. Please note that users can do transactions among themselves as well. \n",
    "\n",
    "-- Table: users(primary key : user_id)\n",
    "\n",
    "-- column name\tdatatype\n",
    "-- user_id \tint\n",
    "-- username \tvarchar(10)\n",
    "-- opening_balance \tint\n",
    " \n",
    "\n",
    "-- Table: transactions (primary key : id)\n",
    "\n",
    "-- column name\tdatatype\n",
    "-- id\tint\n",
    "-- from_userid \tint\n",
    "-- to_userid  \tint\n",
    "-- amount \tint\n",
    "\n",
    "-- Expected Output:\n",
    "\n",
    "-- user_id\tfinal_balance\n",
    "-- Ankit\t2000\n",
    "-- Rahul\t10200\n",
    "-- Amit\t2800\n",
    "-- Agam\t7500"
   ]
  },
  {
   "cell_type": "code",
   "execution_count": null,
   "metadata": {
    "vscode": {
     "languageId": "sql"
    }
   },
   "outputs": [],
   "source": [
    "-- Creating the users table\n",
    "CREATE TABLE users (\n",
    "    user_id INTEGER PRIMARY KEY,\n",
    "    username VARCHAR(10) NOT NULL,\n",
    "    opening_balance INTEGER NOT NULL\n",
    ");\n",
    "\n",
    "-- Creating the transactions table\n",
    "CREATE TABLE transactions (\n",
    "    id INTEGER PRIMARY KEY,\n",
    "    from_userid INTEGER NOT NULL,\n",
    "    to_userid INTEGER NOT NULL,\n",
    "    amount INTEGER NOT NULL,\n",
    "    FOREIGN KEY (from_userid) REFERENCES users(user_id),\n",
    "    FOREIGN KEY (to_userid) REFERENCES users(user_id)\n",
    ");\n",
    "\n",
    "-- Inserting data into users table\n",
    "INSERT INTO users (user_id, username, opening_balance) VALUES\n",
    "(100, 'Ankit', 1000),\n",
    "(101, 'Rahul', 9000),\n",
    "(102, 'Amit', 5000),\n",
    "(103, 'Agam', 7500);\n",
    "\n",
    "-- Inserting data into transactions table\n",
    "INSERT INTO transactions (id, from_userid, to_userid, amount) VALUES\n",
    "(1, 100, 102, 500),\n",
    "(2, 102, 101, 700),\n",
    "(3, 101, 102, 600),\n",
    "(4, 102, 100, 1500),\n",
    "(5, 102, 101, 800),\n",
    "(6, 102, 101, 300);\n"
   ]
  },
  {
   "cell_type": "code",
   "execution_count": null,
   "metadata": {
    "vscode": {
     "languageId": "sql"
    }
   },
   "outputs": [],
   "source": []
  },
  {
   "cell_type": "markdown",
   "metadata": {},
   "source": [
    "#### [18 - boAt Lifestyle](https://100daysofsql.com/new-courses/1/coding-test/19)"
   ]
  },
  {
   "cell_type": "code",
   "execution_count": null,
   "metadata": {
    "vscode": {
     "languageId": "sql"
    }
   },
   "outputs": [],
   "source": [
    "-- boAt Lifestyle is focusing on influencer marketing to build and scale their brand. They want to partner with power creators for their upcoming campaigns. The creators should satisy below conditions to qualify :\n",
    "\n",
    "-- 1- They should have 100k+ followers on atleast 2 social media platforms and\n",
    "\n",
    "-- 2- They should have atleast 50k+ views on their latest YouTube video.\n",
    "\n",
    "-- Write an SQL to get creator id and name satisfying above conditions.\n",
    "\n",
    "-- Table: creators(primary key : order_id)\n",
    "\n",
    "-- column name\tdatatype\n",
    "-- id \tint\n",
    "-- name \tvarchar(10)\n",
    "-- platform \tvarchar(10)\n",
    "-- followers \tint\n",
    "\n",
    "-- Table: youtube_videos(primary key : order_id)\n",
    "\n",
    "-- column name\tdatatype\n",
    "-- id \tint\n",
    "-- creator_id \tint\n",
    "-- publish_date \tdate\n",
    "-- views\tint\n",
    " \n",
    "\n",
    "-- Expected Output:\n",
    "\n",
    "-- id\tname\n",
    "-- 102\tDhruv"
   ]
  },
  {
   "cell_type": "code",
   "execution_count": null,
   "metadata": {
    "vscode": {
     "languageId": "sql"
    }
   },
   "outputs": [],
   "source": [
    "-- Creating the creators table\n",
    "CREATE TABLE creators (\n",
    "    id INTEGER NOT NULL,\n",
    "    name VARCHAR(10) NOT NULL,\n",
    "    platform VARCHAR(10) NOT NULL,\n",
    "    followers INTEGER NOT NULL,\n",
    "    PRIMARY KEY (id, platform)\n",
    ");\n",
    "\n",
    "-- Creating the youtube_videos table\n",
    "CREATE TABLE youtube_videos (\n",
    "    id INTEGER PRIMARY KEY,\n",
    "    creator_id INTEGER NOT NULL,\n",
    "    publish_date DATE NOT NULL,\n",
    "    views INTEGER NOT NULL,\n",
    "    FOREIGN KEY (creator_id) REFERENCES creators(id)\n",
    ");\n",
    "\n",
    "-- Inserting data into creators table\n",
    "INSERT INTO creators (id, name, platform, followers) VALUES\n",
    "(100, 'Ankit', 'YouTube', 90000),\n",
    "(100, 'Ankit', 'LinkedIn', 150000),\n",
    "(101, 'Warikoo', 'YouTube', 500000),\n",
    "(101, 'Warikoo', 'LinkedIn', 600000),\n",
    "(101, 'Warikoo', 'Instagram', 800000),\n",
    "(102, 'Dhruv', 'LinkedIn', 60000),\n",
    "(102, 'Dhruv', 'YouTube', 900000),\n",
    "(102, 'Dhruv', 'Instagram', 800000);\n",
    "\n",
    "-- Inserting data into youtube_videos table\n",
    "INSERT INTO youtube_videos (id, creator_id, publish_date, views) VALUES\n",
    "(1, 100, '2024-01-01', 52000),\n",
    "(2, 100, '2024-01-06', 62000),\n",
    "(3, 101, '2024-01-05', 59000),\n",
    "(4, 101, '2024-01-07', 22000),\n",
    "(5, 102, '2024-01-05', 70000),\n",
    "(6, 102, '2024-01-09', 90000);\n"
   ]
  },
  {
   "cell_type": "code",
   "execution_count": null,
   "metadata": {
    "vscode": {
     "languageId": "sql"
    }
   },
   "outputs": [],
   "source": []
  },
  {
   "cell_type": "markdown",
   "metadata": {},
   "source": [
    "#### [19 - Dynamic Pricing](https://100daysofsql.com/new-courses/1/coding-test/20)"
   ]
  },
  {
   "cell_type": "code",
   "execution_count": null,
   "metadata": {
    "vscode": {
     "languageId": "sql"
    }
   },
   "outputs": [],
   "source": [
    "-- You are given a products table where a new row is inserted every time the price of a product changes. Additionally, there is a transaction table containing details such as order_date and product_ID for each order. Write an SQL query to calculate the total sales value for each product, considering the cost of the product at the time of the order date.\n",
    "\n",
    "-- Table: products(primary key : product_id)\n",
    "\n",
    "-- column name\tdatatype\n",
    "-- product_id\tint\n",
    "-- price_date\tdate\n",
    "-- price\tint\n",
    "\n",
    "-- Table: orders (primary key : order_id)\n",
    "\n",
    "-- column name\tdatatype\n",
    "-- order_id\tint\n",
    "-- order_date\tdate\n",
    "-- product_id\tint\n",
    "\n",
    "-- Expected output:\n",
    "\n",
    "-- product_id\ttotal_sales\n",
    "-- 100\t510\n",
    "-- 101\t3450"
   ]
  },
  {
   "cell_type": "code",
   "execution_count": null,
   "metadata": {
    "vscode": {
     "languageId": "sql"
    }
   },
   "outputs": [],
   "source": [
    "-- Creating the products table\n",
    "CREATE TABLE products (\n",
    "    product_id INTEGER NOT NULL,\n",
    "    price_date DATE NOT NULL,\n",
    "    price INTEGER NOT NULL,\n",
    "    PRIMARY KEY (product_id, price_date)\n",
    ");\n",
    "\n",
    "-- Creating the orders table\n",
    "CREATE TABLE orders (\n",
    "    order_id INTEGER PRIMARY KEY,\n",
    "    order_date DATE NOT NULL,\n",
    "    product_id INTEGER NOT NULL,\n",
    "    FOREIGN KEY (product_id) REFERENCES products(product_id)\n",
    ");\n",
    "-- Inserting data into products table\n",
    "INSERT INTO products (product_id, price_date, price) VALUES\n",
    "(100, '2024-01-01', 150),\n",
    "(100, '2024-01-21', 170),\n",
    "(100, '2024-02-01', 190),\n",
    "(101, '2024-01-01', 1000),\n",
    "(101, '2024-01-27', 1200),\n",
    "(101, '2024-02-05', 1250);\n",
    "\n",
    "-- Inserting data into orders table\n",
    "INSERT INTO orders (order_id, order_date, product_id) VALUES\n",
    "(1, '2024-01-05', 100),\n",
    "(2, '2024-01-21', 100),\n",
    "(3, '2024-02-20', 100),\n",
    "(4, '2024-01-07', 101),\n",
    "(5, '2024-02-04', 101),\n",
    "(6, '2024-02-05', 101);\n"
   ]
  },
  {
   "cell_type": "code",
   "execution_count": null,
   "metadata": {
    "vscode": {
     "languageId": "sql"
    }
   },
   "outputs": [],
   "source": [
    "with cte as\n",
    "(\n",
    "    select \n",
    "        *, julianday(order_date)-julianday(price_date) as days_diff\n",
    "    from \n",
    "        orders o \n",
    "        left join products p on o.order_date>=p.price_date and o.product_id=p.product_id\n",
    ")\n",
    ", cte2 as \n",
    "(\n",
    "    select \n",
    "        *, dense_rank() over(partition by product_id, order_date order by days_diff asc) as dr\n",
    "    from \n",
    "        cte\n",
    ")\n",
    "select \n",
    "    product_id, sum(price) as total_sales\n",
    "from \n",
    "    cte2\n",
    "where \n",
    "    dr=1\n",
    "group by \n",
    "    product_id\n",
    "-- my soln"
   ]
  },
  {
   "cell_type": "code",
   "execution_count": null,
   "metadata": {
    "vscode": {
     "languageId": "sql"
    }
   },
   "outputs": [],
   "source": [
    "with price_range as (\n",
    "select *\n",
    ", date(lead(price_date,1,'9999-12-31') over(partition by product_id order by price_date),'-1 days') as price_end_date\n",
    " from products\n",
    ")\n",
    "select p.product_id , sum(p.price) as total_sales\n",
    "from orders o \n",
    "inner join price_range p on o.product_id=p.product_id \n",
    "and o.order_date between p.price_date and p.price_end_date\n",
    "group by p.product_id;\n",
    "-- provided soln"
   ]
  },
  {
   "cell_type": "code",
   "execution_count": null,
   "metadata": {
    "vscode": {
     "languageId": "sql"
    }
   },
   "outputs": [],
   "source": []
  },
  {
   "cell_type": "markdown",
   "metadata": {},
   "source": [
    "#### [20 - Income Tax Returns](https://100daysofsql.com/new-courses/1/coding-test/21)"
   ]
  },
  {
   "cell_type": "code",
   "execution_count": null,
   "metadata": {
    "vscode": {
     "languageId": "sql"
    }
   },
   "outputs": [],
   "source": [
    "-- Income tax returns are supposed to file every year before due date announce by govt every year . Goverment wants to find out people who have filed late returns or people who have completely skipped filing returns. \n",
    "\n",
    "-- Write an SQL to list all the users along with the year for which they have done late filing or missed filing the returns. Create a comment column as well specifying if its a 'late return' or  'missed'.\n",
    "\n",
    "-- Table: income_tax_dates(primary key : financial_year)\n",
    "\n",
    "-- column name\tdatatype\n",
    "-- financial_year \tvarchar(4)\n",
    "-- file_start_date \tdate\n",
    "-- file_due_date \tdate\n",
    " \n",
    "\n",
    "-- Table: users (primary key : user_id,financial_year)\n",
    "\n",
    "-- column name\tdatatype\n",
    "-- user_id \tint\n",
    "-- financial_year \tvarchar(4)\n",
    "-- return_file_date \tdate\n",
    " \n",
    "\n",
    "\n",
    "-- Expected Output:\n",
    "\n",
    "-- user_id\tfinancial_year\tcomment\n",
    "-- 1\tFY21\tlate return\n",
    "-- 1\tFY22\tmissed\n",
    "-- 2\tFY23\tlate return\n",
    " "
   ]
  },
  {
   "cell_type": "code",
   "execution_count": null,
   "metadata": {
    "vscode": {
     "languageId": "sql"
    }
   },
   "outputs": [],
   "source": [
    "-- Creating the income_tax_dates table\n",
    "CREATE TABLE income_tax_dates (\n",
    "    financial_year VARCHAR(4) PRIMARY KEY,\n",
    "    file_start_date DATE NOT NULL,\n",
    "    file_due_date DATE NOT NULL\n",
    ");\n",
    "\n",
    "-- Creating the users table\n",
    "CREATE TABLE users (\n",
    "    user_id INTEGER NOT NULL,\n",
    "    financial_year VARCHAR(4) NOT NULL,\n",
    "    return_file_date DATE NOT NULL,\n",
    "    PRIMARY KEY (user_id, financial_year),\n",
    "    FOREIGN KEY (financial_year) REFERENCES income_tax_dates(financial_year)\n",
    ");\n",
    "-- Inserting data into income_tax_dates table\n",
    "INSERT INTO income_tax_dates (financial_year, file_start_date, file_due_date) VALUES\n",
    "('FY20', '2020-05-01', '2020-08-31'),\n",
    "('FY21', '2021-06-01', '2021-09-30'),  -- Changed '2021-09-31' to '2021-09-30' to correct the date\n",
    "('FY22', '2022-05-05', '2022-08-29'),\n",
    "('FY23', '2023-05-05', '2023-08-31');\n",
    "\n",
    "-- Inserting data into users table\n",
    "INSERT INTO users (user_id, financial_year, return_file_date) VALUES\n",
    "(1, 'FY20', '2020-05-10'),\n",
    "(1, 'FY21', '2021-10-10'),\n",
    "(1, 'FY23', '2023-08-20'),\n",
    "(2, 'FY20', '2020-05-15'),\n",
    "(2, 'FY21', '2021-09-10'),\n",
    "(2, 'FY22', '2022-08-20'),\n",
    "(2, 'FY23', '2023-10-10');\n"
   ]
  },
  {
   "cell_type": "code",
   "execution_count": null,
   "metadata": {
    "vscode": {
     "languageId": "sql"
    }
   },
   "outputs": [],
   "source": [
    "-- my soln\n",
    "with all_users_years as \n",
    "(\n",
    "select \n",
    "u.user_id,it.financial_year,it.file_due_date\n",
    "\n",
    "from users u , income_tax_dates it\n",
    "group by u.user_id,it.financial_year,it.file_due_date\n",
    ")\n",
    "\n",
    "select * from \n",
    "(select  -- *\n",
    "a.user_id, a.financial_year, \n",
    "case when u.return_file_date>a.file_due_date then 'late return'\n",
    "when u.return_file_date<a.file_due_date then 'on_time'\n",
    "else 'missed' end as comment\n",
    "from all_users_years a left join users u on a.user_id=u.user_id and a.financial_year=u.financial_year) a\n",
    "where comment !='on_time'"
   ]
  },
  {
   "cell_type": "code",
   "execution_count": null,
   "metadata": {
    "vscode": {
     "languageId": "sql"
    }
   },
   "outputs": [],
   "source": [
    "-- provided solution\n",
    "with all_users_years as \n",
    "(\n",
    "select u.user_id,it.financial_year,it.file_due_date\n",
    "from users u cross join income_tax_dates it\n",
    "group by u.user_id,it.financial_year,it.file_due_date\n",
    ")\n",
    "select a.user_id,a.financial_year\n",
    ",case when u.return_file_date > a.file_due_date then 'late return' else 'missed' end as comment\n",
    "from all_users_years a \n",
    "left join users u on a.user_id=u.user_id and a.financial_year=u.financial_year \n",
    "where u.return_file_date > a.file_due_date or u.return_file_date is null;"
   ]
  }
 ],
 "metadata": {
  "language_info": {
   "name": "python"
  }
 },
 "nbformat": 4,
 "nbformat_minor": 2
}
