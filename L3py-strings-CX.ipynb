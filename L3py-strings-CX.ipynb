{
  "cells": [
    {
      "cell_type": "markdown",
      "metadata": {},
      "source": [
        "### L-2 last part"
      ]
    },
    {
      "cell_type": "markdown",
      "metadata": {
        "id": "xZ2EH7kf-4WW"
      },
      "source": [
        "Program - The current population of a town is 10000. The population of the town is increasing at the rate of 10% per year. You have to write a program to find out the population at the end of each of the last 10 years."
      ]
    },
    {
      "cell_type": "code",
      "execution_count": null,
      "metadata": {
        "colab": {
          "base_uri": "https://localhost:8080/"
        },
        "id": "mWuYuFjV-6Mo",
        "outputId": "6c39a2ad-edfb-4e26-d991-27ec83bbc961"
      },
      "outputs": [
        {
          "name": "stdout",
          "output_type": "stream",
          "text": [
            "10 10000\n",
            "9 9090.90909090909\n",
            "8 8264.462809917353\n",
            "7 7513.148009015775\n",
            "6 6830.134553650703\n",
            "5 6209.213230591548\n",
            "4 5644.739300537771\n",
            "3 5131.5811823070635\n",
            "2 4665.07380209733\n",
            "1 4240.976183724845\n"
          ]
        }
      ],
      "source": [
        "# Code here\n",
        "curr_pop = 10000\n",
        "\n",
        "for i in range(10,0,-1):\n",
        "  print(i,curr_pop)\n",
        "  curr_pop = curr_pop/1.1\n"
      ]
    },
    {
      "cell_type": "markdown",
      "metadata": {
        "id": "jmeilrsx_Dz_"
      },
      "source": [
        "Sequence sum\n",
        "\n",
        "1/1! + 2/2! + 3/3! + ..."
      ]
    },
    {
      "cell_type": "code",
      "execution_count": null,
      "metadata": {
        "colab": {
          "base_uri": "https://localhost:8080/"
        },
        "id": "UU38MOpA_E3_",
        "outputId": "7e799872-6165-46b9-e55e-8f82e7439537"
      },
      "outputs": [
        {
          "name": "stdout",
          "output_type": "stream",
          "text": [
            "enter n2\n",
            "2.0\n"
          ]
        }
      ],
      "source": [
        "# Code here\n",
        "\n",
        "n = int(input('enter n'))\n",
        "\n",
        "result = 0\n",
        "fact = 1\n",
        "\n",
        "for i in range(1,n+1):\n",
        "  fact = fact * i\n",
        "  result = result + i/fact\n",
        "\n",
        "print(result)\n",
        "\n",
        "\n"
      ]
    },
    {
      "cell_type": "code",
      "execution_count": 4,
      "metadata": {},
      "outputs": [
        {
          "name": "stdout",
          "output_type": "stream",
          "text": [
            "inside 2\n",
            "2\n",
            "1\n"
          ]
        }
      ],
      "source": [
        "n=1\n",
        "def inc(n):\n",
        "    n+=1\n",
        "    print(f'inside {n}')\n",
        "    return n\n",
        "\n",
        "n1=inc(n)\n",
        "print(n1)\n",
        "print(n)"
      ]
    },
    {
      "cell_type": "code",
      "execution_count": 5,
      "metadata": {},
      "outputs": [
        {
          "name": "stdout",
          "output_type": "stream",
          "text": [
            "20\n"
          ]
        }
      ],
      "source": [
        "n=10\n",
        "for i in range(5):\n",
        "    n+=i\n",
        "\n",
        "print(n)"
      ]
    },
    {
      "cell_type": "markdown",
      "metadata": {
        "id": "F_ka2Jji_G3d"
      },
      "source": [
        "#### Nested Loops"
      ]
    },
    {
      "cell_type": "code",
      "execution_count": null,
      "metadata": {
        "colab": {
          "base_uri": "https://localhost:8080/"
        },
        "id": "3nctuHAQ_RvA",
        "outputId": "358c4383-00b0-4a91-e5be-ede4e60c537c"
      },
      "outputs": [
        {
          "name": "stdout",
          "output_type": "stream",
          "text": [
            "1 1\n",
            "1 2\n",
            "1 3\n",
            "1 4\n",
            "2 1\n",
            "2 2\n",
            "2 3\n",
            "2 4\n",
            "3 1\n",
            "3 2\n",
            "3 3\n",
            "3 4\n",
            "4 1\n",
            "4 2\n",
            "4 3\n",
            "4 4\n"
          ]
        }
      ],
      "source": [
        "# Examples -> unique pairs\n",
        "\n",
        "for i in range(1,5):\n",
        "  for j in range(1,5):\n",
        "    print(i,j)"
      ]
    },
    {
      "cell_type": "markdown",
      "metadata": {
        "id": "iUnoz6z1_aaI"
      },
      "source": [
        "#### Pattern 1\n",
        "\n",
        "\n",
        "*** <br>\n",
        "**** <br>\n",
        "***<br>\n"
      ]
    },
    {
      "cell_type": "code",
      "execution_count": null,
      "metadata": {
        "colab": {
          "base_uri": "https://localhost:8080/"
        },
        "id": "exQMnIoC_Zv2",
        "outputId": "6fbe7b5e-d46c-415c-c286-c795e770f12d"
      },
      "outputs": [
        {
          "name": "stdout",
          "output_type": "stream",
          "text": [
            "enter number of rows10\n",
            "*\n",
            "**\n",
            "***\n",
            "****\n",
            "*****\n",
            "******\n",
            "*******\n",
            "********\n",
            "*********\n",
            "**********\n"
          ]
        }
      ],
      "source": [
        "# code here\n",
        "\n",
        "rows = int(input('enter number of rows'))\n",
        "\n",
        "for i in range(1,rows+1):\n",
        "  for j in range(1,i+1):\n",
        "    print('*',end='')\n",
        "  print()\n"
      ]
    },
    {
      "cell_type": "markdown",
      "metadata": {
        "id": "OxXDih5R_0uB"
      },
      "source": [
        "#### Pattern 2\n",
        "\n",
        "1<br>\n",
        "121<br>\n",
        "12321<br>\n",
        "1234321<br>"
      ]
    },
    {
      "cell_type": "code",
      "execution_count": null,
      "metadata": {
        "colab": {
          "base_uri": "https://localhost:8080/"
        },
        "id": "x8rGo4KM_Y-j",
        "outputId": "b5da3149-fb64-4530-9bd9-ce49f8977ec8"
      },
      "outputs": [
        {
          "name": "stdout",
          "output_type": "stream",
          "text": [
            "enter number of rows4\n",
            "1\n",
            "121\n",
            "12321\n",
            "1234321\n"
          ]
        }
      ],
      "source": [
        "# Code here\n",
        "rows = int(input('enter number of rows'))\n",
        "\n",
        "for i in range(1,rows+1):\n",
        "  for j in range(1,i+1):\n",
        "    print(j,end='')\n",
        "  for k in range(i-1,0,-1):\n",
        "    print(k,end='')\n",
        "\n",
        "  print()\n"
      ]
    },
    {
      "cell_type": "markdown",
      "metadata": {
        "id": "oFemwQBw_8Q1"
      },
      "source": [
        "#### Loop Control Statement\n",
        "\n",
        "- Break\n",
        "- Continue\n",
        "- Pass"
      ]
    },
    {
      "cell_type": "code",
      "execution_count": null,
      "metadata": {
        "colab": {
          "base_uri": "https://localhost:8080/"
        },
        "id": "9NNS6bDL_82u",
        "outputId": "f3c390ff-2f75-4039-95eb-f1cc05dcf6c8"
      },
      "outputs": [
        {
          "name": "stdout",
          "output_type": "stream",
          "text": [
            "1\n",
            "2\n",
            "3\n",
            "4\n"
          ]
        }
      ],
      "source": [
        "for i in range(1,10):\n",
        "  if i == 5:\n",
        "    break\n",
        "  print(i)"
      ]
    },
    {
      "cell_type": "markdown",
      "metadata": {},
      "source": [
        "In Python, the for...else construct is a unique feature that allows you to specify an else block to be executed after a for loop completes. This else block runs only if the loop is not terminated prematurely by a break statement. "
      ]
    },
    {
      "cell_type": "code",
      "execution_count": 30,
      "metadata": {
        "colab": {
          "base_uri": "https://localhost:8080/"
        },
        "id": "voBWY0VC9bxW",
        "outputId": "2371cc4a-64a8-4f81-e1d7-228d517997a7"
      },
      "outputs": [
        {
          "name": "stdout",
          "output_type": "stream",
          "text": [
            "1,2,3,5,7,11,13,17,19,23,29,31,37,41,43,47,"
          ]
        }
      ],
      "source": [
        "# calculation of prime numbers\n",
        "lower = int(input('enter lower range'))\n",
        "upper = int(input('enter upper range'))\n",
        "\n",
        "for i in range(lower,upper+1):\n",
        "  for j in range(2,i):\n",
        "    if i%j == 0:\n",
        "      break\n",
        "  else:\n",
        "    print(i,end=',')"
      ]
    },
    {
      "cell_type": "code",
      "execution_count": null,
      "metadata": {
        "colab": {
          "base_uri": "https://localhost:8080/"
        },
        "id": "QPwyXdT09b2K",
        "outputId": "26621acc-0a86-4ade-8339-41a039a3a4bb"
      },
      "outputs": [
        {
          "name": "stdout",
          "output_type": "stream",
          "text": [
            "1\n",
            "2\n",
            "3\n",
            "4\n",
            "6\n",
            "7\n",
            "8\n",
            "9\n"
          ]
        }
      ],
      "source": [
        "# Continue\n",
        "for i in range(1,10):\n",
        "  if i == 5:\n",
        "    continue\n",
        "  print(i)"
      ]
    },
    {
      "cell_type": "code",
      "execution_count": null,
      "metadata": {
        "id": "c_kqggLg9b_i"
      },
      "outputs": [],
      "source": [
        "for i in range(1,10):\n",
        "  pass\n"
      ]
    },
    {
      "cell_type": "markdown",
      "metadata": {
        "id": "iz0prYf-LiFB"
      },
      "source": [
        "Strings are sequence of Characters(text in programming are strings)\n",
        "\n",
        "In Python specifically, strings are a sequence of Unicode Characters\n",
        "\n",
        "- Creating Strings\n",
        "- Accessing Strings\n",
        "- Adding Chars to Strings\n",
        "- Editing Strings\n",
        "- Deleting Strings\n",
        "- Operations on Strings\n",
        "- String Functions"
      ]
    },
    {
      "cell_type": "markdown",
      "metadata": {},
      "source": [
        "### L-3 Strings\n",
        "---"
      ]
    },
    {
      "cell_type": "markdown",
      "metadata": {
        "id": "i75VO5hxL_4K"
      },
      "source": [
        "#### Creating Stings"
      ]
    },
    {
      "cell_type": "code",
      "execution_count": null,
      "metadata": {
        "colab": {
          "base_uri": "https://localhost:8080/"
        },
        "id": "FqMi90xxLotH",
        "outputId": "a4df54d5-c62e-4f3b-c012-955e8c9c6f28"
      },
      "outputs": [
        {
          "name": "stdout",
          "output_type": "stream",
          "text": [
            "hello\n"
          ]
        }
      ],
      "source": [
        "s = 'hello'\n",
        "s = \"hello\"\n",
        "# multiline strings\n",
        "s = '''hello'''\n",
        "s = \"\"\"hello\"\"\"\n",
        "s = str('hello')\n",
        "print(s)"
      ]
    },
    {
      "cell_type": "code",
      "execution_count": null,
      "metadata": {},
      "outputs": [],
      "source": []
    },
    {
      "cell_type": "code",
      "execution_count": null,
      "metadata": {
        "colab": {
          "base_uri": "https://localhost:8080/",
          "height": 36
        },
        "id": "NUEqGB84C1Vs",
        "outputId": "d36c8e49-bdc0-48c4-9d86-6aa39d9bf295"
      },
      "outputs": [
        {
          "data": {
            "application/vnd.google.colaboratory.intrinsic+json": {
              "type": "string"
            },
            "text/plain": [
              "\"it's raining outside\""
            ]
          },
          "execution_count": 54,
          "metadata": {},
          "output_type": "execute_result"
        }
      ],
      "source": [
        "\"it's raining outside\""
      ]
    },
    {
      "cell_type": "markdown",
      "metadata": {
        "id": "24fOWaO_MCtn"
      },
      "source": [
        "#### Accessing Substrings from a String"
      ]
    },
    {
      "cell_type": "code",
      "execution_count": null,
      "metadata": {
        "colab": {
          "base_uri": "https://localhost:8080/",
          "height": 204
        },
        "id": "es8p3f7FMGP1",
        "outputId": "bb82c5df-fd38-420d-dd57-0a362aa57c67"
      },
      "outputs": [
        {
          "ename": "IndexError",
          "evalue": "ignored",
          "output_type": "error",
          "traceback": [
            "\u001b[0;31m---------------------------------------------------------------------------\u001b[0m",
            "\u001b[0;31mIndexError\u001b[0m                                Traceback (most recent call last)",
            "\u001b[0;32m<ipython-input-61-633ba99ed6e5>\u001b[0m in \u001b[0;36m<module>\u001b[0;34m\u001b[0m\n\u001b[1;32m      1\u001b[0m \u001b[0;31m# Positive Indexing\u001b[0m\u001b[0;34m\u001b[0m\u001b[0;34m\u001b[0m\u001b[0;34m\u001b[0m\u001b[0m\n\u001b[1;32m      2\u001b[0m \u001b[0ms\u001b[0m \u001b[0;34m=\u001b[0m \u001b[0;34m'hello world'\u001b[0m\u001b[0;34m\u001b[0m\u001b[0;34m\u001b[0m\u001b[0m\n\u001b[0;32m----> 3\u001b[0;31m \u001b[0mprint\u001b[0m\u001b[0;34m(\u001b[0m\u001b[0ms\u001b[0m\u001b[0;34m[\u001b[0m\u001b[0;36m41\u001b[0m\u001b[0;34m]\u001b[0m\u001b[0;34m)\u001b[0m\u001b[0;34m\u001b[0m\u001b[0;34m\u001b[0m\u001b[0m\n\u001b[0m",
            "\u001b[0;31mIndexError\u001b[0m: string index out of range"
          ]
        }
      ],
      "source": [
        "# Indexing -  when we create a stirng python automatically assign a index to each character starting from first character with index=0.\n",
        "\n",
        "s = 'hello world'\n",
        "print(s[0])\n",
        "# print(s[41])    #IndexError: string index out of range"
      ]
    },
    {
      "cell_type": "code",
      "execution_count": null,
      "metadata": {
        "colab": {
          "base_uri": "https://localhost:8080/"
        },
        "id": "_rdwDbNYD-lY",
        "outputId": "f45e7002-fabc-48ca-e337-8452cd545c5b"
      },
      "outputs": [
        {
          "name": "stdout",
          "output_type": "stream",
          "text": [
            "r\n"
          ]
        }
      ],
      "source": [
        "# Negative Indexing\n",
        "s = 'hello world'\n",
        "print(s[-3])"
      ]
    },
    {
      "cell_type": "code",
      "execution_count": 14,
      "metadata": {
        "colab": {
          "base_uri": "https://localhost:8080/"
        },
        "id": "qWGgcTHpEcSC",
        "outputId": "f4e15e5f-7da1-4cf0-c311-f14a19b3b350"
      },
      "outputs": [
        {
          "name": "stdout",
          "output_type": "stream",
          "text": [
            "hello\n",
            "l\n",
            "hel\n",
            "rwol\n",
            "dlrow olle\n",
            "dlrow olleh\n"
          ]
        }
      ],
      "source": [
        "# Slicing\n",
        "s = 'hello world'\n",
        "print(s[0:5])\n",
        "print(s[2:3])\n",
        "print(s[:3])\n",
        "print(s[8:0:-2])\n",
        "print(s[-1:0:-1])   #dlrow olle h is excluded here.\n",
        "\n",
        "print(s[::-1])  # string reversing"
      ]
    },
    {
      "cell_type": "code",
      "execution_count": 17,
      "metadata": {
        "colab": {
          "base_uri": "https://localhost:8080/"
        },
        "id": "R06YO68eF0BU",
        "outputId": "20a4bebf-430f-4d32-a81d-29a82026b20d"
      },
      "outputs": [
        {
          "name": "stdout",
          "output_type": "stream",
          "text": [
            "worl\n",
            "world\n",
            "dlrow\n"
          ]
        },
        {
          "data": {
            "text/plain": [
              "'dr'"
            ]
          },
          "execution_count": 17,
          "metadata": {},
          "output_type": "execute_result"
        }
      ],
      "source": [
        "s = 'hello world'\n",
        "\n",
        "# print world using -ve indexing\n",
        "print(s[-5:-1]) # d is excluded.\n",
        "print(s[-5:])\n",
        "\n",
        "# print world in reverse using -ve indexing\n",
        "print(s[-1:-6:-1])\n",
        "s[-1:-5:2]  # empty sting as for +ve jump start_idx must be smaller than end_idx."
      ]
    },
    {
      "cell_type": "markdown",
      "metadata": {
        "id": "g2VqMYWqMJSU"
      },
      "source": [
        "#### Editing and Deleting in Strings"
      ]
    },
    {
      "cell_type": "code",
      "execution_count": null,
      "metadata": {
        "colab": {
          "base_uri": "https://localhost:8080/",
          "height": 187
        },
        "id": "j_jPqHHyMKGK",
        "outputId": "39bd3a6a-b332-4429-ba87-27ec22f152f9"
      },
      "outputs": [
        {
          "ename": "TypeError",
          "evalue": "ignored",
          "output_type": "error",
          "traceback": [
            "\u001b[0;31m---------------------------------------------------------------------------\u001b[0m",
            "\u001b[0;31mTypeError\u001b[0m                                 Traceback (most recent call last)",
            "\u001b[0;32m<ipython-input-80-0c8a824e3b73>\u001b[0m in \u001b[0;36m<module>\u001b[0;34m\u001b[0m\n\u001b[1;32m      1\u001b[0m \u001b[0ms\u001b[0m \u001b[0;34m=\u001b[0m \u001b[0;34m'hello world'\u001b[0m\u001b[0;34m\u001b[0m\u001b[0;34m\u001b[0m\u001b[0m\n\u001b[0;32m----> 2\u001b[0;31m \u001b[0ms\u001b[0m\u001b[0;34m[\u001b[0m\u001b[0;36m0\u001b[0m\u001b[0;34m]\u001b[0m \u001b[0;34m=\u001b[0m \u001b[0;34m'H'\u001b[0m\u001b[0;34m\u001b[0m\u001b[0;34m\u001b[0m\u001b[0m\n\u001b[0m",
            "\u001b[0;31mTypeError\u001b[0m: 'str' object does not support item assignment"
          ]
        }
      ],
      "source": [
        "s = 'hello world'\n",
        "s[0] = 'H'  #TypeError: 'str' object does not support item assignment\n",
        "\n",
        "# So, Python strings are immutable."
      ]
    },
    {
      "cell_type": "code",
      "execution_count": null,
      "metadata": {
        "colab": {
          "base_uri": "https://localhost:8080/",
          "height": 204
        },
        "id": "rF-XM6IOG8-0",
        "outputId": "e6223f5a-37bd-419f-8737-668115675fcd"
      },
      "outputs": [
        {
          "ename": "NameError",
          "evalue": "ignored",
          "output_type": "error",
          "traceback": [
            "\u001b[0;31m---------------------------------------------------------------------------\u001b[0m",
            "\u001b[0;31mNameError\u001b[0m                                 Traceback (most recent call last)",
            "\u001b[0;32m<ipython-input-81-9ae37fbf1c6c>\u001b[0m in \u001b[0;36m<module>\u001b[0;34m\u001b[0m\n\u001b[1;32m      1\u001b[0m \u001b[0ms\u001b[0m \u001b[0;34m=\u001b[0m \u001b[0;34m'hello world'\u001b[0m\u001b[0;34m\u001b[0m\u001b[0;34m\u001b[0m\u001b[0m\n\u001b[1;32m      2\u001b[0m \u001b[0;32mdel\u001b[0m \u001b[0ms\u001b[0m\u001b[0;34m\u001b[0m\u001b[0;34m\u001b[0m\u001b[0m\n\u001b[0;32m----> 3\u001b[0;31m \u001b[0mprint\u001b[0m\u001b[0;34m(\u001b[0m\u001b[0ms\u001b[0m\u001b[0;34m)\u001b[0m\u001b[0;34m\u001b[0m\u001b[0;34m\u001b[0m\u001b[0m\n\u001b[0m",
            "\u001b[0;31mNameError\u001b[0m: name 's' is not defined"
          ]
        }
      ],
      "source": [
        "s = 'hello world'\n",
        "del s\n",
        "print(s)"
      ]
    },
    {
      "cell_type": "code",
      "execution_count": 18,
      "metadata": {
        "colab": {
          "base_uri": "https://localhost:8080/",
          "height": 204
        },
        "id": "p72F5KruHO6x",
        "outputId": "365421c7-0bbe-4821-c0a5-d35d4fa80554"
      },
      "outputs": [
        {
          "ename": "TypeError",
          "evalue": "'str' object does not support item deletion",
          "output_type": "error",
          "traceback": [
            "\u001b[1;31m---------------------------------------------------------------------------\u001b[0m",
            "\u001b[1;31mTypeError\u001b[0m                                 Traceback (most recent call last)",
            "\u001b[1;32mC:\\Users\\SUJITK~1\\AppData\\Local\\Temp/ipykernel_18592/2284815607.py\u001b[0m in \u001b[0;36m<module>\u001b[1;34m\u001b[0m\n\u001b[0;32m      1\u001b[0m \u001b[0ms\u001b[0m \u001b[1;33m=\u001b[0m \u001b[1;34m'hello world'\u001b[0m\u001b[1;33m\u001b[0m\u001b[1;33m\u001b[0m\u001b[0m\n\u001b[1;32m----> 2\u001b[1;33m \u001b[1;32mdel\u001b[0m \u001b[0ms\u001b[0m\u001b[1;33m[\u001b[0m\u001b[1;33m-\u001b[0m\u001b[1;36m1\u001b[0m\u001b[1;33m:\u001b[0m\u001b[1;33m-\u001b[0m\u001b[1;36m5\u001b[0m\u001b[1;33m:\u001b[0m\u001b[1;33m-\u001b[0m\u001b[1;36m1\u001b[0m\u001b[1;33m]\u001b[0m\u001b[1;33m\u001b[0m\u001b[1;33m\u001b[0m\u001b[0m\n\u001b[0m\u001b[0;32m      3\u001b[0m \u001b[0mprint\u001b[0m\u001b[1;33m(\u001b[0m\u001b[0ms\u001b[0m\u001b[1;33m)\u001b[0m\u001b[1;33m\u001b[0m\u001b[1;33m\u001b[0m\u001b[0m\n",
            "\u001b[1;31mTypeError\u001b[0m: 'str' object does not support item deletion"
          ]
        }
      ],
      "source": [
        "s = 'hello world'\n",
        "del s[-1:-5:-1]     #TypeError: 'str' object does not support item deletion as string are immutable.\n",
        "# so complete string can be deleted but partial deletion is not allowed.\n",
        "print(s)"
      ]
    },
    {
      "cell_type": "markdown",
      "metadata": {
        "id": "6icAp0UvMKsh"
      },
      "source": [
        "#### Operations on Strings\n",
        "\n",
        "- Arithmetic Operations -> only + & * works with strings.\n",
        "- Relational Operations\n",
        "- Logical Operations\n",
        "- Loops on Strings\n",
        "- Membership Operations"
      ]
    },
    {
      "cell_type": "code",
      "execution_count": 19,
      "metadata": {
        "colab": {
          "base_uri": "https://localhost:8080/"
        },
        "id": "37rbhwLAMSt9",
        "outputId": "9ba3f855-375a-4355-8b94-21254da02eb0"
      },
      "outputs": [
        {
          "name": "stdout",
          "output_type": "stream",
          "text": [
            "delhimumbai\n",
            "delhi mumbai\n"
          ]
        }
      ],
      "source": [
        "print('delhi'+'mumbai')\n",
        "print('delhi' + ' ' + 'mumbai')"
      ]
    },
    {
      "cell_type": "code",
      "execution_count": null,
      "metadata": {
        "colab": {
          "base_uri": "https://localhost:8080/"
        },
        "id": "cnTYYnv9HsIc",
        "outputId": "1bb37e5e-4328-4f3a-c7ad-5ae255fde2e1"
      },
      "outputs": [
        {
          "name": "stdout",
          "output_type": "stream",
          "text": [
            "delhidelhidelhidelhidelhi\n"
          ]
        }
      ],
      "source": [
        "print('delhi'*5)\n",
        "print(\"*\"*50)"
      ]
    },
    {
      "cell_type": "code",
      "execution_count": 20,
      "metadata": {},
      "outputs": [
        {
          "name": "stdout",
          "output_type": "stream",
          "text": [
            "False\n"
          ]
        }
      ],
      "source": [
        "print('delhi'=='mumbai')"
      ]
    },
    {
      "cell_type": "code",
      "execution_count": null,
      "metadata": {
        "colab": {
          "base_uri": "https://localhost:8080/"
        },
        "id": "d5wx8XKeHsWP",
        "outputId": "477dc4a2-8676-46ba-cce2-2ed345fd2e5d"
      },
      "outputs": [
        {
          "data": {
            "text/plain": [
              "False"
            ]
          },
          "execution_count": 89,
          "metadata": {},
          "output_type": "execute_result"
        }
      ],
      "source": [
        "'delhi' != 'delhi'"
      ]
    },
    {
      "cell_type": "code",
      "execution_count": 22,
      "metadata": {
        "colab": {
          "base_uri": "https://localhost:8080/"
        },
        "id": "G3byoyLNHsmo",
        "outputId": "1492fd4f-4329-4290-97f5-3f5ecee7b045"
      },
      "outputs": [
        {
          "data": {
            "text/plain": [
              "False"
            ]
          },
          "execution_count": 22,
          "metadata": {},
          "output_type": "execute_result"
        }
      ],
      "source": [
        "'mumbai' > 'pune'\n",
        "#comparison is done based on ascii number values(lexiographically)\n",
        "# ascii of m = 109\n",
        "# ascii of p = 112 \n",
        "\n",
        "'Pune'>'pune'   # ascii of P = 80   & 80 > 112 will be false."
      ]
    },
    {
      "cell_type": "code",
      "execution_count": null,
      "metadata": {
        "colab": {
          "base_uri": "https://localhost:8080/"
        },
        "id": "qtZ0Zm-HHsry",
        "outputId": "c9d0bf38-795d-4888-8e09-7642b8a5e494"
      },
      "outputs": [
        {
          "data": {
            "text/plain": [
              "False"
            ]
          },
          "execution_count": 91,
          "metadata": {},
          "output_type": "execute_result"
        }
      ],
      "source": [
        "'Pune' > 'pune'"
      ]
    },
    {
      "cell_type": "markdown",
      "metadata": {},
      "source": [
        "##### Relational operators\n",
        "In python empty string are considered False and non-empty are True."
      ]
    },
    {
      "cell_type": "code",
      "execution_count": 28,
      "metadata": {
        "colab": {
          "base_uri": "https://localhost:8080/",
          "height": 36
        },
        "id": "pRj_nS6kHs00",
        "outputId": "c3ba2345-e53c-41ee-f257-89dc96c78435"
      },
      "outputs": [
        {
          "data": {
            "text/plain": [
              "'world'"
            ]
          },
          "metadata": {},
          "output_type": "display_data"
        },
        {
          "data": {
            "text/plain": [
              "''"
            ]
          },
          "metadata": {},
          "output_type": "display_data"
        },
        {
          "data": {
            "text/plain": [
              "''"
            ]
          },
          "metadata": {},
          "output_type": "display_data"
        }
      ],
      "source": [
        "display('hello' and 'world')\n",
        "\n",
        "display('' and 'world')\n",
        "display('world' and '')"
      ]
    },
    {
      "cell_type": "code",
      "execution_count": null,
      "metadata": {
        "colab": {
          "base_uri": "https://localhost:8080/",
          "height": 36
        },
        "id": "KZhBwrGtJEFY",
        "outputId": "c5b891c8-e85e-4518-d3e8-874ffb0293b4"
      },
      "outputs": [
        {
          "data": {
            "application/vnd.google.colaboratory.intrinsic+json": {
              "type": "string"
            },
            "text/plain": [
              "'hello'"
            ]
          },
          "execution_count": 93,
          "metadata": {},
          "output_type": "execute_result"
        }
      ],
      "source": [
        "'hello' or 'world'"
      ]
    },
    {
      "cell_type": "code",
      "execution_count": 30,
      "metadata": {
        "colab": {
          "base_uri": "https://localhost:8080/",
          "height": 36
        },
        "id": "jTsHPpGQJESA",
        "outputId": "0512e1ce-47fe-4075-9b99-dc52a6cda55b"
      },
      "outputs": [
        {
          "data": {
            "text/plain": [
              "'world'"
            ]
          },
          "metadata": {},
          "output_type": "display_data"
        },
        {
          "data": {
            "text/plain": [
              "'world'"
            ]
          },
          "metadata": {},
          "output_type": "display_data"
        }
      ],
      "source": [
        "display('' or 'world')\n",
        "display('world' or '')"
      ]
    },
    {
      "cell_type": "code",
      "execution_count": null,
      "metadata": {
        "colab": {
          "base_uri": "https://localhost:8080/"
        },
        "id": "jrf62do3J4VD",
        "outputId": "b7105118-adb0-4381-c9cd-102aa64d4c70"
      },
      "outputs": [
        {
          "data": {
            "text/plain": [
              "False"
            ]
          },
          "execution_count": 99,
          "metadata": {},
          "output_type": "execute_result"
        }
      ],
      "source": [
        "not 'hello'"
      ]
    },
    {
      "cell_type": "code",
      "execution_count": null,
      "metadata": {
        "colab": {
          "base_uri": "https://localhost:8080/"
        },
        "id": "i64jefPQKRtR",
        "outputId": "b9d5e844-fc1f-4403-862c-fdc845b39161"
      },
      "outputs": [
        {
          "name": "stdout",
          "output_type": "stream",
          "text": [
            "h\n",
            "e\n",
            "l\n",
            "l\n",
            "o\n"
          ]
        }
      ],
      "source": [
        "# loop in strings\n",
        "for i in 'hello':\n",
        "  print(i)"
      ]
    },
    {
      "cell_type": "code",
      "execution_count": null,
      "metadata": {
        "colab": {
          "base_uri": "https://localhost:8080/"
        },
        "id": "REKYlAzhKRzC",
        "outputId": "30920300-82b5-4406-b4eb-107c138d3ef4"
      },
      "outputs": [
        {
          "name": "stdout",
          "output_type": "stream",
          "text": [
            "pune\n",
            "pune\n",
            "pune\n",
            "pune\n",
            "pune\n"
          ]
        }
      ],
      "source": [
        "for i in 'delhi':\n",
        "  print('pune')"
      ]
    },
    {
      "cell_type": "code",
      "execution_count": null,
      "metadata": {
        "colab": {
          "base_uri": "https://localhost:8080/"
        },
        "id": "iaiPu9JKKR5K",
        "outputId": "db043779-a7f0-4d69-c1c0-2392891d6aa0"
      },
      "outputs": [
        {
          "data": {
            "text/plain": [
              "False"
            ]
          },
          "execution_count": 104,
          "metadata": {},
          "output_type": "execute_result"
        }
      ],
      "source": [
        "# membership operators in python strings:- in & not in\n",
        "'D' in 'delhi'"
      ]
    },
    {
      "cell_type": "markdown",
      "metadata": {},
      "source": [
        "#### Functions"
      ]
    },
    {
      "cell_type": "code",
      "execution_count": null,
      "metadata": {},
      "outputs": [],
      "source": [
        "# common fxn - len, min, max, sorted\n",
        "\n",
        "# capitalize, upper, lower, title, swapcase,, strip\n",
        "\n",
        "# count, find, index,, replace\n",
        "\n",
        "# endswith, startswith\n",
        "\n",
        "# isalnum, isalpha, isdigit, isinstance\n",
        "\n",
        "# split, join\n"
      ]
    },
    {
      "cell_type": "markdown",
      "metadata": {
        "id": "dE_jTrX5MYSV"
      },
      "source": [
        "#### Common Functions\n",
        "- len\n",
        "- min\n",
        "- max\n",
        "- sorted"
      ]
    },
    {
      "cell_type": "code",
      "execution_count": null,
      "metadata": {
        "colab": {
          "base_uri": "https://localhost:8080/"
        },
        "id": "mIm1rHvIMcZ6",
        "outputId": "15ec3b75-9fd5-4345-b0fb-ec9a4be30281"
      },
      "outputs": [
        {
          "data": {
            "text/plain": [
              "11"
            ]
          },
          "execution_count": 105,
          "metadata": {},
          "output_type": "execute_result"
        }
      ],
      "source": [
        "len('hello world')"
      ]
    },
    {
      "cell_type": "code",
      "execution_count": null,
      "metadata": {
        "colab": {
          "base_uri": "https://localhost:8080/",
          "height": 36
        },
        "id": "kVpxwx3KLUlO",
        "outputId": "7dbad591-31cf-46a9-9126-1381f17cdbed"
      },
      "outputs": [
        {
          "data": {
            "application/vnd.google.colaboratory.intrinsic+json": {
              "type": "string"
            },
            "text/plain": [
              "'w'"
            ]
          },
          "execution_count": 106,
          "metadata": {},
          "output_type": "execute_result"
        }
      ],
      "source": [
        "max('hello world')  # gives the character having highest ascii character."
      ]
    },
    {
      "cell_type": "code",
      "execution_count": null,
      "metadata": {
        "colab": {
          "base_uri": "https://localhost:8080/",
          "height": 36
        },
        "id": "bWDAwg6TLUt-",
        "outputId": "1276ee22-52a1-4fb3-af5d-3c7030e063c8"
      },
      "outputs": [
        {
          "data": {
            "application/vnd.google.colaboratory.intrinsic+json": {
              "type": "string"
            },
            "text/plain": [
              "' '"
            ]
          },
          "execution_count": 107,
          "metadata": {},
          "output_type": "execute_result"
        }
      ],
      "source": [
        "min('hello world')  # gives the character having lowest ascii character."
      ]
    },
    {
      "cell_type": "code",
      "execution_count": 31,
      "metadata": {
        "colab": {
          "base_uri": "https://localhost:8080/"
        },
        "id": "Z2dgEqi7LU1A",
        "outputId": "4decb050-6570-4974-b9a2-0aea95e081ca"
      },
      "outputs": [
        {
          "name": "stdout",
          "output_type": "stream",
          "text": [
            "[' ', 'd', 'e', 'h', 'l', 'l', 'l', 'o', 'o', 'r', 'w']\n"
          ]
        },
        {
          "data": {
            "text/plain": [
              "['w', 'r', 'o', 'o', 'l', 'l', 'l', 'h', 'e', 'd', ' ']"
            ]
          },
          "execution_count": 31,
          "metadata": {},
          "output_type": "execute_result"
        }
      ],
      "source": [
        "# sorted -- # output is list of the characters in the string.\n",
        "print(sorted('hello world'))\n",
        "sorted('hello world',reverse=True)  "
      ]
    },
    {
      "cell_type": "code",
      "execution_count": null,
      "metadata": {
        "id": "Q26dbu9VLVQg"
      },
      "outputs": [],
      "source": []
    },
    {
      "cell_type": "markdown",
      "metadata": {
        "id": "yHlmb_KxMf6f"
      },
      "source": [
        "#### Capitalize/Upper/Lower/Title/Swapcase"
      ]
    },
    {
      "cell_type": "code",
      "execution_count": null,
      "metadata": {
        "colab": {
          "base_uri": "https://localhost:8080/"
        },
        "id": "Ycqnmb-HMgyz",
        "outputId": "0a2bacaf-1c07-47b1-86e5-d5c386d40b7d"
      },
      "outputs": [
        {
          "name": "stdout",
          "output_type": "stream",
          "text": [
            "Hello world\n",
            "hello world\n"
          ]
        }
      ],
      "source": [
        "s = 'hello world'\n",
        "print(s.capitalize())\n",
        "print(s)    # orginal string is still the same and a new string is formed in the memory."
      ]
    },
    {
      "cell_type": "code",
      "execution_count": null,
      "metadata": {
        "colab": {
          "base_uri": "https://localhost:8080/",
          "height": 36
        },
        "id": "KIBQhMj6L1iK",
        "outputId": "9ac3fa30-6744-4aea-89c0-0d1b3c986375"
      },
      "outputs": [
        {
          "data": {
            "application/vnd.google.colaboratory.intrinsic+json": {
              "type": "string"
            },
            "text/plain": [
              "'Hello World'"
            ]
          },
          "execution_count": 111,
          "metadata": {},
          "output_type": "execute_result"
        }
      ],
      "source": [
        "s.upper()                   #'HELLO WORLD'\n",
        "'Hello Wolrd'.lower()       #'hello wolrd'\n",
        "s.title()                   #'Hello World'\n",
        "\n",
        "'HeLlO WorLD'.swapcase()    #'hElLo wORld'"
      ]
    },
    {
      "cell_type": "markdown",
      "metadata": {
        "id": "3iq5s2cnMhkE"
      },
      "source": [
        "#### Count/Find/Index"
      ]
    },
    {
      "cell_type": "code",
      "execution_count": null,
      "metadata": {
        "colab": {
          "base_uri": "https://localhost:8080/"
        },
        "id": "puAH2DgBMmNd",
        "outputId": "8d4fbf2d-08f3-408c-9401-b40897e5ae2f"
      },
      "outputs": [
        {
          "data": {
            "text/plain": [
              "3"
            ]
          },
          "execution_count": 115,
          "metadata": {},
          "output_type": "execute_result"
        }
      ],
      "source": [
        "'my name is nitish'.count('i')  # counts the occurances of the input string."
      ]
    },
    {
      "cell_type": "code",
      "execution_count": 35,
      "metadata": {
        "colab": {
          "base_uri": "https://localhost:8080/"
        },
        "id": "KK5lf-TyMbCR",
        "outputId": "3ef39fa4-db4a-4bca-e3a8-9cee6aefa6a9"
      },
      "outputs": [
        {
          "data": {
            "text/plain": [
              "8"
            ]
          },
          "metadata": {},
          "output_type": "display_data"
        },
        {
          "data": {
            "text/plain": [
              "-1"
            ]
          },
          "metadata": {},
          "output_type": "display_data"
        }
      ],
      "source": [
        "display('my name is nitish'.find('is'))\n",
        "display('my name is nitish'.find('x'))  # if not found then return -1 instead of an error."
      ]
    },
    {
      "cell_type": "code",
      "execution_count": 37,
      "metadata": {
        "colab": {
          "base_uri": "https://localhost:8080/",
          "height": 169
        },
        "id": "rkm5UBY3McKS",
        "outputId": "cb6a621b-5f30-4dbf-d5f4-433b79a4d1c4"
      },
      "outputs": [
        {
          "data": {
            "text/plain": [
              "8"
            ]
          },
          "metadata": {},
          "output_type": "display_data"
        },
        {
          "ename": "ValueError",
          "evalue": "substring not found",
          "output_type": "error",
          "traceback": [
            "\u001b[1;31m---------------------------------------------------------------------------\u001b[0m",
            "\u001b[1;31mValueError\u001b[0m                                Traceback (most recent call last)",
            "\u001b[1;32mC:\\Users\\SUJITK~1\\AppData\\Local\\Temp/ipykernel_18592/1000789106.py\u001b[0m in \u001b[0;36m<module>\u001b[1;34m\u001b[0m\n\u001b[0;32m      1\u001b[0m \u001b[0mdisplay\u001b[0m\u001b[1;33m(\u001b[0m\u001b[1;34m'my name is nitish'\u001b[0m\u001b[1;33m.\u001b[0m\u001b[0mindex\u001b[0m\u001b[1;33m(\u001b[0m\u001b[1;34m'is'\u001b[0m\u001b[1;33m)\u001b[0m\u001b[1;33m)\u001b[0m\u001b[1;33m\u001b[0m\u001b[1;33m\u001b[0m\u001b[0m\n\u001b[1;32m----> 2\u001b[1;33m \u001b[0mdisplay\u001b[0m\u001b[1;33m(\u001b[0m\u001b[1;34m'my name is nitish'\u001b[0m\u001b[1;33m.\u001b[0m\u001b[0mindex\u001b[0m\u001b[1;33m(\u001b[0m\u001b[1;34m'x'\u001b[0m\u001b[1;33m)\u001b[0m\u001b[1;33m)\u001b[0m     \u001b[1;31m#ValueError: substring not found\u001b[0m\u001b[1;33m\u001b[0m\u001b[1;33m\u001b[0m\u001b[0m\n\u001b[0m",
            "\u001b[1;31mValueError\u001b[0m: substring not found"
          ]
        }
      ],
      "source": [
        "display('my name is nitish'.index('is'))\n",
        "display('my name is nitish'.index('x'))     #ValueError: substring not found"
      ]
    },
    {
      "cell_type": "markdown",
      "metadata": {
        "id": "MrsT5bJuMmqs"
      },
      "source": [
        "#### endswith/startswith"
      ]
    },
    {
      "cell_type": "code",
      "execution_count": 38,
      "metadata": {
        "colab": {
          "base_uri": "https://localhost:8080/"
        },
        "id": "TbyYTHMxMpbZ",
        "outputId": "2f76966f-8f4c-45d0-958d-979bf5d181a8"
      },
      "outputs": [
        {
          "data": {
            "text/plain": [
              "True"
            ]
          },
          "execution_count": 38,
          "metadata": {},
          "output_type": "execute_result"
        }
      ],
      "source": [
        "'varRam'.startswith('var')"
      ]
    },
    {
      "cell_type": "code",
      "execution_count": 39,
      "metadata": {},
      "outputs": [
        {
          "data": {
            "text/plain": [
              "False"
            ]
          },
          "execution_count": 39,
          "metadata": {},
          "output_type": "execute_result"
        }
      ],
      "source": [
        "'my name is nitish'.endswith('sho')"
      ]
    },
    {
      "cell_type": "code",
      "execution_count": 40,
      "metadata": {
        "colab": {
          "base_uri": "https://localhost:8080/"
        },
        "id": "gpR1WiKEM8Am",
        "outputId": "eb1e9b53-edd6-4185-96eb-ed39359b6dc0"
      },
      "outputs": [
        {
          "data": {
            "text/plain": [
              "False"
            ]
          },
          "execution_count": 40,
          "metadata": {},
          "output_type": "execute_result"
        }
      ],
      "source": [
        "'my name is nitish'.startswith('1my')"
      ]
    },
    {
      "cell_type": "markdown",
      "metadata": {
        "id": "0A9eNV0YMqHg"
      },
      "source": [
        "#### format"
      ]
    },
    {
      "cell_type": "code",
      "execution_count": 41,
      "metadata": {
        "colab": {
          "base_uri": "https://localhost:8080/",
          "height": 36
        },
        "id": "p9zAoUNjMtAC",
        "outputId": "e25d4cd5-22eb-4dde-9cd8-d80dd26524b9"
      },
      "outputs": [
        {
          "data": {
            "text/plain": [
              "'Hi my name is nitish and I am a male'"
            ]
          },
          "execution_count": 41,
          "metadata": {},
          "output_type": "execute_result"
        }
      ],
      "source": [
        "name = 'nitish'\n",
        "gender = 'male'\n",
        "\n",
        "'Hi my name is {} and I am a {}'.format(name,gender)\n",
        "'Hi my name is {1} and I am a {0}'.format(gender,name)"
      ]
    },
    {
      "cell_type": "markdown",
      "metadata": {
        "id": "vKc81z_fMvIn"
      },
      "source": [
        "#### isalnum/ isalpha/ isdigit/ isidentifier"
      ]
    },
    {
      "cell_type": "code",
      "execution_count": 42,
      "metadata": {
        "colab": {
          "base_uri": "https://localhost:8080/"
        },
        "id": "v2vFZEfCMv6c",
        "outputId": "72821996-f172-4dad-8ae1-d5a2d877eb4b"
      },
      "outputs": [
        {
          "data": {
            "text/plain": [
              "True"
            ]
          },
          "metadata": {},
          "output_type": "display_data"
        },
        {
          "data": {
            "text/plain": [
              "False"
            ]
          },
          "execution_count": 42,
          "metadata": {},
          "output_type": "execute_result"
        }
      ],
      "source": [
        "display('nitish1234'.isalnum())\n",
        "'nitish1234%'.isalnum()"
      ]
    },
    {
      "cell_type": "code",
      "execution_count": null,
      "metadata": {
        "colab": {
          "base_uri": "https://localhost:8080/"
        },
        "id": "_AJvibg9OT-K",
        "outputId": "65c06e50-18c9-41da-cfd0-89e8d00e7fa4"
      },
      "outputs": [
        {
          "data": {
            "text/plain": [
              "True"
            ]
          },
          "execution_count": 133,
          "metadata": {},
          "output_type": "execute_result"
        }
      ],
      "source": [
        "'nitish'.isalpha()  # check if each character is an alphabet."
      ]
    },
    {
      "cell_type": "code",
      "execution_count": 43,
      "metadata": {
        "colab": {
          "base_uri": "https://localhost:8080/"
        },
        "id": "JLt0leaVOUGV",
        "outputId": "0ddcf634-5c80-4fc3-8136-2c5f5885ea93"
      },
      "outputs": [
        {
          "data": {
            "text/plain": [
              "True"
            ]
          },
          "metadata": {},
          "output_type": "display_data"
        },
        {
          "data": {
            "text/plain": [
              "False"
            ]
          },
          "execution_count": 43,
          "metadata": {},
          "output_type": "execute_result"
        }
      ],
      "source": [
        "display('123'.isdigit())\n",
        "'123abc'.isdigit()"
      ]
    },
    {
      "cell_type": "code",
      "execution_count": null,
      "metadata": {
        "colab": {
          "base_uri": "https://localhost:8080/"
        },
        "id": "V3NeoIviOUPa",
        "outputId": "cbd92200-d8d1-40bb-82bd-4a7cabe0745d"
      },
      "outputs": [
        {
          "data": {
            "text/plain": [
              "False"
            ]
          },
          "execution_count": 139,
          "metadata": {},
          "output_type": "execute_result"
        }
      ],
      "source": [
        "'first-name'.isidentifier() # to check if the string is a valid variable name."
      ]
    },
    {
      "cell_type": "code",
      "execution_count": null,
      "metadata": {
        "id": "F2Dg78FtOUaO"
      },
      "outputs": [],
      "source": []
    },
    {
      "cell_type": "markdown",
      "metadata": {
        "id": "CkR9E0ywMyPE"
      },
      "source": [
        "#### Split/Join"
      ]
    },
    {
      "cell_type": "code",
      "execution_count": null,
      "metadata": {
        "colab": {
          "base_uri": "https://localhost:8080/"
        },
        "id": "82_UJMr7M0VC",
        "outputId": "f9fc2cd4-f718-4a72-fa56-24384f5a1337"
      },
      "outputs": [
        {
          "data": {
            "text/plain": [
              "['hi', 'my', 'name', 'is', 'nitish']"
            ]
          },
          "execution_count": 143,
          "metadata": {},
          "output_type": "execute_result"
        }
      ],
      "source": [
        "'hi my name is nitish'.split()"
      ]
    },
    {
      "cell_type": "code",
      "execution_count": 44,
      "metadata": {},
      "outputs": [
        {
          "data": {
            "text/plain": [
              "['h', ' my name ', 's n', 't', 'sh']"
            ]
          },
          "execution_count": 44,
          "metadata": {},
          "output_type": "execute_result"
        }
      ],
      "source": [
        "'hi my name is nitish'.split('i')"
      ]
    },
    {
      "cell_type": "code",
      "execution_count": 33,
      "metadata": {
        "colab": {
          "base_uri": "https://localhost:8080/",
          "height": 36
        },
        "id": "OmLemRVTO2Qq",
        "outputId": "9597fe72-5c6e-4216-db68-1aee43a8fe87"
      },
      "outputs": [
        {
          "data": {
            "text/plain": [
              "'hi-my-name-is-nitish'"
            ]
          },
          "metadata": {},
          "output_type": "display_data"
        },
        {
          "data": {
            "text/plain": [
              "'hi my name is nitish'"
            ]
          },
          "execution_count": 33,
          "metadata": {},
          "output_type": "execute_result"
        }
      ],
      "source": [
        "display(\"-\".join(['hi', 'my', 'name', 'is', 'nitish']))\n",
        "\" \".join(['hi', 'my', 'name', 'is', 'nitish'])  # all the items in the list must be string."
      ]
    },
    {
      "cell_type": "markdown",
      "metadata": {
        "id": "30p7nlw_M4M1"
      },
      "source": [
        "#### Replace"
      ]
    },
    {
      "cell_type": "code",
      "execution_count": 48,
      "metadata": {
        "colab": {
          "base_uri": "https://localhost:8080/",
          "height": 36
        },
        "id": "vuobYzSTM5F-",
        "outputId": "31fc9c0a-80e1-42be-de9f-d8cb2ce800a8"
      },
      "outputs": [
        {
          "data": {
            "text/plain": [
              "'hi my name is campusx'"
            ]
          },
          "metadata": {},
          "output_type": "display_data"
        },
        {
          "data": {
            "text/plain": [
              "'hi my name is nitish'"
            ]
          },
          "execution_count": 48,
          "metadata": {},
          "output_type": "execute_result"
        }
      ],
      "source": [
        "display('hi my name is nitish'.replace('nitish','campusx')) #\n",
        "'hi my name is nitish'.replace('nitisrgewrhgh','campusx')"
      ]
    },
    {
      "cell_type": "markdown",
      "metadata": {
        "id": "YqdGvSgFM5hW"
      },
      "source": [
        "#### Strip"
      ]
    },
    {
      "cell_type": "code",
      "execution_count": null,
      "metadata": {
        "colab": {
          "base_uri": "https://localhost:8080/",
          "height": 36
        },
        "id": "AkWgOFpPM6wq",
        "outputId": "0d50c002-3615-44af-9a7a-74f1874d796c"
      },
      "outputs": [
        {
          "data": {
            "application/vnd.google.colaboratory.intrinsic+json": {
              "type": "string"
            },
            "text/plain": [
              "'nitish'"
            ]
          },
          "execution_count": 149,
          "metadata": {},
          "output_type": "execute_result"
        }
      ],
      "source": [
        "'nitish                           '.strip()"
      ]
    },
    {
      "cell_type": "markdown",
      "metadata": {
        "id": "YvVCKvEhNhie"
      },
      "source": [
        "#### Example Programs"
      ]
    },
    {
      "cell_type": "code",
      "execution_count": null,
      "metadata": {
        "colab": {
          "base_uri": "https://localhost:8080/"
        },
        "id": "KKEdMynlM-_F",
        "outputId": "f7eccfbd-c7d3-4825-df4a-215b2a338aaa"
      },
      "outputs": [
        {
          "name": "stdout",
          "output_type": "stream",
          "text": [
            "enter the stringnitish\n",
            "length of string is 6\n"
          ]
        }
      ],
      "source": [
        "# Find the length of a given string without using the len() function\n",
        "\n",
        "s = input('enter the string')\n",
        "\n",
        "counter = 0\n",
        "\n",
        "for i in s:\n",
        "  counter += 1\n",
        "\n",
        "print('length of string is',counter)"
      ]
    },
    {
      "cell_type": "code",
      "execution_count": null,
      "metadata": {
        "colab": {
          "base_uri": "https://localhost:8080/"
        },
        "id": "2Db_x3upNzFo",
        "outputId": "db63c64d-3775-46c0-fbf6-a65ea0e96d5b"
      },
      "outputs": [
        {
          "name": "stdout",
          "output_type": "stream",
          "text": [
            "enter the emailsupport@campusx.in\n",
            "support\n"
          ]
        }
      ],
      "source": [
        "# Extract username from a given email.\n",
        "# Eg if the email is nitish24singh@gmail.com\n",
        "# then the username should be nitish24singh\n",
        "\n",
        "s = input('enter the email')\n",
        "\n",
        "pos = s.index('@')\n",
        "print(s[0:pos])\n",
        "\n"
      ]
    },
    {
      "cell_type": "code",
      "execution_count": null,
      "metadata": {
        "colab": {
          "base_uri": "https://localhost:8080/"
        },
        "id": "N7agO2bGN6ZH",
        "outputId": "744473ea-26a5-428e-dbd1-987a2c435967"
      },
      "outputs": [
        {
          "name": "stdout",
          "output_type": "stream",
          "text": [
            "enter the emailhi how are you\n",
            "what would like to search foro\n",
            "frequency 2\n"
          ]
        }
      ],
      "source": [
        "# Count the frequency of a particular character in a provided string.\n",
        "# Eg 'hello how are you' is the string, the frequency of h in this string is 2.\n",
        "\n",
        "s = input('enter the email')\n",
        "term = input('what would like to search for')\n",
        "\n",
        "counter = 0\n",
        "for i in s:\n",
        "  if i == term:\n",
        "    counter += 1\n",
        "\n",
        "print('frequency',counter)\n"
      ]
    },
    {
      "cell_type": "code",
      "execution_count": null,
      "metadata": {
        "colab": {
          "base_uri": "https://localhost:8080/"
        },
        "id": "5nnIm08wOAhP",
        "outputId": "b9db5f10-ec01-4539-ad92-9c6a7d6ff89c"
      },
      "outputs": [
        {
          "name": "stdout",
          "output_type": "stream",
          "text": [
            "enter the stringnitish\n",
            "what would like to removei\n",
            "ntsh\n"
          ]
        }
      ],
      "source": [
        "# Write a program which can remove a particular character from a string.\n",
        "s = input('enter the string')\n",
        "term = input('what would like to remove')\n",
        "\n",
        "result = ''\n",
        "\n",
        "for i in s:\n",
        "  if i != term:\n",
        "    result = result + i\n",
        "\n",
        "print(result)"
      ]
    },
    {
      "cell_type": "code",
      "execution_count": null,
      "metadata": {
        "colab": {
          "base_uri": "https://localhost:8080/"
        },
        "id": "OWLbKD8yOIL8",
        "outputId": "cd490de2-7bb3-49cb-a9a6-2227bca3e815"
      },
      "outputs": [
        {
          "name": "stdout",
          "output_type": "stream",
          "text": [
            "enter the stringpython\n",
            "Not a Palindrome\n"
          ]
        }
      ],
      "source": [
        "# Write a program that can check whether a given string is palindrome or not.\n",
        "# abba\n",
        "# malayalam\n",
        "\n",
        "s = input('enter the string')\n",
        "flag = True\n",
        "for i in range(0,len(s)//2):\n",
        "  if s[i] != s[len(s) - i -1]:\n",
        "    flag = False\n",
        "    print('Not a Palindrome')\n",
        "    break\n",
        "\n",
        "if flag:\n",
        "  print('Palindrome')\n",
        "\n"
      ]
    },
    {
      "cell_type": "code",
      "execution_count": null,
      "metadata": {
        "colab": {
          "base_uri": "https://localhost:8080/"
        },
        "id": "qBHUb5taOLdC",
        "outputId": "7d771c8a-9123-488b-8f63-06435638fb2e"
      },
      "outputs": [
        {
          "name": "stdout",
          "output_type": "stream",
          "text": [
            "enter the stringhi how are you\n",
            "['hi', 'how', 'are', 'you']\n"
          ]
        }
      ],
      "source": [
        "# Write a program to count the number of words in a string without split()\n",
        "\n",
        "s = input('enter the string')\n",
        "L = []\n",
        "temp = ''\n",
        "for i in s:\n",
        "\n",
        "  if i != ' ':\n",
        "    temp = temp + i\n",
        "  else:\n",
        "    L.append(temp)\n",
        "    temp = ''\n",
        "\n",
        "L.append(temp)\n",
        "print(L)\n",
        "\n"
      ]
    },
    {
      "cell_type": "code",
      "execution_count": null,
      "metadata": {
        "colab": {
          "base_uri": "https://localhost:8080/"
        },
        "id": "tz_DbyP-OO9z",
        "outputId": "218e781e-a930-4b85-a223-5de2212e0ed0"
      },
      "outputs": [
        {
          "name": "stdout",
          "output_type": "stream",
          "text": [
            "enter the stringhi my namE iS NitiSh\n",
            "Hi My Name Is Nitish\n"
          ]
        }
      ],
      "source": [
        "# Write a python program to convert a string to title case without using the title()\n",
        "s = input('enter the string')\n",
        "\n",
        "L = []\n",
        "for i in s.split():\n",
        "  L.append(i[0].upper() + i[1:].lower())\n",
        "\n",
        "print(\" \".join(L))"
      ]
    },
    {
      "cell_type": "code",
      "execution_count": null,
      "metadata": {
        "colab": {
          "base_uri": "https://localhost:8080/"
        },
        "id": "Gj-c2HctOibM",
        "outputId": "8c1c15a6-9f20-4de1-ddba-e9801122c973"
      },
      "outputs": [
        {
          "name": "stdout",
          "output_type": "stream",
          "text": [
            "enter the number345\n",
            "345\n",
            "<class 'str'>\n"
          ]
        }
      ],
      "source": [
        "# Write a program that can convert an integer to string.\n",
        "\n",
        "number = int(input('enter the number'))\n",
        "\n",
        "digits = '0123456789'\n",
        "result = ''\n",
        "while number != 0:\n",
        "  result = digits[number % 10] + result\n",
        "  number = number//10\n",
        "\n",
        "print(result)\n",
        "print(type(result))"
      ]
    },
    {
      "cell_type": "markdown",
      "metadata": {
        "id": "hXeCKpMROj7e"
      },
      "source": [
        "### L-4 Lists\n",
        "---"
      ]
    },
    {
      "cell_type": "markdown",
      "metadata": {},
      "source": [
        "#### 1. Lists\n",
        "\n",
        "- What are Lists?\n",
        "- Lists Vs Arrays\n",
        "- Characterstics of a List\n",
        "- How to create a list\n",
        "- Access items from a List\n",
        "- Editing items in a List\n",
        "- Deleting items from a List\n",
        "- Operations on Lists\n",
        "- Functions on Lists\n",
        "\n"
      ]
    },
    {
      "cell_type": "markdown",
      "metadata": {},
      "source": [
        "#### What are Lists\n",
        "\n",
        "List is a data type where you can store multiple items under 1 name. More technically, lists act like dynamic arrays which means you can add more items on the fly.\n",
        "\n",
        "![image.png](data:image/png;base64,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)\n",
        "\n",
        "- Why Lists are required in programming?"
      ]
    },
    {
      "cell_type": "markdown",
      "metadata": {},
      "source": [
        "#### Array Vs Lists\n",
        "\n",
        "- Fixed Vs Dynamic Size -- array are fixed size but list are dynamic size as we add items size keep on increasing.\n",
        "\n",
        "- Convenience -> Hetrogeneous -- array are homogeneous\n",
        "\n",
        "- Speed of Execution -- lists are slower.\n",
        "\n",
        "- Memory -- occupy more space."
      ]
    },
    {
      "cell_type": "code",
      "execution_count": 1,
      "metadata": {},
      "outputs": [
        {
          "name": "stdout",
          "output_type": "stream",
          "text": [
            "2047245714240\n",
            "2047192492336\n",
            "2047192492368\n",
            "2047192492400\n",
            "2047192492336\n",
            "2047192492368\n",
            "2047192492400\n"
          ]
        }
      ],
      "source": [
        "L = [1,2,3]\n",
        "\n",
        "print(id(L))\n",
        "print(id(L[0]))\n",
        "print(id(L[1]))\n",
        "print(id(L[2]))\n",
        "print(id(1))\n",
        "print(id(2))\n",
        "print(id(3))"
      ]
    },
    {
      "cell_type": "markdown",
      "metadata": {},
      "source": [
        "#### How lists are stored in memory"
      ]
    },
    {
      "cell_type": "markdown",
      "metadata": {},
      "source": [
        "In Python, lists are dynamic arrays that store references to objects rather than the objects themselves. Here's how lists are stored in memory:\n",
        "\n",
        "1. **Dynamic Array**: Python lists are implemented as dynamic arrays. This means that they can change size dynamically as elements are added or removed. Internally, Python maintains a contiguous block of memory to store the list's elements. When the list's capacity is exceeded, Python allocates a new, larger block of memory, copies the existing elements to the new space, and then frees the old memory.\n",
        "\n",
        "2. **Array of Pointers**: Each element in a Python list is a reference (or pointer) to an object rather than the object itself. This means that the list can store objects of different types. The list itself contains an array of pointers to the actual data.\n",
        "\n",
        "3. **Contiguous Memory**: The memory for the list's internal array of pointers is contiguous. However, the objects those pointers refer to are stored elsewhere in memory, possibly in non-contiguous locations.\n",
        "\n",
        "4. **Growth Strategy**: Python uses an over-allocation strategy to minimize the number of times the array needs to be reallocated. When a list grows beyond its current capacity, Python increases its size by a certain factor (usually by a factor of about 1.125 or 12.5% of the current size). This allows for efficient amortized time complexity for appending elements.\n",
        "\n",
        "5. **Memory Overhead**: Because lists store references rather than actual data, there is some memory overhead associated with storing these references. Additionally, the over-allocation strategy means that lists might use more memory than they currently need to accommodate future growth.\n",
        "\n",
        "Here’s an example illustrating these concepts:\n",
        "\n",
        "```python\n",
        "# Create a list\n",
        "my_list = [1, 2, 3]\n",
        "\n",
        "# Add an element\n",
        "my_list.append(4)\n",
        "\n",
        "# Remove an element\n",
        "my_list.pop(0)\n",
        "```\n",
        "\n",
        "- When `my_list` is created, Python allocates memory to store references to the three integers.\n",
        "- When `4` is appended, if the list's current capacity is exceeded, Python will allocate more memory to accommodate additional elements.\n",
        "- When an element is removed, the list maintains its current capacity until more elements are added.\n",
        "\n",
        "This design allows Python lists to be flexible and efficient for a wide range of use cases."
      ]
    },
    {
      "cell_type": "markdown",
      "metadata": {},
      "source": [
        "#### Characterstics of a List\n",
        "\n",
        "- Ordered\n",
        "- Changeble/Mutable\n",
        "- Hetrogeneous\n",
        "- Can have duplicates\n",
        "- are dynamic\n",
        "- can be nested\n",
        "- items can be accessed\n",
        "- can contain any kind of objects in python"
      ]
    },
    {
      "cell_type": "code",
      "execution_count": null,
      "metadata": {},
      "outputs": [],
      "source": []
    },
    {
      "cell_type": "code",
      "execution_count": null,
      "metadata": {},
      "outputs": [
        {
          "data": {
            "text/plain": [
              "False"
            ]
          },
          "metadata": {},
          "output_type": "display_data"
        }
      ],
      "source": [
        "# lists are ordered\n",
        "L = [1,2,3,1]\n",
        "L1 = [3,2,1]\n",
        "\n",
        "L == L1"
      ]
    },
    {
      "cell_type": "markdown",
      "metadata": {},
      "source": [
        "#### Creating a List"
      ]
    },
    {
      "cell_type": "code",
      "execution_count": 3,
      "metadata": {},
      "outputs": [
        {
          "name": "stdout",
          "output_type": "stream",
          "text": [
            "[]\n",
            "[1, 2, 3, 4, 5]\n",
            "[1, 2, 3, [4, 5]]\n",
            "[[[1, 2], [3, 4]], [[5, 6], [7, 8]]]\n",
            "[1, True, 5.6, (5+6j), 'Hello']\n",
            "['h', 'e', 'l', 'l', 'o', ' ', 'w', 'o', 'r', 'l', 'd']\n"
          ]
        }
      ],
      "source": [
        "# Empty\n",
        "print([])\n",
        "# 1D -> Homo\n",
        "print([1,2,3,4,5])\n",
        "# 2D\n",
        "print([1,2,3,[4,5]])\n",
        "# 3D\n",
        "[[],[]] #outer list mein 2 items\n",
        "[[[],[]],[[],[]]] #inner list mein bhi 2 items hain.\n",
        "print([[[1,2],[3,4]],[[5,6],[7,8]]])    # homogenous list\n",
        "# Hetrogenous\n",
        "print([1,True,5.6,5+6j,'Hello'])\n",
        "# Using Type conversion\n",
        "print(list('hello world'))"
      ]
    },
    {
      "cell_type": "markdown",
      "metadata": {},
      "source": [
        "#### Accessing Items from a List"
      ]
    },
    {
      "cell_type": "code",
      "execution_count": null,
      "metadata": {},
      "outputs": [
        {
          "name": "stdout",
          "output_type": "stream",
          "text": [
            "[6, 5, 4, 3, 2, 1]\n"
          ]
        }
      ],
      "source": [
        "# Indexing\n",
        "L = [[[1,2],[3,4]],[[5,6],[7,8]]]\n",
        "#positive\n",
        "print(L[0][0][1])\n",
        "\n",
        "# Slicing\n",
        "L = [1,2,3,4,5,6]\n",
        "L[0:3]\n",
        "print(L[::-1])"
      ]
    },
    {
      "cell_type": "markdown",
      "metadata": {},
      "source": [
        "#### Adding Items to a List"
      ]
    },
    {
      "cell_type": "code",
      "execution_count": 8,
      "metadata": {},
      "outputs": [
        {
          "name": "stdout",
          "output_type": "stream",
          "text": [
            "[1, 2, 3, 4, 5, 10, [11, 12, 13, 14]]\n"
          ]
        }
      ],
      "source": [
        "# append -- add 1 item at the end of the list.\n",
        "L = [1,2,3,4,5]\n",
        "L.append(10)\n",
        "L.append([11,12,13,14])\n",
        "print(L)"
      ]
    },
    {
      "cell_type": "code",
      "execution_count": null,
      "metadata": {},
      "outputs": [
        {
          "name": "stdout",
          "output_type": "stream",
          "text": [
            "[1, 2, 3, 4, 5, [6, 7, 8]]\n"
          ]
        }
      ],
      "source": [
        "L = [1,2,3,4,5]\n",
        "L.append([6,7,8])\n",
        "print(L)"
      ]
    },
    {
      "cell_type": "code",
      "execution_count": null,
      "metadata": {},
      "outputs": [
        {
          "name": "stdout",
          "output_type": "stream",
          "text": [
            "[1, 2, 3, 4, 5, 6, 7, 8]\n"
          ]
        }
      ],
      "source": [
        "# extend\n",
        "L = [1,2,3,4,5]\n",
        "L.extend([6,7,8])\n",
        "print(L)"
      ]
    },
    {
      "cell_type": "code",
      "execution_count": null,
      "metadata": {},
      "outputs": [
        {
          "name": "stdout",
          "output_type": "stream",
          "text": [
            "[1, 2, 3, 4, 5, 'd', 'e', 'l', 'h', 'i']\n"
          ]
        }
      ],
      "source": [
        "L = [1,2,3,4,5]\n",
        "L.extend('delhi')\n",
        "print(L)"
      ]
    },
    {
      "cell_type": "code",
      "execution_count": null,
      "metadata": {},
      "outputs": [
        {
          "name": "stdout",
          "output_type": "stream",
          "text": [
            "[1, 100, 2, 3, 4, 5]\n"
          ]
        }
      ],
      "source": [
        "# insert\n",
        "L = [1,2,3,4,5]\n",
        "\n",
        "L.insert(1,100)\n",
        "print(L)"
      ]
    },
    {
      "cell_type": "markdown",
      "metadata": {},
      "source": [
        "#### Editing items in a List"
      ]
    },
    {
      "cell_type": "code",
      "execution_count": 9,
      "metadata": {},
      "outputs": [
        {
          "name": "stdout",
          "output_type": "stream",
          "text": [
            "[1, 2, 3, 4, 500]\n",
            "[1, 200, 300, 400, 500]\n"
          ]
        }
      ],
      "source": [
        "L = [1,2,3,4,5]\n",
        "\n",
        "# editing with indexing\n",
        "L[-1] = 500\n",
        "print(L)\n",
        "\n",
        "# editing with slicing\n",
        "L[1:4] = [200,300,400]\n",
        "\n",
        "print(L)"
      ]
    },
    {
      "cell_type": "markdown",
      "metadata": {},
      "source": [
        "#### Deleting items from a List"
      ]
    },
    {
      "cell_type": "code",
      "execution_count": 11,
      "metadata": {},
      "outputs": [
        {
          "name": "stdout",
          "output_type": "stream",
          "text": [
            "[1, 2, 3, 4, 5]\n"
          ]
        },
        {
          "ename": "NameError",
          "evalue": "name 'L' is not defined",
          "output_type": "error",
          "traceback": [
            "\u001b[1;31m---------------------------------------------------------------------------\u001b[0m",
            "\u001b[1;31mNameError\u001b[0m                                 Traceback (most recent call last)",
            "\u001b[1;32mC:\\Users\\SUJITK~1\\AppData\\Local\\Temp/ipykernel_21064/3963791875.py\u001b[0m in \u001b[0;36m<module>\u001b[1;34m\u001b[0m\n\u001b[0;32m      3\u001b[0m \u001b[0mprint\u001b[0m\u001b[1;33m(\u001b[0m\u001b[0mL\u001b[0m\u001b[1;33m)\u001b[0m\u001b[1;33m\u001b[0m\u001b[1;33m\u001b[0m\u001b[0m\n\u001b[0;32m      4\u001b[0m \u001b[1;32mdel\u001b[0m \u001b[0mL\u001b[0m\u001b[1;33m\u001b[0m\u001b[1;33m\u001b[0m\u001b[0m\n\u001b[1;32m----> 5\u001b[1;33m \u001b[0mprint\u001b[0m\u001b[1;33m(\u001b[0m\u001b[0mL\u001b[0m\u001b[1;33m)\u001b[0m\u001b[1;33m\u001b[0m\u001b[1;33m\u001b[0m\u001b[0m\n\u001b[0m",
            "\u001b[1;31mNameError\u001b[0m: name 'L' is not defined"
          ]
        }
      ],
      "source": [
        "# del\n",
        "L = [1,2,3,4,5]\n",
        "print(L)\n",
        "del L\n",
        "print(L)"
      ]
    },
    {
      "cell_type": "code",
      "execution_count": 10,
      "metadata": {},
      "outputs": [
        {
          "name": "stdout",
          "output_type": "stream",
          "text": [
            "[1, 2, 3, 4]\n",
            "[1, 4]\n"
          ]
        }
      ],
      "source": [
        "# del\n",
        "L = [1,2,3,4,5]\n",
        "\n",
        "# indexing\n",
        "del L[-1]\n",
        "print(L)\n",
        "# slicing\n",
        "del L[1:3]\n",
        "print(L)"
      ]
    },
    {
      "cell_type": "code",
      "execution_count": null,
      "metadata": {},
      "outputs": [
        {
          "name": "stdout",
          "output_type": "stream",
          "text": [
            "[1, 2, 3, 4]\n"
          ]
        }
      ],
      "source": [
        "# remove\n",
        "\n",
        "L = [1,2,3,4,5]\n",
        "\n",
        "L.remove(5)\n",
        "\n",
        "print(L)\n"
      ]
    },
    {
      "cell_type": "code",
      "execution_count": 12,
      "metadata": {},
      "outputs": [
        {
          "name": "stdout",
          "output_type": "stream",
          "text": [
            "[1, 2, 3, 4]\n",
            "[2, 3, 4]\n"
          ]
        }
      ],
      "source": [
        "# pop\n",
        "L = [1,2,3,4,5]\n",
        "\n",
        "L.pop()\n",
        "print(L)\n",
        "\n",
        "L.pop(0)\n",
        "print(L)\n"
      ]
    },
    {
      "cell_type": "code",
      "execution_count": null,
      "metadata": {},
      "outputs": [
        {
          "name": "stdout",
          "output_type": "stream",
          "text": [
            "[]\n"
          ]
        }
      ],
      "source": [
        "# clear\n",
        "L = [1,2,3,4,5]\n",
        "\n",
        "L.clear()\n",
        "print(L)"
      ]
    },
    {
      "cell_type": "markdown",
      "metadata": {},
      "source": [
        "#### Operations on Lists\n",
        "\n",
        "- Arithmetic\n",
        "- Membership\n",
        "- Loop"
      ]
    },
    {
      "cell_type": "code",
      "execution_count": null,
      "metadata": {},
      "outputs": [
        {
          "name": "stdout",
          "output_type": "stream",
          "text": [
            "[1, 2, 3, 4, 5, 6, 7, 8]\n"
          ]
        }
      ],
      "source": [
        "# Arithmetic (+ ,*)\n",
        "\n",
        "L1 = [1,2,3,4]\n",
        "L2 = [5,6,7,8]\n",
        "\n",
        "# Concatenation/Merge\n",
        "print(L1 + L2)"
      ]
    },
    {
      "cell_type": "code",
      "execution_count": 14,
      "metadata": {},
      "outputs": [
        {
          "name": "stdout",
          "output_type": "stream",
          "text": [
            "[1, 2, 3, 4, 1, 2, 3, 4]\n"
          ]
        }
      ],
      "source": [
        "L1 = [1,2,3,4]\n",
        "print(L1*3) # = L1+L1+l1 ->list 3 baar repeat ho ke merge ho jayega."
      ]
    },
    {
      "cell_type": "code",
      "execution_count": 16,
      "metadata": {},
      "outputs": [
        {
          "name": "stdout",
          "output_type": "stream",
          "text": [
            "True\n",
            "False\n",
            "False\n",
            "True\n"
          ]
        }
      ],
      "source": [
        "#membership operator in lists:-\n",
        "L1 = [1,2,3,4,5]\n",
        "L2 = [1,2,3,4,[5,6]]\n",
        "\n",
        "print(5 in L1)\n",
        "print(5 not in L1)\n",
        "print(5 in L2)\n",
        "print([5,6] in L2)"
      ]
    },
    {
      "cell_type": "code",
      "execution_count": null,
      "metadata": {},
      "outputs": [
        {
          "name": "stdout",
          "output_type": "stream",
          "text": [
            "[[1, 2], [3, 4]]\n",
            "[[5, 6], [7, 8]]\n"
          ]
        }
      ],
      "source": [
        "# Loops\n",
        "L1 = [1,2,3,4,5]\n",
        "L2 = [1,2,3,4,[5,6]]\n",
        "L3 = [[[1,2],[3,4]],[[5,6],[7,8]]]\n",
        "\n",
        "for i in L3:\n",
        "  print(i)"
      ]
    },
    {
      "cell_type": "markdown",
      "metadata": {},
      "source": [
        "#### List Functions"
      ]
    },
    {
      "cell_type": "code",
      "execution_count": 21,
      "metadata": {},
      "outputs": [
        {
          "name": "stdout",
          "output_type": "stream",
          "text": [
            "5\n",
            "10\n",
            "17\n",
            "[17, 15, 12, 11, 10]\n"
          ]
        }
      ],
      "source": [
        "# len/min/max/sorted\n",
        "L = [12,11,15,17,10]\n",
        "\n",
        "print(len(L))  # will give count of the items in the list.\n",
        "print(min(L))   # work with homogenous lists.\n",
        "print(max(L))   # work with homogenous lists.\n",
        "print(sorted(L,reverse=True))"
      ]
    },
    {
      "cell_type": "code",
      "execution_count": 22,
      "metadata": {},
      "outputs": [
        {
          "data": {
            "text/plain": [
              "0"
            ]
          },
          "execution_count": 22,
          "metadata": {},
          "output_type": "execute_result"
        }
      ],
      "source": [
        "# count\n",
        "L = [1,2,1,3,4,1,5]\n",
        "L.count(5)\n",
        "L.count(15)"
      ]
    },
    {
      "cell_type": "code",
      "execution_count": null,
      "metadata": {},
      "outputs": [
        {
          "data": {
            "text/plain": [
              "0"
            ]
          },
          "metadata": {},
          "output_type": "display_data"
        }
      ],
      "source": [
        "# index\n",
        "L = [1,2,1,3,4,1,5]\n",
        "L.index(1)"
      ]
    },
    {
      "cell_type": "code",
      "execution_count": null,
      "metadata": {},
      "outputs": [
        {
          "name": "stdout",
          "output_type": "stream",
          "text": [
            "[0, 7, 5, 1, 2]\n"
          ]
        }
      ],
      "source": [
        "# reverse\n",
        "L = [2,1,5,7,0]\n",
        "# permanently reverses the list\n",
        "L.reverse()\n",
        "print(L)"
      ]
    },
    {
      "cell_type": "code",
      "execution_count": null,
      "metadata": {},
      "outputs": [
        {
          "name": "stdout",
          "output_type": "stream",
          "text": [
            "[2, 1, 5, 7, 0]\n",
            "[0, 1, 2, 5, 7]\n",
            "[2, 1, 5, 7, 0]\n",
            "[0, 1, 2, 5, 7]\n"
          ]
        }
      ],
      "source": [
        "# sort (vs sorted)\n",
        "L = [2,1,5,7,0]\n",
        "print(L)\n",
        "print(sorted(L))    # sorted is a temporary operation & it creates a new list in the memory keeping the orginal list intact.\n",
        "print(L)\n",
        "L.sort()    # permanent change in the orginal list.\n",
        "print(L)"
      ]
    },
    {
      "cell_type": "code",
      "execution_count": null,
      "metadata": {},
      "outputs": [
        {
          "name": "stdout",
          "output_type": "stream",
          "text": [
            "[2, 1, 5, 7, 0]\n",
            "140163201056112\n",
            "[2, 1, 5, 7, 0]\n",
            "140163201128800\n"
          ]
        }
      ],
      "source": [
        "# copy -> creates shallow copy, means memory mein new address pe same list ban jati hai.\n",
        "L = [2,1,5,7,0]\n",
        "print(L)\n",
        "print(id(L))\n",
        "\n",
        "L1 = L.copy()\n",
        "print(L1)\n",
        "print(id(L1))"
      ]
    },
    {
      "cell_type": "markdown",
      "metadata": {},
      "source": [
        "#### List Comprehension\n",
        "\n",
        "List Comprehension provides a concise way of creating lists.\n",
        "\n",
        "newlist = [expression for item in iterable if condition == True]![image.png](data:image/png;base64,iVBORw0KGgoAAAANSUhEUgAAAq0AAABDCAYAAAC2jTxwAAAAAXNSR0IArs4c6QAAAARnQU1BAACxjwv8YQUAAAAJcEhZcwAADsMAAA7DAcdvqGQAABFHSURBVHhe7d1LiBzVGsDxo9ybK4Qsgjia4driUoSEkAkujGTfeUB0E3ElQZiYRTCbGbORbOLMJuIiZkDE1UU3GjBJ74PJQjIhGAhZiq1kzIi4kIA3V+I933lUnzr16Oqe7snpmf8PKjE9Nd1d5/nVqa/KJ1bu//q3AgAAABL2pPsbAAAASBZBKwAAAJJH0AoAAIDkEbQCAAAgeQStAAAASB5BKwAAAJJH0AoAAIDkEbQCAAAgeQStAAAASB5BKwAAAJJH0AoAAIDkEbQCAAAgeQStAAAASB5BKwAAAJJH0AoAAIDkEbQCAAAgeQStAAAASB5BKwAAAJJH0AoAAIDkEbQCAAAgeQStAAAASB5BKwAAAJJH0AoAAIDkEbQCAAAgeQStAAAASN5kBq33vlLHnn1G7ci2t9XX99zPSq2qr9+x+x67uOpe2+huqI9zZaS3czfczzCM1Ytv23J85yvdohJ18xf9Hbu57eOb7mfJ6LXN9L7bgLLy/kUtu5fW00S0yb5se2g8Nt/86DG1nQd6HrF96tjFB+61GhPRF4fk5uCyOht9m9yM8/dGMfo4ZDKD1uk31Gf3f1Urevt+6aB7cR09tkFzCHMdU05mO7XXvYgNSSbJ9kPVXnpa13cr207ucT+fNJPUz5LmJv1UA9ub19SC/mtna8r+u4/lq2f1n6fVqym3643WF2MrXdXRfzWts6LE22TKSk6GCtu5393Oj9teddLHH/c7at69uhabJD1gSr3+qS24z44M28mw2U0d+dx2vk/f0C0qPctXH+o/t6jjR7baF5LVG8jqJvHV7m39Z+LByZ7n9HFIQPKcmnEvradmbfJH9dM3SrXbryXZbm09H1TP77D/rrequnf1X4dbqmVfWEdb9Txig8/P+vSxyemLw6mrs9G3SebvnGzMsdulOXlxi7oUvLZyarvZdSMipxXYEB64yfzJxzCZj8Oquta5/JiCkw1mwJXM9db9Qdez2qla0/bf9Wywo15qJRmAWxutLxaZOjt8UO1rVGclEm+TSNfQQevyOb+0H+UslOYr9HJS/JbLTXH5MZWXAfv9vFIxn6LuPbJcHL/lLl0E79WWy1NKLbSDffU2yfk2pj6DY4nr0f+8cIzuEu6OZz+yOX1hXUW5x/Hv2ve0vxd/flk91ddPIPtOfnPfLRZ9v9Lc6Oi9+rbBwmfH7xnm7zXpO6P2u/7M/KWkYn6ey90zl5ii/d9ZLS/zvqIxoKLueu3gZXVCgpNvZtUu/zsVv1ffLtznStlmdWPrJPusqnZUY/Xiz/p3+5fL8jn/s6gc13L5rkmbDNt2xXhV/L0G46X7bPN63NZL2m/cr/3We1+3cjq3T81En19+XF0la3ztF1+w/67ReLzoq9hnSr/bmDU7nuJcW6iXAcZoozBOPqMOLerXwxOHMbTJfNupGMMz/Y/blp99n3xZ9rsnZrL1xqBeTrbd8nn4Zr9Cbr77ncL4Fr9XwzzvEVjbSquZUNpKdezS/cqtJdVebEcNXwYiPQGpJfW97OP2U7MvFxrV7W7FkOLyZwYX5FN0TrvXykkH2TWr1Plbbn/ZZrvq/exYiu8174/bbZN56cJOFIfu5utH6jGsn5lTd9T5w7qqO9/2Gq8MVDL4mLzZ9/KXR6/qn+2+rA648pTc487sXHFwOHxbXZDP1zVsy9F+zsJSMfDYNbtTXfLfUfJjpP1FA7cZjNq38/V4f5+6Hg/w8t13z6qduTrUI/EHweAog+zVfe5nZd8rzwyy0WdfmrusTuwOBkU36e5U3+oB/BP1fFA+Spf5YJNhOHD85oK8P3WfDAaTcLAxuVB/qNthnl1ni66X33RdlwRRi3+Y/VXH7XvrKdWW9x8i4Fo+N6fUGVcu0n903X1Rcqwzp9w+0gb1v9tLd+y//Za75Ni8XbTVNXVsqaW+N+97WV354G114cU7tty/6aqu26+pqSP/1p8l5fK0aRe1TJ1E5ajLdqhBvmmbDPL+7eXD00EZ2S2XmmGCjrZuG73ylrKRoKLYJg/q/aStq+w9bfv9JOjfblxZzH+u2S+8rHzvW3VFLhNL/QT9Qb7zQrsYTKx+d7lBLmXzdtHMdj32u7rT/aXcgH1xILYs88ejy7J9Od+HTFCo59qXgvsYSsZyO5/qOujKGNhVx92+UubxGG3GUz1Oqlw/tLmJ2YnDGNqkfO71/e5102fPqgtlAbVoeNx2dbilujLX//Cu21eORY/RHwzTLiaIaYu/qSttP/Zv08f9UB0aqk3KSZxu4+opHTP0xjRVNY+M2JrTAyRwywa/6dfUAd1gw8Bm9eInakEaZzjZ6Mb7oRnkrtkAYbqlJ/GAaYTxYNk052kYPk8qutyx572xB6L5M76SLQrsR0sG97ZaOKwD1lz92HpUd7tBg55Sr89KsHFZXZNBTerIB6zhDV7uBGNhUYK3z9XrrjynXjlogoWfVuy/szLX79eJ3yOyfE5W3WSACwPjvepVGfhyAYe7pDz3bva5lj7hiPKrzM0c+rjfzOVLSu5U8BkyyDa8eU3q8dDiwdwxi5mjLkj6zpWkL59ZCeiD8mnlekBDvRy7LHg6HAwksn065Y5bT6pLD3XZbMvn4+15TgcSehhY1D+PAgQZHs7fCm4emd7q2sX/gnbRzMypfLn05SbWA69U979m7cJeTu7o9njgTK8NyHt/qPu2n8jGfRl3XgescTl2Og8GLsdB2qQVrmRWcH1ZThDC8c722fxigs1l1H22UO55y+f0uGKCknAfn/IRjLOuP5j6CfrDzH5ZGAjHC8umEtTnOTcfL0ZpkL44iGCMjspbckd7Jx46sNXBZWEs1e3luBy3n2s1X4cndCwallHrRTmhCOgTmV16nIrbReHS/hjaZP7Y6jQ9bj/fzOpgK9z3BfW81NUQGs/d0Sp0YRvqRGpwMgb1xv7trj88Grg/rOqT7QXJoQ3b8/SUjulkHvlvtFI7emsMWvvdJOGDiGLjtJP0WXXdBKa24XR++FH+kZ1NL1y1lW47WdOcp2FMqdZL+q+hz8SHlyWtV20DDQYDuvkfsyIwP5sP6FYvzpnXC0nye97Sg7EOwL78SB0rGyg0W1eyQraYD1Lc5NTjctNkYsu9h0u690GmnlAvLMr7vZVvQ3ogMJeoyga+wmp/BanvxicFdbl0N9QXenAvBss1Svcd44nZvQdmRWt+fzFBf+qVLTo4eVQIENThLb3gwnAT81CTb0/dTRyevUO8ps83bRduZduXtx9bbJt3E9nY8yO3jOlmsgb5nX4ls+Zy+vKXui/rfng8d4Kug6UP5PX8iYMNGmUCLAZQK/dd0FlVNyXft3K8KOXqq+4kY5jxImUVY3TMLg7pk+ajzeeLYv2IXp+zfTBuF77OqvrvaNpkjps7ylbXBz/uin2HGAMaz9173iv/ud+iBZXxKI5BM6fkZGrQG0gf6Jjuke5H/yr83lTrH/rPhy6mG581r7TWcw1YlunjswuX02K5oNGt7MnAOL8ky/v2LGk9VkPksqS9VKgDGf8d1zmAXW92UJLLcEG96M2nSeTOrg0dUJ5Z0vV5tnJ11K+ExANdgc9NKx04e3yQ0ZF0kuA7Svsx6RmFgNelMWT7l+crSX2bS1RB26y9NO++7/z+kgHPrTyU/szxA64f8OOBs2+QtlYrj0w51rndXZ+cJNuf627i6B+cNG4XbsLzdWM/26+w2/Gp8eSZmro26dVM+NYNdV2COXVWHQrLMUvpClfIfb3EVyjybN2UrJK7fhKWd9V4UR4Y9Q+IBhsv0mfLoeHiUF2fCvpSeZnHNz66dlEI8t1+VWPVSNpkXnUZDHLcru3EiwWDBtCb3kMX00nqWJD6IltbnpgxfmMOWt3SuwQ4ZWcYevOXAMylCXPpRjqLbqBHJGXAr8RqQ5wJDSo8c+oFsP0SwNfm8aYHaOayU1wvFZdy5TKiWWFdUufvluVfVgcb/qw9G3gGGrjkUl/8Hasel+RWas0+Ll8pzCkNZPmTPg+rNH/P8hNx9epg+c/i3ysP2BqsIK3VjifNpd5SLqDd2VqPx/O4ybC2PzdYrTH6t4v8hOfK2b+vmWDrUxBS1r9N+uOv30cUcodlK6wANasXGxQVgxp/ktzr81WBUcV7uICof4AxyHiRNlsODZXWS9zfXB8olHlUt1Vl7YK8qrFqlG3SioPpEk2OuyqYHjCADk1aesBobHEx3Tbdp4LUl2Abdz8bc9DqVlCDfJoqWU6fnI2bDmVzkBaufmU62XqfCUkAa28auK26JQHPqDzW9ADRNMdLOl6WEvCG2teWmzTigN4OfIW0gpJLds1WELxh62CvOmlumivmxuXZFeQ4fy9UNRH3lH1GnDZQFbBVlNsoTf9Tf3vpT8VE+dXuX/rPcV3CjjQJPBoHJ/3bhT1JyK+2+InLTrBjXN0es/5tstk+wqdm1aqa+Jvwl+fDYKUyMKq4xN84wBjvmJ2s3D0IVuHyedXKYqO69SkjWmmgONo2aTU4UWpw3FXB9GDzUN5kpQcMyaWV9Wx1Md34c1erjDloVe5GlLPqUL+ziR0tu5/cEOA6lEnGX5w1OT3DnAk1J3dnxgFYzaWHPfvM3ZN1d5JPAnuzQ81dmZ4ErJLOIauyriPamzSi3y179p5fndW/Kze+WA3Onh1/A9eJL/usOMvnFFal9SC7ZL9373KmruuStlie11dNnhSQrcqWtgdpU+4GCj94VU7S9vXxtvHt6k2TKB/dtX7zF7Vr9pEOELYVVrvWhdRbXB/uxszckyoizdqFPUnITgZM++xNXPmAdvLl2qRjb64JrlgVuBuUcnf+l2uyiib8uJJ9phk/bqv5OfkuQbBSFoT68UKfHBfTk6zciaW8d9B+Go8XE8KX5aHc2CY3Z4Xz1ZRZRJArg+HTBGQlUG6kmu8EV86qAn/zelC3hZuq5TPlDv3TZqzrf0JpDdcm64RzdfPjrgqUN9oYsBYz++XJGEFO6r1V3Rf/NO0lNHP0Kd3Hhn3ywNqNPWg1dxbK5VcV5IqWLYtnTxAILte5YCC+lBAuy0vjNHdC7vbvG3RmGdD8Z0nQpfXyN8NLxnvVyVst8+ilbH//CI3SsyB5/JV7hErwO41u/kmJnAF2Thfzv/TmBxr7GCcXsIZl4Qc1/bt+X3vWGpax3vQEtFNyyXLl2ODs2ZP24x9fEnw/2XLlLfvtvxbtU1aHuu7OKPV+bj//yK/8zSWhbPJw+8vjknqXQcraQ1sXTnTcFRNG02BgrcxjmvwjrrI8pL/MEwL6/R9+RiZoN6ac5JE7hT4m/VHXedS/cpNfk3YRnQzY9uknrihVYCB9Hm+0Do99EfVt0pLVIPv4qKCMopMEm98djqF+y5/IN14h0+NK7jPNo7E+V6/qcToXIJgbOyvGi7IrTO59c+OVPGopNy41HC8GEf5vM13e3kLb/fvZn/sG+2siY3TheHQhnCneCCdXBsOy3NU5aFK/iukyxbGmmFPvrj5lffBldaV9R60cbdWeYI+qTfb4kyp//PJYtN6xNzvuqvSrqitfm5R7kkzWtnc/VAf03GDu/QhNT+mY7mkd00WPdJNtHQLZJ1bu//q3+29sKG6lr+KGqXGQANc+l7E6+AMAAJvNaGKS8a+0YpNYh5uJAADApkXQihFZh5uJAADApkXQutGFuVDjfHxW2U1YAABgk5KUAJ9vLP+XvLUjpxUAAADJY6UVAAAAySNoBQAAQPIIWgEAAJA8glYAAAAkj6AVAAAAySNoBQAAQPIIWgEAAJA8glYAAAAkj6AVAAAAySNoBQAAQPIIWgEAAJA8glYAAAAkj6AVAAAAySNoBQAAQPIIWgEAAJA8glYAAAAkj6AVAAAAySNoBQAAQPIIWgEAAJA8glYAAAAkj6AVAAAAySNoBQAAQPKe+Ftz/w0AAAAkSKn/A77Gd4ICZGQjAAAAAElFTkSuQmCC)\n",
        "\n",
        "Advantages of List Comprehension\n",
        "- More time-efficient and space-efficient than loops.\n",
        "- Require fewer lines of code.\n",
        "- Transforms iterative statement into a formula."
      ]
    },
    {
      "cell_type": "code",
      "execution_count": null,
      "metadata": {},
      "outputs": [
        {
          "name": "stdout",
          "output_type": "stream",
          "text": [
            "[1, 2, 3, 4, 5, 6, 7, 8, 9, 10]\n"
          ]
        }
      ],
      "source": [
        "# Add 1 to 10 numbers to a list\n",
        "L = []\n",
        "\n",
        "for i in range(1,11):\n",
        "  L.append(i)\n",
        "\n",
        "print(L)"
      ]
    },
    {
      "cell_type": "code",
      "execution_count": null,
      "metadata": {},
      "outputs": [
        {
          "name": "stdout",
          "output_type": "stream",
          "text": [
            "[1, 2, 3, 4, 5, 6, 7, 8, 9, 10]\n"
          ]
        }
      ],
      "source": [
        "L = [i for i in range(1,11)]\n",
        "print(L)"
      ]
    },
    {
      "cell_type": "code",
      "execution_count": null,
      "metadata": {},
      "outputs": [
        {
          "data": {
            "text/plain": [
              "[-6, -9, -12]"
            ]
          },
          "metadata": {},
          "output_type": "display_data"
        }
      ],
      "source": [
        "# scalar multiplication on a vector\n",
        "v = [2,3,4]\n",
        "s = -3\n",
        "# [-6,-9,-12]\n",
        "\n",
        "[s*i for i in v]"
      ]
    },
    {
      "cell_type": "code",
      "execution_count": null,
      "metadata": {},
      "outputs": [
        {
          "data": {
            "text/plain": [
              "[1, 4, 9, 16, 25]"
            ]
          },
          "metadata": {},
          "output_type": "display_data"
        }
      ],
      "source": [
        "# Add squares\n",
        "L = [1,2,3,4,5]\n",
        "\n",
        "[i**2 for i in L]\n"
      ]
    },
    {
      "cell_type": "code",
      "execution_count": null,
      "metadata": {},
      "outputs": [
        {
          "data": {
            "text/plain": [
              "[5, 10, 15, 20, 25, 30, 35, 40, 45, 50]"
            ]
          },
          "metadata": {},
          "output_type": "display_data"
        }
      ],
      "source": [
        "# Print all numbers divisible by 5 in the range of 1 to 50\n",
        "\n",
        "[i for i in range(1,51) if i%5 == 0]"
      ]
    },
    {
      "cell_type": "code",
      "execution_count": null,
      "metadata": {},
      "outputs": [
        {
          "data": {
            "text/plain": [
              "['python', 'php']"
            ]
          },
          "metadata": {},
          "output_type": "display_data"
        }
      ],
      "source": [
        "# find languages which start with letter p\n",
        "languages = ['java','python','php','c','javascript']\n",
        "\n",
        "[language for language in languages if language.startswith('p')]"
      ]
    },
    {
      "cell_type": "code",
      "execution_count": null,
      "metadata": {},
      "outputs": [
        {
          "data": {
            "text/plain": [
              "['apple']"
            ]
          },
          "metadata": {},
          "output_type": "display_data"
        }
      ],
      "source": [
        "# Nested if with List Comprehension\n",
        "basket = ['apple','guava','cherry','banana']\n",
        "my_fruits = ['apple','kiwi','grapes','banana']\n",
        "\n",
        "# add new list from my_fruits and items if the fruit exists in basket and also starts with 'a'\n",
        "\n",
        "[fruit for fruit in my_fruits if fruit in basket if fruit.startswith('a')]"
      ]
    },
    {
      "cell_type": "code",
      "execution_count": null,
      "metadata": {},
      "outputs": [
        {
          "data": {
            "text/plain": [
              "[[1, 2, 3], [2, 4, 6], [3, 6, 9]]"
            ]
          },
          "metadata": {},
          "output_type": "display_data"
        }
      ],
      "source": [
        "# Print a (3,3) matrix using list comprehension -> Nested List comprehension\n",
        "[[i*j for i in range(1,4)] for j in range(1,4)]"
      ]
    },
    {
      "cell_type": "code",
      "execution_count": 24,
      "metadata": {},
      "outputs": [
        {
          "data": {
            "text/plain": [
              "[5, 10, 15, 20, 6, 12, 18, 24, 7, 14, 21, 28, 8, 16, 24, 32]"
            ]
          },
          "execution_count": 24,
          "metadata": {},
          "output_type": "execute_result"
        }
      ],
      "source": [
        "# cartesian products -> List comprehension on 2 lists together\n",
        "L1 = [1,2,3,4]\n",
        "L2 = [5,6,7,8]\n",
        "\n",
        "[i*j for i in L1 for j in L2]\n",
        "[i*j for j in L2 for i in L1]"
      ]
    },
    {
      "cell_type": "markdown",
      "metadata": {},
      "source": [
        "#### 2 ways to traverse a list\n",
        "\n",
        "- itemwise\n",
        "- indexwise"
      ]
    },
    {
      "cell_type": "code",
      "execution_count": null,
      "metadata": {},
      "outputs": [
        {
          "name": "stdout",
          "output_type": "stream",
          "text": [
            "1\n",
            "2\n",
            "3\n",
            "4\n"
          ]
        }
      ],
      "source": [
        "# itemwise\n",
        "L = [1,2,3,4]\n",
        "\n",
        "for i in L:\n",
        "  print(i)"
      ]
    },
    {
      "cell_type": "code",
      "execution_count": null,
      "metadata": {},
      "outputs": [
        {
          "name": "stdout",
          "output_type": "stream",
          "text": [
            "1\n",
            "2\n",
            "3\n",
            "4\n"
          ]
        }
      ],
      "source": [
        "# indexwise\n",
        "L = [1,2,3,4]\n",
        "\n",
        "for i in range(0,len(L)):\n",
        "  print(L[i])\n"
      ]
    },
    {
      "cell_type": "markdown",
      "metadata": {},
      "source": [
        "#### Zip\n",
        "\n",
        "The zip() function returns a zip object, which is an iterator of tuples where the first item in each passed iterator is paired together, and then the second item in each passed iterator are paired together.\n",
        "\n",
        "If the passed iterators have different lengths, the iterator with the least items decides the length of the new iterator."
      ]
    },
    {
      "cell_type": "code",
      "execution_count": 25,
      "metadata": {},
      "outputs": [
        {
          "data": {
            "text/plain": [
              "zip"
            ]
          },
          "execution_count": 25,
          "metadata": {},
          "output_type": "execute_result"
        }
      ],
      "source": [
        "# Write a program to add items of 2 lists indexwise\n",
        "\n",
        "L1 = [1,2,3,4]\n",
        "L2 = [-1,-2,-3,-4]\n",
        "\n",
        "list(zip(L1,L2))\n",
        "\n",
        "[i+j for i,j in zip(L1,L2)]\n",
        "type(zip(L1,L2))"
      ]
    },
    {
      "cell_type": "code",
      "execution_count": null,
      "metadata": {},
      "outputs": [
        {
          "name": "stdout",
          "output_type": "stream",
          "text": [
            "[1, 2, <built-in function print>, <class 'type'>, <bound method Kernel.raw_input of <google.colab._kernel.Kernel object at 0x7f7a67452a90>>]\n"
          ]
        }
      ],
      "source": [
        "L = [1,2,print,type,input]\n",
        "\n",
        "print(L)"
      ]
    },
    {
      "cell_type": "markdown",
      "metadata": {},
      "source": [
        "#### Disadvantages of Python Lists\n",
        "\n",
        "- Slow\n",
        "- Risky usage\n",
        "- eats up more memory"
      ]
    },
    {
      "cell_type": "code",
      "execution_count": 28,
      "metadata": {},
      "outputs": [
        {
          "name": "stdout",
          "output_type": "stream",
          "text": [
            "[1, 2, 3]\n",
            "[1, 2, 3]\n",
            "[1, 2, 3, 4]\n",
            "[1, 2, 3, 4]\n"
          ]
        }
      ],
      "source": [
        "# risky usage\n",
        "a = [1,2,3]\n",
        "b = a\n",
        "\n",
        "print(a)\n",
        "print(b)\n",
        "\n",
        "a.append(4)\n",
        "print(a)\n",
        "print(b)    # b also got changed due to the changes made in a.\n",
        "\n",
        "# lists are mutable"
      ]
    },
    {
      "cell_type": "code",
      "execution_count": null,
      "metadata": {},
      "outputs": [
        {
          "name": "stdout",
          "output_type": "stream",
          "text": [
            "[1, 2, 3]\n",
            "[1, 2, 3]\n",
            "[1, 2, 3, 4]\n",
            "[1, 2, 3]\n"
          ]
        }
      ],
      "source": [
        "# risky usage- how to avoid error in copying\n",
        "a = [1,2,3]\n",
        "b = a.copy()\n",
        "\n",
        "print(a)\n",
        "print(b)\n",
        "\n",
        "a.append(4)\n",
        "print(a)\n",
        "print(b)\n",
        "\n",
        "# lists are mutable"
      ]
    },
    {
      "cell_type": "markdown",
      "metadata": {},
      "source": [
        "#### List Programs"
      ]
    },
    {
      "cell_type": "code",
      "execution_count": null,
      "metadata": {},
      "outputs": [],
      "source": [
        "# Create 2 lists from a given list where\n",
        "# 1st list will contain all the odd numbers from the original list and\n",
        "# the 2nd one will contain all the even numbers\n",
        "\n",
        "L = [1,2,3,4,5,6]"
      ]
    },
    {
      "cell_type": "code",
      "execution_count": null,
      "metadata": {},
      "outputs": [],
      "source": [
        "# How to take list as input from user"
      ]
    },
    {
      "cell_type": "code",
      "execution_count": null,
      "metadata": {},
      "outputs": [],
      "source": [
        "# Write a program to merge 2 list without using the + operator\n",
        "L1 = [1,2,3,4]\n",
        "L2 = [5,6,7,8]\n"
      ]
    },
    {
      "cell_type": "code",
      "execution_count": null,
      "metadata": {},
      "outputs": [],
      "source": [
        "# Write a program to replace an item with a different item if found in the list\n",
        "L = [1,2,3,4,5,3]\n",
        "# replace 3 with 300"
      ]
    },
    {
      "cell_type": "code",
      "execution_count": null,
      "metadata": {},
      "outputs": [],
      "source": [
        "# Write a program that can convert a 2D list to 1D list"
      ]
    },
    {
      "cell_type": "code",
      "execution_count": null,
      "metadata": {},
      "outputs": [],
      "source": [
        "# Write a program to remove duplicate items from a list\n",
        "\n",
        "L = [1,2,1,2,3,4,5,3,4]"
      ]
    },
    {
      "cell_type": "code",
      "execution_count": null,
      "metadata": {},
      "outputs": [],
      "source": [
        "# Write a program to check if a list is in ascending order or not"
      ]
    },
    {
      "cell_type": "markdown",
      "metadata": {},
      "source": [
        "## extra"
      ]
    },
    {
      "cell_type": "markdown",
      "metadata": {},
      "source": [
        "In Python, the terms **module**, **package**, and **library** refer to different ways of organizing and distributing code. Here's a breakdown of each:\n",
        "\n",
        "### Module\n",
        "\n",
        "- **Definition**: A module is a single file containing Python code. It can define functions, classes, variables, and runnable code.\n",
        "\n",
        "- **Purpose**: Modules are used to organize code into manageable and reusable components. You can import modules into other Python scripts to use the functions and classes they define.\n",
        "\n",
        "- **Example**: A file named `math.py` could be a module that contains mathematical functions.\n",
        "\n",
        "### Package\n",
        "\n",
        "- **Definition**: A package is a collection of modules organized in a directory hierarchy. It contains a special file named `__init__.py` (which can be empty) that indicates to Python that the directory should be treated as a package.\n",
        "\n",
        "- **Purpose**: Packages are used to organize related modules into a single unit, making it easier to manage larger codebases.\n",
        "\n",
        "- **Example**: A directory structure like this would constitute a package:\n",
        "  ```\n",
        "  mypackage/\n",
        "      __init__.py\n",
        "      module1.py\n",
        "      module2.py\n",
        "  ```\n",
        "\n",
        "  You can import modules from this package using `import mypackage.module1`.\n",
        "\n",
        "### Library\n",
        "\n",
        "- **Definition**: A library is a collection of modules and packages designed to be used together to provide specific functionality. It often includes documentation and other resources.\n",
        "\n",
        "- **Purpose**: Libraries provide reusable code for common tasks, saving time and effort. They can cover a wide range of functionalities, from data manipulation to web development.\n",
        "\n",
        "- **Example**: Pandas is a library that includes multiple modules and packages for data analysis.\n",
        "\n",
        "### Summary\n",
        "\n",
        "- **Module**: A single file with Python code (`module.py`).\n",
        "- **Package**: A directory of modules (`mypackage/` with `__init__.py`).\n",
        "- **Library**: A collection of modules and packages designed to work together (e.g., Pandas, NumPy).\n",
        "\n",
        "In essence, a module is a single file, a package is a directory with modules, and a library is a collection of related packages and modules."
      ]
    }
  ],
  "metadata": {
    "colab": {
      "provenance": []
    },
    "kernelspec": {
      "display_name": "Python 3",
      "name": "python3"
    },
    "language_info": {
      "codemirror_mode": {
        "name": "ipython",
        "version": 3
      },
      "file_extension": ".py",
      "mimetype": "text/x-python",
      "name": "python",
      "nbconvert_exporter": "python",
      "pygments_lexer": "ipython3",
      "version": "3.9.7"
    }
  },
  "nbformat": 4,
  "nbformat_minor": 0
}
