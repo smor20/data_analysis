{
 "cells": [
  {
   "cell_type": "markdown",
   "metadata": {},
   "source": [
    "#### print decreasing"
   ]
  },
  {
   "cell_type": "code",
   "execution_count": 1,
   "metadata": {},
   "outputs": [
    {
     "name": "stdout",
     "output_type": "stream",
     "text": [
      "5\n",
      "4\n",
      "3\n",
      "2\n",
      "1\n"
     ]
    }
   ],
   "source": [
    "def pd(n):\n",
    "    if n==0:\n",
    "        return\n",
    "    print(n)\n",
    "    pd(n-1)\n",
    "    \n",
    "pd(5)"
   ]
  },
  {
   "cell_type": "markdown",
   "metadata": {},
   "source": [
    "#### print increasing"
   ]
  },
  {
   "cell_type": "code",
   "execution_count": null,
   "metadata": {},
   "outputs": [],
   "source": [
    "def pinc(n):\n",
    "    if n==0:\n",
    "        return\n",
    "    pinc(n-1)\n",
    "    print(n)"
   ]
  },
  {
   "cell_type": "markdown",
   "metadata": {},
   "source": [
    "#### display array"
   ]
  },
  {
   "cell_type": "code",
   "execution_count": 3,
   "metadata": {},
   "outputs": [
    {
     "name": "stdout",
     "output_type": "stream",
     "text": [
      "10\n",
      "20\n",
      "30\n"
     ]
    }
   ],
   "source": [
    "def display_array(lst,n):   \n",
    "    # base\n",
    "    if n==0:\n",
    "        return\n",
    "    display_array(lst,n-1)\n",
    "    print(lst[n-1])\n",
    "    \n",
    "display_array([10,20,30],3)\n",
    "#_______________________________\n",
    "def display_array2(lst,n):\n",
    "    #base\n",
    "    if n==len(lst):\n",
    "        return\n",
    "    \n",
    "    print(lst[n])\n",
    "    display_array2(lst,n+1)\n",
    "    "
   ]
  },
  {
   "cell_type": "markdown",
   "metadata": {},
   "source": [
    "#### maximum item of the array"
   ]
  },
  {
   "cell_type": "code",
   "execution_count": 9,
   "metadata": {},
   "outputs": [
    {
     "name": "stdout",
     "output_type": "stream",
     "text": [
      "20000\n"
     ]
    }
   ],
   "source": [
    "## find the maximum item of the array --> arr_max(arr,n=0)\n",
    "def arr_max(arr, n):\n",
    "    # base\n",
    "    if n==len(arr)-1:\n",
    "        return arr[n]\n",
    "\n",
    "    x=arr_max(arr,n+1)\n",
    "    if x>arr[n]:\n",
    "        return x\n",
    "    else:\n",
    "        return arr[n]\n",
    "    \n",
    "print(arr_max([20000,10,300,125],0))"
   ]
  },
  {
   "cell_type": "markdown",
   "metadata": {},
   "source": [
    "#### index of first occurance"
   ]
  },
  {
   "cell_type": "code",
   "execution_count": 20,
   "metadata": {},
   "outputs": [
    {
     "name": "stdout",
     "output_type": "stream",
     "text": [
      "4\n"
     ]
    }
   ],
   "source": [
    "##index of first occurance\n",
    "\n",
    "def idx_fst(arr,idx,x):\n",
    "    #base\n",
    "    # print(f'idx is {idx}')\n",
    "    if (idx==len(arr)):\n",
    "        return -1 \n",
    "    if arr[idx]==x:\n",
    "        return idx\n",
    "    else:\n",
    "        return(idx_fst(arr,idx+1,x))\n",
    "\n",
    "    \n",
    "\n",
    "print(idx_fst([8,12,8,6,3,3,9],0,3))"
   ]
  },
  {
   "cell_type": "markdown",
   "metadata": {},
   "source": [
    "#### index of last occurance"
   ]
  },
  {
   "cell_type": "code",
   "execution_count": 23,
   "metadata": {},
   "outputs": [
    {
     "name": "stdout",
     "output_type": "stream",
     "text": [
      "5\n"
     ]
    }
   ],
   "source": [
    "## index of last occurance\n",
    "def idx_last(arr,idx,x):\n",
    "    # base\n",
    "    if idx==len(arr):\n",
    "        return -1\n",
    "    iisa=idx_last(arr,idx+1,x) #iisa->index in smaller array\n",
    "    if (arr[idx]==x) and idx>iisa:\n",
    "        return idx\n",
    "    else:\n",
    "        return iisa\n",
    "\n",
    "print(idx_last([8,12,8,6,3,3,9],0,3))\n"
   ]
  },
  {
   "cell_type": "markdown",
   "metadata": {},
   "source": [
    "#### all idx of array"
   ]
  },
  {
   "cell_type": "code",
   "execution_count": 31,
   "metadata": {},
   "outputs": [
    {
     "name": "stdout",
     "output_type": "stream",
     "text": [
      "[0, 2, 4]\n"
     ]
    }
   ],
   "source": [
    "# all index of an array\n",
    "nl=[]\n",
    "def idx_all(arr,idx,x,fsf):\n",
    "    #base\n",
    "    if idx>=len(arr):\n",
    "        return [0]*fsf\n",
    "    if arr[idx]==x:\n",
    "        lfsa=idx_all(arr,idx+1,x,fsf+1)\n",
    "        lfsa[fsf]=idx\n",
    "        return lfsa\n",
    "    else:\n",
    "        lfsa=idx_all(arr,idx+1,x,fsf)\n",
    "        return lfsa\n",
    "    \n",
    "        \n",
    "    \n",
    "print(idx_all([8,9,8,7,8],0,8,0))"
   ]
  },
  {
   "cell_type": "code",
   "execution_count": 32,
   "metadata": {},
   "outputs": [
    {
     "data": {
      "text/plain": [
       "[1, 1, 1]"
      ]
     },
     "execution_count": 32,
     "metadata": {},
     "output_type": "execute_result"
    }
   ],
   "source": [
    "[1]*3"
   ]
  },
  {
   "cell_type": "markdown",
   "metadata": {},
   "source": [
    "#### get sub-seq of a string"
   ]
  },
  {
   "cell_type": "code",
   "execution_count": 35,
   "metadata": {},
   "outputs": [
    {
     "name": "stdout",
     "output_type": "stream",
     "text": [
      "['', 'a', 'b', 'ab', 'c', 'ac', 'bc', 'abc']\n"
     ]
    }
   ],
   "source": [
    "##  get subseqence of a string in form of a list \n",
    "def get_ss(s):\n",
    "    #base\n",
    "    if len(s)==0:\n",
    "        return ['']\n",
    "    ch0=s[0]\n",
    "    ros=s[1:]\n",
    "    rres=get_ss(ros)\n",
    "    mres=[]\n",
    "    for i in rres:\n",
    "        mres.append(i)\n",
    "        mres.append(ch0+i)\n",
    "    return mres\n",
    "    \n",
    "    \n",
    "print(get_ss('abc'))"
   ]
  },
  {
   "cell_type": "markdown",
   "metadata": {},
   "source": [
    "#### [get keypad combination](https://www.youtube.com/watch?v=97mF4juql6g&list=PL-Jc9J83PIiFxaBahjslhBD1LiJAV7nKs&index=26)"
   ]
  },
  {
   "cell_type": "code",
   "execution_count": 34,
   "metadata": {},
   "outputs": [
    {
     "name": "stdout",
     "output_type": "stream",
     "text": [
      "27\n"
     ]
    }
   ],
   "source": [
    "## https://www.youtube.com/watch?v=97mF4juql6g&list=PL-Jc9J83PIiFxaBahjslhBD1LiJAV7nKs&index=26\n",
    "## get key-pad combination\n",
    "keys_dict = {\n",
    "    '2': 'ABC',\n",
    "    '3': 'DEF',\n",
    "    '4': 'GHI',\n",
    "    '5': 'JKL',\n",
    "    '6': 'MNO',\n",
    "    '7': 'PQRS',\n",
    "    '8': 'TUV',\n",
    "    '9': 'WXYZ'\n",
    "}\n",
    "keys=[',:', 'abc','def','ghi','jkl','mno','pqrs','tuv','wxyz']\n",
    "def key_comb(s,keys):\n",
    "    #base\n",
    "    if len(s)==0:\n",
    "        return ['']\n",
    "    ch0=s[0]\n",
    "    # print(int(ch0))\n",
    "    ros=s[1:]\n",
    "    rres=key_comb(ros,keys)\n",
    "    mres=[]\n",
    "    codeforch=keys[int(ch0)]\n",
    "    # print(codeforch)\n",
    "    for i in codeforch:\n",
    "        # print(i)\n",
    "        for j in rres:\n",
    "            # print(j)\n",
    "            mres.append(i+j)\n",
    "        \n",
    "    return mres\n",
    "\n",
    "print(len(key_comb('123',keys)))  "
   ]
  },
  {
   "cell_type": "markdown",
   "metadata": {},
   "source": [
    "#### get stair path"
   ]
  },
  {
   "cell_type": "code",
   "execution_count": 6,
   "metadata": {},
   "outputs": [
    {
     "name": "stdout",
     "output_type": "stream",
     "text": [
      "['11111', '1112', '1121', '113', '1211', '122', '131', '2111', '212', '221', '23', '311', '32']\n"
     ]
    }
   ],
   "source": [
    "#### get stair path- print all the path for reaching at stair 0 from stair n.\n",
    "def gsp(n):\n",
    "    # base\n",
    "    if n==0:\n",
    "        bres=['']\n",
    "        return bres\n",
    "    elif n<0:\n",
    "        bres=[]\n",
    "        return bres\n",
    "\n",
    "\n",
    "    paths1=gsp(n-1)\n",
    "    paths2=gsp(n-2)\n",
    "    paths3=gsp(n-3)\n",
    "\n",
    "    paths=[]\n",
    "    for path in paths1:\n",
    "        paths.append('1'+path)\n",
    "    for path in paths2:\n",
    "        paths.append('2'+path)\n",
    "    for path in paths3:\n",
    "        paths.append('3'+path)\n",
    "    return paths\n",
    "\n",
    "print(gsp(5))"
   ]
  },
  {
   "cell_type": "markdown",
   "metadata": {},
   "source": [
    "#### get maze path"
   ]
  },
  {
   "cell_type": "code",
   "execution_count": 6,
   "metadata": {},
   "outputs": [
    {
     "name": "stdout",
     "output_type": "stream",
     "text": [
      "['hhvv', 'hvhv', 'hvvh', 'vhhv', 'vhvh', 'vvhh']\n"
     ]
    }
   ],
   "source": [
    "#### get maze path- given is a grid of m-rows and n-columns. We can move 1-step horizontal or 1-step vertical in one time. what are the ways to reach from top-left corner to bottom-right corner.\n",
    "def gmp(sr,sc,dr,dc):\n",
    "\n",
    "    if sr>dr or sc>dc:\n",
    "        return []\n",
    "    elif sr==dr and sc==dc:\n",
    "        return ['']\n",
    "    \n",
    "    hpaths=gmp(sr,sc+1, dr, dc)\n",
    "    vpaths=gmp(sr+1, sc, dr, dc)\n",
    "\n",
    "    all_paths=[]\n",
    "    for hpath in hpaths:\n",
    "        all_paths.append('h'+ hpath)\n",
    "    for vpath in vpaths:\n",
    "        all_paths.append('v'+ vpath)\n",
    "\n",
    "    return all_paths\n",
    "\n",
    "print(gmp(1,1,3,3))\n",
    "\n"
   ]
  },
  {
   "cell_type": "code",
   "execution_count": 10,
   "metadata": {},
   "outputs": [
    {
     "name": "stdout",
     "output_type": "stream",
     "text": [
      "['vhh', 'hvh', 'hhv']\n"
     ]
    }
   ],
   "source": [
    "#### get maze path- given is a grid of m-rows and n-columns. We can move 1-step horizontal or 1-step vertical in one time. what are the ways to reach from top-left corner to bottom-right corner.\n",
    "\n",
    "def gmp(m,n):\n",
    "    if m==1 and n==1:\n",
    "        return ['']\n",
    "    elif m<1 or n<1:\n",
    "        return []\n",
    "    p1=gmp(m-1,n)   #vertical movement\n",
    "    p2=gmp(m,n-1)   #horizontal movement\n",
    "\n",
    "    paths=[]\n",
    "    for path in p1:\n",
    "        paths.append('v'+path)\n",
    "    for path in p2:\n",
    "        paths.append('h'+path)\n",
    "    return paths\n",
    "\n",
    "print(gmp(2,3))\n",
    "\n"
   ]
  },
  {
   "cell_type": "code",
   "execution_count": 2,
   "metadata": {},
   "outputs": [
    {
     "name": "stdout",
     "output_type": "stream",
     "text": [
      "[]\n"
     ]
    }
   ],
   "source": [
    "l=[]\n",
    "l1=[]\n",
    "for i in l:\n",
    "    l1.append(i+'a')\n",
    "print(l1)\n"
   ]
  },
  {
   "cell_type": "markdown",
   "metadata": {},
   "source": [
    "#### [get maze path with variable jumps](https://www.youtube.com/watch?v=VaGBRiSdtFI)"
   ]
  },
  {
   "cell_type": "code",
   "execution_count": 14,
   "metadata": {},
   "outputs": [
    {
     "name": "stdout",
     "output_type": "stream",
     "text": [
      "inside hj loop 1 1 1 2 2\n",
      "inside vj loop 1 1 2 2 2\n",
      "v append\n",
      "h append\n",
      "inside vj loop 1 1 1 2 2\n",
      "inside hj loop 1 2 1 2 2\n",
      "h append\n",
      "inside dj loop 2 1 2 2\n",
      "v append\n",
      "inside dj loop 1 1 2 2\n",
      "d append\n",
      "['h1v1', 'v1h1', 'd2']\n"
     ]
    }
   ],
   "source": [
    "## get maze paths allowed jumps is h1,h2,h3 ; v1,v2,v3 ; d1,d2,d3\n",
    "# fxn str f(sr,sc,dr,dc)  #> movement from (1,1) to (n,m)\n",
    "def gmp(sr,sc,dr,dc):\n",
    "    if sr==dr and sc==dc:\n",
    "        return ['']\n",
    "\n",
    "\n",
    "    all_paths=[]\n",
    "    for hj in range(1,(dc-sc)+1):\n",
    "        print('inside hj loop',hj,sr,sc,dr,dc)\n",
    "        hpaths = gmp(sr,sc+hj, dr,dc)\n",
    "        for hp in hpaths:\n",
    "            all_paths.append('h'+str(hj)+hp)\n",
    "            print('h append')\n",
    "\n",
    "    for vj in range(1,(dr-sr)+1):\n",
    "        print('inside vj loop',vj,sr,sc,dr,dc)\n",
    "        vpaths = gmp(sr+vj,sc, dr,dc)\n",
    "        for vp in vpaths:\n",
    "            all_paths.append('v'+str(vj)+vp)\n",
    "            print('v append')\n",
    "\n",
    "    dj=1\n",
    "    while dj<=(dr-sc) and dj<=(dc-sc):\n",
    "        print('inside dj loop',sr,sc,dr,dc)\n",
    "        dpaths = gmp(sr+dj,sc+dj, dr,dc)\n",
    "        dj+=1\n",
    "        for dp in dpaths:\n",
    "                all_paths.append('d'+str(dj)+dp)\n",
    "                print('d append')\n",
    "                \n",
    "\n",
    "    return all_paths\n",
    "\n",
    "\n",
    "print(gmp(1,1,2,2))\n",
    "\n",
    "# to achieve the while loop using for loop \n",
    "# for ms in range(1, (dr - sr) + 1):\n",
    "#     if not (ms <= (dr - sr) and (dc - sc)):\n",
    "#         break\n",
    "    \n",
    "#     # Add the body of your loop here"
   ]
  },
  {
   "cell_type": "code",
   "execution_count": null,
   "metadata": {},
   "outputs": [],
   "source": [
    "def gmp(sr, sc, dr, dc):\n",
    "    if sr == dr and sc == dc:\n",
    "        return ['']\n",
    "\n",
    "    hpaths = []\n",
    "    vpaths = []\n",
    "    dpaths = []\n",
    "\n",
    "    for hj in range(1, (dc - sc) + 1):\n",
    "        hpaths.extend(gmp(sr, sc + hj, dr, dc))\n",
    "    for vj in range(1, (dr - sr) + 1):\n",
    "        vpaths.extend(gmp(sr + vj, sc, dr, dc))\n",
    "    dj = 1\n",
    "    while dj <= (dr - sr) and dj <= (dc - sc):\n",
    "        dpaths.extend(gmp(sr + dj, sc + dj, dr, dc))\n",
    "        dj += 1\n",
    "\n",
    "    all_paths = []\n",
    "\n",
    "    for hp in hpaths:\n",
    "        all_paths.append('h' + str(hp[0]) + hp)\n",
    "    for vp in vpaths:\n",
    "        all_paths.append('v' + str(vp[0]) + vp)\n",
    "    for dp in dpaths:\n",
    "        all_paths.append('d' + str(dp[0]) + dp)\n",
    "\n",
    "    return all_paths\n",
    "\n",
    "print(gmp(1, 1, 2, 2))\n"
   ]
  },
  {
   "cell_type": "code",
   "execution_count": 9,
   "metadata": {},
   "outputs": [
    {
     "name": "stdout",
     "output_type": "stream",
     "text": [
      "['hv', 'vh', 'd']\n"
     ]
    }
   ],
   "source": [
    "def gmp(sr, sc, dr, dc):\n",
    "    if sr == dr and sc == dc:\n",
    "        return ['']\n",
    "\n",
    "    hpaths = []\n",
    "    vpaths = []\n",
    "    dpaths = []\n",
    "\n",
    "    for hj in range(1, (dc - sc) + 1):\n",
    "        hpaths.extend(gmp(sr, sc + hj, dr, dc))\n",
    "    for vj in range(1, (dr - sr) + 1):\n",
    "        vpaths.extend(gmp(sr + vj, sc, dr, dc))\n",
    "    dj = 1\n",
    "    while dj <= (dr - sr) and dj <= (dc - sc):\n",
    "        dpaths.extend(gmp(sr + dj, sc + dj, dr, dc))\n",
    "        dj += 1\n",
    "\n",
    "    all_paths = []\n",
    "\n",
    "    for hp in hpaths:\n",
    "        all_paths.append('h' + str(hp))\n",
    "    for vp in vpaths:\n",
    "        all_paths.append('v' + str(vp))\n",
    "    for dp in dpaths:\n",
    "        all_paths.append('d' + str(dp))\n",
    "\n",
    "    return all_paths\n",
    "\n",
    "print(gmp(1, 1, 2, 2))\n"
   ]
  },
  {
   "cell_type": "code",
   "execution_count": null,
   "metadata": {},
   "outputs": [],
   "source": [
    "'''To create an Euler tree for the function `gmp`, we need to understand the recursive calls made by the function. Each node in the Euler tree represents a function call, and its children represent the recursive calls made within that function.\n",
    "\n",
    "Here's a high-level outline of how the function works:\n",
    "\n",
    "1. If the starting point `(sr, sc)` is equal to the destination point `(dr, dc)`, it returns a list with an empty string `['']`.\n",
    "2. Otherwise, it generates all possible paths by making horizontal, vertical, and diagonal moves from the current position.\n",
    "3. The recursive calls are made for each possible move and the resulting paths are concatenated with the respective move direction (`h`, `v`, or `d`).\n",
    "\n",
    "To draw an Euler tree, we'll visualize the recursive calls starting from `gmp(1, 1, 3, 3)`. Here is a simplified version of the Euler tree:\n",
    "\n",
    "```\n",
    "gmp(1, 1, 3, 3)\n",
    "├── gmp(1, 2, 3, 3) ['h1']\n",
    "│   ├── gmp(1, 3, 3, 3) ['h1h1']\n",
    "│   │   └── gmp(1, 4, 3, 3) (out of bounds, no path)\n",
    "│   ├── gmp(2, 3, 3, 3) ['h1v1']\n",
    "│   │   └── gmp(3, 3, 3, 3) ['h1v1v1']\n",
    "│   ├── gmp(2, 2, 3, 3) ['h1d1']\n",
    "│   │   ├── gmp(3, 3, 3, 3) ['h1d1d1']\n",
    "│   └── gmp(3, 3, 3, 3) ['h1d2']\n",
    "├── gmp(2, 1, 3, 3) ['v1']\n",
    "│   ├── gmp(2, 2, 3, 3) ['v1h1']\n",
    "│   │   ├── gmp(2, 3, 3, 3) ['v1h1h1']\n",
    "│   │   │   └── gmp(3, 3, 3, 3) ['v1h1h1v1']\n",
    "│   │   ├── gmp(3, 3, 3, 3) ['v1h1v1']\n",
    "│   ├── gmp(3, 1, 3, 3) ['v1v1']\n",
    "│   │   ├── gmp(3, 2, 3, 3) ['v1v1h1']\n",
    "│   │   ├── gmp(3, 3, 3, 3) ['v1v1h1h1']\n",
    "│   ├── gmp(3, 2, 3, 3) ['v1v1v1']\n",
    "│   └── gmp(3, 3, 3, 3) ['v1v1v2']\n",
    "├── gmp(2, 2, 3, 3) ['d1']\n",
    "│   ├── gmp(2, 3, 3, 3) ['d1h1']\n",
    "│   │   └── gmp(3, 3, 3, 3) ['d1h1h1']\n",
    "│   ├── gmp(3, 3, 3, 3) ['d1h2']\n",
    "│   ├── gmp(3, 2, 3, 3) ['d1v1']\n",
    "│   └── gmp(3, 3, 3, 3) ['d1d1']\n",
    "└── gmp(3, 3, 3, 3) ['d2']\n",
    "```\n",
    "\n",
    "In this tree:\n",
    "- Each node represents a function call to `gmp(sr, sc, dr, dc)`.\n",
    "- The children of each node represent the recursive calls made within that function call.\n",
    "- The paths shown are the possible moves concatenated to reach the destination.\n",
    "\n",
    "Note: The actual tree might be more complex depending on how the function explores the paths, but this simplified version should give you a general idea of how the recursion unfolds.\n",
    "\n",
    "Let's correct the code to ensure all recursive paths are considered and add debug print statements to see the function calls clearly:\n",
    "'''\n",
    "```python\n",
    "def gmp(sr, sc, dr, dc):\n",
    "    if sr == dr and sc == dc:\n",
    "        return ['']\n",
    "    # base case\n",
    "\n",
    "    all_paths = []\n",
    "\n",
    "    # Horizontal moves\n",
    "    for hj in range(1, (dc - sc) + 1):\n",
    "        hpaths = gmp(sr, sc + hj, dr, dc)\n",
    "        for hp in hpaths:\n",
    "            all_paths.append('h' + str(hj) + hp)\n",
    "\n",
    "    # Vertical moves\n",
    "    for vj in range(1, (dr - sr) + 1):\n",
    "        vpaths = gmp(sr + vj, sc, dr, dc)\n",
    "        for vp in vpaths:\n",
    "            all_paths.append('v' + str(vj) + vp)\n",
    "\n",
    "    # Diagonal moves\n",
    "    dj = 1\n",
    "    while dj <= (dr - sr) and dj <= (dc - sc):\n",
    "        dpaths = gmp(sr + dj, sc + dj, dr, dc)\n",
    "        for dp in dpaths:\n",
    "            all_paths.append('d' + str(dj) + dp)\n",
    "        dj += 1\n",
    "\n",
    "    return all_paths\n",
    "\n",
    "# Print the paths from (1, 1) to (3, 3)\n",
    "print(gmp(1, 1, 3, 3))\n",
    "```\n",
    "'''\n",
    "With these corrections, the function should correctly compute all possible paths from `(1, 1)` to `(3, 3)` with the allowed jumps, and you should be able to trace the recursive calls using debug statements.\n",
    "'''"
   ]
  },
  {
   "cell_type": "markdown",
   "metadata": {},
   "source": [
    "#### [Print Subsequence](https://www.youtube.com/watch?v=Ke8TPhHdHMw&list=PL-Jc9J83PIiFxaBahjslhBD1LiJAV7nKs&index=34)"
   ]
  },
  {
   "cell_type": "code",
   "execution_count": 8,
   "metadata": {},
   "outputs": [
    {
     "name": "stdout",
     "output_type": "stream",
     "text": [
      "abc\n",
      "ab\n",
      "ac\n",
      "a\n",
      "bc\n",
      "b\n",
      "c\n",
      "\n"
     ]
    }
   ],
   "source": [
    "def printss(que, ans):\n",
    "    #base case\n",
    "    if len(que)==0:\n",
    "        print(ans)\n",
    "        return\n",
    "    \n",
    "    ch1=que[0]\n",
    "    # print(ch1)\n",
    "    ros=que[1:]\n",
    "    \n",
    "    \n",
    "    printss(ros, ans+ch1)\n",
    "    printss(ros, ans+'')\n",
    "    \n",
    "printss('abc','')"
   ]
  },
  {
   "cell_type": "code",
   "execution_count": null,
   "metadata": {},
   "outputs": [],
   "source": []
  },
  {
   "cell_type": "markdown",
   "metadata": {},
   "source": [
    "#### print maze path"
   ]
  },
  {
   "cell_type": "code",
   "execution_count": null,
   "metadata": {},
   "outputs": [],
   "source": [
    "def pmp(sr,sc,dr,dc,ans):\n",
    "    # base case\n",
    "    if sr>dr or sc>dc :\n",
    "        return\n",
    "    if sr==dr and sc==dc:\n",
    "        print(ans)\n",
    "        return\n",
    "\n",
    "    # horizontal movement\n",
    "    pmp(sr,sc+1,dr,dc, ans+'h')\n",
    "\n",
    "    #vertical movement\n",
    "    pmp(sr+1,sc,dr,dc,ans+'v')\n",
    "\n",
    "pmp(1,1,3,3,'')\n"
   ]
  },
  {
   "cell_type": "code",
   "execution_count": null,
   "metadata": {},
   "outputs": [],
   "source": []
  },
  {
   "cell_type": "code",
   "execution_count": null,
   "metadata": {},
   "outputs": [],
   "source": []
  },
  {
   "cell_type": "code",
   "execution_count": null,
   "metadata": {},
   "outputs": [],
   "source": []
  },
  {
   "cell_type": "code",
   "execution_count": null,
   "metadata": {},
   "outputs": [],
   "source": []
  },
  {
   "cell_type": "code",
   "execution_count": null,
   "metadata": {},
   "outputs": [],
   "source": []
  },
  {
   "cell_type": "code",
   "execution_count": null,
   "metadata": {},
   "outputs": [],
   "source": []
  },
  {
   "cell_type": "code",
   "execution_count": null,
   "metadata": {},
   "outputs": [],
   "source": []
  },
  {
   "cell_type": "code",
   "execution_count": null,
   "metadata": {},
   "outputs": [],
   "source": []
  },
  {
   "cell_type": "code",
   "execution_count": null,
   "metadata": {},
   "outputs": [],
   "source": []
  },
  {
   "cell_type": "code",
   "execution_count": null,
   "metadata": {},
   "outputs": [],
   "source": []
  },
  {
   "cell_type": "code",
   "execution_count": null,
   "metadata": {},
   "outputs": [],
   "source": []
  },
  {
   "cell_type": "code",
   "execution_count": null,
   "metadata": {},
   "outputs": [],
   "source": []
  },
  {
   "cell_type": "code",
   "execution_count": null,
   "metadata": {},
   "outputs": [],
   "source": []
  },
  {
   "cell_type": "code",
   "execution_count": null,
   "metadata": {},
   "outputs": [],
   "source": []
  },
  {
   "cell_type": "code",
   "execution_count": null,
   "metadata": {},
   "outputs": [],
   "source": []
  },
  {
   "cell_type": "code",
   "execution_count": null,
   "metadata": {},
   "outputs": [],
   "source": []
  },
  {
   "cell_type": "code",
   "execution_count": null,
   "metadata": {},
   "outputs": [],
   "source": []
  },
  {
   "cell_type": "code",
   "execution_count": null,
   "metadata": {},
   "outputs": [],
   "source": []
  },
  {
   "cell_type": "code",
   "execution_count": null,
   "metadata": {},
   "outputs": [],
   "source": []
  }
 ],
 "metadata": {
  "kernelspec": {
   "display_name": "base",
   "language": "python",
   "name": "python3"
  },
  "language_info": {
   "codemirror_mode": {
    "name": "ipython",
    "version": 3
   },
   "file_extension": ".py",
   "mimetype": "text/x-python",
   "name": "python",
   "nbconvert_exporter": "python",
   "pygments_lexer": "ipython3",
   "version": "3.9.7"
  }
 },
 "nbformat": 4,
 "nbformat_minor": 2
}
